{
 "cells": [
  {
   "cell_type": "code",
   "execution_count": null,
   "id": "0124b1ec",
   "metadata": {},
   "outputs": [
    {
     "data": {
      "text/html": [
       "<script>Jupyter.notebook.kernel.restart()</script>"
      ]
     },
     "metadata": {},
     "output_type": "display_data"
    }
   ],
   "source": [
    "from IPython.core.display import display_html\n",
    "display_html(\"<script>Jupyter.notebook.kernel.restart()</script>\",raw=True)"
   ]
  },
  {
   "cell_type": "code",
   "execution_count": 1,
   "id": "c3092012",
   "metadata": {},
   "outputs": [
    {
     "data": {
      "text/html": [
       "<style>.container { width:100% !important; }</style>"
      ],
      "text/plain": [
       "<IPython.core.display.HTML object>"
      ]
     },
     "metadata": {},
     "output_type": "display_data"
    },
    {
     "data": {
      "text/html": [
       "<style>.container { width:100% !important; }</style>"
      ],
      "text/plain": [
       "<IPython.core.display.HTML object>"
      ]
     },
     "metadata": {},
     "output_type": "display_data"
    }
   ],
   "source": [
    "from sys import path; path.insert(1,\"../src\");\n",
    "import fubar; from importlib import reload; reload(fubar);"
   ]
  },
  {
   "cell_type": "markdown",
   "id": "fb350e62",
   "metadata": {},
   "source": [
    "***\n",
    "< [GMIT Data Analytics](https://web.archive.org/web/20201029063153/https://www.gmit.ie/computer-science-and-applied-physics/higher-diploma-science-computing-data-analytics-ict) | [Home](https://github.com/SeanOhAileasa) | [README](https://github.com/SeanOhAileasa/drp-data-representation/blob/main/README.md) >\n",
    "\n",
    "[![GMIT](https://github.com/SeanOhAileasa/SeanOhAileasa/blob/master/rc/gmit.png?raw=true)](https://web.archive.org/web/20201029063153/https://www.gmit.ie/computer-science-and-applied-physics/higher-diploma-science-computing-data-analytics-ict)\n",
    "\n",
    "## Data Representation - Course Material 2021\n",
    "### Topic: [Data Representation](https://nbviewer.jupyter.org/github/SeanOhAileasa/drp-data-representation/blob/main/drp-data-representation.ipynb)\n",
    "\n",
    "Course material for the ``Data Representation`` module (5 Credits) of the ``Higher Diploma in Science in Computing (Data Analytics) (H.Dip)`` programme (75 Credits) at **Galway-Mayo Institute of Technology (GMIT)**.\n",
    "***"
   ]
  },
  {
   "cell_type": "code",
   "execution_count": 2,
   "id": "7eb52b79",
   "metadata": {},
   "outputs": [],
   "source": [
    "from sys import path; path.insert(1,\"../src\")\n",
    "from fubar import fFile"
   ]
  },
  {
   "cell_type": "code",
   "execution_count": 3,
   "id": "e35edc25",
   "metadata": {},
   "outputs": [
    {
     "name": "stdout",
     "output_type": "stream",
     "text": [
      "# repository ./SeanOhAileasa\r\n",
      "def fFile(nParPath):\r\n",
      "    \"\"\"Start a file with its associated application.\r\n",
      "\r\n",
      "Input: nParPath\r\n",
      "Process: (os.path.realpath; os.startfile)\r\n",
      "Output: file opened with associated application\r\n",
      "\"\"\"\r\n",
      "    from os import path,startfile\r\n",
      "    return startfile(path.realpath(nParPath))\r\n",
      "# --- END ---\r\n"
     ]
    }
   ],
   "source": [
    "%%script bash\n",
    "grep -1 \"def fFile\" ../src/fubar.py -A 9"
   ]
  },
  {
   "cell_type": "markdown",
   "id": "2b859f48",
   "metadata": {},
   "source": [
    "<a id=\"top\"></a>\n",
    "***\n",
    "## Table of Contents\n",
    "***\n",
    "\n",
    "## [Abstract](#abstract)\n",
    "\n",
    "* [Description](#description)\n",
    "* [Learning Outcomes](#learningOutcomes)\n",
    "* [Topic Roadmap](#topicRoadmap)\n",
    "\n",
    "## [Introduction](#introduction)\n",
    "\n",
    "* [XML and DOM](#xMLHTMLandDOM)\n",
    "    * [HTML](#html)\n",
    "\n",
    "\n",
    "* [JavaScript](#javascript)\n",
    "    * [Basic manipulation of the DOM tree (HTML)](#basicmanipulationoftheDOMtreeHTML)\n",
    "    * [Variables - if statements - for loops](#variablesifstatementsandforloopsinJavaScript)\n",
    "    * [More manipulation of the DOM tree](#moremanipulationoftheDOMtree)\n",
    "\n",
    "\n",
    "* [Consuming XML/HTML data from the web](#consumingXMLHTMLdatafromtheweb)\n",
    "    * [URLs](#consumingXMLHTMLdatafromthewebURLs)\n",
    "    * [Consuming XML (and HTML) from the web](#lectureConsumingXMLandHTMLfromtheweb)\n",
    "    * [Web Scrapping](#webScrapping)\n",
    "\n",
    "\n",
    "* [JSON and AJAX and REST](#jSONAJAXandREST)\n",
    "    * [HTTP](#jSONAJAXandRESTHTTP)\n",
    "    * [JSON](#jSONAJAXandRESTjson)\n",
    "    * [AJAX](#jSONAJAXandRESTajax)\n",
    "    * [REST](#jSONAJAXandRESTrest)\n",
    "\n",
    "\n",
    "* [AJAX and REST](#aJAXandREST)\n",
    "    * [Curl](#aJAXandRESTCurl)\n",
    "    * [Flask](#aJAXandRESTFlask)\n",
    "    * [AJAX](#aJAXandRESTAJAX)\n",
    "\n",
    "\n",
    "* [Using python to consume APIs](#usingpythontoconsumeAPIs)\n",
    "    * [Requests](#usingpythontoconsumeAPIsRequests)\n",
    "    * [Authentication](#usingpythontoconsumeAPIsAuthentication)\n",
    "    * [APIs and Packages](#usingpythontoconsumeAPIsAPIsandPackages)\n",
    "\n",
    "\n",
    "* [Case Studies](#caseStudies)\n",
    "    * [Electric Data](#electricData)\n",
    "    * [Gmail](#caseStudiesGmail)\n",
    "    * [Weather](#caseStudiesWeather)\n",
    "    * [Open Food Facts](#openfoodfacts)\n",
    "\n",
    "\n",
    "* [Server Side](#serverSide)\n",
    "    * [Virtual Environments](#virtualEnvironments)\n",
    "    * [Flask](#serverSideFlask)\n",
    "    * [Practical REST Server](#practicalRESTServer)\n",
    "    * [Hosting Web Server](#hostingWebServer)\n",
    "\n",
    "\n",
    "* [Linking to Database](#linkingtoDatabase)\n",
    "    * [Databases](#linkingdatabases)\n",
    "    * [Python and DB](#linkingdatabasespython)\n",
    "\n",
    "\n",
    "* [Putting It All Together](#puttingitalltogether)\n",
    "    * [Introduction](#puttingitalltogetherIntroduction)\n",
    "    * [Creating DAO](#puttingitalltogetherCreatingDAO)\n",
    "    * [Creating a server that implements the REST API](#puttingitalltogetherCreatingaserverthatimplementstheRESTAPI)\n",
    "    * [Creating the html that will use AJAX to link to the server and provide a user interface](#puttingitalltogetherCreatingthehtmlthatwilluseAJAXtolinktotheserverandprovideauserinterface)\n",
    "    * [Configuration Files](#puttingitalltogetherConfigurationFiles)\n",
    "    * [Deploying to Pythonanywhere](#puttingitalltogetherDeployingtoPythonanywhere)\n",
    "    \n",
    "    \n",
    "* [Extra](#extra)\n",
    "    * [Database Connections](#extraDatabaseConnections)\n",
    "    * [Sessions](#extraSessions)\n",
    "    * [Changing Virtual Environment on Pythonanywhere](#extraChangingVirtualEnvironmentonPythonanywhere)\n",
    "    \n",
    "    \n",
    "## [Solution](#solution)\n",
    "\n",
    "- &#x1F6A7;\n",
    "\n",
    "## [Conclusion](#conclusion)\n",
    "\n",
    "- &#x1F6A7;"
   ]
  },
  {
   "cell_type": "markdown",
   "id": "61f2fce1",
   "metadata": {},
   "source": [
    "***\n",
    "## END"
   ]
  },
  {
   "cell_type": "markdown",
   "id": "363b5bde",
   "metadata": {},
   "source": [
    "< [Table of Contents](#top) | [Introduction](#introduction) | [Solution](#solution) | [Conclusion](#conclusion) | [References](#references) >\n",
    "<a id=\"abstract\"></a>\n",
    "***\n",
    "## Abstract\n",
    "***"
   ]
  },
  {
   "cell_type": "markdown",
   "id": "0db8663f",
   "metadata": {},
   "source": [
    "< [Table of Contents](#top) | [References](#references) >\n",
    "<a id=\"description\"></a>\n",
    "***\n",
    "###### Description\n",
    "***"
   ]
  },
  {
   "cell_type": "markdown",
   "id": "a92ea83a",
   "metadata": {},
   "source": [
    "Investigate and operate the protocols, standards and architectures used in representing data, with a focus on interacting with data services across the internet. Gaining practical experience in developing applications that interact with such data."
   ]
  },
  {
   "cell_type": "code",
   "execution_count": null,
   "id": "42db0ccd",
   "metadata": {},
   "outputs": [],
   "source": [
    "exit()"
   ]
  },
  {
   "cell_type": "markdown",
   "id": "b1ea3489",
   "metadata": {},
   "source": [
    "< [Table of Contents](#top) | [References](#references) >\n",
    "<a id=\"learningOutcomes\"></a>\n",
    "***\n",
    "######  Learning Outcomes\n",
    "***"
   ]
  },
  {
   "cell_type": "markdown",
   "id": "45813896",
   "metadata": {},
   "source": [
    "The aim of the module is to provide a comprehensive grounding in solving computational problems and designing algorithms.\n",
    "\n",
    "1. Compare data models and architectures used in applications.\n",
    "\n",
    "2. Write software applications that adhere to common standards and protocols.\n",
    "\n",
    "3. Explain the basic mechanisms by which application data is transmitted across the internet.\n",
    "\n",
    "4. Design and utilise application programming interfaces for interacting with data sources."
   ]
  },
  {
   "cell_type": "code",
   "execution_count": null,
   "id": "5c8118e3",
   "metadata": {},
   "outputs": [],
   "source": [
    "exit()"
   ]
  },
  {
   "cell_type": "markdown",
   "id": "d272d16d",
   "metadata": {},
   "source": [
    "< [Table of Contents](#top) | [References](#references) >\n",
    "<a id=\"topicRoadmap\"></a>\n",
    "***\n",
    "###### Topic Roadmap\n",
    "***"
   ]
  },
  {
   "cell_type": "markdown",
   "id": "f2653561",
   "metadata": {},
   "source": [
    "- HyperText Transfer Protocol (HTTP)\n",
    "\n",
    "- Uniform Resource Locator (URL) encoding\n",
    "\n",
    "- REpresentational State Transfer (REST)\n",
    "\n",
    "- JavaScript Object Notation (JSON)\n",
    "\n",
    "- eXtensible Markup Language (XML)\n",
    "\n",
    "- Document Object Model (DOM)\n",
    "\n",
    "- Document-oriented storage\n",
    "\n",
    "- Client-Server\n",
    "\n",
    "- Request-Response\n",
    "\n",
    "- Asynchronous Javascript And Xml (AJAX)\n",
    "\n",
    "- Sessions"
   ]
  },
  {
   "cell_type": "code",
   "execution_count": null,
   "id": "a0e1f930",
   "metadata": {},
   "outputs": [],
   "source": [
    "exit()"
   ]
  },
  {
   "cell_type": "markdown",
   "id": "08daf04b",
   "metadata": {},
   "source": [
    "***\n",
    "## END"
   ]
  },
  {
   "cell_type": "markdown",
   "id": "627c0b5d",
   "metadata": {},
   "source": [
    "< [Table of Contents](#top) | [Abstract](#abstract) | [Solution](#solution) | [Conclusion](#conclusion) | [References](#references) >\n",
    "<a id=\"introduction\"></a>\n",
    "***\n",
    "## Introduction\n",
    "***"
   ]
  },
  {
   "cell_type": "markdown",
   "id": "e2429bf1",
   "metadata": {},
   "source": [
    "- module introduces the various means of retrieving data from external sources (CSO - weather servers - stock information) - looking at the formats that data can come in (XML - JSON - CSV) and how to retrieve (through an API) and process that data using javascript and python - also explore how to can make data available to the outside world by creating an API (application Programmers interface) using the python module flask [1]"
   ]
  },
  {
   "cell_type": "markdown",
   "id": "a2cdfc4d",
   "metadata": {},
   "source": [
    "< [Table of Contents](#top) | [References](#references) >\n",
    "<a id=\"xMLHTMLandDOM\"></a>\n",
    "***\n",
    "### XML and DOM\n",
    "***"
   ]
  },
  {
   "cell_type": "code",
   "execution_count": null,
   "id": "22030525",
   "metadata": {},
   "outputs": [],
   "source": [
    "fFile(nParPath=\"./hide/01-XMLandDOM/DR2 XML and Dom with a bit about html - 25-09-2019.mp4\")\n",
    "fFile(nParPath=\"./hide/01-XMLandDOM/DR1.3 XML and DOM.pptx\")"
   ]
  },
  {
   "cell_type": "markdown",
   "id": "77b0b8aa",
   "metadata": {},
   "source": [
    "< [Table of Contents](#top) | [References](#references) >\n",
    "<a id=\"html\"></a>\n",
    "***\n",
    "###### HTML\n",
    "***"
   ]
  },
  {
   "cell_type": "code",
   "execution_count": null,
   "id": "733d6a96",
   "metadata": {},
   "outputs": [],
   "source": [
    "fFile(nParPath=\"./hide/01-XMLandDOM/DR3 html - 26-09-2019.mp4\")"
   ]
  },
  {
   "cell_type": "code",
   "execution_count": null,
   "id": "11265b76",
   "metadata": {},
   "outputs": [],
   "source": [
    "fFile(nParPath=\"./hide/01-XMLandDOM/DR3b Lab01-html doing - 26-09-2019.mp4\")\n",
    "fFile(nParPath=\"./hide/01-XMLandDOM/Lab01-html.pdf\")"
   ]
  },
  {
   "cell_type": "markdown",
   "id": "3488c3ef",
   "metadata": {},
   "source": [
    "***\n",
    "### END"
   ]
  },
  {
   "cell_type": "markdown",
   "id": "a4cc6d11",
   "metadata": {},
   "source": [
    "< [Table of Contents](#top) | [References](#references) >\n",
    "<a id=\"javascript\"></a>\n",
    "***\n",
    "### JavaScript\n",
    "***"
   ]
  },
  {
   "cell_type": "code",
   "execution_count": null,
   "id": "0ab8d20a",
   "metadata": {},
   "outputs": [],
   "source": [
    "fFile(nParPath=\"./hide/02-JavaScript/DR2.1 Week02 Overview - 30-09-2020.mp4\")"
   ]
  },
  {
   "cell_type": "markdown",
   "id": "a7711a1c",
   "metadata": {},
   "source": [
    "< [Table of Contents](#top) | [References](#references) >\n",
    "<a id=\"basicmanipulationoftheDOMtreeHTML\"></a>\n",
    "***\n",
    "###### Basic manipulation of the DOM tree (HTML)\n",
    "***"
   ]
  },
  {
   "cell_type": "code",
   "execution_count": null,
   "id": "4f1b6ce1",
   "metadata": {},
   "outputs": [],
   "source": [
    "fFile(nParPath=\"./hide/02-JavaScript/DR2.2 JavaScript part1 - 30-09-2020.mp4\")"
   ]
  },
  {
   "cell_type": "markdown",
   "id": "29f6e107",
   "metadata": {},
   "source": [
    "< [Table of Contents](#top) | [References](#references) >\n",
    "<a id=\"variablesifstatementsandforloopsinJavaScript\"></a>\n",
    "***\n",
    "###### Variables - if statements - for loops\n",
    "***"
   ]
  },
  {
   "cell_type": "code",
   "execution_count": null,
   "id": "da696cd1",
   "metadata": {},
   "outputs": [],
   "source": [
    "fFile(nParPath=\"./hide/02-JavaScript/DR2.3 JavaScript part2 - 30-09-2020.mp4\")"
   ]
  },
  {
   "cell_type": "markdown",
   "id": "cb1767b9",
   "metadata": {},
   "source": [
    "< [Table of Contents](#top) | [References](#references) >\n",
    "<a id=\"moremanipulationoftheDOMtree\"></a>\n",
    "***\n",
    "###### More manipulation of the DOM tree\n",
    "***"
   ]
  },
  {
   "cell_type": "code",
   "execution_count": null,
   "id": "ebe5a427",
   "metadata": {},
   "outputs": [],
   "source": [
    "fFile(nParPath=\"./hide/02-JavaScript/DR2.4 javascript part3 - 01-10-2020.mp4\")"
   ]
  },
  {
   "cell_type": "code",
   "execution_count": null,
   "id": "3f1a4470",
   "metadata": {},
   "outputs": [],
   "source": [
    "fFile(nParPath=\"./hide/02-JavaScript/DR2 javascript slides.pptx\")"
   ]
  },
  {
   "cell_type": "code",
   "execution_count": null,
   "id": "1807bebd",
   "metadata": {},
   "outputs": [],
   "source": [
    "fFile(nParPath=\"./hide/02-JavaScript/exercises.pdf\")\n",
    "fFile(nParPath=\"./hide/02-JavaScript/lab/exercise/\")\n",
    "fFile(nParPath=\"./hide/02-JavaScript/Lab02-JavaScript.pdf\")"
   ]
  },
  {
   "cell_type": "markdown",
   "id": "1c24e6f0",
   "metadata": {},
   "source": [
    "***\n",
    "### END"
   ]
  },
  {
   "cell_type": "markdown",
   "id": "e82e5f14",
   "metadata": {},
   "source": [
    "< [Table of Contents](#top) | [References](#references) >\n",
    "<a id=\"consumingXMLHTMLdatafromtheweb\"></a>\n",
    "***\n",
    "### Consuming XML/HTML data from the web\n",
    "***"
   ]
  },
  {
   "cell_type": "markdown",
   "id": "0199f71a",
   "metadata": {},
   "source": [
    "- extracting data from resources on the web that are stored in a XML or HTML format [1]"
   ]
  },
  {
   "cell_type": "code",
   "execution_count": null,
   "id": "42be1864",
   "metadata": {},
   "outputs": [],
   "source": [
    "fFile(nParPath=\"./hide/03-ConsumingXMLHTMLDataFromTheWeb/Wood Type - 07-10-2020.mp4\")"
   ]
  },
  {
   "cell_type": "markdown",
   "id": "e61ca824",
   "metadata": {},
   "source": [
    "< [Table of Contents](#top) | [References](#references) >\n",
    "<a id=\"consumingXMLHTMLdatafromthewebURLs\"></a>\n",
    "***\n",
    "###### URLs\n",
    "***"
   ]
  },
  {
   "cell_type": "code",
   "execution_count": null,
   "id": "65fad453",
   "metadata": {},
   "outputs": [],
   "source": [
    "fFile(nParPath=\"./hide/03-ConsumingXMLHTMLDataFromTheWeb/DR3.2 Theory-HTTP and URL - 09-10-2019.mp4\")\n",
    "fFile(nParPath=\"./hide/03-ConsumingXMLHTMLDataFromTheWeb/DR3.2 Theory-HTTP and URL.pptx\")"
   ]
  },
  {
   "cell_type": "markdown",
   "id": "b994acbd",
   "metadata": {},
   "source": [
    "< [Table of Contents](#top) | [References](#references) >\n",
    "<a id=\"lectureConsumingXMLandHTMLfromtheweb\"></a>\n",
    "***\n",
    "###### Consuming XML (and HTML) from the web\n",
    "***"
   ]
  },
  {
   "cell_type": "code",
   "execution_count": null,
   "id": "cf108407",
   "metadata": {},
   "outputs": [],
   "source": [
    "fFile(nParPath=\"./hide/03-ConsumingXMLHTMLDataFromTheWeb/DR3.3 consuming xml - 07-10-2020.mp4\")\n",
    "fFile(nParPath=\"./hide/03-ConsumingXMLHTMLDataFromTheWeb/DR3.3 consuming xml.pptx\")\n",
    "fFile(nParPath=\"./hide/03-ConsumingXMLHTMLDataFromTheWeb/Lab03a-trains.pdf\")"
   ]
  },
  {
   "cell_type": "markdown",
   "id": "c16c7246",
   "metadata": {},
   "source": [
    "< [Table of Contents](#top) | [References](#references) >\n",
    "<a id=\"webScrapping\"></a>\n",
    "***\n",
    "###### Web Scrapping\n",
    "***"
   ]
  },
  {
   "cell_type": "code",
   "execution_count": null,
   "id": "204f1324",
   "metadata": {},
   "outputs": [],
   "source": [
    "fFile(nParPath=\"./hide/03-ConsumingXMLHTMLDataFromTheWeb/DR3.4 Webscrapping - 07-10-2020.mp4\")\n",
    "fFile(nParPath=\"./hide/03-ConsumingXMLHTMLDataFromTheWeb/DR3.4 Webscrapping.pptx\")\n",
    "fFile(nParPath=\"./hide/03-ConsumingXMLHTMLDataFromTheWeb/Lab03b-web Scraping.pdf\")"
   ]
  },
  {
   "cell_type": "markdown",
   "id": "92682204",
   "metadata": {},
   "source": [
    "< [Table of Contents](#top) | [References](#references) >\n",
    "***\n",
    "###### References\n",
    "***"
   ]
  },
  {
   "cell_type": "markdown",
   "id": "77ee29c6",
   "metadata": {},
   "source": [
    "[http](https://www.jmarshall.com/easy/http/)\n",
    "\n",
    "[RSS](https://cyber.harvard.edu/rss/rss.html)\n",
    "\n",
    "[Tutorial: Web Scraping with Python Using Beautiful Soup](https://www.dataquest.io/blog/web-scraping-python-using-beautiful-soup)"
   ]
  },
  {
   "cell_type": "code",
   "execution_count": null,
   "id": "858dbeef",
   "metadata": {},
   "outputs": [],
   "source": [
    "fFile(nParPath=\"./hide/03-ConsumingXMLHTMLDataFromTheWeb/beautiful-soup-4.pdf\")"
   ]
  },
  {
   "cell_type": "markdown",
   "id": "9f9921f6",
   "metadata": {},
   "source": [
    "***\n",
    "### END"
   ]
  },
  {
   "cell_type": "markdown",
   "id": "4f6bd154",
   "metadata": {},
   "source": [
    "< [Table of Contents](#top) | [References](#references) >\n",
    "<a id=\"jSONAJAXandREST\"></a>\n",
    "***\n",
    "### JSON and AJAX and REST\n",
    "***"
   ]
  },
  {
   "cell_type": "code",
   "execution_count": null,
   "id": "4b2c25f9",
   "metadata": {},
   "outputs": [],
   "source": [
    "fFile(nParPath=\"./hide/04-JSONandAJAXandREST/DR4.1 Week04 overview - 16-10-2019.mp4\")"
   ]
  },
  {
   "cell_type": "markdown",
   "id": "312b842d",
   "metadata": {},
   "source": [
    "< [Table of Contents](#top) | [References](#references) >\n",
    "<a id=\"jSONAJAXandRESTHTTP\"></a>\n",
    "***\n",
    "###### HTTP\n",
    "***"
   ]
  },
  {
   "cell_type": "code",
   "execution_count": null,
   "id": "475c576e",
   "metadata": {},
   "outputs": [],
   "source": [
    "fFile(nParPath=\"./hide/04-JSONandAJAXandREST/DR4.2 HTTP 2 (methods and response codes) - 14-10-2020.mp4\")\n",
    "fFile(nParPath=\"./hide/04-JSONandAJAXandREST/DR4.2 HTTP2 methods and response codes slides.pptx\")"
   ]
  },
  {
   "cell_type": "markdown",
   "id": "86cb74a3",
   "metadata": {},
   "source": [
    "< [Table of Contents](#top) | [References](#references) >\n",
    "<a id=\"jSONAJAXandRESTjson\"></a>\n",
    "***\n",
    "###### JSON\n",
    "***"
   ]
  },
  {
   "cell_type": "code",
   "execution_count": null,
   "id": "3e228ec9",
   "metadata": {},
   "outputs": [],
   "source": [
    "fFile(nParPath=\"./hide/04-JSONandAJAXandREST/DR4.3 JSON - 14-10-2020.mp4\")\n",
    "fFile(nParPath=\"./hide/04-JSONandAJAXandREST/DR4.3 JSON slides.pptx\")"
   ]
  },
  {
   "cell_type": "markdown",
   "id": "d5df7fa8",
   "metadata": {},
   "source": [
    "< [Table of Contents](#top) | [References](#references) >\n",
    "<a id=\"jSONAJAXandRESTajax\"></a>\n",
    "***\n",
    "###### AJAX\n",
    "***"
   ]
  },
  {
   "cell_type": "code",
   "execution_count": null,
   "id": "ba1ee979",
   "metadata": {},
   "outputs": [],
   "source": [
    "fFile(nParPath=\"./hide/04-JSONandAJAXandREST/DR4.4 Ajax - 14-10-2020.mp4\")\n",
    "fFile(nParPath=\"./hide/04-JSONandAJAXandREST/DR4.4 AJAX JQuery slides.pptx\")"
   ]
  },
  {
   "cell_type": "markdown",
   "id": "683934c0",
   "metadata": {},
   "source": [
    "< [Table of Contents](#top) | [References](#references) >\n",
    "<a id=\"jSONAJAXandRESTrest\"></a>\n",
    "***\n",
    "###### REST\n",
    "***"
   ]
  },
  {
   "cell_type": "code",
   "execution_count": null,
   "id": "9564fc49",
   "metadata": {},
   "outputs": [],
   "source": [
    "fFile(nParPath=\"./hide/04-JSONandAJAXandREST/DR4.5 Rest - 16-10-2019.mp4\")\n",
    "fFile(nParPath=\"./hide/04-JSONandAJAXandREST/DR4.5 Rest slides.pptx\")"
   ]
  },
  {
   "cell_type": "code",
   "execution_count": null,
   "id": "050517da",
   "metadata": {},
   "outputs": [],
   "source": [
    "fFile(nParPath=\"./hide/04-JSONandAJAXandREST/Lab04-JSON and AJAX.pdf\")\n",
    "fFile(nParPath=\"./hide/04-JSONandAJAXandREST/DR4.6 lab walk through - 17-10-2019.mp4\")"
   ]
  },
  {
   "cell_type": "markdown",
   "id": "1e7a98b6",
   "metadata": {},
   "source": [
    "***\n",
    "### END"
   ]
  },
  {
   "cell_type": "markdown",
   "id": "db755506",
   "metadata": {},
   "source": [
    "< [Table of Contents](#top) | [References](#references) >\n",
    "<a id=\"aJAXandREST\"></a>\n",
    "***\n",
    "### AJAX and REST\n",
    "***"
   ]
  },
  {
   "cell_type": "markdown",
   "id": "34ea78c4",
   "metadata": {},
   "source": [
    "- linking client side to a server using a REST API [1]"
   ]
  },
  {
   "cell_type": "code",
   "execution_count": null,
   "id": "f65f3610",
   "metadata": {},
   "outputs": [],
   "source": [
    "fFile(nParPath=\"./hide/05-AJAXandREST/DR5.1 Overview - 21-10-2020.mp4\")"
   ]
  },
  {
   "cell_type": "markdown",
   "id": "ec89685d",
   "metadata": {},
   "source": [
    "< [Table of Contents](#top) | [References](#references) >\n",
    "<a id=\"aJAXandRESTCurl\"></a>\n",
    "***\n",
    "###### Curl\n",
    "***"
   ]
  },
  {
   "cell_type": "markdown",
   "id": "966737db",
   "metadata": {},
   "source": [
    "- note on calling CURL - the windows console does not handle ', it only has \" - this means that when we are passing data it needs to be in \"\" - any inverted commas inside these inverted commas need to be escaped so JSON would look something like [1]:\n",
    "\n",
    "```json\n",
    "\"\\\"name\\\":\\\"value\\\"\"\n",
    "YUCK!!!!!!\n",
    "```"
   ]
  },
  {
   "cell_type": "code",
   "execution_count": null,
   "id": "696d175f",
   "metadata": {},
   "outputs": [],
   "source": [
    "fFile(nParPath=\"./hide/05-AJAXandREST/DR5.2 Curl - 21-10-2020.mp4\")\n",
    "fFile(nParPath=\"./hide/05-AJAXandREST/DR5.2 Curl.pptx\")\n",
    "fFile(nParPath=\"./hide/05-AJAXandREST/Lab05.1 CURL.pdf\")"
   ]
  },
  {
   "cell_type": "markdown",
   "id": "22c57169",
   "metadata": {},
   "source": [
    "< [Table of Contents](#top) | [References](#references) >\n",
    "<a id=\"aJAXandRESTFlask\"></a>\n",
    "***\n",
    "###### Flask\n",
    "***"
   ]
  },
  {
   "cell_type": "code",
   "execution_count": null,
   "id": "765b1ee3",
   "metadata": {},
   "outputs": [],
   "source": [
    "fFile(nParPath=\"./hide/05-AJAXandREST/DR5.3 Flask - 23-10-2019.mp4\")\n",
    "fFile(nParPath=\"./hide/05-AJAXandREST/DR5.3 FLASK Server.pptx\")\n",
    "fFile(nParPath=\"./hide/05-AJAXandREST/Lab05.2 flask1.pdf\")\n",
    "fFile(nParPath=\"./hide/05-AJAXandREST/Lab05-if you are having issues with Flask.pdf\")"
   ]
  },
  {
   "cell_type": "markdown",
   "id": "01a9847a",
   "metadata": {},
   "source": [
    "< [Table of Contents](#top) | [References](#references) >\n",
    "<a id=\"aJAXandRESTAJAX\"></a>\n",
    "***\n",
    "###### AJAX\n",
    "***"
   ]
  },
  {
   "cell_type": "code",
   "execution_count": null,
   "id": "c3623240",
   "metadata": {},
   "outputs": [],
   "source": [
    "fFile(nParPath=\"./hide/05-AJAXandREST/DR5.4 AJAX and REST - 23-10-2019.mp4\")\n",
    "fFile(nParPath=\"./hide/05-AJAXandREST/DR5.4 AJAX and REST.pptx\")\n",
    "fFile(nParPath=\"./hide/05-AJAXandREST/Lab05.3 AJAX calls to REST.pdf\")\n",
    "fFile(nParPath=\"./hide/05-AJAXandREST/DR5.5 lab5.3 walkthrough - 24-10-2020.mp4\")\n",
    "# about 5 minutes in the walkthrough video - trying to debug a very simple mistake (minutes 14 to 19 approx)\n",
    "fFile(nParPath=\"./hide/05-AJAXandREST/Lab05.4 connect carviewer to API.pdf\")\n",
    "# try to connect the carviewer2.html to the server - useful for the project assignment"
   ]
  },
  {
   "cell_type": "markdown",
   "id": "c8120b18",
   "metadata": {},
   "source": [
    "***\n",
    "### END"
   ]
  },
  {
   "cell_type": "markdown",
   "id": "f75695e6",
   "metadata": {},
   "source": [
    "< [Table of Contents](#top) | [References](#references) >\n",
    "<a id=\"usingpythontoconsumeAPIs\"></a>\n",
    "***\n",
    "### Using python to consume APIs\n",
    "***"
   ]
  },
  {
   "cell_type": "code",
   "execution_count": null,
   "id": "270373ab",
   "metadata": {},
   "outputs": [],
   "source": [
    "fFile(nParPath=\"./hide/06-UsingPythonToConsumeAPIs/DR6.1 Overview - 01-11-2019.mp4\")"
   ]
  },
  {
   "cell_type": "markdown",
   "id": "3c63958f",
   "metadata": {},
   "source": [
    "< [Table of Contents](#top) | [References](#references) >\n",
    "<a id=\"usingpythontoconsumeAPIsRequests\"></a>\n",
    "***\n",
    "###### Requests\n",
    "***"
   ]
  },
  {
   "cell_type": "code",
   "execution_count": null,
   "id": "8434258f",
   "metadata": {},
   "outputs": [],
   "source": [
    "fFile(nParPath=\"./hide/06-UsingPythonToConsumeAPIs/DR6.2 Python and APIs - 28-10-2020.mp4\")\n",
    "fFile(nParPath=\"./hide/06-UsingPythonToConsumeAPIs/DR6.2 python and APIs.pptm\")\n",
    "fFile(nParPath=\"./hide/06-UsingPythonToConsumeAPIs/Lab06.1 use python to access server.pdf\")"
   ]
  },
  {
   "cell_type": "markdown",
   "id": "f783ce12",
   "metadata": {},
   "source": [
    "< [Table of Contents](#top) | [References](#references) >\n",
    "<a id=\"usingpythontoconsumeAPIsAuthentication\"></a>\n",
    "***\n",
    "###### Authentication\n",
    "***"
   ]
  },
  {
   "cell_type": "code",
   "execution_count": null,
   "id": "dae6947c",
   "metadata": {},
   "outputs": [],
   "source": [
    "fFile(nParPath=\"./hide/06-UsingPythonToConsumeAPIs/DR6.3 API keys and OAuth - 28-10-2020.mp4\")\n",
    "fFile(nParPath=\"./hide/06-UsingPythonToConsumeAPIs/DR6.3 API keys and OAuth.pptm\")\n",
    "fFile(nParPath=\"./hide/06-UsingPythonToConsumeAPIs/Lab06.2 API keys.pdf\")"
   ]
  },
  {
   "cell_type": "markdown",
   "id": "238c611b",
   "metadata": {},
   "source": [
    "< [Table of Contents](#top) | [References](#references) >\n",
    "<a id=\"usingpythontoconsumeAPIsAPIsandPackages\"></a>\n",
    "***\n",
    "###### APIs and Packages\n",
    "***"
   ]
  },
  {
   "cell_type": "code",
   "execution_count": null,
   "id": "0c20bba4",
   "metadata": {},
   "outputs": [],
   "source": [
    "fFile(nParPath=\"./hide/06-UsingPythonToConsumeAPIs/DR6.4 using packages - 28-10-2020.mp4\")\n",
    "fFile(nParPath=\"./hide/06-UsingPythonToConsumeAPIs/DR6.4 using packages.pptx\")\n",
    "fFile(nParPath=\"./hide/06-UsingPythonToConsumeAPIs/Lab06.3 using the package.pdf\")"
   ]
  },
  {
   "cell_type": "markdown",
   "id": "f059a0d5",
   "metadata": {},
   "source": [
    "- NOTE - if anyone pushes a file that contains the key to GitHub it will disable the key (this is very likely to happen) - if this does happen create a key in own repository or create a new one in datarepresentationstudent [1]\n",
    "\n",
    "```\n",
    "username: datarepresentationstudent  \n",
    "\n",
    "password: dataRep2020\n",
    "```\n",
    "\n",
    "- log into gmail to verify your device [1]\n",
    "\n",
    "```\n",
    "username: datarepresentationstudents@gmail.com\n",
    "\n",
    "password: dataRep2020\n",
    "```\n",
    "\n",
    "- the key in the lab no longer works so made a new key [1]:\n",
    "\n",
    "```\n",
    "71b89bdc0378f2330931041ef2f2fc573043336-5\n",
    "```\n",
    "\n",
    "- (remove the minus sign) [1]\n",
    "\n",
    "\n",
    "- or use [1]\n",
    "\n",
    "```\n",
    "c7adca01d62fd0d9a8bbd07e88724a708a06b17-f\n",
    "```\n",
    "\n",
    "- (remove the minus sign) - it may be easier to use own GitHub account [1]"
   ]
  },
  {
   "cell_type": "markdown",
   "id": "d2d63d0a",
   "metadata": {},
   "source": [
    "< [Table of Contents](#top) | [References](#references) >\n",
    "***\n",
    "###### References\n",
    "***"
   ]
  },
  {
   "cell_type": "markdown",
   "id": "52e96c9d",
   "metadata": {},
   "source": [
    "- JSON - [python](https://docs.python.org/3/library/json.html) - [realpython](https://realpython.com/python-json)\n",
    "\n",
    "\n",
    "- [Requests](https://requests.kennethreitz.org/en/master/user/quickstart)\n",
    "\n",
    "\n",
    "- [Files](https://www.w3schools.com/python/python_file_handling.asp)\n",
    "\n",
    "\n",
    "- Excel - [xlwt](https://xlwt.readthedocs.io/en/latest/api.html) - [pythonlibrary](http://www.blog.pythonlibrary.org/2014/03/24/creating-microsoft-excel-spreadsheets-with-python-and-xlwt)\n",
    "\n"
   ]
  },
  {
   "cell_type": "markdown",
   "id": "ee772db2",
   "metadata": {},
   "source": [
    "***\n",
    "### END"
   ]
  },
  {
   "cell_type": "markdown",
   "id": "e747a4ce",
   "metadata": {},
   "source": [
    "< [Table of Contents](#top) | [References](#references) >\n",
    "<a id=\"caseStudies\"></a>\n",
    "***\n",
    "### Case Studies\n",
    "***"
   ]
  },
  {
   "cell_type": "markdown",
   "id": "1bd32125",
   "metadata": {},
   "source": [
    "- Some of the reports do not contain an attribute called rows - modified the code in GitHub to have a ``try except`` to deal with these [1]"
   ]
  },
  {
   "cell_type": "markdown",
   "id": "12ec5b34",
   "metadata": {},
   "source": [
    "< [Table of Contents](#top) | [References](#references) >\n",
    "<a id=\"electricData\"></a>\n",
    "***\n",
    "###### Electric Data\n",
    "***"
   ]
  },
  {
   "cell_type": "code",
   "execution_count": null,
   "id": "d80850ae",
   "metadata": {},
   "outputs": [],
   "source": [
    "fFile(nParPath=\"./hide/07-CaseStudies/Lab 07.01 challenge Gettng data.pdf\")\n",
    "fFile(nParPath=\"./hide/07-CaseStudies/DR7.2 Challenge lab07.01 Walkthrough - 12-11-2019.mp4\")"
   ]
  },
  {
   "cell_type": "markdown",
   "id": "965e3bd9",
   "metadata": {},
   "source": [
    "< [Table of Contents](#top) | [References](#references) >\n",
    "<a id=\"caseStudiesGmail\"></a>\n",
    "***\n",
    "###### Gmail\n",
    "***"
   ]
  },
  {
   "cell_type": "code",
   "execution_count": null,
   "id": "3f7d6d16",
   "metadata": {},
   "outputs": [],
   "source": [
    "fFile(nParPath=\"./hide/07-CaseStudies/Lab 07.02 challenge GMail.pdf\")\n",
    "fFile(nParPath=\"./hide/07-CaseStudies/DR7.2 challenge walkthrough gmail - 12-11-2019.mp4\")"
   ]
  },
  {
   "cell_type": "markdown",
   "id": "a664618a",
   "metadata": {},
   "source": [
    "< [Table of Contents](#top) | [References](#references) >\n",
    "<a id=\"caseStudiesWeather\"></a>\n",
    "***\n",
    "###### Weather\n",
    "***"
   ]
  },
  {
   "cell_type": "code",
   "execution_count": null,
   "id": "b0c00ab4",
   "metadata": {},
   "outputs": [],
   "source": [
    "fFile(nParPath=\"./hide/07-CaseStudies/Lab 07.03 challenge Weather.docx\")\n",
    "fFile(nParPath=\"./hide/07-CaseStudies/DR7.4 challenge walkthrough weather - 12-11-2019.mp4\")"
   ]
  },
  {
   "cell_type": "markdown",
   "id": "cac7e674",
   "metadata": {},
   "source": [
    "< [Table of Contents](#top) | [References](#references) >\n",
    "<a id=\"openfoodfacts\"></a>\n",
    "***\n",
    "###### Open Food Facts\n",
    "***"
   ]
  },
  {
   "cell_type": "code",
   "execution_count": null,
   "id": "c89b1851",
   "metadata": {},
   "outputs": [],
   "source": [
    "fFile(nParPath=\"./hide/07-CaseStudies/Lab 07.04 challenge food brands.pdf\")\n",
    "fFile(nParPath=\"./hide/07-CaseStudies/DR07.05 Walkthrough Lab07.04 brands - 06-11-2020.mp4\")"
   ]
  },
  {
   "cell_type": "markdown",
   "id": "073cc000",
   "metadata": {},
   "source": [
    "< [Table of Contents](#top) | [References](#references) >\n",
    "***\n",
    "###### References\n",
    "***"
   ]
  },
  {
   "cell_type": "code",
   "execution_count": null,
   "id": "8a722ecc",
   "metadata": {},
   "outputs": [],
   "source": [
    "fFile(nParPath=\"./hide/07-CaseStudies/SEMO-Website-Report-API.pdf\")"
   ]
  },
  {
   "cell_type": "markdown",
   "id": "86723a23",
   "metadata": {},
   "source": [
    "[Gmail](https://developers.google.com/gmail/api)\n",
    "\n",
    "[Python](https://developers.google.com/gmail/api/quickstart/python)\n",
    "\n",
    "- openfoodfacts.org - [wiki](wiki.openfoodfacts.org) - [github](https://github.com/openfoodfacts/openfoodfacts-python)"
   ]
  },
  {
   "cell_type": "markdown",
   "id": "45292173",
   "metadata": {},
   "source": [
    "***\n",
    "### END"
   ]
  },
  {
   "cell_type": "markdown",
   "id": "b6b92d92",
   "metadata": {},
   "source": [
    "< [Table of Contents](#top) | [References](#references) >\n",
    "<a id=\"serverSide\"></a>\n",
    "***\n",
    "### Server Side\n",
    "*** "
   ]
  },
  {
   "cell_type": "markdown",
   "id": "a988cc1a",
   "metadata": {},
   "source": [
    "1.) Flask and virtual environments\n",
    "\n",
    "\n",
    "2.) Practical lectures on creating web-applications and designing example APIs\n",
    "\n",
    "\n",
    "3.) Practical lectures on hosting web-applications on the cloud"
   ]
  },
  {
   "cell_type": "markdown",
   "id": "dd87feeb",
   "metadata": {},
   "source": [
    "< [Table of Contents](#top) | [References](#references) >\n",
    "<a id=\"virtualEnvironments\"></a>\n",
    "***\n",
    "###### Virtual Environments\n",
    "*** "
   ]
  },
  {
   "cell_type": "markdown",
   "id": "47fd0097",
   "metadata": {},
   "source": [
    "- UPDATE the .gitignore should contain /venv [1]"
   ]
  },
  {
   "cell_type": "code",
   "execution_count": null,
   "id": "4947846e",
   "metadata": {},
   "outputs": [],
   "source": [
    "fFile(nParPath=\"./hide/08-ServerSide/DR8.1 Virtual Environment - 12-11-2020.mp4\")\n",
    "fFile(nParPath=\"./hide/08-ServerSide/DR8.1 Virtual Environments clean.pptx\")"
   ]
  },
  {
   "cell_type": "markdown",
   "id": "e3e540d8",
   "metadata": {},
   "source": [
    "< [Table of Contents](#top) | [References](#references) >\n",
    "<a id=\"serverSideFlask\"></a>\n",
    "***\n",
    "###### Flask\n",
    "***  "
   ]
  },
  {
   "cell_type": "code",
   "execution_count": null,
   "id": "2a8c78d8",
   "metadata": {},
   "outputs": [],
   "source": [
    "fFile(nParPath=\"./hide/08-ServerSide/DR8.2 Flask - 12-11-2020.mp4\")\n",
    "fFile(nParPath=\"./hide/08-ServerSide/DR8.2 Flask clean.pptx\")"
   ]
  },
  {
   "cell_type": "markdown",
   "id": "8ff5a5ee",
   "metadata": {},
   "source": [
    "< [Table of Contents](#top) | [References](#references) >\n",
    "<a id=\"practicalRESTServer\"></a>\n",
    "***\n",
    "###### Practical REST Server\n",
    "***  "
   ]
  },
  {
   "cell_type": "code",
   "execution_count": null,
   "id": "a66821d6",
   "metadata": {},
   "outputs": [],
   "source": [
    "fFile(nParPath=\"./hide/08-ServerSide/DR8.3 Implementing REST server - 12-11-2020.mp4\")\n",
    "fFile(nParPath=\"./hide/08-ServerSide/DR8.3 REST for project clean.pptx\")"
   ]
  },
  {
   "cell_type": "code",
   "execution_count": null,
   "id": "a0f2fd40",
   "metadata": {},
   "outputs": [],
   "source": [
    "fFile(nParPath=\"./hide/08-ServerSide/Lab 08.03 Create a REST Server.pdf\")"
   ]
  },
  {
   "cell_type": "markdown",
   "id": "a202c4cd",
   "metadata": {},
   "source": [
    "< [Table of Contents](#top) | [References](#references) >\n",
    "<a id=\"hostingWebServer\"></a>\n",
    "***\n",
    "###### Hosting Web Server\n",
    "***  "
   ]
  },
  {
   "cell_type": "code",
   "execution_count": null,
   "id": "487ab37f",
   "metadata": {},
   "outputs": [],
   "source": [
    "fFile(nParPath=\"./hide/08-ServerSide/DR8.3b python anyhwere - 21-11-2019.mp4\")"
   ]
  },
  {
   "cell_type": "markdown",
   "id": "2a34299a",
   "metadata": {},
   "source": [
    "< [Table of Contents](#top) | [References](#references) >\n",
    "***\n",
    "###### References\n",
    "***  "
   ]
  },
  {
   "cell_type": "markdown",
   "id": "9a65b4a5",
   "metadata": {},
   "source": [
    "[Virtual Environment](https://docs.python.org/3/library/venv.html)\n",
    "\n",
    "\n",
    "[Using Flask](https://buildmedia.readthedocs.org/media/pdf/flask/latest/flask.pdf)\n",
    "\n",
    "\n",
    "- hosting on Azure tutorial - [medium](https://medium.com/@nikovrdoljak/deploy-your-flask-app-on-azure-in-3-easy-steps-b2fe388a589e) - [github](https://github.com/smartninja/example-azure-flask)"
   ]
  },
  {
   "cell_type": "markdown",
   "id": "9a8ec13d",
   "metadata": {},
   "source": [
    "***\n",
    "### END"
   ]
  },
  {
   "cell_type": "markdown",
   "id": "5979de44",
   "metadata": {},
   "source": [
    "< [Table of Contents](#top) | [References](#references) >\n",
    "<a id=\"linkingtoDatabase\"></a>\n",
    "***\n",
    "### Linking to Database\n",
    "***"
   ]
  },
  {
   "cell_type": "markdown",
   "id": "bd0b2933",
   "metadata": {},
   "source": [
    "- NOTE - does not matter what kind of MYSQL server you have on your machine - if you already have a server and MySQL client on your machine do not install WAMP - in fact I would now recommend that you install the bog standard MySQL server and client and not WAMP - only suggested WAMP because that is what I used to use [1]"
   ]
  },
  {
   "cell_type": "markdown",
   "id": "553b988d",
   "metadata": {},
   "source": [
    "< [Table of Contents](#top) | [References](#references) >\n",
    "<a id=\"linkingdatabases\"></a>\n",
    "***\n",
    "###### Databases\n",
    "***  "
   ]
  },
  {
   "cell_type": "code",
   "execution_count": null,
   "id": "af7c0601",
   "metadata": {},
   "outputs": [],
   "source": [
    "fFile(nParPath=\"./hide/09-LinkingToDatabase/DR9.01 databases - 28-11-2019.mp4\")\n",
    "fFile(nParPath=\"./hide/09-LinkingToDatabase/DR9.01 databases.pptx\")\n",
    "fFile(nParPath=\"./hide/09-LinkingToDatabase/Lab09.01 databases.pdf\")"
   ]
  },
  {
   "cell_type": "markdown",
   "id": "090d4d72",
   "metadata": {},
   "source": [
    "< [Table of Contents](#top) | [References](#references) >\n",
    "<a id=\"linkingdatabasespython\"></a>\n",
    "***\n",
    "###### Python and DB\n",
    "***  "
   ]
  },
  {
   "cell_type": "code",
   "execution_count": null,
   "id": "5ad7f5e4",
   "metadata": {},
   "outputs": [],
   "source": [
    "fFile(nParPath=\"./hide/09-LinkingToDatabase/DR09.02 python and DB - 28-11-2019.mp4\")\n",
    "fFile(nParPath=\"./hide/09-LinkingToDatabase/DR09.02 python and SQL.pptx\")\n",
    "fFile(nParPath=\"./hide/09-LinkingToDatabase/Lab09.02 python and databases.pdf\")"
   ]
  },
  {
   "cell_type": "markdown",
   "id": "44b1eb4b",
   "metadata": {},
   "source": [
    "< [Table of Contents](#top) | [References](#references) >\n",
    "***\n",
    "###### References\n",
    "*** "
   ]
  },
  {
   "cell_type": "markdown",
   "id": "a15ac8d4",
   "metadata": {},
   "source": [
    "- docs in MySQL connector - [Configuration files](https://martin-thoma.com/configuration-files-in-python)"
   ]
  },
  {
   "cell_type": "markdown",
   "id": "b2727406",
   "metadata": {},
   "source": [
    "***\n",
    "### END"
   ]
  },
  {
   "cell_type": "markdown",
   "id": "51f7f14b",
   "metadata": {},
   "source": [
    "< [Table of Contents](#top) | [References](#references) >\n",
    "<a id=\"puttingitalltogether\"></a>\n",
    "***\n",
    "### Putting it all together\n",
    "***  "
   ]
  },
  {
   "cell_type": "code",
   "execution_count": null,
   "id": "2c57a254",
   "metadata": {},
   "outputs": [],
   "source": [
    "fFile(nParPath=\"./hide/10-Puttingitalltogether/DR10.0 overview - 06-12-2019.mp4\")"
   ]
  },
  {
   "cell_type": "markdown",
   "id": "815b150d",
   "metadata": {},
   "source": [
    "- walkthrough of project type A [1]\n",
    "\n",
    "\n",
    "- configuration files for the connection details of your DAO [1]\n",
    "\n",
    "\n",
    "- deploying server to pythonanyhwhere - this is not mandatory for your project but there are marks for it [1]\n",
    "\n",
    "\n",
    "- NOTE: free accounts have limited access to the outside world so if you are planning on hosting a server that connects to an outside API (eg weather) you may need to get a pay account - they are not expensive and you can cancel at anytime [1]"
   ]
  },
  {
   "cell_type": "markdown",
   "id": "96e8533b",
   "metadata": {},
   "source": [
    "< [Table of Contents](#top) | [References](#references) >\n",
    "<a id=\"puttingitalltogetherIntroduction\"></a>\n",
    "***\n",
    "###### Introduction\n",
    "***  "
   ]
  },
  {
   "cell_type": "code",
   "execution_count": null,
   "id": "93c3c859",
   "metadata": {},
   "outputs": [],
   "source": [
    "fFile(nParPath=\"./hide/10-Puttingitalltogether/DR9.3 project prep - 18-11-2020.mp4\")"
   ]
  },
  {
   "cell_type": "markdown",
   "id": "2b8c721a",
   "metadata": {},
   "source": [
    "< [Table of Contents](#top) | [References](#references) >\n",
    "<a id=\"puttingitalltogetherCreatingDAO\"></a>\n",
    "***\n",
    "###### Creating DAO\n",
    "***"
   ]
  },
  {
   "cell_type": "markdown",
   "id": "1e9ad4fd",
   "metadata": {},
   "source": [
    "- based on week 09 - there may be an error in this - forgot to close the database connections - so if this runs for any length of time it will cease to work - will investigate further and post a fix video later [1]"
   ]
  },
  {
   "cell_type": "code",
   "execution_count": null,
   "id": "aa73d991",
   "metadata": {},
   "outputs": [],
   "source": [
    "fFile(nParPath=\"./hide/10-Puttingitalltogether/DR9.4 DAO walkthrough - 18-11-2020.mp4\")"
   ]
  },
  {
   "cell_type": "markdown",
   "id": "708d1e3d",
   "metadata": {},
   "source": [
    "< [Table of Contents](#top) | [References](#references) >\n",
    "<a id=\"puttingitalltogetherCreatingaserverthatimplementstheRESTAPI\"></a>\n",
    "***\n",
    "###### Creating a server that implements the REST API\n",
    "***  "
   ]
  },
  {
   "cell_type": "markdown",
   "id": "a984ea8f",
   "metadata": {},
   "source": [
    "- based on week 08 [1]"
   ]
  },
  {
   "cell_type": "code",
   "execution_count": null,
   "id": "8992136c",
   "metadata": {},
   "outputs": [],
   "source": [
    "fFile(nParPath=\"./hide/10-Puttingitalltogether/DR9.5 server walkthrough - 18-11-2020.mp4\")"
   ]
  },
  {
   "cell_type": "markdown",
   "id": "7fcf4c8d",
   "metadata": {},
   "source": [
    "< [Table of Contents](#top) | [References](#references) >\n",
    "<a id=\"puttingitalltogetherCreatingthehtmlthatwilluseAJAXtolinktotheserverandprovideauserinterface\"></a>\n",
    "***\n",
    "###### Creating the html that will use AJAX to link to the server and provide a user interface\n",
    "***"
   ]
  },
  {
   "cell_type": "markdown",
   "id": "162bb070",
   "metadata": {},
   "source": [
    "- based on week 05 [1]"
   ]
  },
  {
   "cell_type": "code",
   "execution_count": null,
   "id": "82e6cdac",
   "metadata": {},
   "outputs": [],
   "source": [
    "fFile(nParPath=\"./hide/10-Puttingitalltogether/DR9.6 HTML-AJAX walkthrough parts - 20-11-2020.mp4\")\n",
    "fFile(nParPath=\"./hide/10-Puttingitalltogether/DR9.7 HTML-AJAX walkthrough part2 - 20-11-2020.mp4\")"
   ]
  },
  {
   "cell_type": "markdown",
   "id": "d00253e9",
   "metadata": {},
   "source": [
    "< [Table of Contents](#top) | [References](#references) >\n",
    "<a id=\"puttingitalltogetherConfigurationFiles\"></a>\n",
    "***\n",
    "###### Configuration Files\n",
    "***  "
   ]
  },
  {
   "cell_type": "markdown",
   "id": "ab8bb977",
   "metadata": {},
   "source": [
    "- configuration file for DAO [1]"
   ]
  },
  {
   "cell_type": "code",
   "execution_count": null,
   "id": "93541648",
   "metadata": {},
   "outputs": [],
   "source": [
    "fFile(nParPath=\"./hide/10-Puttingitalltogether/DR10.01 configuration files - 06-12-2019.mp4\")\n",
    "fFile(nParPath=\"./hide/10-Puttingitalltogether/DR10.01b configuration files for DAO - 06-12-2019.mp4\")"
   ]
  },
  {
   "cell_type": "markdown",
   "id": "06a28a4c",
   "metadata": {},
   "source": [
    "< [Table of Contents](#top) | [References](#references) >\n",
    "<a id=\"puttingitalltogetherDeployingtoPythonanywhere\"></a>\n",
    "***\n",
    "###### Deploying to Pythonanywhere\n",
    "*** "
   ]
  },
  {
   "cell_type": "code",
   "execution_count": null,
   "id": "ebab62fa",
   "metadata": {},
   "outputs": [],
   "source": [
    "fFile(nParPath=\"./hide/10-Puttingitalltogether/DR10.02 ajax on host - 06-12-2019.mp4\")\n",
    "fFile(nParPath=\"./hide/10-Puttingitalltogether/DR10.03 deploy to remote host - 06-12-2019.mp4\")"
   ]
  },
  {
   "cell_type": "markdown",
   "id": "aa56be70",
   "metadata": {},
   "source": [
    "< [Table of Contents](#top) | [References](#references) >\n",
    "***\n",
    "###### References\n",
    "***"
   ]
  },
  {
   "cell_type": "markdown",
   "id": "901b2535",
   "metadata": {},
   "source": [
    "[Types of configuration files](https://martin-thoma.com/configuration-files-in-python)"
   ]
  },
  {
   "cell_type": "markdown",
   "id": "811f9184",
   "metadata": {},
   "source": [
    "***\n",
    "### END"
   ]
  },
  {
   "cell_type": "markdown",
   "id": "aa2b1e81",
   "metadata": {},
   "source": [
    "< [Table of Contents](#top) | [References](#references) >\n",
    "<a id=\"extra\"></a>\n",
    "***\n",
    "### Extra\n",
    "***"
   ]
  },
  {
   "cell_type": "markdown",
   "id": "031ebbf7",
   "metadata": {},
   "source": [
    "1. creating a connection pool for your database - this will solve a issue with my code from last week where I did not open and close connections between database requests - when you host your application on pythonanyhwere the database connection would close after a period of time (and hence cease to work) - this will fix that [1]\n",
    "\n",
    "\n",
    "2. sessions - necessary if you want a user to log in [1]"
   ]
  },
  {
   "cell_type": "markdown",
   "id": "5b42dc32",
   "metadata": {},
   "source": [
    "< [Table of Contents](#top) | [References](#references) >\n",
    "<a id=\"extraDatabaseConnections\"></a>\n",
    "***\n",
    "###### Database Connections\n",
    "***  "
   ]
  },
  {
   "cell_type": "markdown",
   "id": "544653c8",
   "metadata": {},
   "source": [
    "- connection pooling [1]"
   ]
  },
  {
   "cell_type": "code",
   "execution_count": null,
   "id": "215fc798",
   "metadata": {},
   "outputs": [],
   "source": [
    "fFile(nParPath=\"./hide/11-Extra/DR11.01 database connections - 09-12-2019.mp4\")"
   ]
  },
  {
   "cell_type": "markdown",
   "id": "1a928576",
   "metadata": {},
   "source": [
    "< [Table of Contents](#top) | [References](#references) >\n",
    "<a id=\"extraSessions\"></a>\n",
    "***\n",
    "###### Sessions\n",
    "***"
   ]
  },
  {
   "cell_type": "markdown",
   "id": "556e68ec",
   "metadata": {},
   "source": [
    "- sessions and logging in [1]"
   ]
  },
  {
   "cell_type": "code",
   "execution_count": null,
   "id": "1fa21e82",
   "metadata": {},
   "outputs": [],
   "source": [
    "fFile(nParPath=\"./hide/11-Extra/DR11.02 Sessions - 09-12-2019.mp4\")"
   ]
  },
  {
   "cell_type": "markdown",
   "id": "8f1bfc61",
   "metadata": {},
   "source": [
    "< [Table of Contents](#top) | [References](#references) >\n",
    "<a id=\"extraChangingVirtualEnvironmentonPythonanywhere\"></a>\n",
    "***\n",
    "###### Changing Virtual Environment on Pythonanywhere\n",
    "***"
   ]
  },
  {
   "cell_type": "code",
   "execution_count": null,
   "id": "f783dc43",
   "metadata": {},
   "outputs": [],
   "source": [
    "fFile(nParPath=\"./hide/11-Extra/DR11.03 changing venv on host - 09-12-2019.mp4\")"
   ]
  },
  {
   "cell_type": "markdown",
   "id": "9791bd44",
   "metadata": {},
   "source": [
    "< [Table of Contents](#top) | [References](#references) >\n",
    "***\n",
    "###### References\n",
    "***"
   ]
  },
  {
   "cell_type": "markdown",
   "id": "6e459ba1",
   "metadata": {},
   "source": [
    "- database connections - [pooling in mysql-connector](https://pynative.com/python-database-connection-pooling-with-mysql) - [pooling in mysql-connector](https://overiq.com/mysql-connector-python-101/connection-pooling-using-connector-python) - [sqlalchemy](https://www.sqlalchemy.org/) - [sqlalchemy-pythonanywhere](https://blog.pythonanywhere.com/121/) - [sqlalchemy](https://towardsdatascience.com/sqlalchemy-python-tutorial-79a577141a91)"
   ]
  },
  {
   "cell_type": "markdown",
   "id": "8eb12029",
   "metadata": {},
   "source": [
    "- sessions - [tutorial](https://www.tutorialspoint.com/flask/flask_sessions.htm)"
   ]
  },
  {
   "cell_type": "markdown",
   "id": "9b144383",
   "metadata": {},
   "source": [
    "***\n",
    "### END"
   ]
  },
  {
   "cell_type": "markdown",
   "id": "c51180eb",
   "metadata": {},
   "source": [
    "***\n",
    "## END"
   ]
  },
  {
   "cell_type": "markdown",
   "id": "b26776e7",
   "metadata": {},
   "source": [
    "< [Table of Contents](#top) | [Abstract](#abstract) | [Introduction](#introduction) | [Conclusion](#conclusion) | [References](#references) >\n",
    "<a id=\"solution\"></a>\n",
    "***\n",
    "## Solution\n",
    "***"
   ]
  },
  {
   "cell_type": "markdown",
   "id": "ebb1e6a2",
   "metadata": {},
   "source": [
    "&#x1F6A7;"
   ]
  },
  {
   "cell_type": "markdown",
   "id": "5412de45",
   "metadata": {},
   "source": [
    "<!-- - refer [Appendix](#appendix-df) to view the full dataset <a id=\"go-back-df\"></a> -->\n",
    "<!-- print(fGetModuleType(___x___),fDocumentation(___x___)) -->\n",
    "***\n",
    "## END"
   ]
  },
  {
   "cell_type": "markdown",
   "id": "a55779d4",
   "metadata": {},
   "source": [
    "< [Table of Contents](#top) | [Abstract](#abstract) | [Introduction](#introduction) | [Solution](#solution) | [References](#references) >\n",
    "<a id=\"conclusion\"></a>\n",
    "***\n",
    "## Conclusion\n",
    "***"
   ]
  },
  {
   "cell_type": "markdown",
   "id": "3b3eebaf",
   "metadata": {},
   "source": [
    "&#x1F6A7;"
   ]
  },
  {
   "cell_type": "markdown",
   "id": "0bf43c70",
   "metadata": {},
   "source": [
    "***\n",
    "## END"
   ]
  },
  {
   "cell_type": "markdown",
   "id": "94d21f9e",
   "metadata": {},
   "source": [
    "< [Table of Contents](#top) | [Abstract](#abstract) | [Introduction](#introduction) | [Solution](#solution) | [Conclusion](#conclusion) | [References](#references) >\n",
    "<a id=\"references\"></a>\n",
    "***\n",
    "## References\n",
    "***\n",
    "&nbsp;&nbsp;&nbsp;&nbsp;&nbsp;&nbsp;&nbsp;&nbsp;&nbsp;[1] A. Beatty, \"Moodle,\" GMIT, (n.d.)."
   ]
  },
  {
   "cell_type": "markdown",
   "id": "0dd9a8b0",
   "metadata": {},
   "source": [
    "***\n",
    "## END"
   ]
  },
  {
   "cell_type": "markdown",
   "id": "e79f2d3d",
   "metadata": {},
   "source": [
    "< [Table of Contents](#top) | [Abstract](#abstract) | [Introduction](#introduction) | [Solution](#solution) | [Conclusion](#conclusion) | [References](#references) >\n",
    "<a id=\"appendix\"></a>\n",
    "***\n",
    "## Appendix\n",
    "***"
   ]
  },
  {
   "cell_type": "markdown",
   "id": "2a526088",
   "metadata": {},
   "source": [
    "&#x1F6A7;"
   ]
  },
  {
   "cell_type": "markdown",
   "id": "bcf860d5",
   "metadata": {},
   "source": [
    "<a id=\"appendix-some-reference\"></a>\n",
    "< [Go Back](#top) >"
   ]
  },
  {
   "cell_type": "markdown",
   "id": "8a4b5e4a",
   "metadata": {},
   "source": [
    "```python\n",
    "from matplotlib.pyplot import box,yticks,xlabel,bar,text,title,show\n",
    "\n",
    "from sys import path; path.insert(1,\"../src\")\n",
    "from fubar import fDarkReader\n",
    "\n",
    "%%script bash\n",
    "grep -1 \"def fDarkReader\" ../src/fubar.py -A 9\n",
    "\n",
    "fDarkReader()\n",
    "```"
   ]
  },
  {
   "cell_type": "markdown",
   "id": "0a7c543b",
   "metadata": {},
   "source": [
    "⚡"
   ]
  },
  {
   "cell_type": "markdown",
   "id": "08dcdc7f",
   "metadata": {},
   "source": [
    "```python\n",
    "from sys import path; path.insert(1,\"../src\")\n",
    "from fubar import fFile\n",
    "\n",
    "%%script bash\n",
    "grep -1 \"def fFile\" ../src/fubar.py -A 9\n",
    "\n",
    "fFile(nParPath=\"\")\n",
    "\n",
    "exit()\n",
    "```"
   ]
  },
  {
   "cell_type": "markdown",
   "id": "3218b1ce",
   "metadata": {},
   "source": [
    "###### Github\n",
    "***"
   ]
  },
  {
   "cell_type": "markdown",
   "id": "da402dea",
   "metadata": {},
   "source": [
    "```\n",
    "git push -f origin HEAD^:master && git reset HEAD~\n",
    "```"
   ]
  },
  {
   "cell_type": "markdown",
   "id": "93ea152b",
   "metadata": {},
   "source": [
    "###### Functions\n",
    "***"
   ]
  },
  {
   "cell_type": "markdown",
   "id": "b54bff73",
   "metadata": {},
   "source": [
    "```python\n",
    "# %%writefile -a ../src/fubar.py\n",
    "# repository ./fubar-python\n",
    "def f():\n",
    "    \"\"\"\n",
    "\n",
    "Input:\n",
    "Process:\n",
    "Output:\n",
    "\"\"\"\n",
    "    pass\n",
    "# -- END ---\n",
    "```"
   ]
  },
  {
   "cell_type": "markdown",
   "id": "5db72e4b",
   "metadata": {},
   "source": [
    "###### Functions - ../src/fubar.py\n",
    "***"
   ]
  },
  {
   "cell_type": "markdown",
   "id": "372dbe03",
   "metadata": {},
   "source": [
    "```\n",
    "%%script bash\n",
    "cat ../src/fubar.py\n",
    "```"
   ]
  },
  {
   "cell_type": "code",
   "execution_count": null,
   "id": "ae85ddbb",
   "metadata": {},
   "outputs": [],
   "source": [
    "%%script bash\n",
    "grep -1 \"def fFullScreen\" ../src/fubar.py -A 9"
   ]
  },
  {
   "cell_type": "markdown",
   "id": "ace0b34f",
   "metadata": {},
   "source": [
    "```\n",
    "git commit -m \"update repository ./fubar-python - Everything in python is an object.\"\n",
    "```"
   ]
  },
  {
   "cell_type": "markdown",
   "id": "0c4dbff3",
   "metadata": {},
   "source": [
    "###### Images\n",
    "***"
   ]
  },
  {
   "cell_type": "markdown",
   "id": "71c15694",
   "metadata": {},
   "source": [
    "![gumball](https://github.com/SeanOhAileasa/SeanOhAileasa/blob/master/rc/cta/analysing/gumball.png?raw=true)\n",
    "\n",
    "***(Image) P. Mannion, \"03 Analysing Algorithms Part 1,\" GMIT, October 2017.***"
   ]
  },
  {
   "cell_type": "markdown",
   "id": "1aaa880a",
   "metadata": {},
   "source": [
    "###### Tables\n",
    "***"
   ]
  },
  {
   "cell_type": "markdown",
   "id": "7d0c21ee",
   "metadata": {},
   "source": [
    "|aaa|bbbbbb|ccccccccc|\n",
    "|:------------------------- | :------------------------- | :------------------------- |\n",
    "|aaa|bbbbbb|ccccccccc|"
   ]
  },
  {
   "cell_type": "markdown",
   "id": "5cf6131f",
   "metadata": {},
   "source": [
    "###### References\n",
    "***"
   ]
  },
  {
   "cell_type": "markdown",
   "id": "79991443",
   "metadata": {},
   "source": [
    "&nbsp;&nbsp;&nbsp;&nbsp;&nbsp;&nbsp;&nbsp;&nbsp;&nbsp;[0] x. xxx, \"xxx,\" xxx, JanXXXry 2XX1.\n",
    "\n",
    "&nbsp;&nbsp;&nbsp;&nbsp;&nbsp;&nbsp;&nbsp;&nbsp;&nbsp;[0] Anaconda (built-in), \"range,\" Docstring, Conda:4.9.2 (Python:3.8.5).\n",
    "\n",
    "&nbsp;&nbsp;&nbsp;&nbsp;&nbsp;&nbsp;&nbsp;&nbsp;&nbsp;[0] Anaconda (plot), \"matplotlib.pyplot,\" Docstring, Conda:4.9.2 (Python:3.8.5).\n",
    "\n",
    "&nbsp;&nbsp;&nbsp;&nbsp;&nbsp;&nbsp;&nbsp;&nbsp;&nbsp;[0] D. Carr, \"CTA - Lecture 1 Part 1,\" GMIT, January 2021.\n",
    "\n",
    "&nbsp;&nbsp;&nbsp;&nbsp;&nbsp;&nbsp;&nbsp;&nbsp;&nbsp;[0] A. Beatty, \"xxx,\" GMIT, January 202x.\n",
    "\n",
    "&nbsp;&nbsp;&nbsp;&nbsp;&nbsp;&nbsp;&nbsp;&nbsp;&nbsp;[0] M. R. Fellows, I. Parberry, \"SIGACT Trying to Get Children Excited About CS,\" [ianparberry](https://web.archive.org/web/20210220071000/http://ianparberry.com/research/cseducation), January 1993.\n",
    "\n",
    "###### fubar-000\n",
    "\n",
    "&nbsp;&nbsp;&nbsp;&nbsp;&nbsp;&nbsp;&nbsp;&nbsp;&nbsp;[0] A. Beatty, \"prog 0.0 introduction (Module: Programming for Cybersecurity),\" GMIT (Programme: Certificate in Cybersecurity Operations), January 2021."
   ]
  },
  {
   "cell_type": "markdown",
   "id": "3f0ee002",
   "metadata": {},
   "source": [
    "***\n",
    "## END"
   ]
  },
  {
   "cell_type": "markdown",
   "id": "61205b79",
   "metadata": {},
   "source": [
    "# END JUPYTER NOTEBOOK"
   ]
  }
 ],
 "metadata": {
  "kernelspec": {
   "display_name": "Python 3",
   "language": "python",
   "name": "python3"
  },
  "language_info": {
   "codemirror_mode": {
    "name": "ipython",
    "version": 3
   },
   "file_extension": ".py",
   "mimetype": "text/x-python",
   "name": "python",
   "nbconvert_exporter": "python",
   "pygments_lexer": "ipython3",
   "version": "3.8.8"
  }
 },
 "nbformat": 4,
 "nbformat_minor": 5
}

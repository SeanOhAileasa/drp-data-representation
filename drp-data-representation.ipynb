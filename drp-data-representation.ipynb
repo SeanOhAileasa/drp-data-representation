{
 "cells": [
  {
   "cell_type": "code",
   "execution_count": null,
   "id": "0124b1ec",
   "metadata": {},
   "outputs": [
    {
     "data": {
      "text/html": [
       "<script>Jupyter.notebook.kernel.restart()</script>"
      ]
     },
     "metadata": {},
     "output_type": "display_data"
    }
   ],
   "source": [
    "from IPython.core.display import display_html\n",
    "display_html(\"<script>Jupyter.notebook.kernel.restart()</script>\",raw=True)"
   ]
  },
  {
   "cell_type": "code",
   "execution_count": 1,
   "id": "c3092012",
   "metadata": {},
   "outputs": [
    {
     "data": {
      "text/html": [
       "<style>.container { width:100% !important; }</style>"
      ],
      "text/plain": [
       "<IPython.core.display.HTML object>"
      ]
     },
     "metadata": {},
     "output_type": "display_data"
    },
    {
     "data": {
      "text/html": [
       "<style>.container { width:100% !important; }</style>"
      ],
      "text/plain": [
       "<IPython.core.display.HTML object>"
      ]
     },
     "metadata": {},
     "output_type": "display_data"
    }
   ],
   "source": [
    "from sys import path; path.insert(1,\"../src\");\n",
    "import fubar; from importlib import reload; reload(fubar);"
   ]
  },
  {
   "cell_type": "markdown",
   "id": "fb350e62",
   "metadata": {},
   "source": [
    "***\n",
    "< [GMIT Data Analytics](https://web.archive.org/web/20201029063153/https://www.gmit.ie/computer-science-and-applied-physics/higher-diploma-science-computing-data-analytics-ict) | [Home](https://github.com/SeanOhAileasa) | [README](https://github.com/SeanOhAileasa/drp-data-representation/blob/main/README.md) >\n",
    "\n",
    "[![GMIT](https://github.com/SeanOhAileasa/SeanOhAileasa/blob/master/rc/gmit.png?raw=true)](https://web.archive.org/web/20201029063153/https://www.gmit.ie/computer-science-and-applied-physics/higher-diploma-science-computing-data-analytics-ict)\n",
    "\n",
    "## Data Representation - Course Material 2021\n",
    "### Topic: [Data Representation](https://nbviewer.jupyter.org/github/SeanOhAileasa/drp-data-representation/blob/main/drp-data-representation.ipynb)\n",
    "\n",
    "Course material for the ``Data Representation`` module (5 Credits) of the ``Higher Diploma in Science in Computing (Data Analytics) (H.Dip)`` programme (75 Credits) at **Galway-Mayo Institute of Technology (GMIT)**.\n",
    "***"
   ]
  },
  {
   "cell_type": "code",
   "execution_count": 2,
   "id": "7eb52b79",
   "metadata": {},
   "outputs": [],
   "source": [
    "from sys import path; path.insert(1,\"../src\")\n",
    "from fubar import fFile"
   ]
  },
  {
   "cell_type": "code",
   "execution_count": 3,
   "id": "e35edc25",
   "metadata": {},
   "outputs": [
    {
     "name": "stdout",
     "output_type": "stream",
     "text": [
      "# repository ./SeanOhAileasa\r\n",
      "def fFile(nParPath):\r\n",
      "    \"\"\"Start a file with its associated application.\r\n",
      "\r\n",
      "Input: nParPath\r\n",
      "Process: (os.path.realpath; os.startfile)\r\n",
      "Output: file opened with associated application\r\n",
      "\"\"\"\r\n",
      "    from os import path,startfile\r\n",
      "    return startfile(path.realpath(nParPath))\r\n",
      "# --- END ---\r\n"
     ]
    }
   ],
   "source": [
    "%%script bash\n",
    "grep -1 \"def fFile\" ../src/fubar.py -A 9"
   ]
  },
  {
   "cell_type": "markdown",
   "id": "2b859f48",
   "metadata": {},
   "source": [
    "<a id=\"top\"></a>\n",
    "***\n",
    "## Table of Contents\n",
    "***\n",
    "\n",
    "## [Acronym](#top)\n",
    "\n",
    "- ``obj``: object\n",
    "- ``n``: name\n",
    "- ``v``: value\n",
    "\n",
    "## [Abstract](#abstract)\n",
    "\n",
    "* [Description](#description)\n",
    "* [Learning Outcomes](#learningOutcomes)\n",
    "* [Topic Roadmap](#topicRoadmap)\n",
    "\n",
    "## [Introduction](#introduction)\n",
    "\n",
    "* [XML](#introductionXML)\n",
    "    * [Internal Representation (DOM)](#internalRepresentationDOM)\n",
    "\n",
    "\n",
    "* [DOM](#introductionDOM)\n",
    "    * &#8594; ``obj``:\n",
    "        * [``document``](#DOMObjectDocument)\n",
    "            * [``getElementById``](#DOMObjectDocumentMethodgetElementById)\n",
    "\n",
    "\n",
    "* [HTML](#introductionHTML)\n",
    "    * &#8594; ``n``:\n",
    "        * [Tag](#introductionHTMLTag) &#x1F6A7;\n",
    "            * [``table``](#introductionHTMLTagTable)\n",
    "            * [``form``](#introductionHTMLTagForm)\n",
    "            * [``div``](#introductionHTMLTagDiv)\n",
    "            * [``script``](#introductionscript)\n",
    "        * [Attribute](#introductionHTMLAttribute)\n",
    "            * [``id``](#introductionHTMLid)\n",
    "            * [``class``](#introductionHTMLclass) &#x1F6A7;\n",
    "            * [``onclick``](#introductionHTMLonclick) &#x1F6A7;\n",
    "            * [``style``](#introductionHTMLstyle) &#x1F6A7;\n",
    "    * [API](#introductionscriptAPI) &#x1F6A7;\n",
    "        * &#8594; ``obj``:\n",
    "            * [``console``](#introductionscriptAPIconsole)\n",
    "    * [Lab](#introductionHTMLTagTableFormLAB)\n",
    "        * [Bootstrap](#introductionHTMLTagTableFormLABBootstrap)\n",
    "            \n",
    "\n",
    "* [CSS](#introductionCSS)\n",
    "    * [``style``](#introductionCSSstyle) &#x1F6A7; (&#8594; HTML Attribute)\n",
    "        * &#8594; ``v``:\n",
    "            * [``display``](#introductionCSSstyledisplay)\n",
    "\n",
    "\n",
    "* [JS](#javascript)\n",
    "    * [Function](#javascriptUserdefinedFunction)\n",
    "        * [``onclick``](#javascriptAttributeHTMLonclick) (&#8594; HTML Attribute)\n",
    "                \n",
    "                \n",
    "* [Variables - if statements - for loops](#variablesifstatementsandforloopsinJavaScript)\n",
    "    * [More manipulation of the DOM tree](#moremanipulationoftheDOMtree)\n",
    "\n",
    "\n",
    "* [Consuming XML/HTML data from the web](#consumingXMLHTMLdatafromtheweb)\n",
    "    * [URLs](#consumingXMLHTMLdatafromthewebURLs)\n",
    "    * [Consuming XML (and HTML) from the web](#lectureConsumingXMLandHTMLfromtheweb)\n",
    "    * [Web Scrapping](#webScrapping)\n",
    "\n",
    "\n",
    "* [JSON and AJAX and REST](#jSONAJAXandREST)\n",
    "    * [HTTP](#jSONAJAXandRESTHTTP)\n",
    "    * [JSON](#jSONAJAXandRESTjson)\n",
    "    * [AJAX](#jSONAJAXandRESTajax)\n",
    "    * [REST](#jSONAJAXandRESTrest)\n",
    "\n",
    "\n",
    "* [AJAX and REST](#aJAXandREST)\n",
    "    * [Curl](#aJAXandRESTCurl)\n",
    "    * [Flask](#aJAXandRESTFlask)\n",
    "    * [AJAX](#aJAXandRESTAJAX)\n",
    "\n",
    "\n",
    "* [Using python to consume APIs](#usingpythontoconsumeAPIs)\n",
    "    * [Requests](#usingpythontoconsumeAPIsRequests)\n",
    "    * [Authentication](#usingpythontoconsumeAPIsAuthentication)\n",
    "    * [APIs and Packages](#usingpythontoconsumeAPIsAPIsandPackages)\n",
    "\n",
    "\n",
    "* [Case Studies](#caseStudies)\n",
    "    * [Electric Data](#electricData)\n",
    "    * [Gmail](#caseStudiesGmail)\n",
    "    * [Weather](#caseStudiesWeather)\n",
    "    * [Open Food Facts](#openfoodfacts)\n",
    "\n",
    "\n",
    "* [Server Side](#serverSide)\n",
    "    * [Virtual Environments](#virtualEnvironments)\n",
    "    * [Flask](#serverSideFlask)\n",
    "    * [Practical REST Server](#practicalRESTServer)\n",
    "    * [Hosting Web Server](#hostingWebServer)\n",
    "\n",
    "\n",
    "* [Linking to Database](#linkingtoDatabase)\n",
    "    * [Databases](#linkingdatabases)\n",
    "    * [Python and DB](#linkingdatabasespython)\n",
    "\n",
    "\n",
    "* [Putting It All Together](#puttingitalltogether)\n",
    "    * [Introduction](#puttingitalltogetherIntroduction)\n",
    "    * [Creating DAO](#puttingitalltogetherCreatingDAO)\n",
    "    * [Creating a server that implements the REST API](#puttingitalltogetherCreatingaserverthatimplementstheRESTAPI)\n",
    "    * [Creating the html that will use AJAX to link to the server and provide a user interface](#puttingitalltogetherCreatingthehtmlthatwilluseAJAXtolinktotheserverandprovideauserinterface)\n",
    "    * [Configuration Files](#puttingitalltogetherConfigurationFiles)\n",
    "    * [Deploying to Pythonanywhere](#puttingitalltogetherDeployingtoPythonanywhere)\n",
    "    \n",
    "    \n",
    "* [Extra](#extra)\n",
    "    * [Database Connections](#extraDatabaseConnections)\n",
    "    * [Sessions](#extraSessions)\n",
    "    * [Changing Virtual Environment on Pythonanywhere](#extraChangingVirtualEnvironmentonPythonanywhere)\n",
    "    \n",
    "    \n",
    "## [Solution](#solution)\n",
    "\n",
    "- &#x1F6A7;\n",
    "\n",
    "## [Conclusion](#conclusion)\n",
    "\n",
    "- &#x1F6A7;"
   ]
  },
  {
   "cell_type": "markdown",
   "id": "61f2fce1",
   "metadata": {},
   "source": [
    "***\n",
    "## END"
   ]
  },
  {
   "cell_type": "markdown",
   "id": "363b5bde",
   "metadata": {},
   "source": [
    "< [Table of Contents](#top) | [Introduction](#introduction) | [Solution](#solution) | [Conclusion](#conclusion) | [References](#references) >\n",
    "<a id=\"abstract\"></a>\n",
    "***\n",
    "## Abstract\n",
    "***"
   ]
  },
  {
   "cell_type": "markdown",
   "id": "0db8663f",
   "metadata": {},
   "source": [
    "< [Table of Contents](#top) | [References](#references) >\n",
    "<a id=\"description\"></a>\n",
    "***\n",
    "###### Description\n",
    "***"
   ]
  },
  {
   "cell_type": "markdown",
   "id": "a92ea83a",
   "metadata": {},
   "source": [
    "Investigate and operate the protocols, standards and architectures used in representing data, with a focus on interacting with data services across the internet. Gaining practical experience in developing applications that interact with such data."
   ]
  },
  {
   "cell_type": "markdown",
   "id": "b1ea3489",
   "metadata": {},
   "source": [
    "< [Table of Contents](#top) | [References](#references) >\n",
    "<a id=\"learningOutcomes\"></a>\n",
    "***\n",
    "######  Learning Outcomes\n",
    "***"
   ]
  },
  {
   "cell_type": "markdown",
   "id": "45813896",
   "metadata": {},
   "source": [
    "The aim of the module is to provide a comprehensive grounding in solving computational problems and designing algorithms.\n",
    "\n",
    "1. Compare data models and architectures used in applications.\n",
    "\n",
    "2. Write software applications that adhere to common standards and protocols.\n",
    "\n",
    "3. Explain the basic mechanisms by which application data is transmitted across the internet.\n",
    "\n",
    "4. Design and utilise application programming interfaces for interacting with data sources."
   ]
  },
  {
   "cell_type": "markdown",
   "id": "d272d16d",
   "metadata": {},
   "source": [
    "< [Table of Contents](#top) | [References](#references) >\n",
    "<a id=\"topicRoadmap\"></a>\n",
    "***\n",
    "###### Topic Roadmap\n",
    "***"
   ]
  },
  {
   "cell_type": "markdown",
   "id": "f2653561",
   "metadata": {},
   "source": [
    "- HyperText Transfer Protocol (HTTP)\n",
    "\n",
    "- Uniform Resource Locator (URL) encoding\n",
    "\n",
    "- REpresentational State Transfer (REST)\n",
    "\n",
    "- JavaScript Object Notation (JSON)\n",
    "\n",
    "- eXtensible Markup Language (XML)\n",
    "\n",
    "- Document Object Model (DOM)\n",
    "\n",
    "- Document-oriented storage\n",
    "\n",
    "- Client-Server\n",
    "\n",
    "- Request-Response\n",
    "\n",
    "- Asynchronous Javascript And Xml (AJAX)\n",
    "\n",
    "- Sessions"
   ]
  },
  {
   "cell_type": "markdown",
   "id": "08daf04b",
   "metadata": {},
   "source": [
    "***\n",
    "## END"
   ]
  },
  {
   "cell_type": "markdown",
   "id": "627c0b5d",
   "metadata": {},
   "source": [
    "< [Table of Contents](#top) | [Abstract](#abstract) | [Solution](#solution) | [Conclusion](#conclusion) | [References](#references) >\n",
    "<a id=\"introduction\"></a>\n",
    "***\n",
    "## Introduction\n",
    "***"
   ]
  },
  {
   "cell_type": "markdown",
   "id": "e2429bf1",
   "metadata": {},
   "source": [
    "- module introduces the various means of retrieving data from external sources (CSO - weather servers - stock information) - looking at the formats that data can come in (XML - JSON - CSV) and how to retrieve (through an API) and process that data using javascript and python - also explore how to can make data available to the outside world by creating an API (application Programmers interface) using the python module flask [1]"
   ]
  },
  {
   "cell_type": "code",
   "execution_count": null,
   "id": "19d7a145",
   "metadata": {},
   "outputs": [],
   "source": [
    "fFile(nParPath=\"./hide/01-XMLandDOM/DR2 XML and Dom with a bit about html - 25-09-2019.mp4\")\n",
    "fFile(nParPath=\"./hide/01-XMLandDOM/DR1.3 XML and DOM.pptx\")"
   ]
  },
  {
   "cell_type": "markdown",
   "id": "a2cdfc4d",
   "metadata": {},
   "source": [
    "< [Table of Contents](#top) | [References](#references) >\n",
    "<a id=\"introductionXML\"></a>\n",
    "***\n",
    "### XML\n",
    "***"
   ]
  },
  {
   "cell_type": "markdown",
   "id": "d1b91a25",
   "metadata": {},
   "source": [
    "- ``XML`` (eXtensible Markup Language) came about from ``HTML`` and is a useful way of being able to transfer information in general from one machine to another [2]"
   ]
  },
  {
   "cell_type": "markdown",
   "id": "b72d7fd1",
   "metadata": {},
   "source": [
    "- ``XML`` is human readable - can see the following relates to a book which is entitled (``title``) Python Programming and the ``publisher`` is Prentice Hall and the ``author`` is Peter Vanderlinden - the ``book`` has two attributes ``isbn-13`` and ``isbn-10`` - can see its human readable and can understand whats going on [2]"
   ]
  },
  {
   "cell_type": "markdown",
   "id": "d5728c44",
   "metadata": {},
   "source": [
    "```XML\n",
    "<?xml version=\"1.0\" encoding=\"UTF-8\"?>\n",
    "<book isbn-13=\"978-0131774292\" isbn-10=\"0131774298\"> \n",
    "  <title>Python Programming</title> \n",
    "  <publisher>Prentice Hall</publisher> \n",
    "  <author>Peter van der Linden</author> \n",
    "</book>\n",
    "```"
   ]
  },
  {
   "cell_type": "markdown",
   "id": "d3fad778",
   "metadata": {},
   "source": [
    "- ``XML`` looks like ``HTML`` but its different - ``XML`` is a bit more stringent and was designed to carry and represent data with a focus on what the data is - ``HTML`` is designed to send data thats going to be rendered by a browser [2]"
   ]
  },
  {
   "cell_type": "markdown",
   "id": "303f75dd",
   "metadata": {},
   "source": [
    "- ``XML`` has no predefined tags (can put whatever into it) - ``XML`` can describe books just as easily as describing tv shows or whatever - its completely open - ``HTML`` on the other hand is designed to be taken up by browsers so the browser needs to know what the tags mean [2] "
   ]
  },
  {
   "cell_type": "markdown",
   "id": "6e616f54",
   "metadata": {},
   "source": [
    "- the purpose of ``XML`` is to represent information in text form - ``XML`` does not do anything and in addition ``HTML`` also does not do anything - both ``XML`` and ``HTML`` are a means of transferring data from a server to a client with ``HTML`` being the browser [2]"
   ]
  },
  {
   "cell_type": "markdown",
   "id": "d77d9e4f",
   "metadata": {},
   "source": [
    "- ``XML`` has a tree like syntax so theres always a root node and child notes underneath (elements) [2]"
   ]
  },
  {
   "cell_type": "markdown",
   "id": "1aefb289",
   "metadata": {},
   "source": [
    "- starts off with a declaration which is one tag at the top - ``<?`` (the declaration) ``?>`` [2]"
   ]
  },
  {
   "cell_type": "markdown",
   "id": "6477f4cf",
   "metadata": {},
   "source": [
    "```XML\n",
    "<?xml version=\"1.0\" encoding=\"UTF-8\"?>\n",
    "```"
   ]
  },
  {
   "cell_type": "markdown",
   "id": "4f39ec9c",
   "metadata": {},
   "source": [
    "- the ``XML`` must have a single root element that wraps all others (takes over the rest of the document) - starts with tag name ``<root-element>`` and at the end of the document ends with tag name ``</root-element>`` - the end tag is indicated with ``/>`` [2]"
   ]
  },
  {
   "cell_type": "markdown",
   "id": "ea892e19",
   "metadata": {},
   "source": [
    "- the elements are enclosed in angle brackets (``<`` ``>``) and have tags that must start with a letter (many contain a number) - four child elements of which three are called ``child`` - the ``child`` elements can have the same name as each other (note one of the child elements is called ``lone-warrior``) - the elements must all have a start tag and an end tag - ``lone-warrior`` does not have a close tag as it has already its own close tag indicated by the fact it has the ``/>`` at the end of it [2]"
   ]
  },
  {
   "cell_type": "markdown",
   "id": "58cd6fc0",
   "metadata": {},
   "source": [
    "- elements can have attributes which are name-value pairs within the ``<`` ``>`` [2]"
   ]
  },
  {
   "cell_type": "markdown",
   "id": "5e2452a6",
   "metadata": {},
   "source": [
    "- the element ``root-element`` has an attribute name ``attribute-name`` value ``attribute-value`` - first child has an attribute name ``name`` value ``value`` [2]"
   ]
  },
  {
   "cell_type": "markdown",
   "id": "700266a1",
   "metadata": {},
   "source": [
    "- the names of tags / elements / attributes must start with a letter (cannot start with a number) [2]"
   ]
  },
  {
   "cell_type": "markdown",
   "id": "280697ec",
   "metadata": {},
   "source": [
    "- certain characters must be escaped with entity references (to do with encoding) - the entity reference ``&lt`` indicates a less than sign - cannot use ``<`` as it may be interpreted as open tag [2]"
   ]
  },
  {
   "cell_type": "markdown",
   "id": "74dee111",
   "metadata": {},
   "source": [
    "- ``XML`` is case sensitive - ``HTML`` is not always as it depends on the browser [2]"
   ]
  },
  {
   "cell_type": "markdown",
   "id": "df5a52a7",
   "metadata": {},
   "source": [
    "- the root element has four child elements and inside the first child element there is a node which is plain text (data that goes inside the elements) - ``Text`` could also have other children in there and those children could have their own attributes which in turn could have plaintext [2]"
   ]
  },
  {
   "cell_type": "markdown",
   "id": "c156faa3",
   "metadata": {},
   "source": [
    "![XML](https://github.com/SeanOhAileasa/SeanOhAileasa/blob/master/rc/drp/xml/xml.png?raw=true)\n",
    "\n",
    "***(Image) A. Beatty, \"DR2 XML and Dom with a bit about html,\" GMIT, September 2019.***"
   ]
  },
  {
   "cell_type": "markdown",
   "id": "a1e20b9c",
   "metadata": {},
   "source": [
    "- ``breakfast_menu`` with ``food`` items each has a ``name`` and ``price`` and ``description`` and ``calories`` - there are numerous different ways that ``XML`` could be used to represent this - instead of having child elements could put then in as attributes [2]"
   ]
  },
  {
   "cell_type": "markdown",
   "id": "9d438103",
   "metadata": {},
   "source": [
    "```XML\n",
    "<?xml version=\"1.0\" encoding=\"UTF-8\"?> <!-- declaration -->\n",
    "<breakfast_menu> <!-- root element - START -->\n",
    "    <food> <!-- <breakfast_menu> child element - 1 - START -->\n",
    "        <name>root node</name> <!-- <food> child element - START/END -->\n",
    "        <price>P</price>\n",
    "        <description>P</description>\n",
    "        <calories>P</calories>  \n",
    "    </food> <!-- <breakfast_menu> child element - 1 - END -->\n",
    "    <food> <!-- <breakfast_menu> child element - 2 - START -->\n",
    "        <name>P</name>\n",
    "        <price>P</price>\n",
    "        <description>P</description>\n",
    "        <calories>P</calories>        \n",
    "    </food> <!-- <breakfast_menu> child element - 2 - END -->\n",
    "</breakfast_menu> <!-- root element - END -->\n",
    "```"
   ]
  },
  {
   "cell_type": "markdown",
   "id": "c25ce3dc",
   "metadata": {},
   "source": [
    "< [Table of Contents](#top) | [References](#references) >\n",
    "<a id=\"internalRepresentationDOM\"></a>\n",
    "***\n",
    "###### Internal Representation (DOM)\n",
    "***"
   ]
  },
  {
   "cell_type": "markdown",
   "id": "13c418a3",
   "metadata": {},
   "source": [
    " - ``Company`` with two employees (``Employee``) each having an attribute ``category`` and each having three child elements ``FirstName`` and ``LastName`` and ``ContactNo`` [2]"
   ]
  },
  {
   "cell_type": "markdown",
   "id": "c75165db",
   "metadata": {},
   "source": [
    "```XML\n",
    "<?xml version=\"1.0\" encoding=\"UTF-8\"?> <!-- declaration -->\n",
    "<Company> <!-- root element - START -->\n",
    "    <Employee category=\"Technical\"> <!-- <Company> child element - attribute category - 1 - START -->\n",
    "        <FirstName>Joe</FirstName> <!-- <Employee> child element - START/END -->\n",
    "        <LastName>Murphy</LastName>\n",
    "        <ContactNo>1234567890</ContactNo>  \n",
    "    </Employee> <!-- <Company> child element - 1 - END -->\n",
    "    <Employee category=\"Non-Technical\"> <!-- <Company> child element - attribute category - 2 - START -->\n",
    "        <FirstName>Mary</FirstName>\n",
    "        <LastName>Marting</LastName>\n",
    "        <ContactNo>0987654321</ContactNo>\n",
    "    </Employee> <!-- <Company> child element - 2 - END -->\n",
    "</Company> <!-- root element - END -->\n",
    "```"
   ]
  },
  {
   "cell_type": "markdown",
   "id": "a55eea60",
   "metadata": {},
   "source": [
    "- ``XML`` representation internally inside programs - will find lots of functions that allow access to get all the children of a particular element to find the parent or the grandparent [2]"
   ]
  },
  {
   "cell_type": "markdown",
   "id": "c40d0bae",
   "metadata": {},
   "source": [
    "![XML](https://github.com/SeanOhAileasa/SeanOhAileasa/blob/master/rc/drp/xml/companyDOM.png?raw=true)\n",
    "\n",
    "***(Image) A. Beatty, \"DR2 XML and Dom with a bit about html,\" GMIT, September 2019.***"
   ]
  },
  {
   "cell_type": "markdown",
   "id": "cfb640c6",
   "metadata": {},
   "source": [
    "***\n",
    "### END"
   ]
  },
  {
   "cell_type": "markdown",
   "id": "2032a2ae",
   "metadata": {},
   "source": [
    "< [Table of Contents](#top) | [References](#references) >\n",
    "<a id=\"introductionDOM\"></a>\n",
    "***\n",
    "### DOM\n",
    "***"
   ]
  },
  {
   "cell_type": "markdown",
   "id": "de21dcd9",
   "metadata": {},
   "source": [
    "- the document object model ``DOM`` is how computer programs represent ``XML`` internally [2]"
   ]
  },
  {
   "cell_type": "markdown",
   "id": "a4ce58bf",
   "metadata": {},
   "source": [
    "- it allows programs to manipulate ``XML`` (add to / remove from) - obtaining the data from the ``XML`` so that it can analysed later [2]"
   ]
  },
  {
   "cell_type": "markdown",
   "id": "4592dc59",
   "metadata": {},
   "source": [
    "- provides a model of the ``XML`` as a structured group of nodes that have three properties: i) ``type``; ii) ``name`` and; iii) ``value`` - the node ``type`` property determines if it is an element / plaintext / comment / attribute - the node ``name`` property is basically the tag name or attribute name - the node ``value`` property is either the value of the text node / comment / the value of an attribute if its an attribute node [2]"
   ]
  },
  {
   "cell_type": "markdown",
   "id": "d3df911d",
   "metadata": {},
   "source": [
    "- programs can use the ``DOM`` to manipulate the ``XML`` (or ``HTML``) [2]"
   ]
  },
  {
   "cell_type": "markdown",
   "id": "8fd231f1",
   "metadata": {},
   "source": [
    "- using javascript can change ``HTML`` pages by manipulating the underlining ``DOM`` inside the browser - ``document.createElement`` creates a new element inside the ``HTML`` - ``document.createTextNode`` creates new items of text - ``document.element.appendChild`` adds to the ``DOM`` - ``document.getElementByID`` allow access to particular elements of the ``DOM`` to analyse [2]"
   ]
  },
  {
   "cell_type": "markdown",
   "id": "3d5f5c72",
   "metadata": {},
   "source": [
    "< [Table of Contents](#top) | [References](#references) >\n",
    "<a id=\"DOMObjectDocument\"></a>\n",
    "***\n",
    "###### ``document``\n",
    "***"
   ]
  },
  {
   "cell_type": "markdown",
   "id": "379e148a",
   "metadata": {},
   "source": [
    "- object ``document`` represents the web page - to access any ``HTML`` element start with accessing the object ``document`` [6]"
   ]
  },
  {
   "cell_type": "markdown",
   "id": "d1b5f163",
   "metadata": {},
   "source": [
    "< [Table of Contents](#top) | [References](#references) >\n",
    "<a id=\"DOMObjectDocumentMethodgetElementById\"></a>\n",
    "***\n",
    "###### ``getElementById``\n",
    "***"
   ]
  },
  {
   "cell_type": "markdown",
   "id": "b4691753",
   "metadata": {},
   "source": [
    "- to find an element inside the ``HTML`` tree use the object ``document`` method ``getElementById`` [6]"
   ]
  },
  {
   "cell_type": "markdown",
   "id": "a84f40e9",
   "metadata": {},
   "source": [
    "- returns the element that has the attribute ``id`` with the specified value - this method is the most common method in the ``DOM`` and is used almost every time to manipulate or get information from an element on a ``document`` [6]"
   ]
  },
  {
   "cell_type": "markdown",
   "id": "4532119a",
   "metadata": {},
   "source": [
    "- to display something on the page need to find the element by giving it an ``id`` - a ``div`` given an ``id`` then this is the ``id`` of this particular ``div`` [6]\n",
    "\n",
    "```html\n",
    "<div id=\"someID\"></div>\n",
    "```"
   ]
  },
  {
   "cell_type": "markdown",
   "id": "973e297c",
   "metadata": {},
   "source": [
    "- using the object ``document`` method ``getElementById`` pass in the ``id`` of the element - can set the ``innerText`` (inner html) to be some kind of message [6]\n",
    "\n",
    "```html\n",
    "<script>\n",
    "    document.getElementById(\"someID\").innerText=\"some text\"\n",
    "</script>\n",
    "```"
   ]
  },
  {
   "cell_type": "code",
   "execution_count": 1,
   "id": "cf3f7752",
   "metadata": {},
   "outputs": [
    {
     "name": "stdout",
     "output_type": "stream",
     "text": [
      "Writing ele.html\n"
     ]
    }
   ],
   "source": [
    "%%writefile ele.html\n",
    "<!-- [6] -->\n",
    "<html>\n",
    "    <head>\n",
    "        <title>getElementById</title>       \n",
    "    </head>\n",
    "    </body>\n",
    "        <div id=\"messageOut1\">div 1</div>\n",
    "        <div id=\"messageOut2\">div 2</div>    \n",
    "        <div id=\"messageOut3\">div 3</div>        \n",
    "        <script>\n",
    "            document.getElementById(\"messageOut2\").innerText=\"Some Message\"\n",
    "        </script>\n",
    "    </body>\n",
    "</html>"
   ]
  },
  {
   "cell_type": "code",
   "execution_count": 2,
   "id": "d58f7ff1",
   "metadata": {},
   "outputs": [],
   "source": [
    "%%script bash\n",
    "start ele.html"
   ]
  },
  {
   "cell_type": "code",
   "execution_count": 3,
   "id": "953f2331",
   "metadata": {},
   "outputs": [],
   "source": [
    "%%script bash\n",
    "rm -rf ele.html"
   ]
  },
  {
   "cell_type": "code",
   "execution_count": 4,
   "id": "09e554d8",
   "metadata": {},
   "outputs": [],
   "source": [
    "exit()"
   ]
  },
  {
   "cell_type": "markdown",
   "id": "96bff790",
   "metadata": {},
   "source": [
    "***\n",
    "### END"
   ]
  },
  {
   "cell_type": "markdown",
   "id": "77b0b8aa",
   "metadata": {},
   "source": [
    "< [Table of Contents](#top) | [References](#references) >\n",
    "<a id=\"introductionHTML\"></a>\n",
    "***\n",
    "### HTML\n",
    "***"
   ]
  },
  {
   "cell_type": "code",
   "execution_count": null,
   "id": "733d6a96",
   "metadata": {},
   "outputs": [],
   "source": [
    "fFile(nParPath=\"./hide/01-XMLandDOM/DR3 html - 26-09-2019.mp4\")"
   ]
  },
  {
   "cell_type": "markdown",
   "id": "43c9f131",
   "metadata": {},
   "source": [
    "- first standard way of transferring data in a human readable way from one machine to another [2]"
   ]
  },
  {
   "cell_type": "markdown",
   "id": "02b29726",
   "metadata": {},
   "source": [
    "- invented by Tim Berners Lee in Cern because he was tired of people having different machines from different countries and he wanted some way to share documents together [2]"
   ]
  },
  {
   "cell_type": "markdown",
   "id": "8b353dad",
   "metadata": {},
   "source": [
    "- invented the first markup language ``HTML`` as a means to encode the data inside documents meaning any particular machine could then read those documents on browsers designed for each machine [2] "
   ]
  },
  {
   "cell_type": "code",
   "execution_count": 1,
   "id": "b1c9fe17",
   "metadata": {},
   "outputs": [
    {
     "name": "stdout",
     "output_type": "stream",
     "text": [
      "Writing f.html\n"
     ]
    }
   ],
   "source": [
    "%%writefile f.html\n",
    "<!-- [3] -->\n",
    "<html>\n",
    "    <head>\n",
    "        <title>first page</title>\n",
    "    </head>\n",
    "    <body>\n",
    "        <h1>f page</h1>\n",
    "        <p>f para</p>\n",
    "    </body>\n",
    "</html>"
   ]
  },
  {
   "cell_type": "code",
   "execution_count": 2,
   "id": "984c39a7",
   "metadata": {},
   "outputs": [],
   "source": [
    "%%script bash\n",
    "start f.html"
   ]
  },
  {
   "cell_type": "code",
   "execution_count": 3,
   "id": "5a0bb2b4",
   "metadata": {},
   "outputs": [],
   "source": [
    "%%script bash\n",
    "rm -rf f.html"
   ]
  },
  {
   "cell_type": "code",
   "execution_count": 4,
   "id": "ec7c2fec",
   "metadata": {},
   "outputs": [],
   "source": [
    "exit()"
   ]
  },
  {
   "cell_type": "markdown",
   "id": "0d729d51",
   "metadata": {},
   "source": [
    "< [Table of Contents](#top) | [References](#references) >\n",
    "<a id=\"introductionHTMLTag\"></a>\n",
    "***\n",
    "###### Tag\n",
    "***"
   ]
  },
  {
   "cell_type": "markdown",
   "id": "d1d214e0",
   "metadata": {},
   "source": [
    "&#x1F6A7;"
   ]
  },
  {
   "cell_type": "markdown",
   "id": "1249846e",
   "metadata": {},
   "source": [
    "< [Table of Contents](#top) | [References](#references) >\n",
    "<a id=\"introductionHTMLTagTable\"></a>\n",
    "***\n",
    "###### ```table```\n",
    "***"
   ]
  },
  {
   "cell_type": "code",
   "execution_count": 1,
   "id": "e5770637",
   "metadata": {},
   "outputs": [
    {
     "name": "stdout",
     "output_type": "stream",
     "text": [
      "Writing t.html\n"
     ]
    }
   ],
   "source": [
    "%%writefile t.html\n",
    "<!-- [3] --->\n",
    "<html>\n",
    "    <head>\n",
    "        <title>table</title>\n",
    "    </head>\n",
    "    <body>\n",
    "        <h1>a table</h1>\n",
    "        <table>\n",
    "            <tr>\n",
    "                <th>id</th>\n",
    "                <th>name</th>\n",
    "                <th>age</th>                \n",
    "            </tr>\n",
    "            <tr>\n",
    "                <td>1</td>\n",
    "                <td>joe</td>\n",
    "                <td>46</td>\n",
    "                <td>46</td>                \n",
    "            </tr>\n",
    "            <tr>\n",
    "                <td>2</td>\n",
    "                <td>Mary</td>\n",
    "                <td>46</td>\n",
    "            </tr> \n",
    "            <tr>\n",
    "                <td>3</td>\n",
    "                <td>mick</td>\n",
    "                <td>46</td>\n",
    "            </tr> \n",
    "            <tr>\n",
    "                <td>45</td>\n",
    "                <td>joe</td>\n",
    "                <td>46</td>\n",
    "            </tr>             \n",
    "        </table>\n",
    "    </body>\n",
    "</html>"
   ]
  },
  {
   "cell_type": "code",
   "execution_count": 2,
   "id": "0c41d501",
   "metadata": {},
   "outputs": [],
   "source": [
    "%%script bash\n",
    "start t.html"
   ]
  },
  {
   "cell_type": "code",
   "execution_count": 3,
   "id": "e51122a8",
   "metadata": {},
   "outputs": [],
   "source": [
    "exit()"
   ]
  },
  {
   "cell_type": "markdown",
   "id": "47550bd8",
   "metadata": {},
   "source": [
    "< [Table of Contents](#top) | [References](#references) >\n",
    "<a id=\"introductionHTMLTagForm\"></a>\n",
    "***\n",
    "###### ```form```\n",
    "***"
   ]
  },
  {
   "cell_type": "markdown",
   "id": "59dec883",
   "metadata": {},
   "source": [
    "- attributes ``action`` and ``method`` - the ``action`` attribute calls a page on button click - the ``method`` (``GET`` / ``POST``) attribute specifies ``HTTP`` method to be used when submitting the form data which is the parameter appearing after the ``?`` in the URL when the page is rendered [3]\n",
    "\n",
    "```html\n",
    "<form action=\"t.html\" method=\"GET\">\n",
    "```"
   ]
  },
  {
   "cell_type": "markdown",
   "id": "5a26fd96",
   "metadata": {},
   "source": [
    "- ``input`` attribute ``value`` is the default value [3]\n",
    "\n",
    "```html\n",
    "<input type=\"text\" value=\"Joe\">\n",
    "```"
   ]
  },
  {
   "cell_type": "markdown",
   "id": "a738eea7",
   "metadata": {},
   "source": [
    "- ``input`` attribute ``name`` is the value of the parameter ``firstName`` (user input) [3]\n",
    "\n",
    "```html\n",
    "<input type=\"text\" value=\"Joe\" name=\"firstName\">\n",
    "```"
   ]
  },
  {
   "cell_type": "code",
   "execution_count": 1,
   "id": "18695b13",
   "metadata": {},
   "outputs": [
    {
     "name": "stdout",
     "output_type": "stream",
     "text": [
      "Writing f.html\n"
     ]
    }
   ],
   "source": [
    "%%writefile f.html\n",
    "<!-- [3] -->\n",
    "<html>\n",
    "    <head>\n",
    "        <title>a form</title>\n",
    "    </head>\n",
    "    <body>\n",
    "        <h1>form</h1>\n",
    "        <form action=\"t.html\" method=\"GET\">\n",
    "        name <input type=\"text\" value=\"Joe\" name=\"firstName\"></input><br/>\n",
    "        age <input type=\"number\"></input><br/>\n",
    "        county\n",
    "            <select name=\"county\">\n",
    "                <option value=\"g\">Galway</option>\n",
    "                <option value=\"c\">Cork</option>\n",
    "                <option value=\"d\">Dublin</option>\n",
    "            </select>\n",
    "            <button>go</button>\n",
    "        </form>\n",
    "    </body>\n",
    "</html>"
   ]
  },
  {
   "cell_type": "code",
   "execution_count": 2,
   "id": "ab070c0a",
   "metadata": {},
   "outputs": [],
   "source": [
    "%%script bash\n",
    "start f.html"
   ]
  },
  {
   "cell_type": "code",
   "execution_count": 3,
   "id": "64562eed",
   "metadata": {},
   "outputs": [],
   "source": [
    "%%script bash\n",
    "rm -rf t.html f.html"
   ]
  },
  {
   "cell_type": "code",
   "execution_count": 4,
   "id": "ac59b426",
   "metadata": {},
   "outputs": [],
   "source": [
    "exit()"
   ]
  },
  {
   "cell_type": "markdown",
   "id": "b82210e7",
   "metadata": {},
   "source": [
    "< [Table of Contents](#top) | [References](#references) >\n",
    "<a id=\"introductionHTMLTagDiv\"></a>\n",
    "***\n",
    "###### ```div```\n",
    "***"
   ]
  },
  {
   "cell_type": "markdown",
   "id": "9b5ee693",
   "metadata": {},
   "source": [
    "- group together other elements [3] (area on the page) [4]"
   ]
  },
  {
   "cell_type": "markdown",
   "id": "daa39d53",
   "metadata": {},
   "source": [
    "- attribute ``id`` used to find area (to either create / view / delete / or do different things) - handy to have the page divided into different sections [4]"
   ]
  },
  {
   "cell_type": "code",
   "execution_count": 1,
   "id": "19b3e07f",
   "metadata": {},
   "outputs": [
    {
     "name": "stdout",
     "output_type": "stream",
     "text": [
      "Writing d.html\n"
     ]
    }
   ],
   "source": [
    "%%writefile d.html\n",
    "<!-- [4] -->\n",
    "<html>\n",
    "    <head>\n",
    "        <title>div</title>\n",
    "    </head>\n",
    "    <body>\n",
    "        <h1>header</h1>\n",
    "        <div>area 1</div>\n",
    "        <div>area 2</div>\n",
    "        <div>area 3</div>\n",
    "    </body>\n",
    "<html>"
   ]
  },
  {
   "cell_type": "code",
   "execution_count": 2,
   "id": "7b5bb12d",
   "metadata": {},
   "outputs": [],
   "source": [
    "%%script bash\n",
    "start d.html"
   ]
  },
  {
   "cell_type": "code",
   "execution_count": 3,
   "id": "69a49e88",
   "metadata": {},
   "outputs": [],
   "source": [
    "%%script bash\n",
    "rm -rf d.html"
   ]
  },
  {
   "cell_type": "code",
   "execution_count": 4,
   "id": "66f16a5d",
   "metadata": {},
   "outputs": [],
   "source": [
    "exit()"
   ]
  },
  {
   "cell_type": "markdown",
   "id": "03fd0220",
   "metadata": {},
   "source": [
    "< [Table of Contents](#top) | [References](#references) >\n",
    "<a id=\"introductionscript\"></a>\n",
    "***\n",
    "###### ``script``\n",
    "***"
   ]
  },
  {
   "cell_type": "markdown",
   "id": "f4431dfa",
   "metadata": {},
   "source": [
    "- [javascript](#javascript) put between ``script`` - these tags can be either defined at the top of the page ``head`` or put at the bottom of the ``body`` and gets run as the browser loads in the code [6]"
   ]
  },
  {
   "cell_type": "markdown",
   "id": "dea6377b",
   "metadata": {},
   "source": [
    "< [Table of Contents](#top) | [References](#references) >\n",
    "<a id=\"introductionHTMLAttribute\"></a>\n",
    "***\n",
    "###### Attribute\n",
    "***"
   ]
  },
  {
   "cell_type": "markdown",
   "id": "6039c342",
   "metadata": {},
   "source": [
    "- attributes ``id`` and ``class`` are not used for the structure of the page but used by ``CSS`` and ``JS`` in order to identify individual elements inside the page [3]"
   ]
  },
  {
   "cell_type": "markdown",
   "id": "c42b1658",
   "metadata": {},
   "source": [
    "< [Table of Contents](#top) | [References](#references) >\n",
    "<a id=\"introductionHTMLid\"></a>\n",
    "***\n",
    "###### ``id``\n",
    "***"
   ]
  },
  {
   "cell_type": "markdown",
   "id": "93da3fe8",
   "metadata": {},
   "source": [
    "- specify a unique ``id`` for ``HTML`` element [6]"
   ]
  },
  {
   "cell_type": "markdown",
   "id": "77fd41b7",
   "metadata": {},
   "source": [
    "< [Table of Contents](#top) | [References](#references) >\n",
    "<a id=\"introductionHTMLclass\"></a>\n",
    "***\n",
    "###### ``class``\n",
    "***"
   ]
  },
  {
   "cell_type": "markdown",
   "id": "e78542e3",
   "metadata": {},
   "source": [
    "&#x1F6A7;"
   ]
  },
  {
   "cell_type": "markdown",
   "id": "d48d072a",
   "metadata": {},
   "source": [
    "< [Table of Contents](#top) | [References](#references) >\n",
    "<a id=\"introductionHTMLonclick\"></a>\n",
    "***\n",
    "###### ``onclick``\n",
    "***"
   ]
  },
  {
   "cell_type": "markdown",
   "id": "f2090694",
   "metadata": {},
   "source": [
    "&#x1F6A7; "
   ]
  },
  {
   "cell_type": "markdown",
   "id": "9c015c45",
   "metadata": {},
   "source": [
    "- [JS](#javascriptAttributeHTMLonclick)"
   ]
  },
  {
   "cell_type": "markdown",
   "id": "2e1b1839",
   "metadata": {},
   "source": [
    "< [Table of Contents](#top) | [References](#references) >\n",
    "<a id=\"introductionHTMLstyle\"></a>\n",
    "***\n",
    "###### ``style``\n",
    "***"
   ]
  },
  {
   "cell_type": "markdown",
   "id": "c2e6338c",
   "metadata": {},
   "source": [
    "&#x1F6A7; "
   ]
  },
  {
   "cell_type": "markdown",
   "id": "f1eaee7a",
   "metadata": {},
   "source": [
    "- [CSS](#introductionCSSstyle)"
   ]
  },
  {
   "cell_type": "markdown",
   "id": "ef6a29bc",
   "metadata": {},
   "source": [
    "< [Table of Contents](#top) | [References](#references) >\n",
    "<a id=\"introductionscriptAPI\"></a>\n",
    "***\n",
    "###### API\n",
    "***"
   ]
  },
  {
   "cell_type": "markdown",
   "id": "4df4a16b",
   "metadata": {},
   "source": [
    "&#x1F6A7;"
   ]
  },
  {
   "cell_type": "markdown",
   "id": "1bb93a04",
   "metadata": {},
   "source": [
    "< [Table of Contents](#top) | [References](#references) >\n",
    "<a id=\"introductionscriptAPIconsole\"></a>\n",
    "***\n",
    "###### ``console``\n",
    "***"
   ]
  },
  {
   "cell_type": "markdown",
   "id": "62ec966b",
   "metadata": {},
   "source": [
    "- object ``console`` method ``log`` writes a message to the console [[w3schools](https://web.archive.org/web/20201010090446/https://www.w3schools.com/jsref/met_console_log.asp)]"
   ]
  },
  {
   "cell_type": "markdown",
   "id": "22005d56",
   "metadata": {},
   "source": [
    "- print to the console and not put out to the web page itself (developer tools - console) [6]"
   ]
  },
  {
   "cell_type": "code",
   "execution_count": 1,
   "id": "c35bea04",
   "metadata": {},
   "outputs": [
    {
     "name": "stdout",
     "output_type": "stream",
     "text": [
      "Writing c.html\n"
     ]
    }
   ],
   "source": [
    "%%writefile c.html\n",
    "<!-- [6] -->\n",
    "<meta charset=\"UTF-8\">\n",
    "<html>\n",
    "    <head>\n",
    "        <title>Testing</title>\n",
    "    </head>\n",
    "    </body>\n",
    "        <script>\n",
    "            <!-- DOM - object console - method log -->\n",
    "            console.log(\"Test\")\n",
    "        </script>\n",
    "    </body>\n",
    "</html>"
   ]
  },
  {
   "cell_type": "code",
   "execution_count": 2,
   "id": "c13786fc",
   "metadata": {},
   "outputs": [],
   "source": [
    "%%script bash\n",
    "start c.html"
   ]
  },
  {
   "cell_type": "markdown",
   "id": "3f0de3b5",
   "metadata": {},
   "source": [
    "![api](https://github.com/SeanOhAileasa/SeanOhAileasa/blob/master/rc/drp/api/api.png?raw=true)"
   ]
  },
  {
   "cell_type": "code",
   "execution_count": 3,
   "id": "d25b6769",
   "metadata": {},
   "outputs": [],
   "source": [
    "%%script bash\n",
    "rm -rf c.html"
   ]
  },
  {
   "cell_type": "code",
   "execution_count": 4,
   "id": "319f040b",
   "metadata": {},
   "outputs": [],
   "source": [
    "exit()"
   ]
  },
  {
   "cell_type": "markdown",
   "id": "86194942",
   "metadata": {},
   "source": [
    "< [Table of Contents](#top) | [References](#references) >\n",
    "<a id=\"introductionHTMLTagTableFormLAB\"></a>\n",
    "***\n",
    "###### Lab\n",
    "***"
   ]
  },
  {
   "cell_type": "code",
   "execution_count": null,
   "id": "ae49bfb3",
   "metadata": {},
   "outputs": [],
   "source": [
    "fFile(nParPath=\"./hide/01-XMLandDOM/DR3b Lab01-html doing - 26-09-2019.mp4\")\n",
    "fFile(nParPath=\"./hide/01-XMLandDOM/Lab01-html.pdf\")"
   ]
  },
  {
   "cell_type": "markdown",
   "id": "ac63e6d1",
   "metadata": {},
   "source": [
    "- create web page ``carviewer.html`` [4]"
   ]
  },
  {
   "cell_type": "markdown",
   "id": "dcd66330",
   "metadata": {},
   "source": [
    "![carviewer](https://github.com/SeanOhAileasa/SeanOhAileasa/blob/master/rc/drp/html/carviewer.png?raw=true)"
   ]
  },
  {
   "cell_type": "markdown",
   "id": "c659bcfa",
   "metadata": {},
   "source": [
    "- standard tags ``head`` and ``body`` [4]"
   ]
  },
  {
   "cell_type": "code",
   "execution_count": 1,
   "id": "ccc316ef",
   "metadata": {},
   "outputs": [
    {
     "name": "stdout",
     "output_type": "stream",
     "text": [
      "Writing carviewer.html\n"
     ]
    }
   ],
   "source": [
    "%%writefile carviewer.html\n",
    "<!-- [4] -->\n",
    "<html>\n",
    "    <head>\n",
    "        <title>View cars</title>\n",
    "    </head>\n",
    "    <body>\n",
    "    </body>\n",
    "</html>"
   ]
  },
  {
   "cell_type": "code",
   "execution_count": 2,
   "id": "9b3c6968",
   "metadata": {},
   "outputs": [],
   "source": [
    "%%script bash\n",
    "start carviewer.html"
   ]
  },
  {
   "cell_type": "markdown",
   "id": "85f8d38a",
   "metadata": {},
   "source": [
    "- header tag ``h1`` and three division tags ``div`` for i) button and ii) table and; iii) form [4]"
   ]
  },
  {
   "cell_type": "code",
   "execution_count": 3,
   "id": "49111051",
   "metadata": {},
   "outputs": [
    {
     "name": "stdout",
     "output_type": "stream",
     "text": [
      "Overwriting carviewer.html\n"
     ]
    }
   ],
   "source": [
    "%%writefile carviewer.html\n",
    "<!-- [4] -->\n",
    "<html>\n",
    "    <head>\n",
    "        <title>View cars</title>\n",
    "    </head>\n",
    "    <body>\n",
    "        <h1>Cars</h1>\n",
    "        <div>create button</div>\n",
    "        <div>table</div>\n",
    "        <div>form</div>\n",
    "    </body>\n",
    "</html>"
   ]
  },
  {
   "cell_type": "code",
   "execution_count": 4,
   "id": "d34cf7b9",
   "metadata": {},
   "outputs": [],
   "source": [
    "%%script bash\n",
    "start carviewer.html"
   ]
  },
  {
   "cell_type": "markdown",
   "id": "114e468d",
   "metadata": {},
   "source": [
    "- code ``create button`` putting attribute ``id`` later [4]"
   ]
  },
  {
   "cell_type": "code",
   "execution_count": 5,
   "id": "bfcf685e",
   "metadata": {},
   "outputs": [
    {
     "name": "stdout",
     "output_type": "stream",
     "text": [
      "Overwriting carviewer.html\n"
     ]
    }
   ],
   "source": [
    "%%writefile carviewer.html\n",
    "<!-- [4] -->\n",
    "<html>\n",
    "    <head>\n",
    "        <title>View cars</title>\n",
    "    </head>\n",
    "    <body>\n",
    "        <h1>Cars</h1>\n",
    "        <div><button>Create</button></div>\n",
    "        <div>table</div>\n",
    "        <div>form</div>\n",
    "    </body>\n",
    "</html>"
   ]
  },
  {
   "cell_type": "code",
   "execution_count": 6,
   "id": "b757c378",
   "metadata": {},
   "outputs": [],
   "source": [
    "%%script bash\n",
    "start carviewer.html"
   ]
  },
  {
   "cell_type": "markdown",
   "id": "1d34eb90",
   "metadata": {},
   "source": [
    "- code ``table`` by first specifying the headers ``th`` and include the attribute ``border`` in order to see the table [4]"
   ]
  },
  {
   "cell_type": "code",
   "execution_count": 7,
   "id": "9d3d9b44",
   "metadata": {},
   "outputs": [
    {
     "name": "stdout",
     "output_type": "stream",
     "text": [
      "Overwriting carviewer.html\n"
     ]
    }
   ],
   "source": [
    "%%writefile carviewer.html\n",
    "<!-- [4] -->\n",
    "<html>\n",
    "    <head>\n",
    "        <title>View cars</title>\n",
    "    </head>\n",
    "    <body>\n",
    "        <h1>Cars</h1>\n",
    "        <div><button>Create</button></div>\n",
    "        <div>\n",
    "            <table border=\"1\">\n",
    "            <tr>\n",
    "                <th>Reg</th>\n",
    "                <th>Make</th>\n",
    "                <th>Model</th>\n",
    "                <th>Price</th>\n",
    "                <th>Update</th>\n",
    "                <th>Delete</th>\n",
    "            </tr>\n",
    "        </div>\n",
    "        <div>form</div>\n",
    "    </body>\n",
    "</html>"
   ]
  },
  {
   "cell_type": "code",
   "execution_count": 8,
   "id": "ed3b44ab",
   "metadata": {},
   "outputs": [],
   "source": [
    "%%script bash\n",
    "start carviewer.html"
   ]
  },
  {
   "cell_type": "markdown",
   "id": "bed6cc0c",
   "metadata": {},
   "source": [
    "- add each row including ``button`` to update / delete [4]"
   ]
  },
  {
   "cell_type": "code",
   "execution_count": 9,
   "id": "7cea7c20",
   "metadata": {},
   "outputs": [
    {
     "name": "stdout",
     "output_type": "stream",
     "text": [
      "Overwriting carviewer.html\n"
     ]
    }
   ],
   "source": [
    "%%writefile carviewer.html\n",
    "<!-- [4] -->\n",
    "<html>\n",
    "    <head>\n",
    "        <title>View cars</title>\n",
    "    </head>\n",
    "    <body>\n",
    "        <h1>Cars</h1>\n",
    "        <div> <button>Create</button> </div>\n",
    "        <div>\n",
    "            <table border=\"1\">\n",
    "                <tr>\n",
    "                    <th>Reg</th>\n",
    "                    <th>Make</th>\n",
    "                    <th>Model</th>\n",
    "                    <th>Price</th>\n",
    "                    <th>Update</th>\n",
    "                    <th>Delete</th>\n",
    "                </tr>\n",
    "                <tr>\n",
    "                    <td>191 MO 123</td>\n",
    "                    <td>Ford</td>\n",
    "                    <td>Modeo</td>\n",
    "                    <td>25,000</td>\n",
    "                    <td><button>Update</button></td>\n",
    "                    <td><button>Delete</button></td>                \n",
    "                </tr>\n",
    "                <tr>\n",
    "                    <td>12 D 123</td>\n",
    "                    <td>Fiat</td>\n",
    "                    <td>Punto</td>\n",
    "                    <td>4,000</td>\n",
    "                    <td><button>Update</button></td>\n",
    "                    <td><button>Delete</button></td>                \n",
    "                </tr>\n",
    "                <tr>\n",
    "                    <td>08 G 123</td>\n",
    "                    <td>Nissan</td>\n",
    "                    <td>Almera</td>\n",
    "                    <td>500</td>\n",
    "                    <td><button>Update</button></td>\n",
    "                    <td><button>Delete</button></td>                \n",
    "                </tr>\n",
    "            </table>\n",
    "        </div>\n",
    "        <div>form</div>\n",
    "    </body>\n",
    "<html>"
   ]
  },
  {
   "cell_type": "code",
   "execution_count": 10,
   "id": "c249c6e4",
   "metadata": {},
   "outputs": [],
   "source": [
    "%%script bash\n",
    "start carviewer.html"
   ]
  },
  {
   "cell_type": "markdown",
   "id": "0fc8af03",
   "metadata": {},
   "source": [
    "- code the ``form`` albeit instead using ``div`` (not need tag ``form``) - at the moment only require the inputs given this is not going to be submitting to the server (want to look nice - updated later with javascript [4]"
   ]
  },
  {
   "cell_type": "code",
   "execution_count": 11,
   "id": "3af154e2",
   "metadata": {},
   "outputs": [
    {
     "name": "stdout",
     "output_type": "stream",
     "text": [
      "Overwriting carviewer.html\n"
     ]
    }
   ],
   "source": [
    "%%writefile carviewer.html\n",
    "<!-- [4] -->\n",
    "<html>\n",
    "    <head>\n",
    "        <title>View cars</title>\n",
    "    </head>\n",
    "    <body>\n",
    "        <h1>Cars</h1>\n",
    "        <div> <button>Create</button> </div>\n",
    "        <div>\n",
    "            <table border=\"1\">\n",
    "                <tr>\n",
    "                    <th>Reg</th>\n",
    "                    <th>Make</th>\n",
    "                    <th>Model</th>\n",
    "                    <th>Price</th>\n",
    "                    <th>Update</th>\n",
    "                    <th>Delete</th>\n",
    "                </tr>\n",
    "                <tr>\n",
    "                    <td>191 MO 123</td>\n",
    "                    <td>Ford</td>\n",
    "                    <td>Modeo</td>\n",
    "                    <td>25,000</td>\n",
    "                    <td><button>Update</button></td>\n",
    "                    <td><button>Delete</button></td>                \n",
    "                </tr>\n",
    "                <tr>\n",
    "                    <td>12 D 123</td>\n",
    "                    <td>Fiat</td>\n",
    "                    <td>Punto</td>\n",
    "                    <td>4,000</td>\n",
    "                    <td><button>Update</button></td>\n",
    "                    <td><button>Delete</button></td>                \n",
    "                </tr>\n",
    "                <tr>\n",
    "                    <td>08 G 123</td>\n",
    "                    <td>Nissan</td>\n",
    "                    <td>Almera</td>\n",
    "                    <td>500</td>\n",
    "                    <td><button>Update</button></td>\n",
    "                    <td><button>Delete</button></td>                \n",
    "                </tr>\n",
    "            </table>\n",
    "        </div>\n",
    "        <div>\n",
    "            Reg<input type=\"text\" name=\"Reg\"/><br/>\n",
    "            Make\n",
    "                <select name=\"make\">\n",
    "                    <option value=\"Ford\">Ford</option>\n",
    "                    <option value=\"Fiat\">Fiat</option>\n",
    "                    <option value=\"Nissan\">Nissan</option>\n",
    "                </select><br/>\n",
    "            Model<input type=\"text\" name=\"model\"><br/>\n",
    "            Price<input type=\"number\" name=\"price\"><br/>\n",
    "        </div>\n",
    "    </body>\n",
    "<html>"
   ]
  },
  {
   "cell_type": "code",
   "execution_count": 12,
   "id": "8c25d643",
   "metadata": {},
   "outputs": [],
   "source": [
    "%%script bash\n",
    "start carviewer.html"
   ]
  },
  {
   "cell_type": "markdown",
   "id": "7df0540f",
   "metadata": {},
   "source": [
    "- create two buttons [4]"
   ]
  },
  {
   "cell_type": "markdown",
   "id": "b0d0594d",
   "metadata": {},
   "source": [
    "- using ``span`` means do not put in any linebreak - putting the buttons within ``span`` given the need to be able to find these later on with javascript because only one of these buttons will be displayed depending on whether the form is used to update the car or delete the car [4]"
   ]
  },
  {
   "cell_type": "code",
   "execution_count": 13,
   "id": "7832f6ad",
   "metadata": {},
   "outputs": [
    {
     "name": "stdout",
     "output_type": "stream",
     "text": [
      "Overwriting carviewer.html\n"
     ]
    }
   ],
   "source": [
    "%%writefile carviewer.html\n",
    "<!-- [4] -->\n",
    "<html>\n",
    "    <head>\n",
    "        <title>View cars</title>\n",
    "    </head>\n",
    "    <body>\n",
    "        <h1>Cars</h1>\n",
    "        <div> <button>Create</button> </div>\n",
    "        <div>\n",
    "            <table border=\"1\">\n",
    "                <tr>\n",
    "                    <th>Reg</th>\n",
    "                    <th>Make</th>\n",
    "                    <th>Model</th>\n",
    "                    <th>Price</th>\n",
    "                    <th>Update</th>\n",
    "                    <th>Delete</th>\n",
    "                </tr>\n",
    "                <tr>\n",
    "                    <td>191 MO 123</td>\n",
    "                    <td>Ford</td>\n",
    "                    <td>Modeo</td>\n",
    "                    <td>25,000</td>\n",
    "                    <td><button>Update</button></td>\n",
    "                    <td><button>Delete</button></td>                \n",
    "                </tr>\n",
    "                <tr>\n",
    "                    <td>12 D 123</td>\n",
    "                    <td>Fiat</td>\n",
    "                    <td>Punto</td>\n",
    "                    <td>4,000</td>\n",
    "                    <td><button>Update</button></td>\n",
    "                    <td><button>Delete</button></td>                \n",
    "                </tr>\n",
    "                <tr>\n",
    "                    <td>08 G 123</td>\n",
    "                    <td>Nissan</td>\n",
    "                    <td>Almera</td>\n",
    "                    <td>500</td>\n",
    "                    <td><button>Update</button></td>\n",
    "                    <td><button>Delete</button></td>                \n",
    "                </tr>\n",
    "            </table>\n",
    "        </div>\n",
    "        <div>\n",
    "            <h2><span>Create a </span><span>update</span> Car</h2>        \n",
    "            Reg<input type=\"text\" name=\"Reg\"/><br/>\n",
    "            Make\n",
    "                <select name=\"make\">\n",
    "                    <option value=\"Ford\">Ford</option>\n",
    "                    <option value=\"Fiat\">Fiat</option>\n",
    "                    <option value=\"Nissan\">Nissan</option>\n",
    "                </select><br/>\n",
    "            Model<input type=\"text\" name=\"model\"><br/>\n",
    "            Price<input type=\"number\" name=\"price\"><br/>\n",
    "            <span><button>Create</button></span>\n",
    "            <span><button>Update</button></span>\n",
    "        </div>\n",
    "    </body>\n",
    "<html>"
   ]
  },
  {
   "cell_type": "code",
   "execution_count": 14,
   "id": "1302d527",
   "metadata": {},
   "outputs": [],
   "source": [
    "%%script bash\n",
    "start carviewer.html"
   ]
  },
  {
   "cell_type": "code",
   "execution_count": 15,
   "id": "1ae07746",
   "metadata": {},
   "outputs": [],
   "source": [
    "exit()"
   ]
  },
  {
   "cell_type": "markdown",
   "id": "e9d138bb",
   "metadata": {},
   "source": [
    "< [Table of Contents](#top) | [References](#references) >\n",
    "<a id=\"introductionHTMLTagTableFormLABBootstrap\"></a>\n",
    "***\n",
    "###### Bootstrap\n",
    "***"
   ]
  },
  {
   "cell_type": "markdown",
   "id": "5080f5e2",
   "metadata": {},
   "source": [
    "- import ``CSS`` to make everything look nice unless the ``HTML`` needs to be customised [4]"
   ]
  },
  {
   "cell_type": "code",
   "execution_count": 1,
   "id": "04d0f946",
   "metadata": {},
   "outputs": [
    {
     "name": "stdout",
     "output_type": "stream",
     "text": [
      "Overwriting carviewer.html\n"
     ]
    }
   ],
   "source": [
    "%%writefile carviewer.html\n",
    "<!-- [4] -->\n",
    "<html>\n",
    "    <head>\n",
    "        <title>View cars</title>\n",
    "        <!-- CSS only -->\n",
    "        <link href=\"https://cdn.jsdelivr.net/npm/bootstrap@5.0.2/dist/css/bootstrap.min.css\" rel=\"stylesheet\" integrity=\"sha384-EVSTQN3/azprG1Anm3QDgpJLIm9Nao0Yz1ztcQTwFspd3yD65VohhpuuCOmLASjC\" crossorigin=\"anonymous\">\n",
    "    </head>\n",
    "    <body>\n",
    "        <h1>Cars</h1>\n",
    "        <div> <button>Create</button> </div>\n",
    "        <div>\n",
    "            <table border=\"1\">\n",
    "                <tr>\n",
    "                    <th>Reg</th>\n",
    "                    <th>Make</th>\n",
    "                    <th>Model</th>\n",
    "                    <th>Price</th>\n",
    "                    <th>Update</th>\n",
    "                    <th>Delete</th>\n",
    "                </tr>\n",
    "                <tr>\n",
    "                    <td>191 MO 123</td>\n",
    "                    <td>Ford</td>\n",
    "                    <td>Modeo</td>\n",
    "                    <td>25,000</td>\n",
    "                    <td><button>Update</button></td>\n",
    "                    <td><button>Delete</button></td>                \n",
    "                </tr>\n",
    "                <tr>\n",
    "                    <td>12 D 123</td>\n",
    "                    <td>Fiat</td>\n",
    "                    <td>Punto</td>\n",
    "                    <td>4,000</td>\n",
    "                    <td><button>Update</button></td>\n",
    "                    <td><button>Delete</button></td>                \n",
    "                </tr>\n",
    "                <tr>\n",
    "                    <td>08 G 123</td>\n",
    "                    <td>Nissan</td>\n",
    "                    <td>Almera</td>\n",
    "                    <td>500</td>\n",
    "                    <td><button>Update</button></td>\n",
    "                    <td><button>Delete</button></td>                \n",
    "                </tr>\n",
    "            </table>\n",
    "        </div>\n",
    "        <div>\n",
    "            <h2><span>Create a </span><span>update</span> Car</h2>        \n",
    "            Reg<input type=\"text\" name=\"Reg\"/><br/>\n",
    "            Make\n",
    "                <select name=\"make\">\n",
    "                    <option value=\"Ford\">Ford</option>\n",
    "                    <option value=\"Fiat\">Fiat</option>\n",
    "                    <option value=\"Nissan\">Nissan</option>\n",
    "                </select><br/>\n",
    "            Model<input type=\"text\" name=\"model\"><br/>\n",
    "            Price<input type=\"number\" name=\"price\"><br/>\n",
    "            <span><button>Create</button></span>\n",
    "            <span><button>Update</button></span>\n",
    "        </div>\n",
    "    </body>\n",
    "<html>"
   ]
  },
  {
   "cell_type": "code",
   "execution_count": 2,
   "id": "71bf2c2e",
   "metadata": {},
   "outputs": [],
   "source": [
    "%%script bash\n",
    "start carviewer.html"
   ]
  },
  {
   "cell_type": "markdown",
   "id": "0bda1d23",
   "metadata": {},
   "source": [
    "![carviewer](https://github.com/SeanOhAileasa/SeanOhAileasa/blob/master/rc/drp/html/bbootstrap.png?raw=true)\n",
    "(***Before Bootstrap***)"
   ]
  },
  {
   "cell_type": "markdown",
   "id": "d3888825",
   "metadata": {},
   "source": [
    "![carviewer](https://github.com/SeanOhAileasa/SeanOhAileasa/blob/master/rc/drp/html/bootstrap.png?raw=true)\n",
    "(***After Bootstrap***)"
   ]
  },
  {
   "cell_type": "markdown",
   "id": "50eb8493",
   "metadata": {},
   "source": [
    "- using bootstrap to make the table look nicer via attribute name ``class`` value ``table`` [4]\n",
    "\n",
    "```html\n",
    "<table class=\"table\">\n",
    "```"
   ]
  },
  {
   "cell_type": "code",
   "execution_count": 3,
   "id": "c168e267",
   "metadata": {},
   "outputs": [
    {
     "name": "stdout",
     "output_type": "stream",
     "text": [
      "Overwriting carviewer.html\n"
     ]
    }
   ],
   "source": [
    "%%writefile carviewer.html\n",
    "<!-- [4] -->\n",
    "<html>\n",
    "    <head>\n",
    "        <title>View cars</title>\n",
    "        <!-- CSS only -->\n",
    "        <link href=\"https://cdn.jsdelivr.net/npm/bootstrap@5.0.2/dist/css/bootstrap.min.css\" rel=\"stylesheet\" integrity=\"sha384-EVSTQN3/azprG1Anm3QDgpJLIm9Nao0Yz1ztcQTwFspd3yD65VohhpuuCOmLASjC\" crossorigin=\"anonymous\">\n",
    "    </head>\n",
    "    <body>\n",
    "        <h1>Cars</h1>\n",
    "        <div> <button>Create</button> </div>\n",
    "        <div>\n",
    "            <table class=\"table\">\n",
    "                <tr>\n",
    "                    <th>Reg</th>\n",
    "                    <th>Make</th>\n",
    "                    <th>Model</th>\n",
    "                    <th>Price</th>\n",
    "                    <th>Update</th>\n",
    "                    <th>Delete</th>\n",
    "                </tr>\n",
    "                <tr>\n",
    "                    <td>191 MO 123</td>\n",
    "                    <td>Ford</td>\n",
    "                    <td>Modeo</td>\n",
    "                    <td>25,000</td>\n",
    "                    <td><button>Update</button></td>\n",
    "                    <td><button>Delete</button></td>                \n",
    "                </tr>\n",
    "                <tr>\n",
    "                    <td>12 D 123</td>\n",
    "                    <td>Fiat</td>\n",
    "                    <td>Punto</td>\n",
    "                    <td>4,000</td>\n",
    "                    <td><button>Update</button></td>\n",
    "                    <td><button>Delete</button></td>                \n",
    "                </tr>\n",
    "                <tr>\n",
    "                    <td>08 G 123</td>\n",
    "                    <td>Nissan</td>\n",
    "                    <td>Almera</td>\n",
    "                    <td>500</td>\n",
    "                    <td><button>Update</button></td>\n",
    "                    <td><button>Delete</button></td>                \n",
    "                </tr>\n",
    "            </table>\n",
    "        </div>\n",
    "        <div>\n",
    "            <h2><span>Create a </span><span>update</span> Car</h2>        \n",
    "            Reg<input type=\"text\" name=\"Reg\"/><br/>\n",
    "            Make\n",
    "                <select name=\"make\">\n",
    "                    <option value=\"Ford\">Ford</option>\n",
    "                    <option value=\"Fiat\">Fiat</option>\n",
    "                    <option value=\"Nissan\">Nissan</option>\n",
    "                </select><br/>\n",
    "            Model<input type=\"text\" name=\"model\"><br/>\n",
    "            Price<input type=\"number\" name=\"price\"><br/>\n",
    "            <span><button>Create</button></span>\n",
    "            <span><button>Update</button></span>\n",
    "        </div>\n",
    "    </body>\n",
    "<html>"
   ]
  },
  {
   "cell_type": "code",
   "execution_count": 4,
   "id": "d16c1004",
   "metadata": {},
   "outputs": [],
   "source": [
    "%%script bash\n",
    "start carviewer.html"
   ]
  },
  {
   "cell_type": "markdown",
   "id": "64fcfcd6",
   "metadata": {},
   "source": [
    "![tablebootstrap](https://github.com/SeanOhAileasa/SeanOhAileasa/blob/master/rc/drp/html/tablebootstrap.png?raw=true)\n",
    "(***Table Bootstrap***)"
   ]
  },
  {
   "cell_type": "code",
   "execution_count": 5,
   "id": "6f4d206b",
   "metadata": {},
   "outputs": [],
   "source": [
    "%%script bash\n",
    "rm -rf carviewer.html"
   ]
  },
  {
   "cell_type": "code",
   "execution_count": 6,
   "id": "606ec95a",
   "metadata": {},
   "outputs": [],
   "source": [
    "exit()"
   ]
  },
  {
   "cell_type": "markdown",
   "id": "3488c3ef",
   "metadata": {},
   "source": [
    "***\n",
    "### END"
   ]
  },
  {
   "cell_type": "markdown",
   "id": "1a1e7a51",
   "metadata": {},
   "source": [
    "< [Table of Contents](#top) | [References](#references) >\n",
    "<a id=\"introductionCSS\"></a>\n",
    "***\n",
    "### CSS\n",
    "***"
   ]
  },
  {
   "cell_type": "markdown",
   "id": "64c96147",
   "metadata": {},
   "source": [
    "- how an element looks can be defined in a number of different places either in another file or in the ``head`` or in the element itself [6]"
   ]
  },
  {
   "cell_type": "markdown",
   "id": "6788c8e6",
   "metadata": {},
   "source": [
    "- the definition thats closest to the element itself will override the others - if it is specified that the whole background should be blue in another file but in a particular element its specified the background should be red then that particular element will determine the background as red [6]"
   ]
  },
  {
   "cell_type": "markdown",
   "id": "664b9f32",
   "metadata": {},
   "source": [
    "< [Table of Contents](#top) | [References](#references) >\n",
    "<a id=\"introductionCSSstyle\"></a>\n",
    "***\n",
    "###### ``style`` (HTML Attribute)\n",
    "***"
   ]
  },
  {
   "cell_type": "markdown",
   "id": "ddd5e57a",
   "metadata": {},
   "source": [
    "&#x1F6A7;"
   ]
  },
  {
   "cell_type": "markdown",
   "id": "91211b4d",
   "metadata": {},
   "source": [
    "< [Table of Contents](#top) | [References](#references) >\n",
    "<a id=\"introductionCSSstyledisplay\"></a>\n",
    "***\n",
    "###### ``display``\n",
    "***"
   ]
  },
  {
   "cell_type": "markdown",
   "id": "088bcdf9",
   "metadata": {},
   "source": [
    "- to disable a button or a text area so that the user cannot actually interact with it (cannot type into it) use ``disabled`` [6]\n",
    "\n",
    "```html\n",
    "<input type=\"text\" value=\"blah\" disabled/>\n",
    "```"
   ]
  },
  {
   "cell_type": "markdown",
   "id": "3c9f8d64",
   "metadata": {},
   "source": [
    "- to make an element visible set the attribute ``style`` to ``display:block\"`` so the next element will be on a new line [6]\n",
    "\n",
    "```html\n",
    "<div style=\"display:block\">\n",
    "    text\n",
    "</div>\n",
    "```"
   ]
  },
  {
   "cell_type": "markdown",
   "id": "c538b27e",
   "metadata": {},
   "source": [
    "- ``display:inline`` shows the element on the same line or ``display:none`` hides the element [6]"
   ]
  },
  {
   "cell_type": "code",
   "execution_count": 1,
   "id": "9e7675b9",
   "metadata": {},
   "outputs": [
    {
     "name": "stdout",
     "output_type": "stream",
     "text": [
      "Writing s.html\n"
     ]
    }
   ],
   "source": [
    "%%writefile s.html\n",
    "<!-- [6] -->\n",
    "<html>\n",
    "    <head>\n",
    "        <title>Creating a div that is hidden</title>\n",
    "    </head>\n",
    "    </body>\n",
    "        <div>Text</div>\n",
    "    </body>\n",
    "</html>"
   ]
  },
  {
   "cell_type": "code",
   "execution_count": 2,
   "id": "0e032c5d",
   "metadata": {},
   "outputs": [],
   "source": [
    "%%script bash\n",
    "start s.html"
   ]
  },
  {
   "cell_type": "code",
   "execution_count": 3,
   "id": "b4a96723",
   "metadata": {},
   "outputs": [
    {
     "name": "stdout",
     "output_type": "stream",
     "text": [
      "Overwriting s.html\n"
     ]
    }
   ],
   "source": [
    "%%writefile s.html\n",
    "<!-- [6] -->\n",
    "<html>\n",
    "    <head>\n",
    "        <title>Creating a div that is hidden</title>\n",
    "    </head>\n",
    "    </body>\n",
    "        <div style=\"display:none\">Text</div>\n",
    "    </body>\n",
    "</html>"
   ]
  },
  {
   "cell_type": "code",
   "execution_count": 4,
   "id": "bff64381",
   "metadata": {},
   "outputs": [],
   "source": [
    "%%script bash\n",
    "start s.html"
   ]
  },
  {
   "cell_type": "code",
   "execution_count": 5,
   "id": "ded34099",
   "metadata": {},
   "outputs": [
    {
     "name": "stdout",
     "output_type": "stream",
     "text": [
      "Overwriting s.html\n"
     ]
    }
   ],
   "source": [
    "%%writefile s.html\n",
    "<!-- [6] -->\n",
    "<html>\n",
    "    <head>\n",
    "        <title>Creating a div that is hidden</title>\n",
    "    </head>\n",
    "    </body>\n",
    "        <div style=\"display:none\">div display:none...</div>\n",
    "        <div style=\"display:block\">div display:block...</div>\n",
    "        <div style=\"display:inline\">div display:inline...</div>\n",
    "        <div style=\"display:inline\">div display:inline...</div>\n",
    "    </body>\n",
    "</html>"
   ]
  },
  {
   "cell_type": "code",
   "execution_count": 6,
   "id": "08c98a18",
   "metadata": {},
   "outputs": [],
   "source": [
    "%%script bash\n",
    "start s.html"
   ]
  },
  {
   "cell_type": "code",
   "execution_count": 7,
   "id": "060766cb",
   "metadata": {},
   "outputs": [],
   "source": [
    "%%script bash\n",
    "rm -rf s.html"
   ]
  },
  {
   "cell_type": "code",
   "execution_count": 8,
   "id": "7522fbac",
   "metadata": {},
   "outputs": [],
   "source": [
    "exit()"
   ]
  },
  {
   "cell_type": "markdown",
   "id": "e573a16a",
   "metadata": {},
   "source": [
    "***\n",
    "### END"
   ]
  },
  {
   "cell_type": "markdown",
   "id": "a4cc6d11",
   "metadata": {},
   "source": [
    "< [Table of Contents](#top) | [References](#references) >\n",
    "<a id=\"javascript\"></a>\n",
    "***\n",
    "### JS\n",
    "***"
   ]
  },
  {
   "cell_type": "code",
   "execution_count": null,
   "id": "0bd54d68",
   "metadata": {},
   "outputs": [],
   "source": [
    "fFile(nParPath=\"./hide/02-JavaScript/DR2.1 Week02 Overview - 30-09-2020.mp4\")"
   ]
  },
  {
   "cell_type": "code",
   "execution_count": null,
   "id": "ed17e0a4",
   "metadata": {},
   "outputs": [],
   "source": [
    "fFile(nParPath=\"./hide/02-JavaScript/DR2.2 JavaScript part1 - 30-09-2020.mp4\")"
   ]
  },
  {
   "cell_type": "markdown",
   "id": "845568e7",
   "metadata": {},
   "source": [
    "- create a simple client-side web-application that can perform CRUD operations - later creating a server to store the information and link page via AJAX [5]"
   ]
  },
  {
   "cell_type": "markdown",
   "id": "7d2e4ff4",
   "metadata": {},
   "source": [
    "< [Table of Contents](#top) | [References](#references) >\n",
    "<a id=\"javascriptUserdefinedFunction\"></a>\n",
    "***\n",
    "###### Function\n",
    "***"
   ]
  },
  {
   "cell_type": "code",
   "execution_count": 1,
   "id": "55067277",
   "metadata": {},
   "outputs": [
    {
     "name": "stdout",
     "output_type": "stream",
     "text": [
      "Writing s.html\n"
     ]
    }
   ],
   "source": [
    "%%writefile s.html\n",
    "<!-- [6] -->\n",
    "<html>\n",
    "    <head>\n",
    "        <title>js</title>       \n",
    "    </head>\n",
    "    </body>\n",
    "        <script>\n",
    "            function fJS(msg)\n",
    "            {\n",
    "                console.log(\"Test \"+msg);\n",
    "            }\n",
    "            fJS(\"fJS\")\n",
    "        </script> \n",
    "    </body>\n",
    "</html>"
   ]
  },
  {
   "cell_type": "code",
   "execution_count": 2,
   "id": "ca94ac52",
   "metadata": {},
   "outputs": [],
   "source": [
    "%%script bash\n",
    "start s.html"
   ]
  },
  {
   "cell_type": "code",
   "execution_count": 3,
   "id": "1f7a67c9",
   "metadata": {},
   "outputs": [],
   "source": [
    "%%script bash\n",
    "rm -rf s.html"
   ]
  },
  {
   "cell_type": "code",
   "execution_count": 4,
   "id": "76506145",
   "metadata": {},
   "outputs": [],
   "source": [
    "exit()"
   ]
  },
  {
   "cell_type": "markdown",
   "id": "a6399e98",
   "metadata": {},
   "source": [
    "< [Table of Contents](#top) | [References](#references) >\n",
    "<a id=\"javascriptAttributeHTMLonclick\"></a>\n",
    "***\n",
    "###### ``onclick``\n",
    "***"
   ]
  },
  {
   "cell_type": "markdown",
   "id": "930d4ca5",
   "metadata": {},
   "source": [
    "- element (``div`` / ``button`` etc) attribute ``onclick`` call javascript function [6]"
   ]
  },
  {
   "cell_type": "code",
   "execution_count": 1,
   "id": "dbb51e7f",
   "metadata": {},
   "outputs": [
    {
     "name": "stdout",
     "output_type": "stream",
     "text": [
      "Writing o.html\n"
     ]
    }
   ],
   "source": [
    "%%writefile o.html\n",
    "<!-- [6] -->\n",
    "<html>\n",
    "    <head>\n",
    "        <title>js</title>       \n",
    "    </head>\n",
    "    </body>\n",
    "        <button onclick=\"fJS('fJS')\">refer console</button><br/>\n",
    "        \n",
    "        <input id=\"name\" type=\"text\" value=\"enter name\" /><br/>\n",
    "        <button onclick=\"fClick()\">click me</button><br/>\n",
    "        <div id=\"other\">div 1</div>\n",
    "        <div id=\"output\">output when \"click me\"</div>\n",
    "        <script>\n",
    "            function fJS(msg)\n",
    "            {\n",
    "                console.log(\"Test \"+msg);\n",
    "            }\n",
    "            function fClick()\n",
    "            {\n",
    "                var nOutput=document.getElementById(\"name\").value\n",
    "                document.getElementById(\"output\").innerText=nOutput\n",
    "            }\n",
    "        </script>\n",
    "    </body>\n",
    "</html>"
   ]
  },
  {
   "cell_type": "code",
   "execution_count": 2,
   "id": "3f3fb925",
   "metadata": {},
   "outputs": [],
   "source": [
    "%%script bash\n",
    "start o.html"
   ]
  },
  {
   "cell_type": "code",
   "execution_count": 3,
   "id": "4ac1ce80",
   "metadata": {},
   "outputs": [],
   "source": [
    "%%script bash\n",
    "rm -rf o.html"
   ]
  },
  {
   "cell_type": "code",
   "execution_count": 4,
   "id": "01d349bb",
   "metadata": {},
   "outputs": [],
   "source": [
    "exit()"
   ]
  },
  {
   "cell_type": "markdown",
   "id": "29f6e107",
   "metadata": {},
   "source": [
    "< [Table of Contents](#top) | [References](#references) >\n",
    "<a id=\"variablesifstatementsandforloopsinJavaScript\"></a>\n",
    "***\n",
    "###### Variables - if statements - for loops\n",
    "***"
   ]
  },
  {
   "cell_type": "code",
   "execution_count": null,
   "id": "da696cd1",
   "metadata": {},
   "outputs": [],
   "source": [
    "fFile(nParPath=\"./hide/02-JavaScript/DR2.3 JavaScript part2 - 30-09-2020.mp4\")"
   ]
  },
  {
   "cell_type": "markdown",
   "id": "cb1767b9",
   "metadata": {},
   "source": [
    "< [Table of Contents](#top) | [References](#references) >\n",
    "<a id=\"moremanipulationoftheDOMtree\"></a>\n",
    "***\n",
    "###### More manipulation of the DOM tree\n",
    "***"
   ]
  },
  {
   "cell_type": "code",
   "execution_count": null,
   "id": "ebe5a427",
   "metadata": {},
   "outputs": [],
   "source": [
    "fFile(nParPath=\"./hide/02-JavaScript/DR2.4 javascript part3 - 01-10-2020.mp4\")"
   ]
  },
  {
   "cell_type": "code",
   "execution_count": null,
   "id": "3f1a4470",
   "metadata": {},
   "outputs": [],
   "source": [
    "fFile(nParPath=\"./hide/02-JavaScript/DR2 javascript slides.pptx\")"
   ]
  },
  {
   "cell_type": "code",
   "execution_count": null,
   "id": "1807bebd",
   "metadata": {},
   "outputs": [],
   "source": [
    "fFile(nParPath=\"./hide/02-JavaScript/exercises.pdf\")\n",
    "fFile(nParPath=\"./hide/02-JavaScript/lab/exercise/\")\n",
    "fFile(nParPath=\"./hide/02-JavaScript/Lab02-JavaScript.pdf\")"
   ]
  },
  {
   "cell_type": "markdown",
   "id": "1c24e6f0",
   "metadata": {},
   "source": [
    "***\n",
    "### END"
   ]
  },
  {
   "cell_type": "markdown",
   "id": "e82e5f14",
   "metadata": {},
   "source": [
    "< [Table of Contents](#top) | [References](#references) >\n",
    "<a id=\"consumingXMLHTMLdatafromtheweb\"></a>\n",
    "***\n",
    "### Consuming XML/HTML data from the web\n",
    "***"
   ]
  },
  {
   "cell_type": "markdown",
   "id": "0199f71a",
   "metadata": {},
   "source": [
    "- extracting data from resources on the web that are stored in a XML or HTML format [1]"
   ]
  },
  {
   "cell_type": "code",
   "execution_count": null,
   "id": "42be1864",
   "metadata": {},
   "outputs": [],
   "source": [
    "fFile(nParPath=\"./hide/03-ConsumingXMLHTMLDataFromTheWeb/Wood Type - 07-10-2020.mp4\")"
   ]
  },
  {
   "cell_type": "markdown",
   "id": "e61ca824",
   "metadata": {},
   "source": [
    "< [Table of Contents](#top) | [References](#references) >\n",
    "<a id=\"consumingXMLHTMLdatafromthewebURLs\"></a>\n",
    "***\n",
    "###### URLs\n",
    "***"
   ]
  },
  {
   "cell_type": "code",
   "execution_count": null,
   "id": "65fad453",
   "metadata": {},
   "outputs": [],
   "source": [
    "fFile(nParPath=\"./hide/03-ConsumingXMLHTMLDataFromTheWeb/DR3.2 Theory-HTTP and URL - 09-10-2019.mp4\")\n",
    "fFile(nParPath=\"./hide/03-ConsumingXMLHTMLDataFromTheWeb/DR3.2 Theory-HTTP and URL.pptx\")"
   ]
  },
  {
   "cell_type": "markdown",
   "id": "b994acbd",
   "metadata": {},
   "source": [
    "< [Table of Contents](#top) | [References](#references) >\n",
    "<a id=\"lectureConsumingXMLandHTMLfromtheweb\"></a>\n",
    "***\n",
    "###### Consuming XML (and HTML) from the web\n",
    "***"
   ]
  },
  {
   "cell_type": "code",
   "execution_count": null,
   "id": "cf108407",
   "metadata": {},
   "outputs": [],
   "source": [
    "fFile(nParPath=\"./hide/03-ConsumingXMLHTMLDataFromTheWeb/DR3.3 consuming xml - 07-10-2020.mp4\")\n",
    "fFile(nParPath=\"./hide/03-ConsumingXMLHTMLDataFromTheWeb/DR3.3 consuming xml.pptx\")\n",
    "fFile(nParPath=\"./hide/03-ConsumingXMLHTMLDataFromTheWeb/Lab03a-trains.pdf\")"
   ]
  },
  {
   "cell_type": "markdown",
   "id": "c16c7246",
   "metadata": {},
   "source": [
    "< [Table of Contents](#top) | [References](#references) >\n",
    "<a id=\"webScrapping\"></a>\n",
    "***\n",
    "###### Web Scrapping\n",
    "***"
   ]
  },
  {
   "cell_type": "code",
   "execution_count": null,
   "id": "204f1324",
   "metadata": {},
   "outputs": [],
   "source": [
    "fFile(nParPath=\"./hide/03-ConsumingXMLHTMLDataFromTheWeb/DR3.4 Webscrapping - 07-10-2020.mp4\")\n",
    "fFile(nParPath=\"./hide/03-ConsumingXMLHTMLDataFromTheWeb/DR3.4 Webscrapping.pptx\")\n",
    "fFile(nParPath=\"./hide/03-ConsumingXMLHTMLDataFromTheWeb/Lab03b-web Scraping.pdf\")"
   ]
  },
  {
   "cell_type": "markdown",
   "id": "92682204",
   "metadata": {},
   "source": [
    "< [Table of Contents](#top) | [References](#references) >\n",
    "***\n",
    "###### References\n",
    "***"
   ]
  },
  {
   "cell_type": "markdown",
   "id": "77ee29c6",
   "metadata": {},
   "source": [
    "[http](https://www.jmarshall.com/easy/http/)\n",
    "\n",
    "[RSS](https://cyber.harvard.edu/rss/rss.html)\n",
    "\n",
    "[Tutorial: Web Scraping with Python Using Beautiful Soup](https://www.dataquest.io/blog/web-scraping-python-using-beautiful-soup)"
   ]
  },
  {
   "cell_type": "code",
   "execution_count": null,
   "id": "858dbeef",
   "metadata": {},
   "outputs": [],
   "source": [
    "fFile(nParPath=\"./hide/03-ConsumingXMLHTMLDataFromTheWeb/beautiful-soup-4.pdf\")"
   ]
  },
  {
   "cell_type": "markdown",
   "id": "9f9921f6",
   "metadata": {},
   "source": [
    "***\n",
    "### END"
   ]
  },
  {
   "cell_type": "markdown",
   "id": "4f6bd154",
   "metadata": {},
   "source": [
    "< [Table of Contents](#top) | [References](#references) >\n",
    "<a id=\"jSONAJAXandREST\"></a>\n",
    "***\n",
    "### JSON and AJAX and REST\n",
    "***"
   ]
  },
  {
   "cell_type": "code",
   "execution_count": null,
   "id": "4b2c25f9",
   "metadata": {},
   "outputs": [],
   "source": [
    "fFile(nParPath=\"./hide/04-JSONandAJAXandREST/DR4.1 Week04 overview - 16-10-2019.mp4\")"
   ]
  },
  {
   "cell_type": "markdown",
   "id": "312b842d",
   "metadata": {},
   "source": [
    "< [Table of Contents](#top) | [References](#references) >\n",
    "<a id=\"jSONAJAXandRESTHTTP\"></a>\n",
    "***\n",
    "###### HTTP\n",
    "***"
   ]
  },
  {
   "cell_type": "code",
   "execution_count": null,
   "id": "475c576e",
   "metadata": {},
   "outputs": [],
   "source": [
    "fFile(nParPath=\"./hide/04-JSONandAJAXandREST/DR4.2 HTTP 2 (methods and response codes) - 14-10-2020.mp4\")\n",
    "fFile(nParPath=\"./hide/04-JSONandAJAXandREST/DR4.2 HTTP2 methods and response codes slides.pptx\")"
   ]
  },
  {
   "cell_type": "markdown",
   "id": "dc214834",
   "metadata": {},
   "source": [
    "- ... [Form](#introductionHTMLTagForm)"
   ]
  },
  {
   "cell_type": "markdown",
   "id": "86cb74a3",
   "metadata": {},
   "source": [
    "< [Table of Contents](#top) | [References](#references) >\n",
    "<a id=\"jSONAJAXandRESTjson\"></a>\n",
    "***\n",
    "###### JSON\n",
    "***"
   ]
  },
  {
   "cell_type": "code",
   "execution_count": null,
   "id": "3e228ec9",
   "metadata": {},
   "outputs": [],
   "source": [
    "fFile(nParPath=\"./hide/04-JSONandAJAXandREST/DR4.3 JSON - 14-10-2020.mp4\")\n",
    "fFile(nParPath=\"./hide/04-JSONandAJAXandREST/DR4.3 JSON slides.pptx\")"
   ]
  },
  {
   "cell_type": "markdown",
   "id": "d5df7fa8",
   "metadata": {},
   "source": [
    "< [Table of Contents](#top) | [References](#references) >\n",
    "<a id=\"jSONAJAXandRESTajax\"></a>\n",
    "***\n",
    "###### AJAX\n",
    "***"
   ]
  },
  {
   "cell_type": "code",
   "execution_count": null,
   "id": "ba1ee979",
   "metadata": {},
   "outputs": [],
   "source": [
    "fFile(nParPath=\"./hide/04-JSONandAJAXandREST/DR4.4 Ajax - 14-10-2020.mp4\")\n",
    "fFile(nParPath=\"./hide/04-JSONandAJAXandREST/DR4.4 AJAX JQuery slides.pptx\")"
   ]
  },
  {
   "cell_type": "markdown",
   "id": "683934c0",
   "metadata": {},
   "source": [
    "< [Table of Contents](#top) | [References](#references) >\n",
    "<a id=\"jSONAJAXandRESTrest\"></a>\n",
    "***\n",
    "###### REST\n",
    "***"
   ]
  },
  {
   "cell_type": "code",
   "execution_count": null,
   "id": "9564fc49",
   "metadata": {},
   "outputs": [],
   "source": [
    "fFile(nParPath=\"./hide/04-JSONandAJAXandREST/DR4.5 Rest - 16-10-2019.mp4\")\n",
    "fFile(nParPath=\"./hide/04-JSONandAJAXandREST/DR4.5 Rest slides.pptx\")"
   ]
  },
  {
   "cell_type": "code",
   "execution_count": null,
   "id": "050517da",
   "metadata": {},
   "outputs": [],
   "source": [
    "fFile(nParPath=\"./hide/04-JSONandAJAXandREST/Lab04-JSON and AJAX.pdf\")\n",
    "fFile(nParPath=\"./hide/04-JSONandAJAXandREST/DR4.6 lab walk through - 17-10-2019.mp4\")"
   ]
  },
  {
   "cell_type": "markdown",
   "id": "1e7a98b6",
   "metadata": {},
   "source": [
    "***\n",
    "### END"
   ]
  },
  {
   "cell_type": "markdown",
   "id": "db755506",
   "metadata": {},
   "source": [
    "< [Table of Contents](#top) | [References](#references) >\n",
    "<a id=\"aJAXandREST\"></a>\n",
    "***\n",
    "### AJAX and REST\n",
    "***"
   ]
  },
  {
   "cell_type": "markdown",
   "id": "34ea78c4",
   "metadata": {},
   "source": [
    "- linking client side to a server using a REST API [1]"
   ]
  },
  {
   "cell_type": "code",
   "execution_count": null,
   "id": "f65f3610",
   "metadata": {},
   "outputs": [],
   "source": [
    "fFile(nParPath=\"./hide/05-AJAXandREST/DR5.1 Overview - 21-10-2020.mp4\")"
   ]
  },
  {
   "cell_type": "markdown",
   "id": "ec89685d",
   "metadata": {},
   "source": [
    "< [Table of Contents](#top) | [References](#references) >\n",
    "<a id=\"aJAXandRESTCurl\"></a>\n",
    "***\n",
    "###### Curl\n",
    "***"
   ]
  },
  {
   "cell_type": "markdown",
   "id": "966737db",
   "metadata": {},
   "source": [
    "- note on calling CURL - the windows console does not handle ', it only has \" - this means that when we are passing data it needs to be in \"\" - any inverted commas inside these inverted commas need to be escaped so JSON would look something like [1]:\n",
    "\n",
    "```json\n",
    "\"\\\"name\\\":\\\"value\\\"\"\n",
    "YUCK!!!!!!\n",
    "```"
   ]
  },
  {
   "cell_type": "code",
   "execution_count": null,
   "id": "696d175f",
   "metadata": {},
   "outputs": [],
   "source": [
    "fFile(nParPath=\"./hide/05-AJAXandREST/DR5.2 Curl - 21-10-2020.mp4\")\n",
    "fFile(nParPath=\"./hide/05-AJAXandREST/DR5.2 Curl.pptx\")\n",
    "fFile(nParPath=\"./hide/05-AJAXandREST/Lab05.1 CURL.pdf\")"
   ]
  },
  {
   "cell_type": "markdown",
   "id": "22c57169",
   "metadata": {},
   "source": [
    "< [Table of Contents](#top) | [References](#references) >\n",
    "<a id=\"aJAXandRESTFlask\"></a>\n",
    "***\n",
    "###### Flask\n",
    "***"
   ]
  },
  {
   "cell_type": "code",
   "execution_count": null,
   "id": "765b1ee3",
   "metadata": {},
   "outputs": [],
   "source": [
    "fFile(nParPath=\"./hide/05-AJAXandREST/DR5.3 Flask - 23-10-2019.mp4\")\n",
    "fFile(nParPath=\"./hide/05-AJAXandREST/DR5.3 FLASK Server.pptx\")\n",
    "fFile(nParPath=\"./hide/05-AJAXandREST/Lab05.2 flask1.pdf\")\n",
    "fFile(nParPath=\"./hide/05-AJAXandREST/Lab05-if you are having issues with Flask.pdf\")"
   ]
  },
  {
   "cell_type": "markdown",
   "id": "01a9847a",
   "metadata": {},
   "source": [
    "< [Table of Contents](#top) | [References](#references) >\n",
    "<a id=\"aJAXandRESTAJAX\"></a>\n",
    "***\n",
    "###### AJAX\n",
    "***"
   ]
  },
  {
   "cell_type": "code",
   "execution_count": null,
   "id": "c3623240",
   "metadata": {},
   "outputs": [],
   "source": [
    "fFile(nParPath=\"./hide/05-AJAXandREST/DR5.4 AJAX and REST - 23-10-2019.mp4\")\n",
    "fFile(nParPath=\"./hide/05-AJAXandREST/DR5.4 AJAX and REST.pptx\")\n",
    "fFile(nParPath=\"./hide/05-AJAXandREST/Lab05.3 AJAX calls to REST.pdf\")\n",
    "fFile(nParPath=\"./hide/05-AJAXandREST/DR5.5 lab5.3 walkthrough - 24-10-2020.mp4\")\n",
    "# about 5 minutes in the walkthrough video - trying to debug a very simple mistake (minutes 14 to 19 approx)\n",
    "fFile(nParPath=\"./hide/05-AJAXandREST/Lab05.4 connect carviewer to API.pdf\")\n",
    "# try to connect the carviewer2.html to the server - useful for the project assignment"
   ]
  },
  {
   "cell_type": "markdown",
   "id": "c8120b18",
   "metadata": {},
   "source": [
    "***\n",
    "### END"
   ]
  },
  {
   "cell_type": "markdown",
   "id": "f75695e6",
   "metadata": {},
   "source": [
    "< [Table of Contents](#top) | [References](#references) >\n",
    "<a id=\"usingpythontoconsumeAPIs\"></a>\n",
    "***\n",
    "### Using python to consume APIs\n",
    "***"
   ]
  },
  {
   "cell_type": "code",
   "execution_count": null,
   "id": "270373ab",
   "metadata": {},
   "outputs": [],
   "source": [
    "fFile(nParPath=\"./hide/06-UsingPythonToConsumeAPIs/DR6.1 Overview - 01-11-2019.mp4\")"
   ]
  },
  {
   "cell_type": "markdown",
   "id": "3c63958f",
   "metadata": {},
   "source": [
    "< [Table of Contents](#top) | [References](#references) >\n",
    "<a id=\"usingpythontoconsumeAPIsRequests\"></a>\n",
    "***\n",
    "###### Requests\n",
    "***"
   ]
  },
  {
   "cell_type": "code",
   "execution_count": null,
   "id": "8434258f",
   "metadata": {},
   "outputs": [],
   "source": [
    "fFile(nParPath=\"./hide/06-UsingPythonToConsumeAPIs/DR6.2 Python and APIs - 28-10-2020.mp4\")\n",
    "fFile(nParPath=\"./hide/06-UsingPythonToConsumeAPIs/DR6.2 python and APIs.pptm\")\n",
    "fFile(nParPath=\"./hide/06-UsingPythonToConsumeAPIs/Lab06.1 use python to access server.pdf\")"
   ]
  },
  {
   "cell_type": "markdown",
   "id": "f783ce12",
   "metadata": {},
   "source": [
    "< [Table of Contents](#top) | [References](#references) >\n",
    "<a id=\"usingpythontoconsumeAPIsAuthentication\"></a>\n",
    "***\n",
    "###### Authentication\n",
    "***"
   ]
  },
  {
   "cell_type": "code",
   "execution_count": null,
   "id": "dae6947c",
   "metadata": {},
   "outputs": [],
   "source": [
    "fFile(nParPath=\"./hide/06-UsingPythonToConsumeAPIs/DR6.3 API keys and OAuth - 28-10-2020.mp4\")\n",
    "fFile(nParPath=\"./hide/06-UsingPythonToConsumeAPIs/DR6.3 API keys and OAuth.pptm\")\n",
    "fFile(nParPath=\"./hide/06-UsingPythonToConsumeAPIs/Lab06.2 API keys.pdf\")"
   ]
  },
  {
   "cell_type": "markdown",
   "id": "238c611b",
   "metadata": {},
   "source": [
    "< [Table of Contents](#top) | [References](#references) >\n",
    "<a id=\"usingpythontoconsumeAPIsAPIsandPackages\"></a>\n",
    "***\n",
    "###### APIs and Packages\n",
    "***"
   ]
  },
  {
   "cell_type": "code",
   "execution_count": null,
   "id": "0c20bba4",
   "metadata": {},
   "outputs": [],
   "source": [
    "fFile(nParPath=\"./hide/06-UsingPythonToConsumeAPIs/DR6.4 using packages - 28-10-2020.mp4\")\n",
    "fFile(nParPath=\"./hide/06-UsingPythonToConsumeAPIs/DR6.4 using packages.pptx\")\n",
    "fFile(nParPath=\"./hide/06-UsingPythonToConsumeAPIs/Lab06.3 using the package.pdf\")"
   ]
  },
  {
   "cell_type": "markdown",
   "id": "f059a0d5",
   "metadata": {},
   "source": [
    "- NOTE - if anyone pushes a file that contains the key to GitHub it will disable the key (this is very likely to happen) - if this does happen create a key in own repository or create a new one in datarepresentationstudent [1]\n",
    "\n",
    "```\n",
    "username: datarepresentationstudent  \n",
    "\n",
    "password: dataRep2020\n",
    "```\n",
    "\n",
    "- log into gmail to verify your device [1]\n",
    "\n",
    "```\n",
    "username: datarepresentationstudents@gmail.com\n",
    "\n",
    "password: dataRep2020\n",
    "```\n",
    "\n",
    "- the key in the lab no longer works so made a new key [1]:\n",
    "\n",
    "```\n",
    "71b89bdc0378f2330931041ef2f2fc573043336-5\n",
    "```\n",
    "\n",
    "- (remove the minus sign) [1]\n",
    "\n",
    "\n",
    "- or use [1]\n",
    "\n",
    "```\n",
    "c7adca01d62fd0d9a8bbd07e88724a708a06b17-f\n",
    "```\n",
    "\n",
    "- (remove the minus sign) - it may be easier to use own GitHub account [1]"
   ]
  },
  {
   "cell_type": "markdown",
   "id": "d2d63d0a",
   "metadata": {},
   "source": [
    "< [Table of Contents](#top) | [References](#references) >\n",
    "***\n",
    "###### References\n",
    "***"
   ]
  },
  {
   "cell_type": "markdown",
   "id": "52e96c9d",
   "metadata": {},
   "source": [
    "- JSON - [python](https://docs.python.org/3/library/json.html) - [realpython](https://realpython.com/python-json)\n",
    "\n",
    "\n",
    "- [Requests](https://requests.kennethreitz.org/en/master/user/quickstart)\n",
    "\n",
    "\n",
    "- [Files](https://www.w3schools.com/python/python_file_handling.asp)\n",
    "\n",
    "\n",
    "- Excel - [xlwt](https://xlwt.readthedocs.io/en/latest/api.html) - [pythonlibrary](http://www.blog.pythonlibrary.org/2014/03/24/creating-microsoft-excel-spreadsheets-with-python-and-xlwt)\n",
    "\n"
   ]
  },
  {
   "cell_type": "markdown",
   "id": "ee772db2",
   "metadata": {},
   "source": [
    "***\n",
    "### END"
   ]
  },
  {
   "cell_type": "markdown",
   "id": "e747a4ce",
   "metadata": {},
   "source": [
    "< [Table of Contents](#top) | [References](#references) >\n",
    "<a id=\"caseStudies\"></a>\n",
    "***\n",
    "### Case Studies\n",
    "***"
   ]
  },
  {
   "cell_type": "markdown",
   "id": "1bd32125",
   "metadata": {},
   "source": [
    "- Some of the reports do not contain an attribute called rows - modified the code in GitHub to have a ``try except`` to deal with these [1]"
   ]
  },
  {
   "cell_type": "markdown",
   "id": "12ec5b34",
   "metadata": {},
   "source": [
    "< [Table of Contents](#top) | [References](#references) >\n",
    "<a id=\"electricData\"></a>\n",
    "***\n",
    "###### Electric Data\n",
    "***"
   ]
  },
  {
   "cell_type": "code",
   "execution_count": null,
   "id": "d80850ae",
   "metadata": {},
   "outputs": [],
   "source": [
    "fFile(nParPath=\"./hide/07-CaseStudies/Lab 07.01 challenge Gettng data.pdf\")\n",
    "fFile(nParPath=\"./hide/07-CaseStudies/DR7.2 Challenge lab07.01 Walkthrough - 12-11-2019.mp4\")"
   ]
  },
  {
   "cell_type": "markdown",
   "id": "965e3bd9",
   "metadata": {},
   "source": [
    "< [Table of Contents](#top) | [References](#references) >\n",
    "<a id=\"caseStudiesGmail\"></a>\n",
    "***\n",
    "###### Gmail\n",
    "***"
   ]
  },
  {
   "cell_type": "code",
   "execution_count": null,
   "id": "3f7d6d16",
   "metadata": {},
   "outputs": [],
   "source": [
    "fFile(nParPath=\"./hide/07-CaseStudies/Lab 07.02 challenge GMail.pdf\")\n",
    "fFile(nParPath=\"./hide/07-CaseStudies/DR7.2 challenge walkthrough gmail - 12-11-2019.mp4\")"
   ]
  },
  {
   "cell_type": "markdown",
   "id": "a664618a",
   "metadata": {},
   "source": [
    "< [Table of Contents](#top) | [References](#references) >\n",
    "<a id=\"caseStudiesWeather\"></a>\n",
    "***\n",
    "###### Weather\n",
    "***"
   ]
  },
  {
   "cell_type": "code",
   "execution_count": null,
   "id": "b0c00ab4",
   "metadata": {},
   "outputs": [],
   "source": [
    "fFile(nParPath=\"./hide/07-CaseStudies/Lab 07.03 challenge Weather.docx\")\n",
    "fFile(nParPath=\"./hide/07-CaseStudies/DR7.4 challenge walkthrough weather - 12-11-2019.mp4\")"
   ]
  },
  {
   "cell_type": "markdown",
   "id": "cac7e674",
   "metadata": {},
   "source": [
    "< [Table of Contents](#top) | [References](#references) >\n",
    "<a id=\"openfoodfacts\"></a>\n",
    "***\n",
    "###### Open Food Facts\n",
    "***"
   ]
  },
  {
   "cell_type": "code",
   "execution_count": null,
   "id": "c89b1851",
   "metadata": {},
   "outputs": [],
   "source": [
    "fFile(nParPath=\"./hide/07-CaseStudies/Lab 07.04 challenge food brands.pdf\")\n",
    "fFile(nParPath=\"./hide/07-CaseStudies/DR07.05 Walkthrough Lab07.04 brands - 06-11-2020.mp4\")"
   ]
  },
  {
   "cell_type": "markdown",
   "id": "073cc000",
   "metadata": {},
   "source": [
    "< [Table of Contents](#top) | [References](#references) >\n",
    "***\n",
    "###### References\n",
    "***"
   ]
  },
  {
   "cell_type": "code",
   "execution_count": null,
   "id": "8a722ecc",
   "metadata": {},
   "outputs": [],
   "source": [
    "fFile(nParPath=\"./hide/07-CaseStudies/SEMO-Website-Report-API.pdf\")"
   ]
  },
  {
   "cell_type": "markdown",
   "id": "86723a23",
   "metadata": {},
   "source": [
    "[Gmail](https://developers.google.com/gmail/api)\n",
    "\n",
    "[Python](https://developers.google.com/gmail/api/quickstart/python)\n",
    "\n",
    "- openfoodfacts.org - [wiki](wiki.openfoodfacts.org) - [github](https://github.com/openfoodfacts/openfoodfacts-python)"
   ]
  },
  {
   "cell_type": "markdown",
   "id": "45292173",
   "metadata": {},
   "source": [
    "***\n",
    "### END"
   ]
  },
  {
   "cell_type": "markdown",
   "id": "b6b92d92",
   "metadata": {},
   "source": [
    "< [Table of Contents](#top) | [References](#references) >\n",
    "<a id=\"serverSide\"></a>\n",
    "***\n",
    "### Server Side\n",
    "*** "
   ]
  },
  {
   "cell_type": "markdown",
   "id": "a988cc1a",
   "metadata": {},
   "source": [
    "1.) Flask and virtual environments\n",
    "\n",
    "\n",
    "2.) Practical lectures on creating web-applications and designing example APIs\n",
    "\n",
    "\n",
    "3.) Practical lectures on hosting web-applications on the cloud"
   ]
  },
  {
   "cell_type": "markdown",
   "id": "dd87feeb",
   "metadata": {},
   "source": [
    "< [Table of Contents](#top) | [References](#references) >\n",
    "<a id=\"virtualEnvironments\"></a>\n",
    "***\n",
    "###### Virtual Environments\n",
    "*** "
   ]
  },
  {
   "cell_type": "markdown",
   "id": "47fd0097",
   "metadata": {},
   "source": [
    "- UPDATE the .gitignore should contain /venv [1]"
   ]
  },
  {
   "cell_type": "code",
   "execution_count": null,
   "id": "4947846e",
   "metadata": {},
   "outputs": [],
   "source": [
    "fFile(nParPath=\"./hide/08-ServerSide/DR8.1 Virtual Environment - 12-11-2020.mp4\")\n",
    "fFile(nParPath=\"./hide/08-ServerSide/DR8.1 Virtual Environments clean.pptx\")"
   ]
  },
  {
   "cell_type": "markdown",
   "id": "e3e540d8",
   "metadata": {},
   "source": [
    "< [Table of Contents](#top) | [References](#references) >\n",
    "<a id=\"serverSideFlask\"></a>\n",
    "***\n",
    "###### Flask\n",
    "***  "
   ]
  },
  {
   "cell_type": "code",
   "execution_count": null,
   "id": "2a8c78d8",
   "metadata": {},
   "outputs": [],
   "source": [
    "fFile(nParPath=\"./hide/08-ServerSide/DR8.2 Flask - 12-11-2020.mp4\")\n",
    "fFile(nParPath=\"./hide/08-ServerSide/DR8.2 Flask clean.pptx\")"
   ]
  },
  {
   "cell_type": "markdown",
   "id": "8ff5a5ee",
   "metadata": {},
   "source": [
    "< [Table of Contents](#top) | [References](#references) >\n",
    "<a id=\"practicalRESTServer\"></a>\n",
    "***\n",
    "###### Practical REST Server\n",
    "***  "
   ]
  },
  {
   "cell_type": "code",
   "execution_count": null,
   "id": "a66821d6",
   "metadata": {},
   "outputs": [],
   "source": [
    "fFile(nParPath=\"./hide/08-ServerSide/DR8.3 Implementing REST server - 12-11-2020.mp4\")\n",
    "fFile(nParPath=\"./hide/08-ServerSide/DR8.3 REST for project clean.pptx\")"
   ]
  },
  {
   "cell_type": "code",
   "execution_count": null,
   "id": "a0f2fd40",
   "metadata": {},
   "outputs": [],
   "source": [
    "fFile(nParPath=\"./hide/08-ServerSide/Lab 08.03 Create a REST Server.pdf\")"
   ]
  },
  {
   "cell_type": "markdown",
   "id": "a202c4cd",
   "metadata": {},
   "source": [
    "< [Table of Contents](#top) | [References](#references) >\n",
    "<a id=\"hostingWebServer\"></a>\n",
    "***\n",
    "###### Hosting Web Server\n",
    "***  "
   ]
  },
  {
   "cell_type": "code",
   "execution_count": null,
   "id": "487ab37f",
   "metadata": {},
   "outputs": [],
   "source": [
    "fFile(nParPath=\"./hide/08-ServerSide/DR8.3b python anyhwere - 21-11-2019.mp4\")"
   ]
  },
  {
   "cell_type": "markdown",
   "id": "2a34299a",
   "metadata": {},
   "source": [
    "< [Table of Contents](#top) | [References](#references) >\n",
    "***\n",
    "###### References\n",
    "***  "
   ]
  },
  {
   "cell_type": "markdown",
   "id": "9a65b4a5",
   "metadata": {},
   "source": [
    "[Virtual Environment](https://docs.python.org/3/library/venv.html)\n",
    "\n",
    "\n",
    "[Using Flask](https://buildmedia.readthedocs.org/media/pdf/flask/latest/flask.pdf)\n",
    "\n",
    "\n",
    "- hosting on Azure tutorial - [medium](https://medium.com/@nikovrdoljak/deploy-your-flask-app-on-azure-in-3-easy-steps-b2fe388a589e) - [github](https://github.com/smartninja/example-azure-flask)"
   ]
  },
  {
   "cell_type": "markdown",
   "id": "9a8ec13d",
   "metadata": {},
   "source": [
    "***\n",
    "### END"
   ]
  },
  {
   "cell_type": "markdown",
   "id": "5979de44",
   "metadata": {},
   "source": [
    "< [Table of Contents](#top) | [References](#references) >\n",
    "<a id=\"linkingtoDatabase\"></a>\n",
    "***\n",
    "### Linking to Database\n",
    "***"
   ]
  },
  {
   "cell_type": "markdown",
   "id": "bd0b2933",
   "metadata": {},
   "source": [
    "- NOTE - does not matter what kind of MYSQL server you have on your machine - if you already have a server and MySQL client on your machine do not install WAMP - in fact I would now recommend that you install the bog standard MySQL server and client and not WAMP - only suggested WAMP because that is what I used to use [1]"
   ]
  },
  {
   "cell_type": "markdown",
   "id": "553b988d",
   "metadata": {},
   "source": [
    "< [Table of Contents](#top) | [References](#references) >\n",
    "<a id=\"linkingdatabases\"></a>\n",
    "***\n",
    "###### Databases\n",
    "***  "
   ]
  },
  {
   "cell_type": "code",
   "execution_count": null,
   "id": "af7c0601",
   "metadata": {},
   "outputs": [],
   "source": [
    "fFile(nParPath=\"./hide/09-LinkingToDatabase/DR9.01 databases - 28-11-2019.mp4\")\n",
    "fFile(nParPath=\"./hide/09-LinkingToDatabase/DR9.01 databases.pptx\")\n",
    "fFile(nParPath=\"./hide/09-LinkingToDatabase/Lab09.01 databases.pdf\")"
   ]
  },
  {
   "cell_type": "markdown",
   "id": "090d4d72",
   "metadata": {},
   "source": [
    "< [Table of Contents](#top) | [References](#references) >\n",
    "<a id=\"linkingdatabasespython\"></a>\n",
    "***\n",
    "###### Python and DB\n",
    "***  "
   ]
  },
  {
   "cell_type": "code",
   "execution_count": null,
   "id": "5ad7f5e4",
   "metadata": {},
   "outputs": [],
   "source": [
    "fFile(nParPath=\"./hide/09-LinkingToDatabase/DR09.02 python and DB - 28-11-2019.mp4\")\n",
    "fFile(nParPath=\"./hide/09-LinkingToDatabase/DR09.02 python and SQL.pptx\")\n",
    "fFile(nParPath=\"./hide/09-LinkingToDatabase/Lab09.02 python and databases.pdf\")"
   ]
  },
  {
   "cell_type": "markdown",
   "id": "44b1eb4b",
   "metadata": {},
   "source": [
    "< [Table of Contents](#top) | [References](#references) >\n",
    "***\n",
    "###### References\n",
    "*** "
   ]
  },
  {
   "cell_type": "markdown",
   "id": "a15ac8d4",
   "metadata": {},
   "source": [
    "- docs in MySQL connector - [Configuration files](https://martin-thoma.com/configuration-files-in-python)"
   ]
  },
  {
   "cell_type": "markdown",
   "id": "b2727406",
   "metadata": {},
   "source": [
    "***\n",
    "### END"
   ]
  },
  {
   "cell_type": "markdown",
   "id": "51f7f14b",
   "metadata": {},
   "source": [
    "< [Table of Contents](#top) | [References](#references) >\n",
    "<a id=\"puttingitalltogether\"></a>\n",
    "***\n",
    "### Putting it all together\n",
    "***  "
   ]
  },
  {
   "cell_type": "code",
   "execution_count": null,
   "id": "2c57a254",
   "metadata": {},
   "outputs": [],
   "source": [
    "fFile(nParPath=\"./hide/10-Puttingitalltogether/DR10.0 overview - 06-12-2019.mp4\")"
   ]
  },
  {
   "cell_type": "markdown",
   "id": "815b150d",
   "metadata": {},
   "source": [
    "- walkthrough of project type A [1]\n",
    "\n",
    "\n",
    "- configuration files for the connection details of your DAO [1]\n",
    "\n",
    "\n",
    "- deploying server to pythonanyhwhere - this is not mandatory for your project but there are marks for it [1]\n",
    "\n",
    "\n",
    "- NOTE: free accounts have limited access to the outside world so if you are planning on hosting a server that connects to an outside API (eg weather) you may need to get a pay account - they are not expensive and you can cancel at anytime [1]"
   ]
  },
  {
   "cell_type": "markdown",
   "id": "96e8533b",
   "metadata": {},
   "source": [
    "< [Table of Contents](#top) | [References](#references) >\n",
    "<a id=\"puttingitalltogetherIntroduction\"></a>\n",
    "***\n",
    "###### Introduction\n",
    "***  "
   ]
  },
  {
   "cell_type": "code",
   "execution_count": null,
   "id": "93c3c859",
   "metadata": {},
   "outputs": [],
   "source": [
    "fFile(nParPath=\"./hide/10-Puttingitalltogether/DR9.3 project prep - 18-11-2020.mp4\")"
   ]
  },
  {
   "cell_type": "markdown",
   "id": "2b8c721a",
   "metadata": {},
   "source": [
    "< [Table of Contents](#top) | [References](#references) >\n",
    "<a id=\"puttingitalltogetherCreatingDAO\"></a>\n",
    "***\n",
    "###### Creating DAO\n",
    "***"
   ]
  },
  {
   "cell_type": "markdown",
   "id": "1e9ad4fd",
   "metadata": {},
   "source": [
    "- based on week 09 - there may be an error in this - forgot to close the database connections - so if this runs for any length of time it will cease to work - will investigate further and post a fix video later [1]"
   ]
  },
  {
   "cell_type": "code",
   "execution_count": null,
   "id": "aa73d991",
   "metadata": {},
   "outputs": [],
   "source": [
    "fFile(nParPath=\"./hide/10-Puttingitalltogether/DR9.4 DAO walkthrough - 18-11-2020.mp4\")"
   ]
  },
  {
   "cell_type": "markdown",
   "id": "708d1e3d",
   "metadata": {},
   "source": [
    "< [Table of Contents](#top) | [References](#references) >\n",
    "<a id=\"puttingitalltogetherCreatingaserverthatimplementstheRESTAPI\"></a>\n",
    "***\n",
    "###### Creating a server that implements the REST API\n",
    "***  "
   ]
  },
  {
   "cell_type": "markdown",
   "id": "a984ea8f",
   "metadata": {},
   "source": [
    "- based on week 08 [1]"
   ]
  },
  {
   "cell_type": "code",
   "execution_count": null,
   "id": "8992136c",
   "metadata": {},
   "outputs": [],
   "source": [
    "fFile(nParPath=\"./hide/10-Puttingitalltogether/DR9.5 server walkthrough - 18-11-2020.mp4\")"
   ]
  },
  {
   "cell_type": "markdown",
   "id": "7fcf4c8d",
   "metadata": {},
   "source": [
    "< [Table of Contents](#top) | [References](#references) >\n",
    "<a id=\"puttingitalltogetherCreatingthehtmlthatwilluseAJAXtolinktotheserverandprovideauserinterface\"></a>\n",
    "***\n",
    "###### Creating the html that will use AJAX to link to the server and provide a user interface\n",
    "***"
   ]
  },
  {
   "cell_type": "markdown",
   "id": "162bb070",
   "metadata": {},
   "source": [
    "- based on week 05 [1]"
   ]
  },
  {
   "cell_type": "code",
   "execution_count": null,
   "id": "82e6cdac",
   "metadata": {},
   "outputs": [],
   "source": [
    "fFile(nParPath=\"./hide/10-Puttingitalltogether/DR9.6 HTML-AJAX walkthrough parts - 20-11-2020.mp4\")\n",
    "fFile(nParPath=\"./hide/10-Puttingitalltogether/DR9.7 HTML-AJAX walkthrough part2 - 20-11-2020.mp4\")"
   ]
  },
  {
   "cell_type": "markdown",
   "id": "d00253e9",
   "metadata": {},
   "source": [
    "< [Table of Contents](#top) | [References](#references) >\n",
    "<a id=\"puttingitalltogetherConfigurationFiles\"></a>\n",
    "***\n",
    "###### Configuration Files\n",
    "***  "
   ]
  },
  {
   "cell_type": "markdown",
   "id": "ab8bb977",
   "metadata": {},
   "source": [
    "- configuration file for DAO [1]"
   ]
  },
  {
   "cell_type": "code",
   "execution_count": null,
   "id": "93541648",
   "metadata": {},
   "outputs": [],
   "source": [
    "fFile(nParPath=\"./hide/10-Puttingitalltogether/DR10.01 configuration files - 06-12-2019.mp4\")\n",
    "fFile(nParPath=\"./hide/10-Puttingitalltogether/DR10.01b configuration files for DAO - 06-12-2019.mp4\")"
   ]
  },
  {
   "cell_type": "markdown",
   "id": "06a28a4c",
   "metadata": {},
   "source": [
    "< [Table of Contents](#top) | [References](#references) >\n",
    "<a id=\"puttingitalltogetherDeployingtoPythonanywhere\"></a>\n",
    "***\n",
    "###### Deploying to Pythonanywhere\n",
    "*** "
   ]
  },
  {
   "cell_type": "code",
   "execution_count": null,
   "id": "ebab62fa",
   "metadata": {},
   "outputs": [],
   "source": [
    "fFile(nParPath=\"./hide/10-Puttingitalltogether/DR10.02 ajax on host - 06-12-2019.mp4\")\n",
    "fFile(nParPath=\"./hide/10-Puttingitalltogether/DR10.03 deploy to remote host - 06-12-2019.mp4\")"
   ]
  },
  {
   "cell_type": "markdown",
   "id": "aa56be70",
   "metadata": {},
   "source": [
    "< [Table of Contents](#top) | [References](#references) >\n",
    "***\n",
    "###### References\n",
    "***"
   ]
  },
  {
   "cell_type": "markdown",
   "id": "901b2535",
   "metadata": {},
   "source": [
    "[Types of configuration files](https://martin-thoma.com/configuration-files-in-python)"
   ]
  },
  {
   "cell_type": "markdown",
   "id": "811f9184",
   "metadata": {},
   "source": [
    "***\n",
    "### END"
   ]
  },
  {
   "cell_type": "markdown",
   "id": "aa2b1e81",
   "metadata": {},
   "source": [
    "< [Table of Contents](#top) | [References](#references) >\n",
    "<a id=\"extra\"></a>\n",
    "***\n",
    "### Extra\n",
    "***"
   ]
  },
  {
   "cell_type": "markdown",
   "id": "031ebbf7",
   "metadata": {},
   "source": [
    "1. creating a connection pool for your database - this will solve a issue with my code from last week where I did not open and close connections between database requests - when you host your application on pythonanyhwere the database connection would close after a period of time (and hence cease to work) - this will fix that [1]\n",
    "\n",
    "\n",
    "2. sessions - necessary if you want a user to log in [1]"
   ]
  },
  {
   "cell_type": "markdown",
   "id": "5b42dc32",
   "metadata": {},
   "source": [
    "< [Table of Contents](#top) | [References](#references) >\n",
    "<a id=\"extraDatabaseConnections\"></a>\n",
    "***\n",
    "###### Database Connections\n",
    "***  "
   ]
  },
  {
   "cell_type": "markdown",
   "id": "544653c8",
   "metadata": {},
   "source": [
    "- connection pooling [1]"
   ]
  },
  {
   "cell_type": "code",
   "execution_count": null,
   "id": "215fc798",
   "metadata": {},
   "outputs": [],
   "source": [
    "fFile(nParPath=\"./hide/11-Extra/DR11.01 database connections - 09-12-2019.mp4\")"
   ]
  },
  {
   "cell_type": "markdown",
   "id": "1a928576",
   "metadata": {},
   "source": [
    "< [Table of Contents](#top) | [References](#references) >\n",
    "<a id=\"extraSessions\"></a>\n",
    "***\n",
    "###### Sessions\n",
    "***"
   ]
  },
  {
   "cell_type": "markdown",
   "id": "556e68ec",
   "metadata": {},
   "source": [
    "- sessions and logging in [1]"
   ]
  },
  {
   "cell_type": "code",
   "execution_count": null,
   "id": "1fa21e82",
   "metadata": {},
   "outputs": [],
   "source": [
    "fFile(nParPath=\"./hide/11-Extra/DR11.02 Sessions - 09-12-2019.mp4\")"
   ]
  },
  {
   "cell_type": "markdown",
   "id": "8f1bfc61",
   "metadata": {},
   "source": [
    "< [Table of Contents](#top) | [References](#references) >\n",
    "<a id=\"extraChangingVirtualEnvironmentonPythonanywhere\"></a>\n",
    "***\n",
    "###### Changing Virtual Environment on Pythonanywhere\n",
    "***"
   ]
  },
  {
   "cell_type": "code",
   "execution_count": null,
   "id": "f783dc43",
   "metadata": {},
   "outputs": [],
   "source": [
    "fFile(nParPath=\"./hide/11-Extra/DR11.03 changing venv on host - 09-12-2019.mp4\")"
   ]
  },
  {
   "cell_type": "markdown",
   "id": "9791bd44",
   "metadata": {},
   "source": [
    "< [Table of Contents](#top) | [References](#references) >\n",
    "***\n",
    "###### References\n",
    "***"
   ]
  },
  {
   "cell_type": "markdown",
   "id": "6e459ba1",
   "metadata": {},
   "source": [
    "- database connections - [pooling in mysql-connector](https://pynative.com/python-database-connection-pooling-with-mysql) - [pooling in mysql-connector](https://overiq.com/mysql-connector-python-101/connection-pooling-using-connector-python) - [sqlalchemy](https://www.sqlalchemy.org/) - [sqlalchemy-pythonanywhere](https://blog.pythonanywhere.com/121/) - [sqlalchemy](https://towardsdatascience.com/sqlalchemy-python-tutorial-79a577141a91)"
   ]
  },
  {
   "cell_type": "markdown",
   "id": "8eb12029",
   "metadata": {},
   "source": [
    "- sessions - [tutorial](https://www.tutorialspoint.com/flask/flask_sessions.htm)"
   ]
  },
  {
   "cell_type": "markdown",
   "id": "9b144383",
   "metadata": {},
   "source": [
    "***\n",
    "### END"
   ]
  },
  {
   "cell_type": "markdown",
   "id": "c51180eb",
   "metadata": {},
   "source": [
    "***\n",
    "## END"
   ]
  },
  {
   "cell_type": "markdown",
   "id": "b26776e7",
   "metadata": {},
   "source": [
    "< [Table of Contents](#top) | [Abstract](#abstract) | [Introduction](#introduction) | [Conclusion](#conclusion) | [References](#references) >\n",
    "<a id=\"solution\"></a>\n",
    "***\n",
    "## Solution\n",
    "***"
   ]
  },
  {
   "cell_type": "markdown",
   "id": "ebb1e6a2",
   "metadata": {},
   "source": [
    "&#x1F6A7;"
   ]
  },
  {
   "cell_type": "markdown",
   "id": "5412de45",
   "metadata": {},
   "source": [
    "<!-- - refer [Appendix](#appendix-df) to view the full dataset <a id=\"go-back-df\"></a> -->\n",
    "<!-- print(fGetModuleType(___x___),fDocumentation(___x___)) -->\n",
    "***\n",
    "## END"
   ]
  },
  {
   "cell_type": "markdown",
   "id": "a55779d4",
   "metadata": {},
   "source": [
    "< [Table of Contents](#top) | [Abstract](#abstract) | [Introduction](#introduction) | [Solution](#solution) | [References](#references) >\n",
    "<a id=\"conclusion\"></a>\n",
    "***\n",
    "## Conclusion\n",
    "***"
   ]
  },
  {
   "cell_type": "markdown",
   "id": "3b3eebaf",
   "metadata": {},
   "source": [
    "&#x1F6A7;"
   ]
  },
  {
   "cell_type": "markdown",
   "id": "0bf43c70",
   "metadata": {},
   "source": [
    "***\n",
    "## END"
   ]
  },
  {
   "cell_type": "markdown",
   "id": "94d21f9e",
   "metadata": {},
   "source": [
    "< [Table of Contents](#top) | [Abstract](#abstract) | [Introduction](#introduction) | [Solution](#solution) | [Conclusion](#conclusion) | [References](#references) >\n",
    "<a id=\"references\"></a>\n",
    "***\n",
    "## References\n",
    "***\n",
    "&nbsp;&nbsp;&nbsp;&nbsp;&nbsp;&nbsp;&nbsp;&nbsp;&nbsp;[1] A. Beatty, \"Moodle,\" GMIT, (n.d.).\n",
    "\n",
    "&nbsp;&nbsp;&nbsp;&nbsp;&nbsp;&nbsp;&nbsp;&nbsp;&nbsp;[2] A. Beatty, \"DR2 XML and Dom with a bit about html,\" GMIT, September 2019.\n",
    "\n",
    "&nbsp;&nbsp;&nbsp;&nbsp;&nbsp;&nbsp;&nbsp;&nbsp;&nbsp;[3] A. Beatty, \"DR3 html,\" GMIT, September 2019.\n",
    "\n",
    "&nbsp;&nbsp;&nbsp;&nbsp;&nbsp;&nbsp;&nbsp;&nbsp;&nbsp;[4] A. Beatty, \"DR3b Lab01-html doing,\" GMIT, September 2019.\n",
    "\n",
    "&nbsp;&nbsp;&nbsp;&nbsp;&nbsp;&nbsp;&nbsp;&nbsp;&nbsp;[5] A. Beatty, \"DR2.1 Week02 Overview,\" GMIT, September 2019.\n",
    "\n",
    "&nbsp;&nbsp;&nbsp;&nbsp;&nbsp;&nbsp;&nbsp;&nbsp;&nbsp;[6] A. Beatty, \"DR2.2 JavaScript part1,\" GMIT, September 2019."
   ]
  },
  {
   "cell_type": "markdown",
   "id": "0dd9a8b0",
   "metadata": {},
   "source": [
    "***\n",
    "## END"
   ]
  },
  {
   "cell_type": "markdown",
   "id": "e79f2d3d",
   "metadata": {},
   "source": [
    "< [Table of Contents](#top) | [Abstract](#abstract) | [Introduction](#introduction) | [Solution](#solution) | [Conclusion](#conclusion) | [References](#references) >\n",
    "<a id=\"appendix\"></a>\n",
    "***\n",
    "## Appendix\n",
    "***"
   ]
  },
  {
   "cell_type": "markdown",
   "id": "2a526088",
   "metadata": {},
   "source": [
    "&#x1F6A7;"
   ]
  },
  {
   "cell_type": "markdown",
   "id": "bcf860d5",
   "metadata": {},
   "source": [
    "<a id=\"appendix-some-reference\"></a>\n",
    "< [Go Back](#top) >"
   ]
  },
  {
   "cell_type": "markdown",
   "id": "8a4b5e4a",
   "metadata": {},
   "source": [
    "```python\n",
    "from matplotlib.pyplot import box,yticks,xlabel,bar,text,title,show\n",
    "\n",
    "from sys import path; path.insert(1,\"../src\")\n",
    "from fubar import fDarkReader\n",
    "\n",
    "%%script bash\n",
    "grep -1 \"def fDarkReader\" ../src/fubar.py -A 9\n",
    "\n",
    "fDarkReader()\n",
    "```"
   ]
  },
  {
   "cell_type": "markdown",
   "id": "0a7c543b",
   "metadata": {},
   "source": [
    "⚡"
   ]
  },
  {
   "cell_type": "markdown",
   "id": "08dcdc7f",
   "metadata": {},
   "source": [
    "```python\n",
    "from sys import path; path.insert(1,\"../src\")\n",
    "from fubar import fFile\n",
    "\n",
    "%%script bash\n",
    "grep -1 \"def fFile\" ../src/fubar.py -A 9\n",
    "\n",
    "fFile(nParPath=\"\")\n",
    "\n",
    "exit()\n",
    "```"
   ]
  },
  {
   "cell_type": "markdown",
   "id": "3218b1ce",
   "metadata": {},
   "source": [
    "###### Github\n",
    "***"
   ]
  },
  {
   "cell_type": "markdown",
   "id": "da402dea",
   "metadata": {},
   "source": [
    "```\n",
    "git push -f origin HEAD^:master && git reset HEAD~\n",
    "```"
   ]
  },
  {
   "cell_type": "markdown",
   "id": "93ea152b",
   "metadata": {},
   "source": [
    "###### Functions\n",
    "***"
   ]
  },
  {
   "cell_type": "markdown",
   "id": "b54bff73",
   "metadata": {},
   "source": [
    "```python\n",
    "# %%writefile -a ../src/fubar.py\n",
    "# repository ./fubar-python\n",
    "def f():\n",
    "    \"\"\"\n",
    "\n",
    "Input:\n",
    "Process:\n",
    "Output:\n",
    "\"\"\"\n",
    "    pass\n",
    "# -- END ---\n",
    "```"
   ]
  },
  {
   "cell_type": "markdown",
   "id": "5db72e4b",
   "metadata": {},
   "source": [
    "###### Functions - ../src/fubar.py\n",
    "***"
   ]
  },
  {
   "cell_type": "markdown",
   "id": "372dbe03",
   "metadata": {},
   "source": [
    "```\n",
    "%%script bash\n",
    "cat ../src/fubar.py\n",
    "```"
   ]
  },
  {
   "cell_type": "code",
   "execution_count": null,
   "id": "ae85ddbb",
   "metadata": {},
   "outputs": [],
   "source": [
    "%%script bash\n",
    "grep -1 \"def fFullScreen\" ../src/fubar.py -A 9"
   ]
  },
  {
   "cell_type": "markdown",
   "id": "ace0b34f",
   "metadata": {},
   "source": [
    "```\n",
    "git commit -m \"update repository ./fubar-python - Everything in python is an object.\"\n",
    "```"
   ]
  },
  {
   "cell_type": "markdown",
   "id": "0c4dbff3",
   "metadata": {},
   "source": [
    "###### Images\n",
    "***"
   ]
  },
  {
   "cell_type": "markdown",
   "id": "71c15694",
   "metadata": {},
   "source": [
    "![gumball](https://github.com/SeanOhAileasa/SeanOhAileasa/blob/master/rc/cta/analysing/gumball.png?raw=true)\n",
    "\n",
    "***(Image) P. Mannion, \"03 Analysing Algorithms Part 1,\" GMIT, October 2017.***"
   ]
  },
  {
   "cell_type": "markdown",
   "id": "1aaa880a",
   "metadata": {},
   "source": [
    "###### Tables\n",
    "***"
   ]
  },
  {
   "cell_type": "markdown",
   "id": "7d0c21ee",
   "metadata": {},
   "source": [
    "|aaa|bbbbbb|ccccccccc|\n",
    "|:------------------------- | :------------------------- | :------------------------- |\n",
    "|aaa|bbbbbb|ccccccccc|"
   ]
  },
  {
   "cell_type": "markdown",
   "id": "5cf6131f",
   "metadata": {},
   "source": [
    "###### References\n",
    "***"
   ]
  },
  {
   "cell_type": "markdown",
   "id": "79991443",
   "metadata": {},
   "source": [
    "&nbsp;&nbsp;&nbsp;&nbsp;&nbsp;&nbsp;&nbsp;&nbsp;&nbsp;[0] x. xxx, \"xxx,\" xxx, JanXXXry 2XX1.\n",
    "\n",
    "&nbsp;&nbsp;&nbsp;&nbsp;&nbsp;&nbsp;&nbsp;&nbsp;&nbsp;[0] Anaconda (built-in), \"range,\" Docstring, Conda:4.9.2 (Python:3.8.5).\n",
    "\n",
    "&nbsp;&nbsp;&nbsp;&nbsp;&nbsp;&nbsp;&nbsp;&nbsp;&nbsp;[0] Anaconda (plot), \"matplotlib.pyplot,\" Docstring, Conda:4.9.2 (Python:3.8.5).\n",
    "\n",
    "&nbsp;&nbsp;&nbsp;&nbsp;&nbsp;&nbsp;&nbsp;&nbsp;&nbsp;[0] D. Carr, \"CTA - Lecture 1 Part 1,\" GMIT, January 2021.\n",
    "\n",
    "&nbsp;&nbsp;&nbsp;&nbsp;&nbsp;&nbsp;&nbsp;&nbsp;&nbsp;[0] A. Beatty, \"xxx,\" GMIT, January 202x.\n",
    "\n",
    "&nbsp;&nbsp;&nbsp;&nbsp;&nbsp;&nbsp;&nbsp;&nbsp;&nbsp;[0] M. R. Fellows, I. Parberry, \"SIGACT Trying to Get Children Excited About CS,\" [ianparberry](https://web.archive.org/web/20210220071000/http://ianparberry.com/research/cseducation), January 1993.\n",
    "\n",
    "###### fubar-000\n",
    "\n",
    "&nbsp;&nbsp;&nbsp;&nbsp;&nbsp;&nbsp;&nbsp;&nbsp;&nbsp;[0] A. Beatty, \"prog 0.0 introduction (Module: Programming for Cybersecurity),\" GMIT (Programme: Certificate in Cybersecurity Operations), January 2021."
   ]
  },
  {
   "cell_type": "markdown",
   "id": "3f0ee002",
   "metadata": {},
   "source": [
    "***\n",
    "## END"
   ]
  },
  {
   "cell_type": "markdown",
   "id": "61205b79",
   "metadata": {},
   "source": [
    "# END JUPYTER NOTEBOOK"
   ]
  }
 ],
 "metadata": {
  "kernelspec": {
   "display_name": "Python 3",
   "language": "python",
   "name": "python3"
  },
  "language_info": {
   "codemirror_mode": {
    "name": "ipython",
    "version": 3
   },
   "file_extension": ".py",
   "mimetype": "text/x-python",
   "name": "python",
   "nbconvert_exporter": "python",
   "pygments_lexer": "ipython3",
   "version": "3.8.8"
  }
 },
 "nbformat": 4,
 "nbformat_minor": 5
}

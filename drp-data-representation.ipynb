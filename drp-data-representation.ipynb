{
 "cells": [
  {
   "cell_type": "code",
   "execution_count": null,
   "id": "0124b1ec",
   "metadata": {},
   "outputs": [
    {
     "data": {
      "text/html": [
       "<script>Jupyter.notebook.kernel.restart()</script>"
      ]
     },
     "metadata": {},
     "output_type": "display_data"
    }
   ],
   "source": [
    "from IPython.core.display import display_html\n",
    "display_html(\"<script>Jupyter.notebook.kernel.restart()</script>\",raw=True)"
   ]
  },
  {
   "cell_type": "code",
   "execution_count": 1,
   "id": "c3092012",
   "metadata": {},
   "outputs": [
    {
     "data": {
      "text/html": [
       "<style>.container { width:100% !important; }</style>"
      ],
      "text/plain": [
       "<IPython.core.display.HTML object>"
      ]
     },
     "metadata": {},
     "output_type": "display_data"
    },
    {
     "data": {
      "text/html": [
       "<style>.container { width:100% !important; }</style>"
      ],
      "text/plain": [
       "<IPython.core.display.HTML object>"
      ]
     },
     "metadata": {},
     "output_type": "display_data"
    }
   ],
   "source": [
    "from sys import path; path.insert(1,\"../src\");\n",
    "import fubar; from importlib import reload; reload(fubar);"
   ]
  },
  {
   "cell_type": "markdown",
   "id": "fb350e62",
   "metadata": {},
   "source": [
    "***\n",
    "< [GMIT Data Analytics](https://web.archive.org/web/20201029063153/https://www.gmit.ie/computer-science-and-applied-physics/higher-diploma-science-computing-data-analytics-ict) | [Home](https://github.com/SeanOhAileasa) | [README](https://github.com/SeanOhAileasa/drp-data-representation/blob/main/README.md) >\n",
    "\n",
    "[![GMIT](https://github.com/SeanOhAileasa/SeanOhAileasa/blob/master/rc/gmit.png?raw=true)](https://web.archive.org/web/20201029063153/https://www.gmit.ie/computer-science-and-applied-physics/higher-diploma-science-computing-data-analytics-ict)\n",
    "\n",
    "## Data Representation - Course Material 2021\n",
    "### Topic: [Data Representation](https://nbviewer.jupyter.org/github/SeanOhAileasa/drp-data-representation/blob/main/drp-data-representation.ipynb)\n",
    "\n",
    "Course material for the ``Data Representation`` module (5 Credits) of the ``Higher Diploma in Science in Computing (Data Analytics) (H.Dip)`` programme (75 Credits) at **Galway-Mayo Institute of Technology (GMIT)**.\n",
    "***"
   ]
  },
  {
   "cell_type": "code",
   "execution_count": 2,
   "id": "7eb52b79",
   "metadata": {},
   "outputs": [],
   "source": [
    "from sys import path; path.insert(1,\"../src\")\n",
    "from fubar import fFile"
   ]
  },
  {
   "cell_type": "code",
   "execution_count": 3,
   "id": "e35edc25",
   "metadata": {},
   "outputs": [
    {
     "name": "stdout",
     "output_type": "stream",
     "text": [
      "# repository ./SeanOhAileasa\r\n",
      "def fFile(nParPath):\r\n",
      "    \"\"\"Start a file with its associated application.\r\n",
      "\r\n",
      "Input: nParPath\r\n",
      "Process: (os.path.realpath; os.startfile)\r\n",
      "Output: file opened with associated application\r\n",
      "\"\"\"\r\n",
      "    from os import path,startfile\r\n",
      "    return startfile(path.realpath(nParPath))\r\n",
      "# --- END ---\r\n"
     ]
    }
   ],
   "source": [
    "%%script bash\n",
    "grep -1 \"def fFile\" ../src/fubar.py -A 9"
   ]
  },
  {
   "cell_type": "markdown",
   "id": "2b859f48",
   "metadata": {},
   "source": [
    "<a id=\"top\"></a>\n",
    "***\n",
    "## Table of Contents\n",
    "***\n",
    "\n",
    "## [Acronym](#top)\n",
    "\n",
    "- ``obj``: object\n",
    "- ``n``: name\n",
    "- ``v``: value\n",
    "\n",
    "## [Abstract](#abstract)\n",
    "\n",
    "* [Description](#description)\n",
    "* [Learning Outcomes](#learningOutcomes)\n",
    "* [Topic Roadmap](#topicRoadmap)\n",
    "\n",
    "## [Introduction](#introduction)\n",
    "\n",
    "* [XML](#introductionXML)\n",
    "    * [Internal Representation (DOM)](#internalRepresentationDOM)\n",
    "\n",
    "\n",
    "* [DOM](#introductionDOM)\n",
    "    * [Tree](#introductionDOMTree)\n",
    "        * [Child Node](#introductionDOMTreeChild)\n",
    "    * &#8594; ``obj``:\n",
    "        * [``document``](#DOMObjectDocument)\n",
    "            * [``getElementById``](#DOMObjectDocumentMethodgetElementById)\n",
    "            * [``querySelector``](#DOMObjectDocumentquerySelector)\n",
    "\n",
    "\n",
    "* [HTML](#introductionHTML)\n",
    "    * &#8594; ``n``:\n",
    "        * [Tag](#introductionHTMLTag) &#x1F6A7;\n",
    "            * [``table``](#introductionHTMLTagTable)\n",
    "            * [``form``](#introductionHTMLTagForm)\n",
    "            * [``div``](#introductionHTMLTagDiv)\n",
    "            * [``script``](#introductionscript)\n",
    "        * [Attribute](#introductionHTMLAttribute)\n",
    "            * [``style``](#introductionHTMLstyle) &#x1F6A7;        \n",
    "            * [``id``](#introductionHTMLid)\n",
    "            * [``class``](#introductionHTMLclass)\n",
    "            * [``onclick``](#introductionHTMLonclick)\n",
    "            * [``onchange``](#introductionHTMLonchange) &#x1F6A7;\n",
    "    * [API](#introductionscriptAPI) &#x1F6A7;\n",
    "        * &#8594; ``obj``:\n",
    "            * [``console``](#introductionscriptAPIconsole)\n",
    "    * [Lab](#introductionHTMLTagTableFormLAB)\n",
    "        * [Bootstrap](#introductionHTMLTagTableFormLABBootstrap)\n",
    "            \n",
    "\n",
    "* [CSS](#introductionCSS)\n",
    "    * [``style``](#introductionCSSstyle) &#x1F6A7; (&#8594; HTML &#8594; Attribute)\n",
    "        * &#8594; ``v``:\n",
    "            * [``display``](#introductionCSSstyledisplay)\n",
    "    * [Selector](#introductionCSSSelector)\n",
    "        * [Element](#introductionCSSSelectorElement)\n",
    "        * [``id``](#introductionCSSSelectorID) (&#8594; HTML &#8594; Attribute)\n",
    "        * [``class``](#introductionCSSSelectorClass) (&#8594; HTML &#8594; Attribute)\n",
    "        * [Universal](#introductionCSSSelectorUniversal)\n",
    "        * [Grouping](#introductionCSSSelectorGrouping)\n",
    "\n",
    "\n",
    "* [JS](#javascript)\n",
    "    * [Operator](#javascriptOperator) &#x1F6A7;\n",
    "        * [Type](#javascriptOperatorType) &#x1F6A7;\n",
    "            * [``typeof``](#javascriptOperatorTypetypeof)\n",
    "    * [``var``](#javascriptvar)\n",
    "        * [Object](#javascriptvarObject) <!-- Object Properties https://www.w3schools.com/js/js_object_definition.asp -->\n",
    "            * [Array](#javascriptvarArray) <!-- Array Elements Can Be Objects https://www.w3schools.com/js/js_arrays.asp -->\n",
    "                * [``new``](#javascriptvarArraynew)        \n",
    "            * [Properties](#javascriptvarObjectProperties) <!-- ...Nested -->\n",
    "                * [``for...in``](#javascriptvarObjectPropertiesforin)\n",
    "                * [Add](#javascriptvarObjectPropertiesAdd)\n",
    "                    * [``delete``](#javascriptvarObjectPropertiesdelete)                    \n",
    "            * [Nested](#javascriptvarObjectNested) <!-- Nested Arrays and Objects https://www.w3schools.com/js/js_object_properties.asp -->\n",
    "            * [Display](#javascriptDisplayObject)\n",
    "                * [via Name](#javascriptDisplayObjectName)\n",
    "                * [via Loop](#javascriptDisplayObjectLoop) (&#8594; JS &#8594; ``var`` &#8594; Object &#8594; Properties &#8594; ``for...in``)\n",
    "                * [via ``Object.values``](#javascriptDisplayObjectObjectvalues) (&#8594; JS &#8594; ``var`` &#8594; Object &#8594; Array)\n",
    "                * [via ``JSON.stringify``](#javascriptDisplayObjectJSONstringify) <br/>< [Stringify ``Dates``](#javascriptDisplayObjectJSONstringifyStringifyDates)&nbsp;&nbsp;|&nbsp;&nbsp;[Stringify ~~``function``~~](#javascriptDisplayObjectJSONstringifyStringifyfunction)&nbsp;&nbsp;|&nbsp;&nbsp;[``toString`` (Workaround)](#javascriptDisplayObjectJSONstringifyStringifyfunctionWorkaroundfunction)&nbsp;&nbsp;|&nbsp;&nbsp;[Stringify Array](#javascriptDisplayObjectJSONstringifyStringifyArray) (&#8594; JS &#8594; ``var`` &#8594; Object) >\n",
    "                * [Manipulate](#javascriptDisplayObjectManipulate) (&#8594; JS &#8594; Event &#8594; ``onclick`` &#8594; ``style``)\n",
    "    * [Control](#javascriptControl) &#x1F6A7;\n",
    "        * [``if``](#javascriptControlif) (&#8594; JS &#8594; Event &#8594; ``onchange``)\n",
    "        * [``for``](#javascriptControlfor) &#x1F6A7;\n",
    "            * [Numbers](#javascriptControlforNumbers)\n",
    "            * [Array](#javascriptControlforArray) (&#8594; JS &#8594; var &#8594; Object)\n",
    "            * [Object](#javascriptControlforObject) (&#8594; JS &#8594; var)\n",
    "    * [``function``](#javascriptUserdefinedFunction)\n",
    "    * [Event](#javascriptEvent)\n",
    "        * [``onclick``](#javascriptAttributeHTMLonclick) (&#8594; HTML &#8594; Attribute)\n",
    "            * [``style``](#javascriptDisplayObjectManipulatestyle) (&#8594; HTML &#8594; Attribute)\n",
    "        * [``onchange``](#javascriptEventonchange) (&#8594; HTML &#8594; Attribute)\n",
    "\n",
    "***\n",
    "\n",
    "* [More manipulation of the DOM tree](#moremanipulationoftheDOMtree)\n",
    "\n",
    "\n",
    "* [Consuming XML/HTML data from the web](#consumingXMLHTMLdatafromtheweb)\n",
    "    * [URLs](#consumingXMLHTMLdatafromthewebURLs)\n",
    "    * [Consuming XML (and HTML) from the web](#lectureConsumingXMLandHTMLfromtheweb)\n",
    "    * [Web Scrapping](#webScrapping)\n",
    "\n",
    "\n",
    "* [JSON and AJAX and REST](#jSONAJAXandREST)\n",
    "    * [HTTP](#jSONAJAXandRESTHTTP)\n",
    "    * [JSON](#jSONAJAXandRESTjson)\n",
    "    * [AJAX](#jSONAJAXandRESTajax)\n",
    "    * [REST](#jSONAJAXandRESTrest)\n",
    "\n",
    "\n",
    "* [AJAX and REST](#aJAXandREST)\n",
    "    * [Curl](#aJAXandRESTCurl)\n",
    "    * [Flask](#aJAXandRESTFlask)\n",
    "    * [AJAX](#aJAXandRESTAJAX)\n",
    "\n",
    "\n",
    "* [Using python to consume APIs](#usingpythontoconsumeAPIs)\n",
    "    * [Requests](#usingpythontoconsumeAPIsRequests)\n",
    "    * [Authentication](#usingpythontoconsumeAPIsAuthentication)\n",
    "    * [APIs and Packages](#usingpythontoconsumeAPIsAPIsandPackages)\n",
    "\n",
    "\n",
    "* [Case Studies](#caseStudies)\n",
    "    * [Electric Data](#electricData)\n",
    "    * [Gmail](#caseStudiesGmail)\n",
    "    * [Weather](#caseStudiesWeather)\n",
    "    * [Open Food Facts](#openfoodfacts)\n",
    "\n",
    "\n",
    "* [Server Side](#serverSide)\n",
    "    * [Virtual Environments](#virtualEnvironments)\n",
    "    * [Flask](#serverSideFlask)\n",
    "    * [Practical REST Server](#practicalRESTServer)\n",
    "    * [Hosting Web Server](#hostingWebServer)\n",
    "\n",
    "\n",
    "* [Linking to Database](#linkingtoDatabase)\n",
    "    * [Databases](#linkingdatabases)\n",
    "    * [Python and DB](#linkingdatabasespython)\n",
    "\n",
    "\n",
    "* [Putting It All Together](#puttingitalltogether)\n",
    "    * [Introduction](#puttingitalltogetherIntroduction)\n",
    "    * [Creating DAO](#puttingitalltogetherCreatingDAO)\n",
    "    * [Creating a server that implements the REST API](#puttingitalltogetherCreatingaserverthatimplementstheRESTAPI)\n",
    "    * [Creating the html that will use AJAX to link to the server and provide a user interface](#puttingitalltogetherCreatingthehtmlthatwilluseAJAXtolinktotheserverandprovideauserinterface)\n",
    "    * [Configuration Files](#puttingitalltogetherConfigurationFiles)\n",
    "    * [Deploying to Pythonanywhere](#puttingitalltogetherDeployingtoPythonanywhere)\n",
    "    \n",
    "    \n",
    "* [Extra](#extra)\n",
    "    * [Database Connections](#extraDatabaseConnections)\n",
    "    * [Sessions](#extraSessions)\n",
    "    * [Changing Virtual Environment on Pythonanywhere](#extraChangingVirtualEnvironmentonPythonanywhere)\n",
    "    \n",
    "    \n",
    "## [Solution](#solution)\n",
    "\n",
    "- &#x1F6A7;\n",
    "\n",
    "## [Conclusion](#conclusion)\n",
    "\n",
    "- &#x1F6A7;"
   ]
  },
  {
   "cell_type": "markdown",
   "id": "61f2fce1",
   "metadata": {},
   "source": [
    "***\n",
    "## END"
   ]
  },
  {
   "cell_type": "markdown",
   "id": "363b5bde",
   "metadata": {},
   "source": [
    "< [Table of Contents](#top) | [Introduction](#introduction) | [Solution](#solution) | [Conclusion](#conclusion) | [References](#references) >\n",
    "<a id=\"abstract\"></a>\n",
    "***\n",
    "## Abstract\n",
    "***"
   ]
  },
  {
   "cell_type": "markdown",
   "id": "0db8663f",
   "metadata": {},
   "source": [
    "< [Table of Contents](#top) | [References](#references) >\n",
    "<a id=\"description\"></a>\n",
    "***\n",
    "###### Description\n",
    "***"
   ]
  },
  {
   "cell_type": "markdown",
   "id": "a92ea83a",
   "metadata": {},
   "source": [
    "Investigate and operate the protocols, standards and architectures used in representing data, with a focus on interacting with data services across the internet. Gaining practical experience in developing applications that interact with such data."
   ]
  },
  {
   "cell_type": "markdown",
   "id": "b1ea3489",
   "metadata": {},
   "source": [
    "< [Table of Contents](#top) | [References](#references) >\n",
    "<a id=\"learningOutcomes\"></a>\n",
    "***\n",
    "######  Learning Outcomes\n",
    "***"
   ]
  },
  {
   "cell_type": "markdown",
   "id": "45813896",
   "metadata": {},
   "source": [
    "The aim of the module is to provide a comprehensive grounding in solving computational problems and designing algorithms.\n",
    "\n",
    "1. Compare data models and architectures used in applications.\n",
    "\n",
    "2. Write software applications that adhere to common standards and protocols.\n",
    "\n",
    "3. Explain the basic mechanisms by which application data is transmitted across the internet.\n",
    "\n",
    "4. Design and utilise application programming interfaces for interacting with data sources."
   ]
  },
  {
   "cell_type": "markdown",
   "id": "d272d16d",
   "metadata": {},
   "source": [
    "< [Table of Contents](#top) | [References](#references) >\n",
    "<a id=\"topicRoadmap\"></a>\n",
    "***\n",
    "###### Topic Roadmap\n",
    "***"
   ]
  },
  {
   "cell_type": "markdown",
   "id": "f2653561",
   "metadata": {},
   "source": [
    "- HyperText Transfer Protocol (HTTP)\n",
    "\n",
    "- Uniform Resource Locator (URL) encoding\n",
    "\n",
    "- REpresentational State Transfer (REST)\n",
    "\n",
    "- JavaScript Object Notation (JSON)\n",
    "\n",
    "- eXtensible Markup Language (XML)\n",
    "\n",
    "- Document Object Model (DOM)\n",
    "\n",
    "- Document-oriented storage\n",
    "\n",
    "- Client-Server\n",
    "\n",
    "- Request-Response\n",
    "\n",
    "- Asynchronous Javascript And Xml (AJAX)\n",
    "\n",
    "- Sessions"
   ]
  },
  {
   "cell_type": "markdown",
   "id": "08daf04b",
   "metadata": {},
   "source": [
    "***\n",
    "## END"
   ]
  },
  {
   "cell_type": "markdown",
   "id": "627c0b5d",
   "metadata": {},
   "source": [
    "< [Table of Contents](#top) | [Abstract](#abstract) | [Solution](#solution) | [Conclusion](#conclusion) | [References](#references) >\n",
    "<a id=\"introduction\"></a>\n",
    "***\n",
    "## Introduction\n",
    "***"
   ]
  },
  {
   "cell_type": "markdown",
   "id": "e2429bf1",
   "metadata": {},
   "source": [
    "- module introduces the various means of retrieving data from external sources (CSO - weather servers - stock information) - looking at the formats that data can come in (XML - JSON - CSV) and how to retrieve (through an API) and process that data using javascript and python - also explore how to can make data available to the outside world by creating an API (application Programmers interface) using the python module flask [1]"
   ]
  },
  {
   "cell_type": "code",
   "execution_count": null,
   "id": "19d7a145",
   "metadata": {},
   "outputs": [],
   "source": [
    "fFile(nParPath=\"./hide/01-XMLandDOM/DR2 XML and Dom with a bit about html - 25-09-2019.mp4\")\n",
    "fFile(nParPath=\"./hide/01-XMLandDOM/DR1.3 XML and DOM.pptx\")"
   ]
  },
  {
   "cell_type": "markdown",
   "id": "a2cdfc4d",
   "metadata": {},
   "source": [
    "< [Table of Contents](#top) | [References](#references) >\n",
    "<a id=\"introductionXML\"></a>\n",
    "***\n",
    "### XML\n",
    "***"
   ]
  },
  {
   "cell_type": "markdown",
   "id": "d1b91a25",
   "metadata": {},
   "source": [
    "- ``XML`` (eXtensible Markup Language) came about from ``HTML`` and is a useful way of being able to transfer information in general from one machine to another [2]"
   ]
  },
  {
   "cell_type": "markdown",
   "id": "b72d7fd1",
   "metadata": {},
   "source": [
    "- ``XML`` is human readable - can see the following relates to a book which is entitled (``title``) Python Programming and the ``publisher`` is Prentice Hall and the ``author`` is Peter Vanderlinden - the ``book`` has two attributes ``isbn-13`` and ``isbn-10`` - can see its human readable and can understand whats going on [2]"
   ]
  },
  {
   "cell_type": "markdown",
   "id": "d5728c44",
   "metadata": {},
   "source": [
    "```XML\n",
    "<?xml version=\"1.0\" encoding=\"UTF-8\"?>\n",
    "<book isbn-13=\"978-0131774292\" isbn-10=\"0131774298\"> \n",
    "  <title>Python Programming</title> \n",
    "  <publisher>Prentice Hall</publisher> \n",
    "  <author>Peter van der Linden</author> \n",
    "</book>\n",
    "```"
   ]
  },
  {
   "cell_type": "markdown",
   "id": "d3fad778",
   "metadata": {},
   "source": [
    "- ``XML`` looks like ``HTML`` but its different - ``XML`` is a bit more stringent and was designed to carry and represent data with a focus on what the data is - ``HTML`` is designed to send data thats going to be rendered by a browser [2]"
   ]
  },
  {
   "cell_type": "markdown",
   "id": "303f75dd",
   "metadata": {},
   "source": [
    "- ``XML`` has no predefined tags (can put whatever into it) - ``XML`` can describe books just as easily as describing tv shows or whatever - its completely open - ``HTML`` on the other hand is designed to be taken up by browsers so the browser needs to know what the tags mean [2] "
   ]
  },
  {
   "cell_type": "markdown",
   "id": "6e616f54",
   "metadata": {},
   "source": [
    "- the purpose of ``XML`` is to represent information in text form - ``XML`` does not do anything and in addition ``HTML`` also does not do anything - both ``XML`` and ``HTML`` are a means of transferring data from a server to a client with ``HTML`` being the browser [2]"
   ]
  },
  {
   "cell_type": "markdown",
   "id": "d77d9e4f",
   "metadata": {},
   "source": [
    "- ``XML`` has a tree like syntax so theres always a root node and child notes underneath (elements) [2]"
   ]
  },
  {
   "cell_type": "markdown",
   "id": "1aefb289",
   "metadata": {},
   "source": [
    "- starts off with a declaration which is one tag at the top - ``<?`` (the declaration) ``?>`` [2]"
   ]
  },
  {
   "cell_type": "markdown",
   "id": "6477f4cf",
   "metadata": {},
   "source": [
    "```XML\n",
    "<?xml version=\"1.0\" encoding=\"UTF-8\"?>\n",
    "```"
   ]
  },
  {
   "cell_type": "markdown",
   "id": "4f39ec9c",
   "metadata": {},
   "source": [
    "- the ``XML`` must have a single root element that wraps all others (takes over the rest of the document) - starts with tag name ``<root-element>`` and at the end of the document ends with tag name ``</root-element>`` - the end tag is indicated with ``/>`` [2]"
   ]
  },
  {
   "cell_type": "markdown",
   "id": "ea892e19",
   "metadata": {},
   "source": [
    "- the elements are enclosed in angle brackets (``<`` ``>``) and have tags that must start with a letter (many contain a number) - four child elements of which three are called ``child`` - the ``child`` elements can have the same name as each other (note one of the child elements is called ``lone-warrior``) - the elements must all have a start tag and an end tag - ``lone-warrior`` does not have a close tag as it has already its own close tag indicated by the fact it has the ``/>`` at the end of it [2]"
   ]
  },
  {
   "cell_type": "markdown",
   "id": "58cd6fc0",
   "metadata": {},
   "source": [
    "- elements can have attributes which are name-value pairs within the ``<`` ``>`` [2]"
   ]
  },
  {
   "cell_type": "markdown",
   "id": "5e2452a6",
   "metadata": {},
   "source": [
    "- the element ``root-element`` has an attribute name ``attribute-name`` value ``attribute-value`` - first child has an attribute name ``name`` value ``value`` [2]"
   ]
  },
  {
   "cell_type": "markdown",
   "id": "700266a1",
   "metadata": {},
   "source": [
    "- the names of tags / elements / attributes must start with a letter (cannot start with a number) [2]"
   ]
  },
  {
   "cell_type": "markdown",
   "id": "280697ec",
   "metadata": {},
   "source": [
    "- certain characters must be escaped with entity references (to do with encoding) - the entity reference ``&lt`` indicates a less than sign - cannot use ``<`` as it may be interpreted as open tag [2]"
   ]
  },
  {
   "cell_type": "markdown",
   "id": "74dee111",
   "metadata": {},
   "source": [
    "- ``XML`` is case sensitive - ``HTML`` is not always as it depends on the browser [2]"
   ]
  },
  {
   "cell_type": "markdown",
   "id": "df5a52a7",
   "metadata": {},
   "source": [
    "- the root element has four child elements and inside the first child element there is a node which is plain text (data that goes inside the elements) - ``Text`` could also have other children in there and those children could have their own attributes which in turn could have plaintext [2]"
   ]
  },
  {
   "cell_type": "markdown",
   "id": "c156faa3",
   "metadata": {},
   "source": [
    "![XML](https://github.com/SeanOhAileasa/SeanOhAileasa/blob/master/rc/drp/xml/xml.png?raw=true)\n",
    "\n",
    "***(Image) A. Beatty, \"DR2 XML and Dom with a bit about html,\" GMIT, September 2019.***"
   ]
  },
  {
   "cell_type": "markdown",
   "id": "a1e20b9c",
   "metadata": {},
   "source": [
    "- ``breakfast_menu`` with ``food`` items each has a ``name`` and ``price`` and ``description`` and ``calories`` - there are numerous different ways that ``XML`` could be used to represent this - instead of having child elements could put then in as attributes [2]"
   ]
  },
  {
   "cell_type": "markdown",
   "id": "9d438103",
   "metadata": {},
   "source": [
    "```XML\n",
    "<?xml version=\"1.0\" encoding=\"UTF-8\"?> <!-- declaration -->\n",
    "<breakfast_menu> <!-- root element - START -->\n",
    "    <food> <!-- <breakfast_menu> child element - 1 - START -->\n",
    "        <name>root node</name> <!-- <food> child element - START/END -->\n",
    "        <price>P</price>\n",
    "        <description>P</description>\n",
    "        <calories>P</calories>  \n",
    "    </food> <!-- <breakfast_menu> child element - 1 - END -->\n",
    "    <food> <!-- <breakfast_menu> child element - 2 - START -->\n",
    "        <name>P</name>\n",
    "        <price>P</price>\n",
    "        <description>P</description>\n",
    "        <calories>P</calories>        \n",
    "    </food> <!-- <breakfast_menu> child element - 2 - END -->\n",
    "</breakfast_menu> <!-- root element - END -->\n",
    "```"
   ]
  },
  {
   "cell_type": "markdown",
   "id": "c25ce3dc",
   "metadata": {},
   "source": [
    "< [Table of Contents](#top) | [References](#references) >\n",
    "<a id=\"internalRepresentationDOM\"></a>\n",
    "***\n",
    "###### Internal Representation (DOM)\n",
    "***"
   ]
  },
  {
   "cell_type": "markdown",
   "id": "13c418a3",
   "metadata": {},
   "source": [
    " - ``Company`` with two employees (``Employee``) each having an attribute ``category`` and each having three child elements ``FirstName`` and ``LastName`` and ``ContactNo`` [2]"
   ]
  },
  {
   "cell_type": "markdown",
   "id": "c75165db",
   "metadata": {},
   "source": [
    "```XML\n",
    "<?xml version=\"1.0\" encoding=\"UTF-8\"?> <!-- declaration -->\n",
    "<Company> <!-- root element - START -->\n",
    "    <Employee category=\"Technical\"> <!-- <Company> child element - attribute category - 1 - START -->\n",
    "        <FirstName>Joe</FirstName> <!-- <Employee> child element - START/END -->\n",
    "        <LastName>Murphy</LastName>\n",
    "        <ContactNo>1234567890</ContactNo>  \n",
    "    </Employee> <!-- <Company> child element - 1 - END -->\n",
    "    <Employee category=\"Non-Technical\"> <!-- <Company> child element - attribute category - 2 - START -->\n",
    "        <FirstName>Mary</FirstName>\n",
    "        <LastName>Marting</LastName>\n",
    "        <ContactNo>0987654321</ContactNo>\n",
    "    </Employee> <!-- <Company> child element - 2 - END -->\n",
    "</Company> <!-- root element - END -->\n",
    "```"
   ]
  },
  {
   "cell_type": "markdown",
   "id": "a55eea60",
   "metadata": {},
   "source": [
    "- ``XML`` representation internally inside programs - will find lots of functions that allow access to get all the children of a particular element to find the parent or the grandparent [2]"
   ]
  },
  {
   "cell_type": "markdown",
   "id": "c40d0bae",
   "metadata": {},
   "source": [
    "![XML](https://github.com/SeanOhAileasa/SeanOhAileasa/blob/master/rc/drp/xml/companyDOM.png?raw=true)\n",
    "\n",
    "***(Image) A. Beatty, \"DR2 XML and Dom with a bit about html,\" GMIT, September 2019.***"
   ]
  },
  {
   "cell_type": "markdown",
   "id": "cfb640c6",
   "metadata": {},
   "source": [
    "***\n",
    "### END"
   ]
  },
  {
   "cell_type": "markdown",
   "id": "2032a2ae",
   "metadata": {},
   "source": [
    "< [Table of Contents](#top) | [References](#references) >\n",
    "<a id=\"introductionDOM\"></a>\n",
    "***\n",
    "### DOM\n",
    "***"
   ]
  },
  {
   "cell_type": "markdown",
   "id": "de21dcd9",
   "metadata": {},
   "source": [
    "- the document object model ``DOM`` is how computer programs represent ``XML`` internally [2]"
   ]
  },
  {
   "cell_type": "markdown",
   "id": "a4ce58bf",
   "metadata": {},
   "source": [
    "- it allows programs to manipulate ``XML`` (add to / remove from) - obtaining the data from the ``XML`` so that it can analysed later [2]"
   ]
  },
  {
   "cell_type": "markdown",
   "id": "4592dc59",
   "metadata": {},
   "source": [
    "- provides a model of the ``XML`` as a structured group of nodes that have three properties: i) ``type``; ii) ``name`` and; iii) ``value`` - the node ``type`` property determines if it is an element / plaintext / comment / attribute - the node ``name`` property is basically the tag name or attribute name - the node ``value`` property is either the value of the text node / comment / the value of an attribute if its an attribute node [2]"
   ]
  },
  {
   "cell_type": "markdown",
   "id": "d3df911d",
   "metadata": {},
   "source": [
    "- programs can use the ``DOM`` to manipulate the ``XML`` (or ``HTML``) [2]"
   ]
  },
  {
   "cell_type": "markdown",
   "id": "8fd231f1",
   "metadata": {},
   "source": [
    "- using javascript can change ``HTML`` pages by manipulating the underlining ``DOM`` inside the browser - ``document.createElement`` creates a new element inside the ``HTML`` - ``document.createTextNode`` creates new items of text - ``document.element.appendChild`` adds to the ``DOM`` - ``document.getElementByID`` allow access to particular elements of the ``DOM`` to analyse [2]"
   ]
  },
  {
   "cell_type": "markdown",
   "id": "c9a32711",
   "metadata": {},
   "source": [
    "< [Table of Contents](#top) | [References](#references) >\n",
    "<a id=\"introductionDOMTree\"></a>\n",
    "***\n",
    "###### Tree\n",
    "***"
   ]
  },
  {
   "cell_type": "markdown",
   "id": "0cd049d7",
   "metadata": {},
   "source": [
    "- ``HTML`` is stored inside the browser in a ``DOM`` tree - this helps to navigate around the tree to find contents of cells and find parents of cells [8]"
   ]
  },
  {
   "cell_type": "markdown",
   "id": "cecce9eb",
   "metadata": {},
   "source": [
    "< [Table of Contents](#top) | [References](#references) >\n",
    "<a id=\"introductionDOMTreeChild\"></a>\n",
    "***\n",
    "###### Child Node\n",
    "***"
   ]
  },
  {
   "cell_type": "markdown",
   "id": "aad9efcc",
   "metadata": {},
   "source": [
    "- consider the table which has a tag (node or element) ``table`` and one element with a tag ``tr`` and this has three child elements or nodes ``td`` [8]"
   ]
  },
  {
   "cell_type": "markdown",
   "id": "7c4e43d3",
   "metadata": {},
   "source": [
    "- the first ``td`` has a child node of type ``text`` with contents ``data1`` - the second ``td`` has a child node of type ``text`` with contents ``data2`` - the third ``td`` element has one child node of type element ``button`` which has a child node of type ``text`` with value ``output`` [8]\n",
    "\n",
    "```html\n",
    "<table>\n",
    "    <tr>\n",
    "        <td>data1</td>\n",
    "        <td>data2</td>\n",
    "        <td><button onclick=\"fDoRow(this)\">output</button></td>\n",
    "    </tr>\n",
    "</table>\n",
    "```"
   ]
  },
  {
   "cell_type": "markdown",
   "id": "3d4868b9",
   "metadata": {},
   "source": [
    "- visualising ``HTML`` in this way can help to navigate and find the data required out of particular elements [8]"
   ]
  },
  {
   "cell_type": "markdown",
   "id": "5f727360",
   "metadata": {},
   "source": [
    "![Child Nodes](https://github.com/SeanOhAileasa/SeanOhAileasa/blob/master/rc/drp/dom/childNodes.png?raw=true)\n",
    "\n",
    "***(Image) A. Beatty, \"DR2.4 javascript part3,\" GMIT, October 2020.***"
   ]
  },
  {
   "cell_type": "markdown",
   "id": "20ae4268",
   "metadata": {},
   "source": [
    "- knowing the table row ``tr`` element (``rowElement``) can find the contents of the first cell using ``cells[0]`` [8]"
   ]
  },
  {
   "cell_type": "markdown",
   "id": "f6a77a8b",
   "metadata": {},
   "source": [
    "- from this need the first child that is stored inside the ``td`` (``cells[0]``) which is the node of type ``text`` (``firstChild``) and from the ``text`` node can get the content (``textContent``) [2]\n",
    "\n",
    "```javascript\n",
    "rowElement.cells[0].firstChild.textContent\n",
    "```"
   ]
  },
  {
   "cell_type": "markdown",
   "id": "3d5f5c72",
   "metadata": {},
   "source": [
    "< [Table of Contents](#top) | [References](#references) >\n",
    "<a id=\"DOMObjectDocument\"></a>\n",
    "***\n",
    "###### ``document``\n",
    "***"
   ]
  },
  {
   "cell_type": "markdown",
   "id": "379e148a",
   "metadata": {},
   "source": [
    "- object ``document`` represents the web page - to access any ``HTML`` element start with accessing the object ``document`` [6]"
   ]
  },
  {
   "cell_type": "markdown",
   "id": "d1b5f163",
   "metadata": {},
   "source": [
    "< [Table of Contents](#top) | [References](#references) >\n",
    "<a id=\"DOMObjectDocumentMethodgetElementById\"></a>\n",
    "***\n",
    "###### ``getElementById``\n",
    "***"
   ]
  },
  {
   "cell_type": "markdown",
   "id": "b4691753",
   "metadata": {},
   "source": [
    "- to find an element inside the ``HTML`` tree use the object ``document`` method ``getElementById`` [6]"
   ]
  },
  {
   "cell_type": "markdown",
   "id": "a84f40e9",
   "metadata": {},
   "source": [
    "- returns the element that has the attribute ``id`` with the specified value - this method is the most common method in the ``DOM`` and is used almost every time to manipulate or get information from an element on a ``document`` [6]"
   ]
  },
  {
   "cell_type": "markdown",
   "id": "4532119a",
   "metadata": {},
   "source": [
    "- to display something on the page need to find the element by giving it an ``id`` - a ``div`` given an ``id`` then this is the ``id`` of this particular ``div`` [6]\n",
    "\n",
    "```html\n",
    "<div id=\"someID\"></div>\n",
    "```"
   ]
  },
  {
   "cell_type": "markdown",
   "id": "973e297c",
   "metadata": {},
   "source": [
    "- using the object ``document`` method ``getElementById`` pass in the ``id`` of the element - can set the ``innerText`` (inner html) to be some kind of message [6]\n",
    "\n",
    "```html\n",
    "<script>\n",
    "    document.getElementById(\"someID\").innerText=\"some text\"\n",
    "</script>\n",
    "```"
   ]
  },
  {
   "cell_type": "code",
   "execution_count": 1,
   "id": "cf3f7752",
   "metadata": {},
   "outputs": [
    {
     "name": "stdout",
     "output_type": "stream",
     "text": [
      "Writing ele.html\n"
     ]
    }
   ],
   "source": [
    "%%writefile ele.html\n",
    "<!-- [6] -->\n",
    "<html>\n",
    "    <head>\n",
    "        <title>getElementById</title>       \n",
    "    </head>\n",
    "    </body>\n",
    "        <div id=\"messageOut1\">div 1</div>\n",
    "        <div id=\"messageOut2\">div 2</div>    \n",
    "        <div id=\"messageOut3\">div 3</div>        \n",
    "        <script>\n",
    "            document.getElementById(\"messageOut2\").innerText=\"Some Message\";\n",
    "        </script>\n",
    "    </body>\n",
    "</html>"
   ]
  },
  {
   "cell_type": "code",
   "execution_count": 2,
   "id": "d58f7ff1",
   "metadata": {},
   "outputs": [],
   "source": [
    "%%script bash\n",
    "start ele.html"
   ]
  },
  {
   "cell_type": "code",
   "execution_count": 3,
   "id": "953f2331",
   "metadata": {},
   "outputs": [],
   "source": [
    "%%script bash\n",
    "rm -rf ele.html"
   ]
  },
  {
   "cell_type": "code",
   "execution_count": 4,
   "id": "09e554d8",
   "metadata": {},
   "outputs": [],
   "source": [
    "exit()"
   ]
  },
  {
   "cell_type": "markdown",
   "id": "5af644b9",
   "metadata": {},
   "source": [
    "< [Table of Contents](#top) | [References](#references) >\n",
    "<a id=\"DOMObjectDocumentquerySelector\"></a>\n",
    "***\n",
    "###### ``querySelector``\n",
    "***"
   ]
  },
  {
   "cell_type": "markdown",
   "id": "88e8ed6d",
   "metadata": {},
   "source": [
    "- searches all the child nodes of a particular element for nodes that match the query and returns the first one - it is like ``CSS`` selectors and ``JQuery`` selectors [8]"
   ]
  },
  {
   "cell_type": "markdown",
   "id": "6adcaba6",
   "metadata": {},
   "source": [
    "- creating page with multiple inputs and a button - when a user hits the button it reads all the inputs and stores the values into a class then outputs the class to the console [8]"
   ]
  },
  {
   "cell_type": "code",
   "execution_count": 1,
   "id": "73953541",
   "metadata": {},
   "outputs": [
    {
     "name": "stdout",
     "output_type": "stream",
     "text": [
      "Writing qs.html\n"
     ]
    }
   ],
   "source": [
    "%%writefile qs.html\n",
    "<!-- [8] -->\n",
    "<html>\n",
    "    <head>\n",
    "        <title>querySelector</title>       \n",
    "    </head>\n",
    "    </body>\n",
    "        <div id=\"aForm\">\n",
    "            First name: <input type=\"text\" name=\"firstName\" /><br/>\n",
    "            Surname: <input type=\"text\" name=\"surname\" /><br/>\n",
    "            Age: <input type=\"number\" name=\"age\" /><br/>\n",
    "            <button onclick=\"fDoForm()\">GO</button>\n",
    "        </div>\n",
    "        <script>\n",
    "            function fDoForm()\n",
    "            {\n",
    "                var nObjEmployee={}; // store in object\n",
    "                var nForm=document.getElementById(\"aForm\");\n",
    "                console.log(\"function call - fDoForm()\");\n",
    "            }\n",
    "        </script>\n",
    "    </body>\n",
    "</html>"
   ]
  },
  {
   "cell_type": "code",
   "execution_count": 2,
   "id": "fdc2a37f",
   "metadata": {},
   "outputs": [],
   "source": [
    "%%script bash\n",
    "start qs.html"
   ]
  },
  {
   "cell_type": "markdown",
   "id": "19982501",
   "metadata": {},
   "source": [
    "- obtain values from the user inputs [8]"
   ]
  },
  {
   "cell_type": "markdown",
   "id": "ec46c3ec",
   "metadata": {},
   "source": [
    "- to identify the user inputs note the tags are called ``input`` with attributes ``name=firstName`` and ``name=surname`` and ``name=age`` so using a ``querySelector`` [8]"
   ]
  },
  {
   "cell_type": "markdown",
   "id": "788a46ed",
   "metadata": {},
   "source": [
    "- ``querySelector`` parameter tag ``input`` with attribute ``name=???`` [8]\n",
    "\n",
    "```javascript\n",
    ".querySelector(\"tag[attribute='???']\")\n",
    "```"
   ]
  },
  {
   "cell_type": "code",
   "execution_count": 3,
   "id": "926ab2b4",
   "metadata": {},
   "outputs": [
    {
     "name": "stdout",
     "output_type": "stream",
     "text": [
      "Overwriting qs.html\n"
     ]
    }
   ],
   "source": [
    "%%writefile qs.html\n",
    "<!-- [8] -->\n",
    "<html>\n",
    "    <head>\n",
    "        <title>querySelector</title>       \n",
    "    </head>\n",
    "    </body>\n",
    "        <div id=\"aForm\">\n",
    "            First name: <input type=\"text\" name=\"firstName\" /><br/>\n",
    "            Surname: <input type=\"text\" name=\"surname\" /><br/>\n",
    "            Age: <input type=\"number\" name=\"age\" /><br/>\n",
    "            <button onclick=\"fDoForm()\">GO</button>\n",
    "        </div>\n",
    "        <script>\n",
    "            function fDoForm()\n",
    "            {\n",
    "                var nObjEmployee={}; // store in object\n",
    "                var nForm=document.getElementById(\"aForm\");\n",
    "                nObjEmployee.firstName=nForm.querySelector(\"input[name='firstName']\").value;  // get input values\n",
    "                nObjEmployee.surname=nForm.querySelector(\"input[name='surname']\").value; \n",
    "                nObjEmployee.age=nForm.querySelector(\"input[name='age']\").value;\n",
    "                console.log(\"Form Data: \"+JSON.stringify(nObjEmployee));\n",
    "            }\n",
    "        </script>\n",
    "    </body>\n",
    "</html>"
   ]
  },
  {
   "cell_type": "code",
   "execution_count": 4,
   "id": "662fbf2d",
   "metadata": {},
   "outputs": [],
   "source": [
    "%%script bash\n",
    "start qs.html"
   ]
  },
  {
   "cell_type": "code",
   "execution_count": 5,
   "id": "c9aa4210",
   "metadata": {},
   "outputs": [],
   "source": [
    "%%script bash\n",
    "rm -rf qs.html"
   ]
  },
  {
   "cell_type": "code",
   "execution_count": 6,
   "id": "06727948",
   "metadata": {},
   "outputs": [],
   "source": [
    "exit()"
   ]
  },
  {
   "cell_type": "markdown",
   "id": "96bff790",
   "metadata": {},
   "source": [
    "***\n",
    "### END"
   ]
  },
  {
   "cell_type": "markdown",
   "id": "77b0b8aa",
   "metadata": {},
   "source": [
    "< [Table of Contents](#top) | [References](#references) >\n",
    "<a id=\"introductionHTML\"></a>\n",
    "***\n",
    "### HTML\n",
    "***"
   ]
  },
  {
   "cell_type": "code",
   "execution_count": null,
   "id": "733d6a96",
   "metadata": {},
   "outputs": [],
   "source": [
    "fFile(nParPath=\"./hide/01-XMLandDOM/DR3 html - 26-09-2019.mp4\")"
   ]
  },
  {
   "cell_type": "markdown",
   "id": "43c9f131",
   "metadata": {},
   "source": [
    "- first standard way of transferring data in a human readable way from one machine to another [2]"
   ]
  },
  {
   "cell_type": "markdown",
   "id": "02b29726",
   "metadata": {},
   "source": [
    "- invented by Tim Berners Lee in Cern because he was tired of people having different machines from different countries and he wanted some way to share documents together [2]"
   ]
  },
  {
   "cell_type": "markdown",
   "id": "8b353dad",
   "metadata": {},
   "source": [
    "- invented the first markup language ``HTML`` as a means to encode the data inside documents meaning any particular machine could then read those documents on browsers designed for each machine [2] "
   ]
  },
  {
   "cell_type": "code",
   "execution_count": 1,
   "id": "b1c9fe17",
   "metadata": {},
   "outputs": [
    {
     "name": "stdout",
     "output_type": "stream",
     "text": [
      "Writing f.html\n"
     ]
    }
   ],
   "source": [
    "%%writefile f.html\n",
    "<!-- [3] -->\n",
    "<html>\n",
    "    <head>\n",
    "        <title>first page</title>\n",
    "    </head>\n",
    "    <body>\n",
    "        <h1>f page</h1>\n",
    "        <p>f para</p>\n",
    "    </body>\n",
    "</html>"
   ]
  },
  {
   "cell_type": "code",
   "execution_count": 2,
   "id": "984c39a7",
   "metadata": {},
   "outputs": [],
   "source": [
    "%%script bash\n",
    "start f.html"
   ]
  },
  {
   "cell_type": "code",
   "execution_count": 3,
   "id": "5a0bb2b4",
   "metadata": {},
   "outputs": [],
   "source": [
    "%%script bash\n",
    "rm -rf f.html"
   ]
  },
  {
   "cell_type": "code",
   "execution_count": 4,
   "id": "ec7c2fec",
   "metadata": {},
   "outputs": [],
   "source": [
    "exit()"
   ]
  },
  {
   "cell_type": "markdown",
   "id": "0d729d51",
   "metadata": {},
   "source": [
    "< [Table of Contents](#top) | [References](#references) >\n",
    "<a id=\"introductionHTMLTag\"></a>\n",
    "***\n",
    "###### Tag\n",
    "***"
   ]
  },
  {
   "cell_type": "markdown",
   "id": "d1d214e0",
   "metadata": {},
   "source": [
    "&#x1F6A7;"
   ]
  },
  {
   "cell_type": "markdown",
   "id": "1249846e",
   "metadata": {},
   "source": [
    "< [Table of Contents](#top) | [References](#references) >\n",
    "<a id=\"introductionHTMLTagTable\"></a>\n",
    "***\n",
    "###### ```table```\n",
    "***"
   ]
  },
  {
   "cell_type": "code",
   "execution_count": 1,
   "id": "e5770637",
   "metadata": {},
   "outputs": [
    {
     "name": "stdout",
     "output_type": "stream",
     "text": [
      "Writing t.html\n"
     ]
    }
   ],
   "source": [
    "%%writefile t.html\n",
    "<!-- [3] --->\n",
    "<html>\n",
    "    <head>\n",
    "        <title>table</title>\n",
    "    </head>\n",
    "    <body>\n",
    "        <h1>a table</h1>\n",
    "        <table>\n",
    "            <tr>\n",
    "                <th>id</th>\n",
    "                <th>name</th>\n",
    "                <th>age</th>                \n",
    "            </tr>\n",
    "            <tr>\n",
    "                <td>1</td>\n",
    "                <td>joe</td>\n",
    "                <td>46</td>\n",
    "                <td>46</td>                \n",
    "            </tr>\n",
    "            <tr>\n",
    "                <td>2</td>\n",
    "                <td>Mary</td>\n",
    "                <td>46</td>\n",
    "            </tr> \n",
    "            <tr>\n",
    "                <td>3</td>\n",
    "                <td>mick</td>\n",
    "                <td>46</td>\n",
    "            </tr> \n",
    "            <tr>\n",
    "                <td>45</td>\n",
    "                <td>joe</td>\n",
    "                <td>46</td>\n",
    "            </tr>             \n",
    "        </table>\n",
    "    </body>\n",
    "</html>"
   ]
  },
  {
   "cell_type": "code",
   "execution_count": 2,
   "id": "0c41d501",
   "metadata": {},
   "outputs": [],
   "source": [
    "%%script bash\n",
    "start t.html"
   ]
  },
  {
   "cell_type": "code",
   "execution_count": 3,
   "id": "e51122a8",
   "metadata": {},
   "outputs": [],
   "source": [
    "exit()"
   ]
  },
  {
   "cell_type": "markdown",
   "id": "47550bd8",
   "metadata": {},
   "source": [
    "< [Table of Contents](#top) | [References](#references) >\n",
    "<a id=\"introductionHTMLTagForm\"></a>\n",
    "***\n",
    "###### ```form```\n",
    "***"
   ]
  },
  {
   "cell_type": "markdown",
   "id": "59dec883",
   "metadata": {},
   "source": [
    "- attributes ``action`` and ``method`` - the ``action`` attribute calls a page on button click - the ``method`` (``GET`` / ``POST``) attribute specifies ``HTTP`` method to be used when submitting the form data which is the parameter appearing after the ``?`` in the URL when the page is rendered [3]\n",
    "\n",
    "```html\n",
    "<form action=\"t.html\" method=\"GET\">\n",
    "```"
   ]
  },
  {
   "cell_type": "markdown",
   "id": "5a26fd96",
   "metadata": {},
   "source": [
    "- ``input`` attribute ``value`` is the default value [3]\n",
    "\n",
    "```html\n",
    "<input type=\"text\" value=\"Joe\">\n",
    "```"
   ]
  },
  {
   "cell_type": "markdown",
   "id": "a738eea7",
   "metadata": {},
   "source": [
    "- ``input`` attribute ``name`` is the value of the parameter ``firstName`` (user input) [3]\n",
    "\n",
    "```html\n",
    "<input type=\"text\" value=\"Joe\" name=\"firstName\">\n",
    "```"
   ]
  },
  {
   "cell_type": "code",
   "execution_count": 1,
   "id": "18695b13",
   "metadata": {},
   "outputs": [
    {
     "name": "stdout",
     "output_type": "stream",
     "text": [
      "Writing f.html\n"
     ]
    }
   ],
   "source": [
    "%%writefile f.html\n",
    "<!-- [3] -->\n",
    "<html>\n",
    "    <head>\n",
    "        <title>a form</title>\n",
    "    </head>\n",
    "    <body>\n",
    "        <h1>form</h1>\n",
    "        <form action=\"t.html\" method=\"GET\">\n",
    "        name <input type=\"text\" value=\"Joe\" name=\"firstName\"></input><br/>\n",
    "        age <input type=\"number\"></input><br/>\n",
    "        county\n",
    "            <select name=\"county\">\n",
    "                <option value=\"g\">Galway</option>\n",
    "                <option value=\"c\">Cork</option>\n",
    "                <option value=\"d\">Dublin</option>\n",
    "            </select>\n",
    "            <button>go</button>\n",
    "        </form>\n",
    "    </body>\n",
    "</html>"
   ]
  },
  {
   "cell_type": "code",
   "execution_count": 2,
   "id": "ab070c0a",
   "metadata": {},
   "outputs": [],
   "source": [
    "%%script bash\n",
    "start f.html"
   ]
  },
  {
   "cell_type": "code",
   "execution_count": 3,
   "id": "64562eed",
   "metadata": {},
   "outputs": [],
   "source": [
    "%%script bash\n",
    "rm -rf t.html f.html"
   ]
  },
  {
   "cell_type": "code",
   "execution_count": 4,
   "id": "ac59b426",
   "metadata": {},
   "outputs": [],
   "source": [
    "exit()"
   ]
  },
  {
   "cell_type": "markdown",
   "id": "b82210e7",
   "metadata": {},
   "source": [
    "< [Table of Contents](#top) | [References](#references) >\n",
    "<a id=\"introductionHTMLTagDiv\"></a>\n",
    "***\n",
    "###### ```div```\n",
    "***"
   ]
  },
  {
   "cell_type": "markdown",
   "id": "9b5ee693",
   "metadata": {},
   "source": [
    "- group together other elements [3] (area on the page) [4]"
   ]
  },
  {
   "cell_type": "markdown",
   "id": "daa39d53",
   "metadata": {},
   "source": [
    "- attribute ``id`` used to find area (to either create / view / delete / or do different things) - handy to have the page divided into different sections [4]"
   ]
  },
  {
   "cell_type": "code",
   "execution_count": 1,
   "id": "19b3e07f",
   "metadata": {},
   "outputs": [
    {
     "name": "stdout",
     "output_type": "stream",
     "text": [
      "Writing d.html\n"
     ]
    }
   ],
   "source": [
    "%%writefile d.html\n",
    "<!-- [4] -->\n",
    "<html>\n",
    "    <head>\n",
    "        <title>div</title>\n",
    "    </head>\n",
    "    <body>\n",
    "        <h1>header</h1>\n",
    "        <div>area 1</div>\n",
    "        <div>area 2</div>\n",
    "        <div>area 3</div>\n",
    "    </body>\n",
    "<html>"
   ]
  },
  {
   "cell_type": "code",
   "execution_count": 2,
   "id": "7b5bb12d",
   "metadata": {},
   "outputs": [],
   "source": [
    "%%script bash\n",
    "start d.html"
   ]
  },
  {
   "cell_type": "code",
   "execution_count": 3,
   "id": "69a49e88",
   "metadata": {},
   "outputs": [],
   "source": [
    "%%script bash\n",
    "rm -rf d.html"
   ]
  },
  {
   "cell_type": "code",
   "execution_count": 4,
   "id": "66f16a5d",
   "metadata": {},
   "outputs": [],
   "source": [
    "exit()"
   ]
  },
  {
   "cell_type": "markdown",
   "id": "03fd0220",
   "metadata": {},
   "source": [
    "< [Table of Contents](#top) | [References](#references) >\n",
    "<a id=\"introductionscript\"></a>\n",
    "***\n",
    "###### ``script``\n",
    "***"
   ]
  },
  {
   "cell_type": "markdown",
   "id": "f4431dfa",
   "metadata": {},
   "source": [
    "- [javascript](#javascript) put between ``script`` - these tags can be either defined at the top of the page ``head`` or put at the bottom of the ``body`` and gets run as the browser loads in the code [6]"
   ]
  },
  {
   "cell_type": "markdown",
   "id": "dea6377b",
   "metadata": {},
   "source": [
    "< [Table of Contents](#top) | [References](#references) >\n",
    "<a id=\"introductionHTMLAttribute\"></a>\n",
    "***\n",
    "###### Attribute\n",
    "***"
   ]
  },
  {
   "cell_type": "markdown",
   "id": "6039c342",
   "metadata": {},
   "source": [
    "- attributes ``id`` and ``class`` are not used for the structure of the page but used by ``CSS`` and ``JS`` in order to identify individual elements inside the page [3]"
   ]
  },
  {
   "cell_type": "markdown",
   "id": "d010f84e",
   "metadata": {},
   "source": [
    "< [Table of Contents](#top) | [References](#references) >\n",
    "<a id=\"introductionHTMLstyle\"></a>\n",
    "***\n",
    "###### ``style``\n",
    "***"
   ]
  },
  {
   "cell_type": "markdown",
   "id": "f43d1505",
   "metadata": {},
   "source": [
    "&#x1F6A7; "
   ]
  },
  {
   "cell_type": "markdown",
   "id": "c42b1658",
   "metadata": {},
   "source": [
    "< [Table of Contents](#top) | [References](#references) >\n",
    "<a id=\"introductionHTMLid\"></a>\n",
    "***\n",
    "###### ``id``\n",
    "***"
   ]
  },
  {
   "cell_type": "markdown",
   "id": "93da3fe8",
   "metadata": {},
   "source": [
    "- specify a unique ``id`` for ``HTML`` element [6]"
   ]
  },
  {
   "cell_type": "markdown",
   "id": "77fd41b7",
   "metadata": {},
   "source": [
    "< [Table of Contents](#top) | [References](#references) >\n",
    "<a id=\"introductionHTMLclass\"></a>\n",
    "***\n",
    "###### ``class``\n",
    "***"
   ]
  },
  {
   "cell_type": "markdown",
   "id": "c878ed6b",
   "metadata": {},
   "source": [
    "- the ``class`` attribute specifies one or more classnames for an element [0]"
   ]
  },
  {
   "cell_type": "markdown",
   "id": "2af270ca",
   "metadata": {},
   "source": [
    "- mostly used to point to a class in a style sheet however it can also be used by ``JS`` via the ``HTML DOM`` to make changes to ``HTML`` elements with a specified class [0]"
   ]
  },
  {
   "cell_type": "code",
   "execution_count": 1,
   "id": "404548b9",
   "metadata": {},
   "outputs": [
    {
     "name": "stdout",
     "output_type": "stream",
     "text": [
      "Writing classAttribute.html\n"
     ]
    }
   ],
   "source": [
    "%%writefile classAttribute.html\n",
    "<!-- [0] -->\n",
    "<html>\n",
    "    <head>\n",
    "        <title>class attribute</title>\n",
    "        <style>\n",
    "            h1.intro{\n",
    "                color:blue;\n",
    "            }\n",
    "            p.important{\n",
    "                color:green;\n",
    "            }\n",
    "        </style>\n",
    "    </head>\n",
    "    </body>\n",
    "        <h1 class=\"intro\">Header 1</h1>\n",
    "        <p>paragraph.</p>\n",
    "        <p class=\"important\">this is an important paragraph</p>\n",
    "    </body>\n",
    "</html>"
   ]
  },
  {
   "cell_type": "code",
   "execution_count": 2,
   "id": "bd91e14c",
   "metadata": {},
   "outputs": [],
   "source": [
    "%%script bash\n",
    "start classAttribute.html"
   ]
  },
  {
   "cell_type": "code",
   "execution_count": 3,
   "id": "427bc497",
   "metadata": {},
   "outputs": [],
   "source": [
    "%%script bash\n",
    "rm -rf classAttribute.html"
   ]
  },
  {
   "cell_type": "code",
   "execution_count": 4,
   "id": "6531a14d",
   "metadata": {},
   "outputs": [],
   "source": [
    "exit()"
   ]
  },
  {
   "cell_type": "markdown",
   "id": "d48d072a",
   "metadata": {},
   "source": [
    "< [Table of Contents](#top) | [References](#references) >\n",
    "<a id=\"introductionHTMLonclick\"></a>\n",
    "***\n",
    "###### ``onclick``\n",
    "***"
   ]
  },
  {
   "cell_type": "code",
   "execution_count": 1,
   "id": "3d80d39b",
   "metadata": {},
   "outputs": [
    {
     "name": "stdout",
     "output_type": "stream",
     "text": [
      "Writing e.html\n"
     ]
    }
   ],
   "source": [
    "%%writefile e.html\n",
    "<!-- [0] -->\n",
    "<html>\n",
    "    <head>\n",
    "        <title>onclick</title>       \n",
    "    </head>\n",
    "    </body>\n",
    "        <div id=\"demo\">div 1</div>     \n",
    "        <button onclick=\"document.getElementById('demo').innerHTML=Date()\">The time is?</button>\n",
    "    </body>\n",
    "</html>"
   ]
  },
  {
   "cell_type": "code",
   "execution_count": 2,
   "id": "3cd1d603",
   "metadata": {},
   "outputs": [],
   "source": [
    "%%script bash\n",
    "start e.html"
   ]
  },
  {
   "cell_type": "code",
   "execution_count": 3,
   "id": "cef1b3b2",
   "metadata": {},
   "outputs": [],
   "source": [
    "%%script bash\n",
    "rm -rf e.html"
   ]
  },
  {
   "cell_type": "code",
   "execution_count": 4,
   "id": "c38603b6",
   "metadata": {},
   "outputs": [],
   "source": [
    "exit()"
   ]
  },
  {
   "cell_type": "markdown",
   "id": "c8cf6b78",
   "metadata": {},
   "source": [
    "< [Table of Contents](#top) | [References](#references) >\n",
    "<a id=\"introductionHTMLonchange\"></a>\n",
    "***\n",
    "###### ``onchange``\n",
    "***"
   ]
  },
  {
   "cell_type": "markdown",
   "id": "c60fa466",
   "metadata": {},
   "source": [
    "&#x1F6A7;"
   ]
  },
  {
   "cell_type": "markdown",
   "id": "ef6a29bc",
   "metadata": {},
   "source": [
    "< [Table of Contents](#top) | [References](#references) >\n",
    "<a id=\"introductionscriptAPI\"></a>\n",
    "***\n",
    "###### API\n",
    "***"
   ]
  },
  {
   "cell_type": "markdown",
   "id": "4df4a16b",
   "metadata": {},
   "source": [
    "&#x1F6A7;"
   ]
  },
  {
   "cell_type": "markdown",
   "id": "1bb93a04",
   "metadata": {},
   "source": [
    "< [Table of Contents](#top) | [References](#references) >\n",
    "<a id=\"introductionscriptAPIconsole\"></a>\n",
    "***\n",
    "###### ``console``\n",
    "***"
   ]
  },
  {
   "cell_type": "markdown",
   "id": "62ec966b",
   "metadata": {},
   "source": [
    "- object ``console`` method ``log`` writes a message to the console [[w3schools](https://web.archive.org/web/20201010090446/https://www.w3schools.com/jsref/met_console_log.asp)]"
   ]
  },
  {
   "cell_type": "markdown",
   "id": "22005d56",
   "metadata": {},
   "source": [
    "- print to the console and not put out to the web page itself (developer tools - console) [6]"
   ]
  },
  {
   "cell_type": "code",
   "execution_count": 1,
   "id": "c35bea04",
   "metadata": {},
   "outputs": [
    {
     "name": "stdout",
     "output_type": "stream",
     "text": [
      "Writing c.html\n"
     ]
    }
   ],
   "source": [
    "%%writefile c.html\n",
    "<!-- [6] -->\n",
    "<meta charset=\"UTF-8\">\n",
    "<html>\n",
    "    <head>\n",
    "        <title>Testing</title>\n",
    "    </head>\n",
    "    </body>\n",
    "        <script>\n",
    "            <!-- DOM - object console - method log -->\n",
    "            console.log(\"Test\");\n",
    "        </script>\n",
    "    </body>\n",
    "</html>"
   ]
  },
  {
   "cell_type": "code",
   "execution_count": 2,
   "id": "c13786fc",
   "metadata": {},
   "outputs": [],
   "source": [
    "%%script bash\n",
    "start c.html"
   ]
  },
  {
   "cell_type": "markdown",
   "id": "3f0de3b5",
   "metadata": {},
   "source": [
    "![api](https://github.com/SeanOhAileasa/SeanOhAileasa/blob/master/rc/drp/api/api.png?raw=true)"
   ]
  },
  {
   "cell_type": "code",
   "execution_count": 3,
   "id": "d25b6769",
   "metadata": {},
   "outputs": [],
   "source": [
    "%%script bash\n",
    "rm -rf c.html"
   ]
  },
  {
   "cell_type": "code",
   "execution_count": 4,
   "id": "319f040b",
   "metadata": {},
   "outputs": [],
   "source": [
    "exit()"
   ]
  },
  {
   "cell_type": "markdown",
   "id": "86194942",
   "metadata": {},
   "source": [
    "< [Table of Contents](#top) | [References](#references) >\n",
    "<a id=\"introductionHTMLTagTableFormLAB\"></a>\n",
    "***\n",
    "###### Lab\n",
    "***"
   ]
  },
  {
   "cell_type": "code",
   "execution_count": null,
   "id": "ae49bfb3",
   "metadata": {},
   "outputs": [],
   "source": [
    "fFile(nParPath=\"./hide/01-XMLandDOM/DR3b Lab01-html doing - 26-09-2019.mp4\")\n",
    "fFile(nParPath=\"./hide/01-XMLandDOM/Lab01-html.pdf\")"
   ]
  },
  {
   "cell_type": "markdown",
   "id": "ac63e6d1",
   "metadata": {},
   "source": [
    "- create web page ``carviewer.html`` [4]"
   ]
  },
  {
   "cell_type": "markdown",
   "id": "dcd66330",
   "metadata": {},
   "source": [
    "![carviewer](https://github.com/SeanOhAileasa/SeanOhAileasa/blob/master/rc/drp/html/carviewer.png?raw=true)"
   ]
  },
  {
   "cell_type": "markdown",
   "id": "c659bcfa",
   "metadata": {},
   "source": [
    "- standard tags ``head`` and ``body`` [4]"
   ]
  },
  {
   "cell_type": "code",
   "execution_count": 1,
   "id": "ccc316ef",
   "metadata": {},
   "outputs": [
    {
     "name": "stdout",
     "output_type": "stream",
     "text": [
      "Writing carviewer.html\n"
     ]
    }
   ],
   "source": [
    "%%writefile carviewer.html\n",
    "<!-- [4] -->\n",
    "<html>\n",
    "    <head>\n",
    "        <title>View cars</title>\n",
    "    </head>\n",
    "    <body>\n",
    "    </body>\n",
    "</html>"
   ]
  },
  {
   "cell_type": "code",
   "execution_count": 2,
   "id": "9b3c6968",
   "metadata": {},
   "outputs": [],
   "source": [
    "%%script bash\n",
    "start carviewer.html"
   ]
  },
  {
   "cell_type": "markdown",
   "id": "85f8d38a",
   "metadata": {},
   "source": [
    "- header tag ``h1`` and three division tags ``div`` for i) button and ii) table and; iii) form [4]"
   ]
  },
  {
   "cell_type": "code",
   "execution_count": 3,
   "id": "49111051",
   "metadata": {},
   "outputs": [
    {
     "name": "stdout",
     "output_type": "stream",
     "text": [
      "Overwriting carviewer.html\n"
     ]
    }
   ],
   "source": [
    "%%writefile carviewer.html\n",
    "<!-- [4] -->\n",
    "<html>\n",
    "    <head>\n",
    "        <title>View cars</title>\n",
    "    </head>\n",
    "    <body>\n",
    "        <h1>Cars</h1>\n",
    "        <div>create button</div>\n",
    "        <div>table</div>\n",
    "        <div>form</div>\n",
    "    </body>\n",
    "</html>"
   ]
  },
  {
   "cell_type": "code",
   "execution_count": 4,
   "id": "d34cf7b9",
   "metadata": {},
   "outputs": [],
   "source": [
    "%%script bash\n",
    "start carviewer.html"
   ]
  },
  {
   "cell_type": "markdown",
   "id": "114e468d",
   "metadata": {},
   "source": [
    "- code ``create button`` putting attribute ``id`` later [4]"
   ]
  },
  {
   "cell_type": "code",
   "execution_count": 5,
   "id": "bfcf685e",
   "metadata": {},
   "outputs": [
    {
     "name": "stdout",
     "output_type": "stream",
     "text": [
      "Overwriting carviewer.html\n"
     ]
    }
   ],
   "source": [
    "%%writefile carviewer.html\n",
    "<!-- [4] -->\n",
    "<html>\n",
    "    <head>\n",
    "        <title>View cars</title>\n",
    "    </head>\n",
    "    <body>\n",
    "        <h1>Cars</h1>\n",
    "        <div><button>Create</button></div>\n",
    "        <div>table</div>\n",
    "        <div>form</div>\n",
    "    </body>\n",
    "</html>"
   ]
  },
  {
   "cell_type": "code",
   "execution_count": 6,
   "id": "b757c378",
   "metadata": {},
   "outputs": [],
   "source": [
    "%%script bash\n",
    "start carviewer.html"
   ]
  },
  {
   "cell_type": "markdown",
   "id": "1d34eb90",
   "metadata": {},
   "source": [
    "- code ``table`` by first specifying the headers ``th`` and include the attribute ``border`` in order to see the table [4]"
   ]
  },
  {
   "cell_type": "code",
   "execution_count": 7,
   "id": "9d3d9b44",
   "metadata": {},
   "outputs": [
    {
     "name": "stdout",
     "output_type": "stream",
     "text": [
      "Overwriting carviewer.html\n"
     ]
    }
   ],
   "source": [
    "%%writefile carviewer.html\n",
    "<!-- [4] -->\n",
    "<html>\n",
    "    <head>\n",
    "        <title>View cars</title>\n",
    "    </head>\n",
    "    <body>\n",
    "        <h1>Cars</h1>\n",
    "        <div><button>Create</button></div>\n",
    "        <div>\n",
    "            <table border=\"1\">\n",
    "            <tr>\n",
    "                <th>Reg</th>\n",
    "                <th>Make</th>\n",
    "                <th>Model</th>\n",
    "                <th>Price</th>\n",
    "                <th>Update</th>\n",
    "                <th>Delete</th>\n",
    "            </tr>\n",
    "        </div>\n",
    "        <div>form</div>\n",
    "    </body>\n",
    "</html>"
   ]
  },
  {
   "cell_type": "code",
   "execution_count": 8,
   "id": "ed3b44ab",
   "metadata": {},
   "outputs": [],
   "source": [
    "%%script bash\n",
    "start carviewer.html"
   ]
  },
  {
   "cell_type": "markdown",
   "id": "bed6cc0c",
   "metadata": {},
   "source": [
    "- add each row including ``button`` to update / delete [4]"
   ]
  },
  {
   "cell_type": "code",
   "execution_count": 9,
   "id": "7cea7c20",
   "metadata": {},
   "outputs": [
    {
     "name": "stdout",
     "output_type": "stream",
     "text": [
      "Overwriting carviewer.html\n"
     ]
    }
   ],
   "source": [
    "%%writefile carviewer.html\n",
    "<!-- [4] -->\n",
    "<html>\n",
    "    <head>\n",
    "        <title>View cars</title>\n",
    "    </head>\n",
    "    <body>\n",
    "        <h1>Cars</h1>\n",
    "        <div> <button>Create</button> </div>\n",
    "        <div>\n",
    "            <table border=\"1\">\n",
    "                <tr>\n",
    "                    <th>Reg</th>\n",
    "                    <th>Make</th>\n",
    "                    <th>Model</th>\n",
    "                    <th>Price</th>\n",
    "                    <th>Update</th>\n",
    "                    <th>Delete</th>\n",
    "                </tr>\n",
    "                <tr>\n",
    "                    <td>191 MO 123</td>\n",
    "                    <td>Ford</td>\n",
    "                    <td>Modeo</td>\n",
    "                    <td>25,000</td>\n",
    "                    <td><button>Update</button></td>\n",
    "                    <td><button>Delete</button></td>                \n",
    "                </tr>\n",
    "                <tr>\n",
    "                    <td>12 D 123</td>\n",
    "                    <td>Fiat</td>\n",
    "                    <td>Punto</td>\n",
    "                    <td>4,000</td>\n",
    "                    <td><button>Update</button></td>\n",
    "                    <td><button>Delete</button></td>                \n",
    "                </tr>\n",
    "                <tr>\n",
    "                    <td>08 G 123</td>\n",
    "                    <td>Nissan</td>\n",
    "                    <td>Almera</td>\n",
    "                    <td>500</td>\n",
    "                    <td><button>Update</button></td>\n",
    "                    <td><button>Delete</button></td>                \n",
    "                </tr>\n",
    "            </table>\n",
    "        </div>\n",
    "        <div>form</div>\n",
    "    </body>\n",
    "<html>"
   ]
  },
  {
   "cell_type": "code",
   "execution_count": 10,
   "id": "c249c6e4",
   "metadata": {},
   "outputs": [],
   "source": [
    "%%script bash\n",
    "start carviewer.html"
   ]
  },
  {
   "cell_type": "markdown",
   "id": "0fc8af03",
   "metadata": {},
   "source": [
    "- code the ``form`` albeit instead using ``div`` (not need tag ``form``) - at the moment only require the inputs given this is not going to be submitting to the server (want to look nice - updated later with javascript [4]"
   ]
  },
  {
   "cell_type": "code",
   "execution_count": 11,
   "id": "3af154e2",
   "metadata": {},
   "outputs": [
    {
     "name": "stdout",
     "output_type": "stream",
     "text": [
      "Overwriting carviewer.html\n"
     ]
    }
   ],
   "source": [
    "%%writefile carviewer.html\n",
    "<!-- [4] -->\n",
    "<html>\n",
    "    <head>\n",
    "        <title>View cars</title>\n",
    "    </head>\n",
    "    <body>\n",
    "        <h1>Cars</h1>\n",
    "        <div> <button>Create</button> </div>\n",
    "        <div>\n",
    "            <table border=\"1\">\n",
    "                <tr>\n",
    "                    <th>Reg</th>\n",
    "                    <th>Make</th>\n",
    "                    <th>Model</th>\n",
    "                    <th>Price</th>\n",
    "                    <th>Update</th>\n",
    "                    <th>Delete</th>\n",
    "                </tr>\n",
    "                <tr>\n",
    "                    <td>191 MO 123</td>\n",
    "                    <td>Ford</td>\n",
    "                    <td>Modeo</td>\n",
    "                    <td>25,000</td>\n",
    "                    <td><button>Update</button></td>\n",
    "                    <td><button>Delete</button></td>                \n",
    "                </tr>\n",
    "                <tr>\n",
    "                    <td>12 D 123</td>\n",
    "                    <td>Fiat</td>\n",
    "                    <td>Punto</td>\n",
    "                    <td>4,000</td>\n",
    "                    <td><button>Update</button></td>\n",
    "                    <td><button>Delete</button></td>                \n",
    "                </tr>\n",
    "                <tr>\n",
    "                    <td>08 G 123</td>\n",
    "                    <td>Nissan</td>\n",
    "                    <td>Almera</td>\n",
    "                    <td>500</td>\n",
    "                    <td><button>Update</button></td>\n",
    "                    <td><button>Delete</button></td>                \n",
    "                </tr>\n",
    "            </table>\n",
    "        </div>\n",
    "        <div>\n",
    "            Reg<input type=\"text\" name=\"Reg\"/><br/>\n",
    "            Make\n",
    "                <select name=\"make\">\n",
    "                    <option value=\"Ford\">Ford</option>\n",
    "                    <option value=\"Fiat\">Fiat</option>\n",
    "                    <option value=\"Nissan\">Nissan</option>\n",
    "                </select><br/>\n",
    "            Model<input type=\"text\" name=\"model\"><br/>\n",
    "            Price<input type=\"number\" name=\"price\"><br/>\n",
    "        </div>\n",
    "    </body>\n",
    "<html>"
   ]
  },
  {
   "cell_type": "code",
   "execution_count": 12,
   "id": "8c25d643",
   "metadata": {},
   "outputs": [],
   "source": [
    "%%script bash\n",
    "start carviewer.html"
   ]
  },
  {
   "cell_type": "markdown",
   "id": "7df0540f",
   "metadata": {},
   "source": [
    "- create two buttons [4]"
   ]
  },
  {
   "cell_type": "markdown",
   "id": "b0d0594d",
   "metadata": {},
   "source": [
    "- using ``span`` means do not put in any linebreak - putting the buttons within ``span`` given the need to be able to find these later on with javascript because only one of these buttons will be displayed depending on whether the form is used to update the car or delete the car [4]"
   ]
  },
  {
   "cell_type": "code",
   "execution_count": 13,
   "id": "7832f6ad",
   "metadata": {},
   "outputs": [
    {
     "name": "stdout",
     "output_type": "stream",
     "text": [
      "Overwriting carviewer.html\n"
     ]
    }
   ],
   "source": [
    "%%writefile carviewer.html\n",
    "<!-- [4] -->\n",
    "<html>\n",
    "    <head>\n",
    "        <title>View cars</title>\n",
    "    </head>\n",
    "    <body>\n",
    "        <h1>Cars</h1>\n",
    "        <div> <button>Create</button> </div>\n",
    "        <div>\n",
    "            <table border=\"1\">\n",
    "                <tr>\n",
    "                    <th>Reg</th>\n",
    "                    <th>Make</th>\n",
    "                    <th>Model</th>\n",
    "                    <th>Price</th>\n",
    "                    <th>Update</th>\n",
    "                    <th>Delete</th>\n",
    "                </tr>\n",
    "                <tr>\n",
    "                    <td>191 MO 123</td>\n",
    "                    <td>Ford</td>\n",
    "                    <td>Modeo</td>\n",
    "                    <td>25,000</td>\n",
    "                    <td><button>Update</button></td>\n",
    "                    <td><button>Delete</button></td>                \n",
    "                </tr>\n",
    "                <tr>\n",
    "                    <td>12 D 123</td>\n",
    "                    <td>Fiat</td>\n",
    "                    <td>Punto</td>\n",
    "                    <td>4,000</td>\n",
    "                    <td><button>Update</button></td>\n",
    "                    <td><button>Delete</button></td>                \n",
    "                </tr>\n",
    "                <tr>\n",
    "                    <td>08 G 123</td>\n",
    "                    <td>Nissan</td>\n",
    "                    <td>Almera</td>\n",
    "                    <td>500</td>\n",
    "                    <td><button>Update</button></td>\n",
    "                    <td><button>Delete</button></td>                \n",
    "                </tr>\n",
    "            </table>\n",
    "        </div>\n",
    "        <div>\n",
    "            <h2><span>Create a </span><span>update</span> Car</h2>        \n",
    "            Reg<input type=\"text\" name=\"Reg\"/><br/>\n",
    "            Make\n",
    "                <select name=\"make\">\n",
    "                    <option value=\"Ford\">Ford</option>\n",
    "                    <option value=\"Fiat\">Fiat</option>\n",
    "                    <option value=\"Nissan\">Nissan</option>\n",
    "                </select><br/>\n",
    "            Model<input type=\"text\" name=\"model\"><br/>\n",
    "            Price<input type=\"number\" name=\"price\"><br/>\n",
    "            <span><button>Create</button></span>\n",
    "            <span><button>Update</button></span>\n",
    "        </div>\n",
    "    </body>\n",
    "<html>"
   ]
  },
  {
   "cell_type": "code",
   "execution_count": 14,
   "id": "1302d527",
   "metadata": {},
   "outputs": [],
   "source": [
    "%%script bash\n",
    "start carviewer.html"
   ]
  },
  {
   "cell_type": "code",
   "execution_count": 15,
   "id": "1ae07746",
   "metadata": {},
   "outputs": [],
   "source": [
    "exit()"
   ]
  },
  {
   "cell_type": "markdown",
   "id": "e9d138bb",
   "metadata": {},
   "source": [
    "< [Table of Contents](#top) | [References](#references) >\n",
    "<a id=\"introductionHTMLTagTableFormLABBootstrap\"></a>\n",
    "***\n",
    "###### Bootstrap\n",
    "***"
   ]
  },
  {
   "cell_type": "markdown",
   "id": "5080f5e2",
   "metadata": {},
   "source": [
    "- import ``CSS`` to make everything look nice unless the ``HTML`` needs to be customised [4]"
   ]
  },
  {
   "cell_type": "code",
   "execution_count": 1,
   "id": "04d0f946",
   "metadata": {},
   "outputs": [
    {
     "name": "stdout",
     "output_type": "stream",
     "text": [
      "Overwriting carviewer.html\n"
     ]
    }
   ],
   "source": [
    "%%writefile carviewer.html\n",
    "<!-- [4] -->\n",
    "<html>\n",
    "    <head>\n",
    "        <title>View cars</title>\n",
    "        <!-- CSS only -->\n",
    "        <link href=\"https://cdn.jsdelivr.net/npm/bootstrap@5.0.2/dist/css/bootstrap.min.css\" rel=\"stylesheet\" integrity=\"sha384-EVSTQN3/azprG1Anm3QDgpJLIm9Nao0Yz1ztcQTwFspd3yD65VohhpuuCOmLASjC\" crossorigin=\"anonymous\">\n",
    "    </head>\n",
    "    <body>\n",
    "        <h1>Cars</h1>\n",
    "        <div> <button>Create</button> </div>\n",
    "        <div>\n",
    "            <table border=\"1\">\n",
    "                <tr>\n",
    "                    <th>Reg</th>\n",
    "                    <th>Make</th>\n",
    "                    <th>Model</th>\n",
    "                    <th>Price</th>\n",
    "                    <th>Update</th>\n",
    "                    <th>Delete</th>\n",
    "                </tr>\n",
    "                <tr>\n",
    "                    <td>191 MO 123</td>\n",
    "                    <td>Ford</td>\n",
    "                    <td>Modeo</td>\n",
    "                    <td>25,000</td>\n",
    "                    <td><button>Update</button></td>\n",
    "                    <td><button>Delete</button></td>                \n",
    "                </tr>\n",
    "                <tr>\n",
    "                    <td>12 D 123</td>\n",
    "                    <td>Fiat</td>\n",
    "                    <td>Punto</td>\n",
    "                    <td>4,000</td>\n",
    "                    <td><button>Update</button></td>\n",
    "                    <td><button>Delete</button></td>                \n",
    "                </tr>\n",
    "                <tr>\n",
    "                    <td>08 G 123</td>\n",
    "                    <td>Nissan</td>\n",
    "                    <td>Almera</td>\n",
    "                    <td>500</td>\n",
    "                    <td><button>Update</button></td>\n",
    "                    <td><button>Delete</button></td>                \n",
    "                </tr>\n",
    "            </table>\n",
    "        </div>\n",
    "        <div>\n",
    "            <h2><span>Create a </span><span>update</span> Car</h2>        \n",
    "            Reg<input type=\"text\" name=\"Reg\"/><br/>\n",
    "            Make\n",
    "                <select name=\"make\">\n",
    "                    <option value=\"Ford\">Ford</option>\n",
    "                    <option value=\"Fiat\">Fiat</option>\n",
    "                    <option value=\"Nissan\">Nissan</option>\n",
    "                </select><br/>\n",
    "            Model<input type=\"text\" name=\"model\"><br/>\n",
    "            Price<input type=\"number\" name=\"price\"><br/>\n",
    "            <span><button>Create</button></span>\n",
    "            <span><button>Update</button></span>\n",
    "        </div>\n",
    "    </body>\n",
    "<html>"
   ]
  },
  {
   "cell_type": "code",
   "execution_count": 2,
   "id": "71bf2c2e",
   "metadata": {},
   "outputs": [],
   "source": [
    "%%script bash\n",
    "start carviewer.html"
   ]
  },
  {
   "cell_type": "markdown",
   "id": "0bda1d23",
   "metadata": {},
   "source": [
    "![carviewer](https://github.com/SeanOhAileasa/SeanOhAileasa/blob/master/rc/drp/html/bbootstrap.png?raw=true)\n",
    "(***Before Bootstrap***)"
   ]
  },
  {
   "cell_type": "markdown",
   "id": "d3888825",
   "metadata": {},
   "source": [
    "![carviewer](https://github.com/SeanOhAileasa/SeanOhAileasa/blob/master/rc/drp/html/bootstrap.png?raw=true)\n",
    "(***After Bootstrap***)"
   ]
  },
  {
   "cell_type": "markdown",
   "id": "50eb8493",
   "metadata": {},
   "source": [
    "- using bootstrap to make the table look nicer via attribute name ``class`` value ``table`` [4]\n",
    "\n",
    "```html\n",
    "<table class=\"table\">\n",
    "```"
   ]
  },
  {
   "cell_type": "code",
   "execution_count": 3,
   "id": "c168e267",
   "metadata": {},
   "outputs": [
    {
     "name": "stdout",
     "output_type": "stream",
     "text": [
      "Overwriting carviewer.html\n"
     ]
    }
   ],
   "source": [
    "%%writefile carviewer.html\n",
    "<!-- [4] -->\n",
    "<html>\n",
    "    <head>\n",
    "        <title>View cars</title>\n",
    "        <!-- CSS only -->\n",
    "        <link href=\"https://cdn.jsdelivr.net/npm/bootstrap@5.0.2/dist/css/bootstrap.min.css\" rel=\"stylesheet\" integrity=\"sha384-EVSTQN3/azprG1Anm3QDgpJLIm9Nao0Yz1ztcQTwFspd3yD65VohhpuuCOmLASjC\" crossorigin=\"anonymous\">\n",
    "    </head>\n",
    "    <body>\n",
    "        <h1>Cars</h1>\n",
    "        <div> <button>Create</button> </div>\n",
    "        <div>\n",
    "            <table class=\"table\">\n",
    "                <tr>\n",
    "                    <th>Reg</th>\n",
    "                    <th>Make</th>\n",
    "                    <th>Model</th>\n",
    "                    <th>Price</th>\n",
    "                    <th>Update</th>\n",
    "                    <th>Delete</th>\n",
    "                </tr>\n",
    "                <tr>\n",
    "                    <td>191 MO 123</td>\n",
    "                    <td>Ford</td>\n",
    "                    <td>Modeo</td>\n",
    "                    <td>25,000</td>\n",
    "                    <td><button>Update</button></td>\n",
    "                    <td><button>Delete</button></td>                \n",
    "                </tr>\n",
    "                <tr>\n",
    "                    <td>12 D 123</td>\n",
    "                    <td>Fiat</td>\n",
    "                    <td>Punto</td>\n",
    "                    <td>4,000</td>\n",
    "                    <td><button>Update</button></td>\n",
    "                    <td><button>Delete</button></td>                \n",
    "                </tr>\n",
    "                <tr>\n",
    "                    <td>08 G 123</td>\n",
    "                    <td>Nissan</td>\n",
    "                    <td>Almera</td>\n",
    "                    <td>500</td>\n",
    "                    <td><button>Update</button></td>\n",
    "                    <td><button>Delete</button></td>                \n",
    "                </tr>\n",
    "            </table>\n",
    "        </div>\n",
    "        <div>\n",
    "            <h2><span>Create a </span><span>update</span> Car</h2>        \n",
    "            Reg<input type=\"text\" name=\"Reg\"/><br/>\n",
    "            Make\n",
    "                <select name=\"make\">\n",
    "                    <option value=\"Ford\">Ford</option>\n",
    "                    <option value=\"Fiat\">Fiat</option>\n",
    "                    <option value=\"Nissan\">Nissan</option>\n",
    "                </select><br/>\n",
    "            Model<input type=\"text\" name=\"model\"><br/>\n",
    "            Price<input type=\"number\" name=\"price\"><br/>\n",
    "            <span><button>Create</button></span>\n",
    "            <span><button>Update</button></span>\n",
    "        </div>\n",
    "    </body>\n",
    "<html>"
   ]
  },
  {
   "cell_type": "code",
   "execution_count": 4,
   "id": "d16c1004",
   "metadata": {},
   "outputs": [],
   "source": [
    "%%script bash\n",
    "start carviewer.html"
   ]
  },
  {
   "cell_type": "markdown",
   "id": "64fcfcd6",
   "metadata": {},
   "source": [
    "![tablebootstrap](https://github.com/SeanOhAileasa/SeanOhAileasa/blob/master/rc/drp/html/tablebootstrap.png?raw=true)\n",
    "(***Table Bootstrap***)"
   ]
  },
  {
   "cell_type": "code",
   "execution_count": 5,
   "id": "6f4d206b",
   "metadata": {},
   "outputs": [],
   "source": [
    "%%script bash\n",
    "rm -rf carviewer.html"
   ]
  },
  {
   "cell_type": "code",
   "execution_count": 6,
   "id": "606ec95a",
   "metadata": {},
   "outputs": [],
   "source": [
    "exit()"
   ]
  },
  {
   "cell_type": "markdown",
   "id": "3488c3ef",
   "metadata": {},
   "source": [
    "***\n",
    "### END"
   ]
  },
  {
   "cell_type": "markdown",
   "id": "1a1e7a51",
   "metadata": {},
   "source": [
    "< [Table of Contents](#top) | [References](#references) >\n",
    "<a id=\"introductionCSS\"></a>\n",
    "***\n",
    "### CSS\n",
    "***"
   ]
  },
  {
   "cell_type": "markdown",
   "id": "64c96147",
   "metadata": {},
   "source": [
    "- how an element looks can be defined in a number of different places either in another file or in the ``head`` or in the element itself [6]"
   ]
  },
  {
   "cell_type": "markdown",
   "id": "6788c8e6",
   "metadata": {},
   "source": [
    "- the definition thats closest to the element itself will override the others - if it is specified that the whole background should be blue in another file but in a particular element its specified the background should be red then that particular element will determine the background as red [6]"
   ]
  },
  {
   "cell_type": "markdown",
   "id": "664b9f32",
   "metadata": {},
   "source": [
    "< [Table of Contents](#top) | [References](#references) >\n",
    "<a id=\"introductionCSSstyle\"></a>\n",
    "***\n",
    "###### ``style``\n",
    "***"
   ]
  },
  {
   "cell_type": "markdown",
   "id": "ddd5e57a",
   "metadata": {},
   "source": [
    "&#x1F6A7;"
   ]
  },
  {
   "cell_type": "markdown",
   "id": "91211b4d",
   "metadata": {},
   "source": [
    "< [Table of Contents](#top) | [References](#references) >\n",
    "<a id=\"introductionCSSstyledisplay\"></a>\n",
    "***\n",
    "###### ``display``\n",
    "***"
   ]
  },
  {
   "cell_type": "markdown",
   "id": "088bcdf9",
   "metadata": {},
   "source": [
    "- to disable a button or a text area so that the user cannot actually interact with it (cannot type into it) use ``disabled`` [6]\n",
    "\n",
    "```html\n",
    "<input type=\"text\" value=\"blah\" disabled/>\n",
    "```"
   ]
  },
  {
   "cell_type": "markdown",
   "id": "3c9f8d64",
   "metadata": {},
   "source": [
    "- to make an element visible set the attribute ``style`` to ``display:block\"`` so the next element will be on a new line [6]\n",
    "\n",
    "```html\n",
    "<div style=\"display:block\">\n",
    "    text\n",
    "</div>\n",
    "```"
   ]
  },
  {
   "cell_type": "markdown",
   "id": "c538b27e",
   "metadata": {},
   "source": [
    "- ``display:inline`` shows the element on the same line or ``display:none`` hides the element [6]"
   ]
  },
  {
   "cell_type": "code",
   "execution_count": 1,
   "id": "9e7675b9",
   "metadata": {},
   "outputs": [
    {
     "name": "stdout",
     "output_type": "stream",
     "text": [
      "Writing s.html\n"
     ]
    }
   ],
   "source": [
    "%%writefile s.html\n",
    "<!-- [6] -->\n",
    "<html>\n",
    "    <head>\n",
    "        <title>Creating a div that is hidden</title>\n",
    "    </head>\n",
    "    </body>\n",
    "        <div>Text</div>\n",
    "    </body>\n",
    "</html>"
   ]
  },
  {
   "cell_type": "code",
   "execution_count": 2,
   "id": "0e032c5d",
   "metadata": {},
   "outputs": [],
   "source": [
    "%%script bash\n",
    "start s.html"
   ]
  },
  {
   "cell_type": "code",
   "execution_count": 3,
   "id": "b4a96723",
   "metadata": {},
   "outputs": [
    {
     "name": "stdout",
     "output_type": "stream",
     "text": [
      "Overwriting s.html\n"
     ]
    }
   ],
   "source": [
    "%%writefile s.html\n",
    "<!-- [6] -->\n",
    "<html>\n",
    "    <head>\n",
    "        <title>Creating a div that is hidden</title>\n",
    "    </head>\n",
    "    </body>\n",
    "        <div style=\"display:none\">Text</div>\n",
    "    </body>\n",
    "</html>"
   ]
  },
  {
   "cell_type": "code",
   "execution_count": 4,
   "id": "bff64381",
   "metadata": {},
   "outputs": [],
   "source": [
    "%%script bash\n",
    "start s.html"
   ]
  },
  {
   "cell_type": "code",
   "execution_count": 5,
   "id": "ded34099",
   "metadata": {},
   "outputs": [
    {
     "name": "stdout",
     "output_type": "stream",
     "text": [
      "Overwriting s.html\n"
     ]
    }
   ],
   "source": [
    "%%writefile s.html\n",
    "<!-- [6] -->\n",
    "<html>\n",
    "    <head>\n",
    "        <title>Creating a div that is hidden</title>\n",
    "    </head>\n",
    "    </body>\n",
    "        <div style=\"display:none\">div display:none...</div>\n",
    "        <div style=\"display:block\">div display:block...</div>\n",
    "        <div style=\"display:inline\">div display:inline...</div>\n",
    "        <div style=\"display:inline\">div display:inline...</div>\n",
    "    </body>\n",
    "</html>"
   ]
  },
  {
   "cell_type": "code",
   "execution_count": 6,
   "id": "08c98a18",
   "metadata": {},
   "outputs": [],
   "source": [
    "%%script bash\n",
    "start s.html"
   ]
  },
  {
   "cell_type": "code",
   "execution_count": 7,
   "id": "060766cb",
   "metadata": {},
   "outputs": [],
   "source": [
    "%%script bash\n",
    "rm -rf s.html"
   ]
  },
  {
   "cell_type": "code",
   "execution_count": 8,
   "id": "7522fbac",
   "metadata": {},
   "outputs": [],
   "source": [
    "exit()"
   ]
  },
  {
   "cell_type": "markdown",
   "id": "315bb228",
   "metadata": {},
   "source": [
    "< [Table of Contents](#top) | [References](#references) >\n",
    "<a id=\"introductionCSSSelector\"></a>\n",
    "***\n",
    "###### Selector\n",
    "***"
   ]
  },
  {
   "cell_type": "markdown",
   "id": "0927f134",
   "metadata": {},
   "source": [
    "- a ``CSS`` selector selects ``HTML`` elements to style (are used to find or select ``HTML`` elements) [0] "
   ]
  },
  {
   "cell_type": "markdown",
   "id": "acfd5586",
   "metadata": {},
   "source": [
    "< [Table of Contents](#top) | [References](#references) >\n",
    "<a id=\"introductionCSSSelectorElement\"></a>\n",
    "***\n",
    "###### Element\n",
    "***"
   ]
  },
  {
   "cell_type": "markdown",
   "id": "95fe7660",
   "metadata": {},
   "source": [
    "- element selector selects ``HTML`` elements based on the element name [0]"
   ]
  },
  {
   "cell_type": "code",
   "execution_count": 1,
   "id": "67133674",
   "metadata": {},
   "outputs": [
    {
     "name": "stdout",
     "output_type": "stream",
     "text": [
      "Writing elementSelector.html\n"
     ]
    }
   ],
   "source": [
    "%%writefile elementSelector.html\n",
    "<!-- [0] -->\n",
    "<html>\n",
    "    <head>\n",
    "        <title>elements</title> \n",
    "        <style>\n",
    "            p{\n",
    "                text-align:center;\n",
    "                color:red;\n",
    "            }    \n",
    "        </style>\n",
    "    </head>\n",
    "    </body>\n",
    "        <p>every para will be affected by the style.</p>\n",
    "        <p id=\"para1\">here also</p>\n",
    "        <p>and here</p>\n",
    "    </body>\n",
    "</html>"
   ]
  },
  {
   "cell_type": "code",
   "execution_count": 2,
   "id": "da194b3f",
   "metadata": {},
   "outputs": [],
   "source": [
    "%%script bash\n",
    "start elementSelector.html"
   ]
  },
  {
   "cell_type": "code",
   "execution_count": 3,
   "id": "f2bd93d0",
   "metadata": {},
   "outputs": [],
   "source": [
    "%%script bash\n",
    "rm -rf elementSelector.html"
   ]
  },
  {
   "cell_type": "code",
   "execution_count": 4,
   "id": "e3db384e",
   "metadata": {},
   "outputs": [],
   "source": [
    "exit()"
   ]
  },
  {
   "cell_type": "markdown",
   "id": "1d75b830",
   "metadata": {},
   "source": [
    "< [Table of Contents](#top) | [References](#references) >\n",
    "<a id=\"introductionCSSSelectorID\"></a>\n",
    "***\n",
    "###### ``id``\n",
    "***"
   ]
  },
  {
   "cell_type": "markdown",
   "id": "748bef9e",
   "metadata": {},
   "source": [
    "- the ID selector uses the ``id`` attribute of a ``HTML`` element to select a specific element [0]"
   ]
  },
  {
   "cell_type": "markdown",
   "id": "a8f6316c",
   "metadata": {},
   "source": [
    "- the ``id`` of an element is unique within a page so the ID selector is used to select one unique element [0]"
   ]
  },
  {
   "cell_type": "markdown",
   "id": "3a34000f",
   "metadata": {},
   "source": [
    "- to select an element with a specific ID then write a hash ``#`` character followed by the ``id`` of the element [0]"
   ]
  },
  {
   "cell_type": "code",
   "execution_count": 1,
   "id": "61b3948a",
   "metadata": {},
   "outputs": [
    {
     "name": "stdout",
     "output_type": "stream",
     "text": [
      "Writing selectID.html\n"
     ]
    }
   ],
   "source": [
    "%%writefile selectID.html\n",
    "<!-- [0] -->\n",
    "<html>\n",
    "    <head>\n",
    "        <title>Select ID</title>\n",
    "        <style>\n",
    "            #p{\n",
    "                text-align:center;\n",
    "                color:red;\n",
    "            }\n",
    "        </style>\n",
    "    </head>\n",
    "    </body>\n",
    "        <p id=\"p\">change here</p>\n",
    "        <p>unaffected</p>\n",
    "    </body>\n",
    "</html>"
   ]
  },
  {
   "cell_type": "code",
   "execution_count": 2,
   "id": "0a05fb1d",
   "metadata": {},
   "outputs": [],
   "source": [
    "%%script bash\n",
    "start selectID.html"
   ]
  },
  {
   "cell_type": "code",
   "execution_count": 3,
   "id": "78671de0",
   "metadata": {},
   "outputs": [],
   "source": [
    "%%script bash\n",
    "rm -rf selectID.html"
   ]
  },
  {
   "cell_type": "code",
   "execution_count": 4,
   "id": "8bc65180",
   "metadata": {},
   "outputs": [],
   "source": [
    "exit()"
   ]
  },
  {
   "cell_type": "markdown",
   "id": "4ad78d84",
   "metadata": {},
   "source": [
    "< [Table of Contents](#top) | [References](#references) >\n",
    "<a id=\"introductionCSSSelectorClass\"></a>\n",
    "***\n",
    "###### ``class``\n",
    "***"
   ]
  },
  {
   "cell_type": "markdown",
   "id": "90fa0cb8",
   "metadata": {},
   "source": [
    "- the ``class`` selector selects ``HTML`` elements with a specific ``class`` attribute [0]"
   ]
  },
  {
   "cell_type": "markdown",
   "id": "bd26979c",
   "metadata": {},
   "source": [
    "- to select elements with a specific class write a period (``.``) character followed by the ``class`` name [0]"
   ]
  },
  {
   "cell_type": "code",
   "execution_count": 1,
   "id": "908d5a55",
   "metadata": {},
   "outputs": [
    {
     "name": "stdout",
     "output_type": "stream",
     "text": [
      "Writing selectClass.html\n"
     ]
    }
   ],
   "source": [
    "%%writefile selectClass.html\n",
    "<!-- [0] -->\n",
    "<html>\n",
    "    <head>\n",
    "        <title>only <p> elements with class=\"center\" will be red and center-aligned</title>\n",
    "        <style>\n",
    "            p.center{\n",
    "                text-align:center;\n",
    "                color:red;\n",
    "            }\n",
    "        </style>\n",
    "    </head>\n",
    "    </body>\n",
    "        <h1 class=\"center\">this will not be affected</h1>\n",
    "        <p class=\"center\">will be red and centered</p>\n",
    "    </body>\n",
    "</html>"
   ]
  },
  {
   "cell_type": "code",
   "execution_count": 2,
   "id": "fa91845c",
   "metadata": {},
   "outputs": [],
   "source": [
    "%%script bash\n",
    "start selectClass.html"
   ]
  },
  {
   "cell_type": "code",
   "execution_count": 3,
   "id": "9981cfa3",
   "metadata": {},
   "outputs": [
    {
     "name": "stdout",
     "output_type": "stream",
     "text": [
      "Overwriting selectClass.html\n"
     ]
    }
   ],
   "source": [
    "%%writefile selectClass.html\n",
    "<!-- [0] -->\n",
    "<html>\n",
    "    <head>\n",
    "        <title>only <p> elements with class=\"center\" will be red and center-aligned</title>\n",
    "        <style>\n",
    "            p.center{\n",
    "                text-align:center;\n",
    "                color:red;\n",
    "            }\n",
    "            p.large{\n",
    "                font-size:300%;\n",
    "            }\n",
    "        </style>\n",
    "    </head>\n",
    "    </body>\n",
    "        <h1 class=\"center\">heading will not be affected</h1>\n",
    "        <p class=\"center\">paragraph will be red and center-aligned</p>\n",
    "        <p class=\"center large\">paragraph will be red and center-aligned and in a large font-size</p>\n",
    "    </body>\n",
    "</html>"
   ]
  },
  {
   "cell_type": "code",
   "execution_count": 4,
   "id": "67444aa5",
   "metadata": {},
   "outputs": [],
   "source": [
    "%%script bash\n",
    "start selectClass.html"
   ]
  },
  {
   "cell_type": "code",
   "execution_count": 5,
   "id": "200c5780",
   "metadata": {},
   "outputs": [],
   "source": [
    "%%script bash\n",
    "rm -rf selectClass.html"
   ]
  },
  {
   "cell_type": "code",
   "execution_count": 6,
   "id": "2cec02a3",
   "metadata": {},
   "outputs": [],
   "source": [
    "exit()"
   ]
  },
  {
   "cell_type": "markdown",
   "id": "efb58379",
   "metadata": {},
   "source": [
    "< [Table of Contents](#top) | [References](#references) >\n",
    "<a id=\"introductionCSSSelectorUniversal\"></a>\n",
    "***\n",
    "###### Universal\n",
    "***"
   ]
  },
  {
   "cell_type": "markdown",
   "id": "23c5d945",
   "metadata": {},
   "source": [
    "- the universal selector (``*``) selects all ``HTML`` elements on the page [0]"
   ]
  },
  {
   "cell_type": "code",
   "execution_count": 1,
   "id": "e86eaf94",
   "metadata": {},
   "outputs": [
    {
     "name": "stdout",
     "output_type": "stream",
     "text": [
      "Writing unverisalSelector.html\n"
     ]
    }
   ],
   "source": [
    "%%writefile unverisalSelector.html\n",
    "<!-- [0] -->\n",
    "<html>\n",
    "    <head>\n",
    "        <title>universal selector</title>\n",
    "        <style>\n",
    "            *{\n",
    "                text-align:center;\n",
    "                color:blue;\n",
    "            }\n",
    "        </style>\n",
    "    </head>\n",
    "    </body>\n",
    "        <h1>Hello world!</h1>\n",
    "        <p>Every element on the page will be affected by the style.</p>\n",
    "        <p id=\"para1\">Me too!</p>\n",
    "        <p>And me!</p>\n",
    "    </body>\n",
    "</html>"
   ]
  },
  {
   "cell_type": "code",
   "execution_count": 2,
   "id": "3a254917",
   "metadata": {},
   "outputs": [],
   "source": [
    "%%script bash\n",
    "start unverisalSelector.html"
   ]
  },
  {
   "cell_type": "code",
   "execution_count": 3,
   "id": "4a2a63ed",
   "metadata": {},
   "outputs": [],
   "source": [
    "%%script bash\n",
    "rm -rf unverisalSelector.html"
   ]
  },
  {
   "cell_type": "code",
   "execution_count": 4,
   "id": "0c1ebc82",
   "metadata": {},
   "outputs": [],
   "source": [
    "exit()"
   ]
  },
  {
   "cell_type": "markdown",
   "id": "dcfaf0b1",
   "metadata": {},
   "source": [
    "< [Table of Contents](#top) | [References](#references) >\n",
    "<a id=\"introductionCSSSelectorGrouping\"></a>\n",
    "***\n",
    "###### Grouping\n",
    "***"
   ]
  },
  {
   "cell_type": "markdown",
   "id": "28955de3",
   "metadata": {},
   "source": [
    "- grouping selector selects all the ``HTML`` element with the same style definitions [0]"
   ]
  },
  {
   "cell_type": "code",
   "execution_count": 1,
   "id": "d6272357",
   "metadata": {},
   "outputs": [
    {
     "name": "stdout",
     "output_type": "stream",
     "text": [
      "Writing groupingSelector.html\n"
     ]
    }
   ],
   "source": [
    "%%writefile groupingSelector.html\n",
    "<!-- [0] -->\n",
    "<html>\n",
    "    <head>\n",
    "        <title>grouping selector</title>       \n",
    "    <style>\n",
    "        h1,h2,p{\n",
    "            text-align: center;\n",
    "            color: red;\n",
    "        }\n",
    "    </style>\n",
    "    </head>\n",
    "    <body>\n",
    "        <h1>Hello World!</h1>\n",
    "        <h2>Smaller heading!</h2>\n",
    "        <p>This is a paragraph.</p>\n",
    "    </body>\n",
    "</html>"
   ]
  },
  {
   "cell_type": "code",
   "execution_count": 2,
   "id": "9ed487d3",
   "metadata": {},
   "outputs": [],
   "source": [
    "%%script bash\n",
    "start groupingSelector.html"
   ]
  },
  {
   "cell_type": "code",
   "execution_count": 3,
   "id": "60cc3d41",
   "metadata": {},
   "outputs": [],
   "source": [
    "%%script bash\n",
    "rm -rf groupingSelector.html"
   ]
  },
  {
   "cell_type": "code",
   "execution_count": 4,
   "id": "06df357c",
   "metadata": {},
   "outputs": [],
   "source": [
    "exit()"
   ]
  },
  {
   "cell_type": "markdown",
   "id": "e573a16a",
   "metadata": {},
   "source": [
    "***\n",
    "### END"
   ]
  },
  {
   "cell_type": "markdown",
   "id": "a4cc6d11",
   "metadata": {},
   "source": [
    "< [Table of Contents](#top) | [References](#references) >\n",
    "<a id=\"javascript\"></a>\n",
    "***\n",
    "### JS\n",
    "***"
   ]
  },
  {
   "cell_type": "code",
   "execution_count": null,
   "id": "0bd54d68",
   "metadata": {},
   "outputs": [],
   "source": [
    "fFile(nParPath=\"./hide/02-JavaScript/DR2.1 Week02 Overview - 30-09-2020.mp4\")"
   ]
  },
  {
   "cell_type": "code",
   "execution_count": null,
   "id": "ed17e0a4",
   "metadata": {},
   "outputs": [],
   "source": [
    "fFile(nParPath=\"./hide/02-JavaScript/DR2.2 JavaScript part1 - 30-09-2020.mp4\")"
   ]
  },
  {
   "cell_type": "code",
   "execution_count": null,
   "id": "4e724878",
   "metadata": {},
   "outputs": [],
   "source": [
    "fFile(nParPath=\"./hide/02-JavaScript/DR2.3 JavaScript part2 - 30-09-2020.mp4\")"
   ]
  },
  {
   "cell_type": "code",
   "execution_count": null,
   "id": "3f0172e8",
   "metadata": {},
   "outputs": [],
   "source": [
    "fFile(nParPath=\"./hide/02-JavaScript/DR2.4 javascript part3 - 01-10-2020.mp4\")"
   ]
  },
  {
   "cell_type": "code",
   "execution_count": null,
   "id": "67f5fd8b",
   "metadata": {},
   "outputs": [],
   "source": [
    "fFile(nParPath=\"./hide/02-JavaScript/DR2 javascript slides.pptx\")"
   ]
  },
  {
   "cell_type": "code",
   "execution_count": null,
   "id": "c420c9e0",
   "metadata": {},
   "outputs": [],
   "source": [
    "fFile(nParPath=\"./hide/02-JavaScript/exercises.pdf\")\n",
    "fFile(nParPath=\"./hide/02-JavaScript/lab/exercise/\")\n",
    "fFile(nParPath=\"./hide/02-JavaScript/Lab02-JavaScript.pdf\")"
   ]
  },
  {
   "cell_type": "markdown",
   "id": "845568e7",
   "metadata": {},
   "source": [
    "- create a simple client-side web-application that can perform CRUD operations - later creating a server to store the information and link page via AJAX [5]"
   ]
  },
  {
   "cell_type": "markdown",
   "id": "cd8b90d8",
   "metadata": {},
   "source": [
    "< [Table of Contents](#top) | [References](#references) >\n",
    "<a id=\"javascriptOperator\"></a>\n",
    "***\n",
    "###### Operator\n",
    "***"
   ]
  },
  {
   "cell_type": "markdown",
   "id": "fa85d957",
   "metadata": {},
   "source": [
    "&#x1F6A7;"
   ]
  },
  {
   "cell_type": "markdown",
   "id": "17cdf5ba",
   "metadata": {},
   "source": [
    "< [Table of Contents](#top) | [References](#references) >\n",
    "<a id=\"javascriptOperatorType\"></a>\n",
    "***\n",
    "###### Type\n",
    "***"
   ]
  },
  {
   "cell_type": "markdown",
   "id": "8caa34e9",
   "metadata": {},
   "source": [
    "&#x1F6A7;"
   ]
  },
  {
   "cell_type": "markdown",
   "id": "d5ea318f",
   "metadata": {},
   "source": [
    "< [Table of Contents](#top) | [References](#references) >\n",
    "<a id=\"javascriptOperatorTypetypeof\"></a>\n",
    "***\n",
    "###### ``typeof``\n",
    "***"
   ]
  },
  {
   "cell_type": "markdown",
   "id": "029bc454",
   "metadata": {},
   "source": [
    "- returns the type of a variable [7]"
   ]
  },
  {
   "cell_type": "markdown",
   "id": "43f61580",
   "metadata": {},
   "source": [
    "< [Table of Contents](#top) | [References](#references) >\n",
    "<a id=\"javascriptvar\"></a>\n",
    "***\n",
    "###### ``var``\n",
    "***"
   ]
  },
  {
   "cell_type": "markdown",
   "id": "6a68257c",
   "metadata": {},
   "source": [
    "- a primitive data type is data that has a primitive value (has no properties or methods) [0]"
   ]
  },
  {
   "cell_type": "markdown",
   "id": "a384cf07",
   "metadata": {},
   "source": [
    "- ``JS`` defines 5 types of primitive data type (``number`` / ``string`` / ``boolean`` / ``null`` / ``undefined``) [0]"
   ]
  },
  {
   "cell_type": "markdown",
   "id": "1deef740",
   "metadata": {},
   "source": [
    "- primitive values are immutable (hardcoded and therefore cannot be changed) - if ``n=3.14`` then can change the value of ``n`` but cannot change the value of $3.14$  [0]"
   ]
  },
  {
   "cell_type": "markdown",
   "id": "601b079d",
   "metadata": {},
   "source": [
    "- keyword ``var`` can be of any type depending on what its initialised to [7]"
   ]
  },
  {
   "cell_type": "code",
   "execution_count": 1,
   "id": "d2e5b6a6",
   "metadata": {},
   "outputs": [
    {
     "name": "stdout",
     "output_type": "stream",
     "text": [
      "Writing types.html\n"
     ]
    }
   ],
   "source": [
    "%%writefile types.html\n",
    "<!-- [6] -->\n",
    "<html>\n",
    "    <head>\n",
    "        <title>js types</title>       \n",
    "    </head>\n",
    "    </body>\n",
    "        <script>\n",
    "            var n=2;\n",
    "            console.log(n,\"(\",typeof(n),\")\"); // 2 ( number )\n",
    "            var nF=3.14;\n",
    "            console.log(nF,\"(\",typeof(nF),\")\"); // 3.14 ( number )            \n",
    "            var nS=\"some String\";\n",
    "            console.log(nS,\"(\",typeof(nS),\")\"); // some String ( string )                        \n",
    "            var nS1=\"some other S'tring\";\n",
    "            console.log(nS1,\"(\",typeof(nS1),\")\"); // some other S'tring ( string )                        \n",
    "            var nS2=\"another S\\'tring\";\n",
    "            console.log(nS2,\"(\",typeof(nS2),\")\"); // another S'tring ( string )\n",
    "            var nAdm=true;\n",
    "            console.log(nAdm,\"(\",typeof(nAdm),\")\"); // true ( boolean )\n",
    "            var nN=null;\n",
    "            console.log(nN,\"(\",typeof(nN),\")\"); // null ( object )\n",
    "            var nUndefined;\n",
    "            console.log(nUndefined,\"(\",typeof(nUndefined),\")\"); // undefined ( undefined )\n",
    "        </script>\n",
    "    </body>\n",
    "</html>"
   ]
  },
  {
   "cell_type": "code",
   "execution_count": 2,
   "id": "273439ba",
   "metadata": {},
   "outputs": [],
   "source": [
    "%%script bash\n",
    "start types.html"
   ]
  },
  {
   "cell_type": "code",
   "execution_count": 3,
   "id": "03e64917",
   "metadata": {},
   "outputs": [],
   "source": [
    "%%script bash\n",
    "rm -rf types.html"
   ]
  },
  {
   "cell_type": "code",
   "execution_count": 4,
   "id": "9833ed75",
   "metadata": {},
   "outputs": [],
   "source": [
    "exit()"
   ]
  },
  {
   "cell_type": "markdown",
   "id": "f1740aff",
   "metadata": {},
   "source": [
    "- ``JS`` variables can contain single values [0]"
   ]
  },
  {
   "cell_type": "code",
   "execution_count": 1,
   "id": "a4a6498c",
   "metadata": {},
   "outputs": [
    {
     "name": "stdout",
     "output_type": "stream",
     "text": [
      "Writing sValue.html\n"
     ]
    }
   ],
   "source": [
    "%%writefile sValue.html\n",
    "<!-- [0] -->\n",
    "<html>\n",
    "    <head>\n",
    "        <title>JS single values</title>       \n",
    "    </head>\n",
    "    </body>\n",
    "        <div id=\"demo\">div...</div>\n",
    "        <script>\n",
    "            let n=\"John Doe\";\n",
    "            document.getElementById(\"demo\").innerHTML=n;\n",
    "        </script>\n",
    "    </body>\n",
    "</html>"
   ]
  },
  {
   "cell_type": "code",
   "execution_count": 2,
   "id": "16b9eb2f",
   "metadata": {},
   "outputs": [],
   "source": [
    "%%script bash\n",
    "start sValue.html"
   ]
  },
  {
   "cell_type": "code",
   "execution_count": 3,
   "id": "67365f01",
   "metadata": {},
   "outputs": [],
   "source": [
    "%%script bash\n",
    "rm -rf sValue.html"
   ]
  },
  {
   "cell_type": "code",
   "execution_count": 4,
   "id": "6ba48b6b",
   "metadata": {},
   "outputs": [],
   "source": [
    "exit()"
   ]
  },
  {
   "cell_type": "markdown",
   "id": "f385bd63",
   "metadata": {},
   "source": [
    "< [Table of Contents](#top) | [References](#references) >\n",
    "<a id=\"javascriptvarObject\"></a>\n",
    "***\n",
    "###### Object\n",
    "***"
   ]
  },
  {
   "cell_type": "markdown",
   "id": "64f180c5",
   "metadata": {},
   "source": [
    "- in ``JS`` almost everything is an object - ``booleans`` can be objects if defined with the keyword ``new`` - ``numbers`` can be objects if defined with the keyword ``new`` - ``strings`` can be objects if defined with the keyword ``new`` [0]"
   ]
  },
  {
   "cell_type": "markdown",
   "id": "17f065b1",
   "metadata": {},
   "source": [
    "- dates are always objects - maths are always objects - regular expressions are always objects - arrays are always objects - functions are always objects - objects are always objects [0]"
   ]
  },
  {
   "cell_type": "markdown",
   "id": "1b4242b3",
   "metadata": {},
   "source": [
    "- all ``JS`` values (except primitives) are objects [0]"
   ]
  },
  {
   "cell_type": "markdown",
   "id": "64eee921",
   "metadata": {},
   "source": [
    "- objects are variables but can contain many values (unlike primitives) [0]"
   ]
  },
  {
   "cell_type": "markdown",
   "id": "935a6ecc",
   "metadata": {},
   "source": [
    "- object values are written as ``name:value`` pairs - a ``JS`` object is a collection of named values [0]"
   ]
  },
  {
   "cell_type": "code",
   "execution_count": 1,
   "id": "b5fb366c",
   "metadata": {},
   "outputs": [
    {
     "name": "stdout",
     "output_type": "stream",
     "text": [
      "Writing o.html\n"
     ]
    }
   ],
   "source": [
    "%%writefile o.html\n",
    "<!-- [0] -->\n",
    "<html>\n",
    "    <head>\n",
    "        <title>JS objects</title>\n",
    "    </head>\n",
    "    </body>\n",
    "        <div id=\"divID\">div...</div>\n",
    "        <script>\n",
    "            let nPerson=\n",
    "            {\n",
    "                firstName:\"John\",\n",
    "                lastName:\"Doe\"\n",
    "            };\n",
    "            document.getElementById(\"divID\").innerHTML=nPerson.firstName+\" \"+nPerson.lastName;\n",
    "        </script>\n",
    "    </body>\n",
    "</html>"
   ]
  },
  {
   "cell_type": "code",
   "execution_count": 2,
   "id": "758761fb",
   "metadata": {},
   "outputs": [],
   "source": [
    "%%script bash\n",
    "start o.html"
   ]
  },
  {
   "cell_type": "markdown",
   "id": "9651b577",
   "metadata": {},
   "source": [
    "- common practice to declare objects with the ``const`` keyword [0]"
   ]
  },
  {
   "cell_type": "code",
   "execution_count": 3,
   "id": "2a567646",
   "metadata": {},
   "outputs": [
    {
     "name": "stdout",
     "output_type": "stream",
     "text": [
      "Overwriting o.html\n"
     ]
    }
   ],
   "source": [
    "%%writefile o.html\n",
    "<!-- [0] -->\n",
    "<html>\n",
    "    <head>\n",
    "        <title>JS objects</title>       \n",
    "    </head>\n",
    "    </body>\n",
    "        <div id=\"someID\">div...</div>\n",
    "        <script>\n",
    "            const nPerson=\n",
    "            {\n",
    "                firstName:\"John\",\n",
    "                lastName:\"Doe\"\n",
    "            };\n",
    "            document.getElementById(\"someID\").innerHTML=nPerson.firstName+\" \"+nPerson.lastName;\n",
    "        </script>\n",
    "    </body>\n",
    "</html>\n"
   ]
  },
  {
   "cell_type": "code",
   "execution_count": 4,
   "id": "a5e283f8",
   "metadata": {},
   "outputs": [],
   "source": [
    "%%script bash\n",
    "start o.html"
   ]
  },
  {
   "cell_type": "code",
   "execution_count": 5,
   "id": "0e9e0979",
   "metadata": {},
   "outputs": [],
   "source": [
    "exit()"
   ]
  },
  {
   "cell_type": "markdown",
   "id": "3f6cdd5b",
   "metadata": {},
   "source": [
    "< [Table of Contents](#top) | [References](#references) >\n",
    "<a id=\"javascriptvarArray\"></a>\n",
    "***\n",
    "###### Array\n",
    "***"
   ]
  },
  {
   "cell_type": "markdown",
   "id": "32976950",
   "metadata": {},
   "source": [
    "- arrays are used to store multiple values in a single variable [0]"
   ]
  },
  {
   "cell_type": "code",
   "execution_count": 1,
   "id": "bacecb54",
   "metadata": {},
   "outputs": [
    {
     "name": "stdout",
     "output_type": "stream",
     "text": [
      "Writing arrays.html\n"
     ]
    }
   ],
   "source": [
    "%%writefile arrays.html\n",
    "<!-- [0] -->\n",
    "<html>\n",
    "    <head>\n",
    "        <title>JS Arrays</title>       \n",
    "    </head>\n",
    "    </body>\n",
    "    <div id=\"demo\">demo...</div>\n",
    "    <script>\n",
    "        const nCars=[\"Saab\",\"Volvo\",\"BMW\"];\n",
    "        document.getElementById(\"demo\").innerHTML=nCars;\n",
    "    </script>\n",
    "    </body>\n",
    "</html>"
   ]
  },
  {
   "cell_type": "code",
   "execution_count": 2,
   "id": "d7b64702",
   "metadata": {},
   "outputs": [],
   "source": [
    "%%script bash\n",
    "start arrays.html"
   ]
  },
  {
   "cell_type": "markdown",
   "id": "2d3fd724",
   "metadata": {},
   "source": [
    "- spaces and line breaks are not important (declaration can span multiple lines) [0]"
   ]
  },
  {
   "cell_type": "code",
   "execution_count": 3,
   "id": "425dd145",
   "metadata": {},
   "outputs": [
    {
     "name": "stdout",
     "output_type": "stream",
     "text": [
      "Overwriting arrays.html\n"
     ]
    }
   ],
   "source": [
    "%%writefile arrays.html\n",
    "<!-- [0] -->\n",
    "<html>\n",
    "    <head>\n",
    "        <title>JS Arrays</title>       \n",
    "    </head>\n",
    "    </body>\n",
    "    <div id=\"demo\">demo...</div>\n",
    "    <script>\n",
    "        const nCars=\n",
    "        [\n",
    "            \"Saab\",\n",
    "            \"Volvo\",\n",
    "            \"BMW\"\n",
    "        ];\n",
    "        document.getElementById(\"demo\").innerHTML=nCars;\n",
    "    </script>\n",
    "    </body>\n",
    "</html>"
   ]
  },
  {
   "cell_type": "code",
   "execution_count": 4,
   "id": "793ca465",
   "metadata": {},
   "outputs": [],
   "source": [
    "%%script bash\n",
    "start arrays.html"
   ]
  },
  {
   "cell_type": "markdown",
   "id": "19329e16",
   "metadata": {},
   "source": [
    "- can create an array and then provide the elements [0]"
   ]
  },
  {
   "cell_type": "code",
   "execution_count": 5,
   "id": "a3d4ca69",
   "metadata": {},
   "outputs": [
    {
     "name": "stdout",
     "output_type": "stream",
     "text": [
      "Overwriting arrays.html\n"
     ]
    }
   ],
   "source": [
    "%%writefile arrays.html\n",
    "<!-- [0] -->\n",
    "<html>\n",
    "    <head>\n",
    "        <title>JS Arrays</title>       \n",
    "    </head>\n",
    "    </body>\n",
    "    <div id=\"demo\">demo...</div>\n",
    "    <script>\n",
    "        const nCars=[];\n",
    "        nCars[0]=\"Saab\";\n",
    "        nCars[1]=\"Volvo\";\n",
    "        nCars[2]=\"BMW\";\n",
    "        document.getElementById(\"demo\").innerHTML=nCars;\n",
    "    </script>\n",
    "    </body>\n",
    "</html>"
   ]
  },
  {
   "cell_type": "code",
   "execution_count": 6,
   "id": "e58ba9c2",
   "metadata": {},
   "outputs": [],
   "source": [
    "%%script bash\n",
    "start arrays.html"
   ]
  },
  {
   "cell_type": "markdown",
   "id": "0f3ca5c7",
   "metadata": {},
   "source": [
    "- arrays are objects and are a special type of object although ``JS`` arrays are best described as arrays [0]"
   ]
  },
  {
   "cell_type": "code",
   "execution_count": 7,
   "id": "a9332fce",
   "metadata": {},
   "outputs": [
    {
     "name": "stdout",
     "output_type": "stream",
     "text": [
      "Overwriting arrays.html\n"
     ]
    }
   ],
   "source": [
    "%%writefile arrays.html\n",
    "<!-- [0] -->\n",
    "<html>\n",
    "    <head>\n",
    "        <title>JS Arrays are objects</title>       \n",
    "    </head>\n",
    "    </body>\n",
    "        <div id=\"demo\">div...</div>\n",
    "        <script>\n",
    "            const nCars=[\"Saab\",\"Volvo\",\"BMW\"];\n",
    "            document.getElementById(\"demo\").innerHTML=typeof(nCars); // object\n",
    "        </script>\n",
    "    </body>\n",
    "</html>"
   ]
  },
  {
   "cell_type": "code",
   "execution_count": 8,
   "id": "72f54955",
   "metadata": {},
   "outputs": [],
   "source": [
    "%%script bash\n",
    "start arrays.html"
   ]
  },
  {
   "cell_type": "markdown",
   "id": "9b7915b4",
   "metadata": {},
   "source": [
    "- arrays use ``numbers`` to access its ``elements`` [0]"
   ]
  },
  {
   "cell_type": "code",
   "execution_count": 9,
   "id": "5ebf7a97",
   "metadata": {},
   "outputs": [
    {
     "name": "stdout",
     "output_type": "stream",
     "text": [
      "Overwriting arrays.html\n"
     ]
    }
   ],
   "source": [
    "%%writefile arrays.html\n",
    "<!-- [0] -->\n",
    "<html>\n",
    "    <head>\n",
    "        <title>JS Arrays are objects</title>       \n",
    "    </head>\n",
    "    </body>\n",
    "        <div id=\"demo\">div...</div>\n",
    "        <script>\n",
    "            const nCars=[\"Saab\",\"Volvo\",\"BMW\"];\n",
    "            document.getElementById(\"demo\").innerHTML=nCars[1]; // Volvo\n",
    "        </script>\n",
    "    </body>\n",
    "</html>"
   ]
  },
  {
   "cell_type": "code",
   "execution_count": 10,
   "id": "382979b0",
   "metadata": {},
   "outputs": [],
   "source": [
    "%%script bash\n",
    "start arrays.html"
   ]
  },
  {
   "cell_type": "code",
   "execution_count": 11,
   "id": "f2d4b852",
   "metadata": {},
   "outputs": [],
   "source": [
    "%%script bash\n",
    "rm -rf arrays.html"
   ]
  },
  {
   "cell_type": "markdown",
   "id": "cd72f3cb",
   "metadata": {},
   "source": [
    "- objects use ``names`` to access its ``members`` [0]"
   ]
  },
  {
   "cell_type": "code",
   "execution_count": 12,
   "id": "8c36a84e",
   "metadata": {},
   "outputs": [
    {
     "name": "stdout",
     "output_type": "stream",
     "text": [
      "Writing ArraysVsObjects.html\n"
     ]
    }
   ],
   "source": [
    "%%writefile ArraysVsObjects.html\n",
    "<!-- [0] -->\n",
    "<html>\n",
    "    <head>\n",
    "        <title>JS Arrays versus JS Objects</title>       \n",
    "    </head>\n",
    "    </body>\n",
    "        <div id=\"demo\">div...</div>\n",
    "        <script>\n",
    "            const nPerson={firstName:\"John\",lastName:\"Doe\",age:50};\n",
    "            document.getElementById(\"demo\").innerHTML=nPerson.firstName;     \n",
    "        </script>\n",
    "    </body>\n",
    "</html>"
   ]
  },
  {
   "cell_type": "code",
   "execution_count": 13,
   "id": "eaa96730",
   "metadata": {},
   "outputs": [],
   "source": [
    "%%script bash\n",
    "start ArraysVsObjects.html"
   ]
  },
  {
   "cell_type": "code",
   "execution_count": 14,
   "id": "4b2d3cad",
   "metadata": {},
   "outputs": [],
   "source": [
    "%%script bash\n",
    "rm -rf ArraysVsObjects.html"
   ]
  },
  {
   "cell_type": "code",
   "execution_count": 15,
   "id": "04c365b7",
   "metadata": {},
   "outputs": [],
   "source": [
    "exit()"
   ]
  },
  {
   "cell_type": "markdown",
   "id": "d4a55a80",
   "metadata": {},
   "source": [
    "< [Table of Contents](#top) | [References](#references) >\n",
    "<a id=\"javascriptvarArraynew\"></a>\n",
    "***\n",
    "###### ``new``\n",
    "***"
   ]
  },
  {
   "cell_type": "markdown",
   "id": "4b50c9b3",
   "metadata": {},
   "source": [
    "- using the ``JS`` keyword ``new`` can create an array and assign values to it - for simplicity/readability/execution speed use the array liternal method instead [0]"
   ]
  },
  {
   "cell_type": "code",
   "execution_count": 1,
   "id": "05bee3bc",
   "metadata": {},
   "outputs": [
    {
     "name": "stdout",
     "output_type": "stream",
     "text": [
      "Overwriting arrays.html\n"
     ]
    }
   ],
   "source": [
    "%%writefile arrays.html\n",
    "<!-- [0] -->\n",
    "<html>\n",
    "    <head>\n",
    "        <title>JS Arrays</title>       \n",
    "    </head>\n",
    "    </body>\n",
    "    <div id=\"demo\">demo...</div>\n",
    "    <script>\n",
    "        const nCars=new Array(\"Saab\",\"Volvo\",\"BMW\");\n",
    "        document.getElementById(\"demo\").innerHTML=nCars;\n",
    "    </script>\n",
    "    </body>\n",
    "</html>"
   ]
  },
  {
   "cell_type": "code",
   "execution_count": 2,
   "id": "0d9f505e",
   "metadata": {},
   "outputs": [],
   "source": [
    "%%script bash\n",
    "start arrays.html"
   ]
  },
  {
   "cell_type": "code",
   "execution_count": 3,
   "id": "99a09cbf",
   "metadata": {},
   "outputs": [],
   "source": [
    "%%script bash\n",
    "rm -rf arrays.html"
   ]
  },
  {
   "cell_type": "code",
   "execution_count": 4,
   "id": "4a4c4b2f",
   "metadata": {},
   "outputs": [],
   "source": [
    "exit()"
   ]
  },
  {
   "cell_type": "markdown",
   "id": "7067f160",
   "metadata": {},
   "source": [
    "< [Table of Contents](#top) | [References](#references) >\n",
    "<a id=\"javascriptvarObjectProperties\"></a>\n",
    "***\n",
    "###### Properties\n",
    "***"
   ]
  },
  {
   "cell_type": "markdown",
   "id": "cacd834e",
   "metadata": {},
   "source": [
    "- properties are the most important part of any ``JS`` object - a ``JS`` object is a collection of unordered properties [0]"
   ]
  },
  {
   "cell_type": "markdown",
   "id": "28eb40b6",
   "metadata": {},
   "source": [
    "- properties can usually be changed or added and deleted but some are read only [0]"
   ]
  },
  {
   "cell_type": "code",
   "execution_count": 1,
   "id": "9eada220",
   "metadata": {},
   "outputs": [
    {
     "name": "stdout",
     "output_type": "stream",
     "text": [
      "Overwriting o.html\n"
     ]
    }
   ],
   "source": [
    "%%writefile o.html\n",
    "<!-- [0] -->\n",
    "<html>\n",
    "    <head>\n",
    "        <title>JS objects - Properties</title>       \n",
    "    </head>\n",
    "    </body>\n",
    "        <div id=\"someID\">div...</div>\n",
    "        <script>\n",
    "            const nPerson=\n",
    "            {\n",
    "                firstName:\"John\",\n",
    "                lastName:\"Doe\",\n",
    "                age:50,\n",
    "                eyeColor:\"blue\"\n",
    "            };\n",
    "            document.getElementById(\"someID\").innerHTML=nPerson.firstName // syntax i) objectName.property\n",
    "                                                        +\" \"+\n",
    "                                                        nPerson[\"lastName\"] // syntax ii) objectName[property]\n",
    "                                                        ;\n",
    "        </script>\n",
    "    </body>\n",
    "</html>\n"
   ]
  },
  {
   "cell_type": "code",
   "execution_count": 2,
   "id": "06e2635e",
   "metadata": {},
   "outputs": [],
   "source": [
    "%%script bash\n",
    "start o.html"
   ]
  },
  {
   "cell_type": "code",
   "execution_count": 3,
   "id": "9a65ed2d",
   "metadata": {},
   "outputs": [],
   "source": [
    "exit()"
   ]
  },
  {
   "cell_type": "markdown",
   "id": "454c412a",
   "metadata": {},
   "source": [
    "< [Table of Contents](#top) | [References](#references) >\n",
    "<a id=\"javascriptvarObjectPropertiesforin\"></a>\n",
    "***\n",
    "###### ``for...in``\n",
    "***"
   ]
  },
  {
   "cell_type": "markdown",
   "id": "88c112bb",
   "metadata": {},
   "source": [
    "- loop through the properties of an object [0]"
   ]
  },
  {
   "cell_type": "markdown",
   "id": "7becccf0",
   "metadata": {},
   "source": [
    "- the block of code inside the ``for...in`` loop will be executed once for each property [0]"
   ]
  },
  {
   "cell_type": "code",
   "execution_count": 1,
   "id": "dd66ff3e",
   "metadata": {},
   "outputs": [
    {
     "name": "stdout",
     "output_type": "stream",
     "text": [
      "Writing o.html\n"
     ]
    }
   ],
   "source": [
    "%%writefile o.html\n",
    "<!-- [0] -->\n",
    "<html>\n",
    "    <head>\n",
    "        <title>JS objects - Loop through properties</title>       \n",
    "    </head>\n",
    "    </body>\n",
    "        <div id=\"someID\">div...</div>\n",
    "        <script>\n",
    "            const nPerson=\n",
    "            {\n",
    "                firstName:\"John\",\n",
    "                lastName:\"Doe\",\n",
    "                age:50,\n",
    "                eyeColor:\"blue\"\n",
    "            };\n",
    "            let nProperties=\"\";\n",
    "            for(let nEachProperty in nPerson) // for(let variable in object)\n",
    "            {\n",
    "                nProperties+=nPerson[nEachProperty]+\" \";\n",
    "            }\n",
    "            document.getElementById(\"someID\").innerHTML=nProperties;\n",
    "        </script>\n",
    "    </body>\n",
    "</html>\n"
   ]
  },
  {
   "cell_type": "code",
   "execution_count": 2,
   "id": "4a6913fd",
   "metadata": {},
   "outputs": [],
   "source": [
    "%%script bash\n",
    "start o.html"
   ]
  },
  {
   "cell_type": "code",
   "execution_count": 3,
   "id": "beb1e331",
   "metadata": {},
   "outputs": [],
   "source": [
    "exit()"
   ]
  },
  {
   "cell_type": "markdown",
   "id": "82bedf27",
   "metadata": {},
   "source": [
    "< [Table of Contents](#top) | [References](#references) >\n",
    "<a id=\"javascriptvarObjectPropertiesAdd\"></a>\n",
    "***\n",
    "###### ``Add``\n",
    "***"
   ]
  },
  {
   "cell_type": "markdown",
   "id": "6514f667",
   "metadata": {},
   "source": [
    "- can add new properties to an existing object by simply giving it a value [0]"
   ]
  },
  {
   "cell_type": "code",
   "execution_count": 1,
   "id": "ac3afe79",
   "metadata": {},
   "outputs": [
    {
     "name": "stdout",
     "output_type": "stream",
     "text": [
      "Overwriting o.html\n"
     ]
    }
   ],
   "source": [
    "%%writefile o.html\n",
    "<!-- [0] -->\n",
    "<html>\n",
    "    <head>\n",
    "        <title>JS objects - Add property</title>       \n",
    "    </head>\n",
    "    </body>\n",
    "        <div id=\"nationality\">div1...</div>\n",
    "        <div id=\"properties\">div2...</div>        \n",
    "        <script>\n",
    "            const nPerson=\n",
    "            {\n",
    "                firstName:\"John\",\n",
    "                lastName:\"Doe\",\n",
    "                age:50,\n",
    "                eyeColor:\"blue\"\n",
    "            };\n",
    "            let nHeaderAdd=\"<h1>Add Property</h1>\";\n",
    "            nPerson.nationality=\"English\"; // add new property\n",
    "            document.getElementById(\"nationality\").innerHTML=nHeaderAdd+nPerson.firstName+\" \"+\"is \"+nPerson.nationality+\".\";            \n",
    "            let txt=\"<h1>Show Properties</h1>\";\n",
    "            for(let nEachProperty in nPerson)\n",
    "            {\n",
    "                txt+=nPerson[nEachProperty]+\" \";\n",
    "            }\n",
    "            document.getElementById(\"properties\").innerHTML=txt;\n",
    "        </script>\n",
    "    </body>\n",
    "</html>"
   ]
  },
  {
   "cell_type": "code",
   "execution_count": 2,
   "id": "3cbbabf0",
   "metadata": {},
   "outputs": [],
   "source": [
    "%%script bash\n",
    "start o.html"
   ]
  },
  {
   "cell_type": "code",
   "execution_count": 3,
   "id": "355d1985",
   "metadata": {},
   "outputs": [],
   "source": [
    "exit()"
   ]
  },
  {
   "cell_type": "markdown",
   "id": "4ea807ba",
   "metadata": {},
   "source": [
    "< [Table of Contents](#top) | [References](#references) >\n",
    "<a id=\"javascriptvarObjectPropertiesdelete\"></a>\n",
    "***\n",
    "###### ``delete``\n",
    "***"
   ]
  },
  {
   "cell_type": "markdown",
   "id": "79e44ec0",
   "metadata": {},
   "source": [
    "- the ``delete`` keyword deletes a property from an object - deletes both the value of the property and the property itself [0]"
   ]
  },
  {
   "cell_type": "code",
   "execution_count": 1,
   "id": "147bcf25",
   "metadata": {},
   "outputs": [
    {
     "name": "stdout",
     "output_type": "stream",
     "text": [
      "Overwriting o.html\n"
     ]
    }
   ],
   "source": [
    "%%writefile o.html\n",
    "<!-- [0] -->\n",
    "<html>\n",
    "    <head>\n",
    "        <title>JS objects - Add property</title>       \n",
    "    </head>\n",
    "    </body>\n",
    "        <div id=\"nationality\">div1...</div>\n",
    "        <div id=\"properties\">div2...</div>     \n",
    "        <div id=\"deleteProperty\">div3...</div>\n",
    "        <script>\n",
    "            const nPerson=\n",
    "            {\n",
    "                firstName:\"John\",\n",
    "                lastName:\"Doe\",\n",
    "                age:50,\n",
    "                eyeColor:\"blue\"\n",
    "            };\n",
    "            let nHeaderAdd=\"<h1>Add Property</h1>\";\n",
    "            nPerson.nationality=\"English\";\n",
    "            document.getElementById(\"nationality\").innerHTML=nHeaderAdd+nPerson.firstName+\" \"+\"is \"+nPerson.nationality+\".\";            \n",
    "            let txt=\"<h1>Show Properties</h1>\";\n",
    "            for(let nEachProperty in nPerson)\n",
    "            {\n",
    "                txt+=nPerson[nEachProperty]+\" \";\n",
    "            }\n",
    "            document.getElementById(\"properties\").innerHTML=txt;            \n",
    "            delete nPerson.nationality; // delete object property\n",
    "            delete nPerson[\"eyeColor\"]; // delete object property\n",
    "            let txt1=\"<h1>Show Properties (after delete)</h1>\";\n",
    "            for(let nEachProperty in nPerson)\n",
    "            {\n",
    "                txt1+=nPerson[nEachProperty]+\" \";\n",
    "            }\n",
    "            document.getElementById(\"deleteProperty\").innerHTML=txt1;          \n",
    "        </script>\n",
    "    </body>\n",
    "</html>"
   ]
  },
  {
   "cell_type": "code",
   "execution_count": 2,
   "id": "3353a55a",
   "metadata": {},
   "outputs": [],
   "source": [
    "%%script bash\n",
    "start o.html"
   ]
  },
  {
   "cell_type": "code",
   "execution_count": 3,
   "id": "a7f13649",
   "metadata": {},
   "outputs": [],
   "source": [
    "%%script bash\n",
    "rm -rf o.html"
   ]
  },
  {
   "cell_type": "code",
   "execution_count": 4,
   "id": "73dcecda",
   "metadata": {},
   "outputs": [],
   "source": [
    "exit()"
   ]
  },
  {
   "cell_type": "markdown",
   "id": "4a46c0ca",
   "metadata": {},
   "source": [
    "< [Table of Contents](#top) | [References](#references) >\n",
    "<a id=\"javascriptvarObjectNested\"></a>\n",
    "***\n",
    "###### Nested\n",
    "***"
   ]
  },
  {
   "cell_type": "markdown",
   "id": "1d366319",
   "metadata": {},
   "source": [
    "- values in an object can be another object [0]"
   ]
  },
  {
   "cell_type": "markdown",
   "id": "4b968fcf",
   "metadata": {},
   "source": [
    "- can access nested objects using the dot notation or the bracket notation [0]"
   ]
  },
  {
   "cell_type": "code",
   "execution_count": 1,
   "id": "52474f16",
   "metadata": {},
   "outputs": [
    {
     "name": "stdout",
     "output_type": "stream",
     "text": [
      "Writing otherObjs.html\n"
     ]
    }
   ],
   "source": [
    "%%writefile otherObjs.html\n",
    "<!-- [0] -->\n",
    "<html>\n",
    "    <head>\n",
    "        <title>Access nested objects</title>\n",
    "    </head>\n",
    "    <body>\n",
    "        <div id=\"demo1\">div1...</div>\n",
    "        <div id=\"demo2\">div2...</div>\n",
    "        <div id=\"demo3\">div3...</div>\n",
    "        <div id=\"demo4\">div4...</div>\n",
    "        <script>\n",
    "            const nObj=\n",
    "            {\n",
    "                name:\"John\",\n",
    "                age:30,\n",
    "                nObjCar: // nested object\n",
    "                {\n",
    "                  car1:\"Ford\",\n",
    "                  car2:\"BMW\",\n",
    "                  car3:\"Fiat\"\n",
    "                }\n",
    "            }\n",
    "            document.getElementById(\"demo1\").innerHTML=nObj.nObjCar.car2; // using dot notation\n",
    "            document.getElementById(\"demo2\").innerHTML=nObj.nObjCar[\"car1\"]; // using bracket notation\n",
    "            document.getElementById(\"demo3\").innerHTML=nObj[\"nObjCar\"][\"car3\"]; // using bracket notation\n",
    "            let n1=\"nObjCar\";\n",
    "            let n2=\"car1\";\n",
    "            document.getElementById(\"demo4\").innerHTML=nObj[n1][n2];\n",
    "        </script>\n",
    "    </body>\n",
    "</html>"
   ]
  },
  {
   "cell_type": "code",
   "execution_count": 2,
   "id": "24dfd097",
   "metadata": {},
   "outputs": [],
   "source": [
    "%%script bash\n",
    "start otherObjs.html"
   ]
  },
  {
   "cell_type": "code",
   "execution_count": 3,
   "id": "9d38bd09",
   "metadata": {},
   "outputs": [],
   "source": [
    "%%script bash\n",
    "rm -rf otherObjs.html"
   ]
  },
  {
   "cell_type": "code",
   "execution_count": 4,
   "id": "c9ad7c12",
   "metadata": {},
   "outputs": [],
   "source": [
    "exit()"
   ]
  },
  {
   "cell_type": "markdown",
   "id": "5b51b7fa",
   "metadata": {},
   "source": [
    "< [Table of Contents](#top) | [References](#references) >\n",
    "<a id=\"javascriptDisplayObject\"></a>\n",
    "***\n",
    "###### Display\n",
    "***"
   ]
  },
  {
   "cell_type": "markdown",
   "id": "d3f0a61e",
   "metadata": {},
   "source": [
    "- displaying a ``JS`` object will output ``[object Object]`` [0]"
   ]
  },
  {
   "cell_type": "code",
   "execution_count": 1,
   "id": "3df9bca4",
   "metadata": {},
   "outputs": [
    {
     "name": "stdout",
     "output_type": "stream",
     "text": [
      "Writing displayJSObject.html\n"
     ]
    }
   ],
   "source": [
    "%%writefile displayJSObject.html\n",
    "<!-- [0] -->\n",
    "<html>\n",
    "    <head>\n",
    "        <title>Display JS object</title>       \n",
    "    </head>\n",
    "    </body>\n",
    "        <div id=\"someDiv\">div...</div>\n",
    "        <script>\n",
    "            const nPerson={name:\"Joe\",age:30,city:\"New York\"};\n",
    "            document.getElementById(\"someDiv\").innerHTML=nPerson;    \n",
    "        </script>\n",
    "    </body>\n",
    "</html>"
   ]
  },
  {
   "cell_type": "code",
   "execution_count": 2,
   "id": "03cdefca",
   "metadata": {},
   "outputs": [],
   "source": [
    "%%script bash\n",
    "start displayJSObject.html"
   ]
  },
  {
   "cell_type": "markdown",
   "id": "c4f35a63",
   "metadata": {},
   "source": [
    "- common solutions to display ``JS`` objects are: [0]\n",
    "\n",
    "1. displaying the object properties by name; \n",
    "\n",
    "2. displaying the object properties in a loop;\n",
    "\n",
    "3. displaying the object using ``Object.values()``\n",
    "\n",
    "4. displaying the object using ``JSON.stringify``"
   ]
  },
  {
   "cell_type": "markdown",
   "id": "a5edb1fe",
   "metadata": {},
   "source": [
    "< [Table of Contents](#top) | [References](#references) >\n",
    "<a id=\"javascriptDisplayObjectName\"></a>\n",
    "***\n",
    "###### via Name\n",
    "***"
   ]
  },
  {
   "cell_type": "code",
   "execution_count": 3,
   "id": "6025d02a",
   "metadata": {},
   "outputs": [
    {
     "name": "stdout",
     "output_type": "stream",
     "text": [
      "Overwriting displayJSObject.html\n"
     ]
    }
   ],
   "source": [
    "%%writefile displayJSObject.html\n",
    "<!-- [0] -->\n",
    "<html>\n",
    "    <head>\n",
    "        <title>1. display the object properties by name (as a string)</title>       \n",
    "    </head>\n",
    "    </body>\n",
    "        <div id=\"someDiv\">div...</div>\n",
    "        <script>\n",
    "            const nPerson={name:\"Joe\",age:30,city:\"New York\"};\n",
    "            document.getElementById(\"someDiv\").innerHTML=nPerson.name+ \", \"+nPerson.age+\", \"+nPerson.city;    \n",
    "        </script>\n",
    "    </body>\n",
    "</html>"
   ]
  },
  {
   "cell_type": "code",
   "execution_count": 4,
   "id": "d558d809",
   "metadata": {},
   "outputs": [],
   "source": [
    "%%script bash\n",
    "start displayJSObject.html"
   ]
  },
  {
   "cell_type": "markdown",
   "id": "fb598caf",
   "metadata": {},
   "source": [
    "< [Table of Contents](#top) | [References](#references) >\n",
    "<a id=\"javascriptDisplayObjectLoop\"></a>\n",
    "***\n",
    "###### via Loop\n",
    "***"
   ]
  },
  {
   "cell_type": "code",
   "execution_count": 5,
   "id": "d7a80de7",
   "metadata": {},
   "outputs": [
    {
     "name": "stdout",
     "output_type": "stream",
     "text": [
      "Overwriting displayJSObject.html\n"
     ]
    }
   ],
   "source": [
    "%%writefile displayJSObject.html\n",
    "<!-- [0] -->\n",
    "<html>\n",
    "    <head>\n",
    "        <title>2. display the object properties in a loop</title>       \n",
    "    </head>\n",
    "    </body>\n",
    "        <div id=\"someDiv\">div...</div>\n",
    "        <script>\n",
    "            const nPerson={name:\"Joe\",age:30,city:\"New York\"};\n",
    "            let n=\"\";\n",
    "            for (let nEachProperty in nPerson)\n",
    "            {\n",
    "                n+=nPerson[nEachProperty]+\" \";\n",
    "            };\n",
    "            document.getElementById(\"someDiv\").innerHTML=n;\n",
    "        </script>\n",
    "    </body>\n",
    "</html>"
   ]
  },
  {
   "cell_type": "code",
   "execution_count": 6,
   "id": "d3d0e302",
   "metadata": {},
   "outputs": [],
   "source": [
    "%%script bash\n",
    "start displayJSObject.html"
   ]
  },
  {
   "cell_type": "markdown",
   "id": "b8263092",
   "metadata": {},
   "source": [
    "< [Table of Contents](#top) | [References](#references) >\n",
    "<a id=\"javascriptDisplayObjectObjectvalues\"></a>\n",
    "***\n",
    "###### via ``Object.values``\n",
    "***"
   ]
  },
  {
   "cell_type": "markdown",
   "id": "5b53ea22",
   "metadata": {},
   "source": [
    "- any ``JS`` object can be converted to an array using ``Object.values()`` [0]"
   ]
  },
  {
   "cell_type": "code",
   "execution_count": 7,
   "id": "b3aa466f",
   "metadata": {},
   "outputs": [
    {
     "name": "stdout",
     "output_type": "stream",
     "text": [
      "Overwriting displayJSObject.html\n"
     ]
    }
   ],
   "source": [
    "%%writefile displayJSObject.html\n",
    "<!-- [0] -->\n",
    "<html>\n",
    "    <head>\n",
    "        <title>3. displaying the object using Object.values()</title>       \n",
    "    </head>\n",
    "    </body>\n",
    "        <h1>Object.values() converts an object to an array.</h1>\n",
    "        <div id=\"someDiv\">div...</div>\n",
    "        <script>\n",
    "            const nPerson={name:\"Joe\",age:30,city:\"New York\"};\n",
    "            document.getElementById(\"someDiv\").innerHTML=Object.values(nPerson);\n",
    "        </script>\n",
    "    </body>\n",
    "</html>"
   ]
  },
  {
   "cell_type": "code",
   "execution_count": 8,
   "id": "0e9af746",
   "metadata": {},
   "outputs": [],
   "source": [
    "%%script bash\n",
    "start displayJSObject.html"
   ]
  },
  {
   "cell_type": "markdown",
   "id": "b480819e",
   "metadata": {},
   "source": [
    "< [Table of Contents](#top) | [References](#references) >\n",
    "<a id=\"javascriptDisplayObjectJSONstringify\"></a>\n",
    "***\n",
    "###### via ``JSON.stringify``\n",
    "***"
   ]
  },
  {
   "cell_type": "markdown",
   "id": "fd193ab0",
   "metadata": {},
   "source": [
    "- any ``JS`` object can be stringified (converted to a string) with the ``JS`` function ``JSON.stringify()`` [0]"
   ]
  },
  {
   "cell_type": "markdown",
   "id": "ed33abb8",
   "metadata": {},
   "source": [
    "- the result will be a string following the ``JSON`` notation [0]"
   ]
  },
  {
   "cell_type": "code",
   "execution_count": 9,
   "id": "44ac3f73",
   "metadata": {},
   "outputs": [
    {
     "name": "stdout",
     "output_type": "stream",
     "text": [
      "Overwriting displayJSObject.html\n"
     ]
    }
   ],
   "source": [
    "%%writefile displayJSObject.html\n",
    "<!-- [0] -->\n",
    "<html>\n",
    "    <head>\n",
    "        <title>4. Display properties in JSON format</title>       \n",
    "    </head>\n",
    "    </body>\n",
    "        <h1>JS string, ready to be displayed</h1>\n",
    "        <div id=\"someDiv\">div...</div>\n",
    "        <script>\n",
    "            const nPerson={name:\"Joe\",age:30,city:\"New York\"};\n",
    "            document.getElementById(\"someDiv\").innerHTML=JSON.stringify(nPerson);\n",
    "        </script>\n",
    "    </body>\n",
    "</html>"
   ]
  },
  {
   "cell_type": "code",
   "execution_count": 10,
   "id": "e085bb91",
   "metadata": {},
   "outputs": [],
   "source": [
    "%%script bash\n",
    "start displayJSObject.html"
   ]
  },
  {
   "cell_type": "code",
   "execution_count": 11,
   "id": "e9c16fe7",
   "metadata": {},
   "outputs": [],
   "source": [
    "%%script bash\n",
    "rm -rf displayJSObject.html"
   ]
  },
  {
   "cell_type": "code",
   "execution_count": 12,
   "id": "0636fb6e",
   "metadata": {},
   "outputs": [],
   "source": [
    "exit()"
   ]
  },
  {
   "cell_type": "markdown",
   "id": "5abd62ad",
   "metadata": {},
   "source": [
    "- creating a book as variable with title and author and ISBN and displaying it in the console [7]"
   ]
  },
  {
   "cell_type": "code",
   "execution_count": 1,
   "id": "d4c0714f",
   "metadata": {},
   "outputs": [
    {
     "name": "stdout",
     "output_type": "stream",
     "text": [
      "Overwriting book.html\n"
     ]
    }
   ],
   "source": [
    "%%writefile book.html\n",
    "<!-- [7] -->\n",
    "<html>\n",
    "    <head>\n",
    "        <title>book variable (with title / author / ISBN) - display in the console</title>       \n",
    "    </head>\n",
    "    </body>\n",
    "        <script>\n",
    "            var nBook={};\n",
    "            nBook.title=\"harry p\";\n",
    "            nBook.author=\"JK\";\n",
    "            nBook.isbn=\"12345\";\n",
    "            console.log(\"book is \"+JSON.stringify(nBook));\n",
    "        </script>\n",
    "    </body>\n",
    "</html>"
   ]
  },
  {
   "cell_type": "code",
   "execution_count": 2,
   "id": "410b14c1",
   "metadata": {},
   "outputs": [],
   "source": [
    "%%script bash\n",
    "start book.html"
   ]
  },
  {
   "cell_type": "code",
   "execution_count": 3,
   "id": "89abff78",
   "metadata": {},
   "outputs": [],
   "source": [
    "%%script bash\n",
    "rm -rf book.html"
   ]
  },
  {
   "cell_type": "code",
   "execution_count": 4,
   "id": "c77cee2a",
   "metadata": {},
   "outputs": [],
   "source": [
    "exit()"
   ]
  },
  {
   "cell_type": "markdown",
   "id": "173187cd",
   "metadata": {},
   "source": [
    "< [Table of Contents](#top) | [References](#references) >\n",
    "<a id=\"javascriptDisplayObjectJSONstringifyStringifyDates\"></a>\n",
    "***\n",
    "###### Stringify ``Dates``\n",
    "***"
   ]
  },
  {
   "cell_type": "markdown",
   "id": "25d6dd0e",
   "metadata": {},
   "source": [
    "- ``JSON.stringify`` converts dates into strings [0]"
   ]
  },
  {
   "cell_type": "code",
   "execution_count": 1,
   "id": "66e25df4",
   "metadata": {},
   "outputs": [
    {
     "name": "stdout",
     "output_type": "stream",
     "text": [
      "Writing displayJSObjectDate.html\n"
     ]
    }
   ],
   "source": [
    "%%writefile displayJSObjectDate.html\n",
    "<!-- [0] -->\n",
    "<html>\n",
    "    <head>\n",
    "        <title>JSON.stringify will convert dates into strings</title>       \n",
    "    </head>\n",
    "    </body>\n",
    "        <div id=\"d\">div...</div>\n",
    "        <script>\n",
    "            var n={name:\"John\",today:new Date()};\n",
    "            document.getElementById(\"d\").innerHTML=JSON.stringify(n);\n",
    "        </script>\n",
    "    </body>\n",
    "</html>"
   ]
  },
  {
   "cell_type": "code",
   "execution_count": 2,
   "id": "98f13a9a",
   "metadata": {},
   "outputs": [],
   "source": [
    "%%script bash\n",
    "start displayJSObjectDate.html"
   ]
  },
  {
   "cell_type": "code",
   "execution_count": 3,
   "id": "d7f601fe",
   "metadata": {},
   "outputs": [],
   "source": [
    "%%script bash\n",
    "rm -rf displayJSObjectDate.html"
   ]
  },
  {
   "cell_type": "code",
   "execution_count": 4,
   "id": "e6ecba1e",
   "metadata": {},
   "outputs": [],
   "source": [
    "exit()"
   ]
  },
  {
   "cell_type": "markdown",
   "id": "11073d97",
   "metadata": {},
   "source": [
    "< [Table of Contents](#top) | [References](#references) >\n",
    "<a id=\"javascriptDisplayObjectJSONstringifyStringifyfunction\"></a>\n",
    "***\n",
    "###### Stringify ~~``function``~~\n",
    "***"
   ]
  },
  {
   "cell_type": "markdown",
   "id": "5910cf18",
   "metadata": {},
   "source": [
    "- ``JSON.stringify`` will not stringify ``function`` [0]"
   ]
  },
  {
   "cell_type": "code",
   "execution_count": 1,
   "id": "8d977645",
   "metadata": {},
   "outputs": [
    {
     "name": "stdout",
     "output_type": "stream",
     "text": [
      "Writing displayJSObjectFunction.html\n"
     ]
    }
   ],
   "source": [
    "%%writefile displayJSObjectFunction.html\n",
    "<!-- [0] -->\n",
    "<html>\n",
    "    <head>\n",
    "        <title>JSON.stringify will not stringify functions</title>       \n",
    "    </head>\n",
    "    </body>\n",
    "        <div id=\"d\">div...</div>\n",
    "        <script>\n",
    "            var n={name:\"John\",age:function(){return 30;}};\n",
    "            document.getElementById(\"d\").innerHTML=JSON.stringify(n); // {\"name\":\"John\"}\n",
    "        </script>\n",
    "    </body>\n",
    "</html>"
   ]
  },
  {
   "cell_type": "code",
   "execution_count": 2,
   "id": "cf86dd9d",
   "metadata": {},
   "outputs": [],
   "source": [
    "%%script bash\n",
    "start displayJSObjectFunction.html"
   ]
  },
  {
   "cell_type": "markdown",
   "id": "cd751cab",
   "metadata": {},
   "source": [
    "< [Table of Contents](#top) | [References](#references) >\n",
    "<a id=\"javascriptDisplayObjectJSONstringifyStringifyfunctionWorkaroundfunction\"></a>\n",
    "***\n",
    "###### ``toString`` (Workaround)\n",
    "***"
   ]
  },
  {
   "cell_type": "markdown",
   "id": "23768166",
   "metadata": {},
   "source": [
    "- convert the ``function`` into a string before stringifying [0]"
   ]
  },
  {
   "cell_type": "code",
   "execution_count": 3,
   "id": "c2aa2e87",
   "metadata": {},
   "outputs": [
    {
     "name": "stdout",
     "output_type": "stream",
     "text": [
      "Overwriting displayJSObjectFunction.html\n"
     ]
    }
   ],
   "source": [
    "%%writefile displayJSObjectFunction.html\n",
    "<!-- [0] -->\n",
    "<html>\n",
    "    <head>\n",
    "        <title>JSON.stringify will not stringify functions</title>       \n",
    "    </head>\n",
    "    </body>\n",
    "        <h1>JSON.stringify will not stringify functions.</h1>\n",
    "        <h1>Must convert function to string first.</h1>        \n",
    "        <div id=\"d\">div...</div>\n",
    "        <script>\n",
    "            var n={name:\"John\",age:function(){return 30;}};\n",
    "            n.age=n.age.toString(); // convert to string\n",
    "            document.getElementById(\"d\").innerHTML=JSON.stringify(n);\n",
    "        </script>\n",
    "    </body>\n",
    "</html>"
   ]
  },
  {
   "cell_type": "code",
   "execution_count": 4,
   "id": "49e6f285",
   "metadata": {},
   "outputs": [],
   "source": [
    "%%script bash\n",
    "start displayJSObjectFunction.html"
   ]
  },
  {
   "cell_type": "code",
   "execution_count": 5,
   "id": "e3db93ae",
   "metadata": {},
   "outputs": [],
   "source": [
    "%%script bash\n",
    "rm -rf displayJSObjectFunction.html"
   ]
  },
  {
   "cell_type": "code",
   "execution_count": 6,
   "id": "b363300e",
   "metadata": {},
   "outputs": [],
   "source": [
    "exit()"
   ]
  },
  {
   "cell_type": "markdown",
   "id": "835d2196",
   "metadata": {},
   "source": [
    "< [Table of Contents](#top) | [References](#references) >\n",
    "<a id=\"javascriptDisplayObjectJSONstringifyStringifyArray\"></a>\n",
    "***\n",
    "###### Stringify Array\n",
    "***"
   ]
  },
  {
   "cell_type": "markdown",
   "id": "4caa9b95",
   "metadata": {},
   "source": [
    "- ``JSON.stringify`` will stringify arrays [0]"
   ]
  },
  {
   "cell_type": "code",
   "execution_count": 1,
   "id": "f60e4c10",
   "metadata": {},
   "outputs": [
    {
     "name": "stdout",
     "output_type": "stream",
     "text": [
      "Writing displayJSObjectArray.html\n"
     ]
    }
   ],
   "source": [
    "%%writefile displayJSObjectArray.html\n",
    "<!-- [0] -->\n",
    "<html>\n",
    "    <head>\n",
    "        <title>JSON.stringify can stringify array</title>       \n",
    "    </head>\n",
    "    </body>   \n",
    "        <div id=\"d\">div...</div>\n",
    "        <script>\n",
    "            const nArray=[\"Joe\",\"Peter\",\"Sara\",\"Jane\"];\n",
    "            document.getElementById(\"d\").innerHTML=JSON.stringify(nArray);\n",
    "        </script>\n",
    "    </body>\n",
    "</html>"
   ]
  },
  {
   "cell_type": "code",
   "execution_count": 2,
   "id": "1a2051dd",
   "metadata": {},
   "outputs": [],
   "source": [
    "%%script bash\n",
    "start displayJSObjectArray.html"
   ]
  },
  {
   "cell_type": "code",
   "execution_count": 3,
   "id": "dd61b14e",
   "metadata": {},
   "outputs": [],
   "source": [
    "%%script bash\n",
    "rm -rf displayJSObjectArray.html"
   ]
  },
  {
   "cell_type": "code",
   "execution_count": 4,
   "id": "0db8ce11",
   "metadata": {},
   "outputs": [],
   "source": [
    "exit()"
   ]
  },
  {
   "cell_type": "markdown",
   "id": "4f7148d6",
   "metadata": {},
   "source": [
    "< [Table of Contents](#top) | [References](#references) >\n",
    "<a id=\"javascriptDisplayObjectManipulate\"></a>\n",
    "***\n",
    "###### Manipulate\n",
    "***"
   ]
  },
  {
   "cell_type": "markdown",
   "id": "886029c3",
   "metadata": {},
   "source": [
    "- can manipulate the ``style`` and/or disable an element using ``JS`` [7]"
   ]
  },
  {
   "cell_type": "markdown",
   "id": "14f1d373",
   "metadata": {},
   "source": [
    "- can make an element visible and hidden [7]\n",
    "\n",
    "```javascript\n",
    "document.getElementById(\"...\").style.display=\"block\";\n",
    "document.getElementById(\"...\").style.display=\"none\";\n",
    "```"
   ]
  },
  {
   "cell_type": "markdown",
   "id": "8bb142df",
   "metadata": {},
   "source": [
    "- can disable a button [7]\n",
    "\n",
    "```javascript\n",
    "document.getElementById(\"...\").disabled=true;\n",
    "```"
   ]
  },
  {
   "cell_type": "markdown",
   "id": "884b3d3a",
   "metadata": {},
   "source": [
    "< [Table of Contents](#top) | [References](#references) >\n",
    "<a id=\"javascriptControl\"></a>\n",
    "***\n",
    "###### Control\n",
    "***"
   ]
  },
  {
   "cell_type": "markdown",
   "id": "79065d8f",
   "metadata": {},
   "source": [
    "&#x1F6A7;"
   ]
  },
  {
   "cell_type": "markdown",
   "id": "3c4b38fb",
   "metadata": {},
   "source": [
    "< [Table of Contents](#top) | [References](#references) >\n",
    "<a id=\"javascriptControlif\"></a>\n",
    "***\n",
    "###### ``if``\n",
    "***"
   ]
  },
  {
   "cell_type": "markdown",
   "id": "678c3afc",
   "metadata": {},
   "source": [
    "```javascript\n",
    "if (condition)\n",
    "    {\n",
    "    do stuff;\n",
    "    }\n",
    "    else\n",
    "    {\n",
    "        do other stuff;\n",
    "    }\n",
    "```"
   ]
  },
  {
   "cell_type": "markdown",
   "id": "981ef593",
   "metadata": {},
   "source": [
    "< [Table of Contents](#top) | [References](#references) >\n",
    "<a id=\"javascriptControlfor\"></a>\n",
    "***\n",
    "###### ``for``\n",
    "***"
   ]
  },
  {
   "cell_type": "markdown",
   "id": "51ac37af",
   "metadata": {},
   "source": [
    "&#x1F6A7;"
   ]
  },
  {
   "cell_type": "markdown",
   "id": "76f0df7d",
   "metadata": {},
   "source": [
    "< [Table of Contents](#top) | [References](#references) >\n",
    "<a id=\"javascriptControlforNumbers\"></a>\n",
    "***\n",
    "###### Numbers\n",
    "***"
   ]
  },
  {
   "cell_type": "markdown",
   "id": "7e5f4a8b",
   "metadata": {},
   "source": [
    "- iterate through ``numbers`` [7]"
   ]
  },
  {
   "cell_type": "code",
   "execution_count": 1,
   "id": "ff176fed",
   "metadata": {},
   "outputs": [
    {
     "name": "stdout",
     "output_type": "stream",
     "text": [
      "Writing for.html\n"
     ]
    }
   ],
   "source": [
    "%%writefile for.html\n",
    "<!-- [7] -->\n",
    "<html>\n",
    "    <head>\n",
    "        <title>for loop</title>       \n",
    "    </head>\n",
    "    </body>\n",
    "        <script>\n",
    "            for (var i=0; i<10; i++)\n",
    "            {\n",
    "                console.log(i); // console output 0-9\n",
    "            }\n",
    "        </script>\n",
    "    </body>\n",
    "</html>"
   ]
  },
  {
   "cell_type": "code",
   "execution_count": 2,
   "id": "ee298e1f",
   "metadata": {},
   "outputs": [],
   "source": [
    "%%script bash\n",
    "start for.html"
   ]
  },
  {
   "cell_type": "code",
   "execution_count": 3,
   "id": "590c2dc0",
   "metadata": {},
   "outputs": [],
   "source": [
    "%%script bash\n",
    "rm -rf for.html"
   ]
  },
  {
   "cell_type": "code",
   "execution_count": 4,
   "id": "65915417",
   "metadata": {},
   "outputs": [],
   "source": [
    "exit()"
   ]
  },
  {
   "cell_type": "markdown",
   "id": "3c013aaf",
   "metadata": {},
   "source": [
    "< [Table of Contents](#top) | [References](#references) >\n",
    "<a id=\"javascriptControlforArray\"></a>\n",
    "***\n",
    "###### Array\n",
    "***"
   ]
  },
  {
   "cell_type": "markdown",
   "id": "9bee84b3",
   "metadata": {},
   "source": [
    "- iterate through an ``array`` using the keyword ``of`` [7]"
   ]
  },
  {
   "cell_type": "code",
   "execution_count": 1,
   "id": "1d7ba2d1",
   "metadata": {},
   "outputs": [
    {
     "name": "stdout",
     "output_type": "stream",
     "text": [
      "Writing for.html\n"
     ]
    }
   ],
   "source": [
    "%%writefile for.html\n",
    "<!-- [7] -->\n",
    "<html>\n",
    "    <head>\n",
    "        <title>for loop</title>       \n",
    "    </head>\n",
    "    </body>\n",
    "        <script>\n",
    "            var nArrayPeople=[\"Joe\",\"Mary\",\"Fred\"];\n",
    "            for (nEachElement of nArrayPeople)\n",
    "            {\n",
    "                console.log(nEachElement);\n",
    "            }\n",
    "        </script>\n",
    "    </body>\n",
    "</html>"
   ]
  },
  {
   "cell_type": "code",
   "execution_count": 2,
   "id": "b36d05f1",
   "metadata": {},
   "outputs": [],
   "source": [
    "%%script bash\n",
    "start for.html"
   ]
  },
  {
   "cell_type": "markdown",
   "id": "9cfdc605",
   "metadata": {},
   "source": [
    "- page that outputs all the values of the ``array`` to a ``div`` [7]"
   ]
  },
  {
   "cell_type": "code",
   "execution_count": 3,
   "id": "f47cc4f5",
   "metadata": {},
   "outputs": [
    {
     "name": "stdout",
     "output_type": "stream",
     "text": [
      "Overwriting for.html\n"
     ]
    }
   ],
   "source": [
    "%%writefile for.html\n",
    "<!-- [7] -->\n",
    "<html>\n",
    "    <head>\n",
    "        <title>for loop</title>       \n",
    "    </head>\n",
    "    </body>\n",
    "        <div id=\"demo\">div...</div>\n",
    "        <script>\n",
    "            var nPeople=[\"Joe\",\"Mary\",\"Fred\"];\n",
    "            var nOutput=\"\";\n",
    "            for (nEachElement of nPeople)\n",
    "            {\n",
    "                nOutput+=nEachElement+\"<br/>\";\n",
    "                document.getElementById(\"demo\").innerHTML=nOutput;\n",
    "            }\n",
    "        </script>\n",
    "    </body>\n",
    "</html>"
   ]
  },
  {
   "cell_type": "code",
   "execution_count": 4,
   "id": "529df58c",
   "metadata": {},
   "outputs": [],
   "source": [
    "%%script bash\n",
    "start for.html"
   ]
  },
  {
   "cell_type": "code",
   "execution_count": 5,
   "id": "9b6b1ef5",
   "metadata": {},
   "outputs": [],
   "source": [
    "%%script bash\n",
    "rm -rf for.html"
   ]
  },
  {
   "cell_type": "code",
   "execution_count": 6,
   "id": "123dc9ed",
   "metadata": {},
   "outputs": [],
   "source": [
    "exit()"
   ]
  },
  {
   "cell_type": "markdown",
   "id": "8a46e7ec",
   "metadata": {},
   "source": [
    "< [Table of Contents](#top) | [References](#references) >\n",
    "<a id=\"javascriptControlforObject\"></a>\n",
    "***\n",
    "###### Object\n",
    "***"
   ]
  },
  {
   "cell_type": "markdown",
   "id": "78c20d57",
   "metadata": {},
   "source": [
    "- iterate through an ``object`` using the keyword ``in`` [7]"
   ]
  },
  {
   "cell_type": "code",
   "execution_count": 1,
   "id": "c4b93834",
   "metadata": {},
   "outputs": [
    {
     "name": "stdout",
     "output_type": "stream",
     "text": [
      "Writing for.html\n"
     ]
    }
   ],
   "source": [
    "%%writefile for.html\n",
    "<!-- [7] -->\n",
    "<html>\n",
    "    <head>\n",
    "        <title>for loop</title>       \n",
    "    </head>\n",
    "    </body>\n",
    "        <script>\n",
    "            var nObjBook={title:\"harry p\",author:\"jkr\",isbn:\"12345\"};\n",
    "            for (nEachName in nObjBook)\n",
    "            {\n",
    "                console.log(nEachName+\"=\"+nObjBook[nEachName]); // name = value\n",
    "            }\n",
    "        </script>\n",
    "    </body>\n",
    "</html>"
   ]
  },
  {
   "cell_type": "code",
   "execution_count": 2,
   "id": "35a59fa4",
   "metadata": {},
   "outputs": [],
   "source": [
    "%%script bash\n",
    "start for.html"
   ]
  },
  {
   "cell_type": "code",
   "execution_count": 3,
   "id": "ae4e0e67",
   "metadata": {},
   "outputs": [],
   "source": [
    "%%script bash\n",
    "rm -rf for.html"
   ]
  },
  {
   "cell_type": "code",
   "execution_count": 4,
   "id": "be023ecf",
   "metadata": {},
   "outputs": [],
   "source": [
    "exit()"
   ]
  },
  {
   "cell_type": "markdown",
   "id": "7d2e4ff4",
   "metadata": {},
   "source": [
    "< [Table of Contents](#top) | [References](#references) >\n",
    "<a id=\"javascriptUserdefinedFunction\"></a>\n",
    "***\n",
    "###### ``function``\n",
    "***"
   ]
  },
  {
   "cell_type": "code",
   "execution_count": 1,
   "id": "55067277",
   "metadata": {},
   "outputs": [
    {
     "name": "stdout",
     "output_type": "stream",
     "text": [
      "Writing s.html\n"
     ]
    }
   ],
   "source": [
    "%%writefile s.html\n",
    "<!-- [6] -->\n",
    "<html>\n",
    "    <head>\n",
    "        <title>js</title>       \n",
    "    </head>\n",
    "    </body>\n",
    "        <script>\n",
    "            function fJS(msg)\n",
    "            {\n",
    "                console.log(\"Test \"+msg);\n",
    "            }\n",
    "            fJS(\"fJS\")\n",
    "        </script> \n",
    "    </body>\n",
    "</html>"
   ]
  },
  {
   "cell_type": "code",
   "execution_count": 2,
   "id": "ca94ac52",
   "metadata": {},
   "outputs": [],
   "source": [
    "%%script bash\n",
    "start s.html"
   ]
  },
  {
   "cell_type": "code",
   "execution_count": 3,
   "id": "1f7a67c9",
   "metadata": {},
   "outputs": [],
   "source": [
    "%%script bash\n",
    "rm -rf s.html"
   ]
  },
  {
   "cell_type": "code",
   "execution_count": 4,
   "id": "76506145",
   "metadata": {},
   "outputs": [],
   "source": [
    "exit()"
   ]
  },
  {
   "cell_type": "markdown",
   "id": "b69895fe",
   "metadata": {},
   "source": [
    "< [Table of Contents](#top) | [References](#references) >\n",
    "<a id=\"javascriptEvent\"></a>\n",
    "***\n",
    "###### Event\n",
    "***"
   ]
  },
  {
   "cell_type": "markdown",
   "id": "2ad91b3f",
   "metadata": {},
   "source": [
    "- events are things that happen to ``HTML`` elements - when ``JS`` is used in ``HTML`` pages ``JS`` react on this events [0]"
   ]
  },
  {
   "cell_type": "markdown",
   "id": "a6399e98",
   "metadata": {},
   "source": [
    "< [Table of Contents](#top) | [References](#references) >\n",
    "<a id=\"javascriptAttributeHTMLonclick\"></a>\n",
    "***\n",
    "###### ``onclick``\n",
    "***"
   ]
  },
  {
   "cell_type": "markdown",
   "id": "930d4ca5",
   "metadata": {},
   "source": [
    "- element (``div`` / ``button`` etc) attribute ``onclick`` call javascript function [6]"
   ]
  },
  {
   "cell_type": "code",
   "execution_count": 1,
   "id": "dbb51e7f",
   "metadata": {},
   "outputs": [
    {
     "name": "stdout",
     "output_type": "stream",
     "text": [
      "Writing o.html\n"
     ]
    }
   ],
   "source": [
    "%%writefile o.html\n",
    "<!-- [6] -->\n",
    "<html>\n",
    "    <head>\n",
    "        <title>js</title>       \n",
    "    </head>\n",
    "    </body>\n",
    "        <button onclick=\"fJS('fJS')\">refer console</button><br/>\n",
    "        \n",
    "        <input id=\"name\" type=\"text\" value=\"enter name\" /><br/>\n",
    "        <button onclick=\"fClick()\">click me</button><br/>\n",
    "        <div id=\"other\">div 1</div>\n",
    "        <div id=\"output\">output when \"click me\"</div>\n",
    "        <script>\n",
    "            function fJS(msg)\n",
    "            {\n",
    "                console.log(\"Test \"+msg);\n",
    "            }\n",
    "            function fClick()\n",
    "            {\n",
    "                var nOutput=document.getElementById(\"name\").value;\n",
    "                document.getElementById(\"output\").innerText=nOutput;\n",
    "            }\n",
    "        </script>\n",
    "    </body>\n",
    "</html>"
   ]
  },
  {
   "cell_type": "code",
   "execution_count": 2,
   "id": "3f3fb925",
   "metadata": {},
   "outputs": [],
   "source": [
    "%%script bash\n",
    "start o.html"
   ]
  },
  {
   "cell_type": "code",
   "execution_count": 3,
   "id": "4ac1ce80",
   "metadata": {},
   "outputs": [],
   "source": [
    "%%script bash\n",
    "rm -rf o.html"
   ]
  },
  {
   "cell_type": "code",
   "execution_count": 4,
   "id": "01d349bb",
   "metadata": {},
   "outputs": [],
   "source": [
    "exit()"
   ]
  },
  {
   "cell_type": "markdown",
   "id": "085f59c5",
   "metadata": {},
   "source": [
    "< [Table of Contents](#top) | [References](#references) >\n",
    "<a id=\"javascriptDisplayObjectManipulatestyle\"></a>\n",
    "***\n",
    "###### ``style``\n",
    "***"
   ]
  },
  {
   "cell_type": "markdown",
   "id": "b22e09e5",
   "metadata": {},
   "source": [
    "- page with two ``div`` tags - showing one visible at a time so each ``div`` will have a button that will make the other ``div`` visible and hide itself [7]"
   ]
  },
  {
   "cell_type": "code",
   "execution_count": 1,
   "id": "98650ace",
   "metadata": {},
   "outputs": [
    {
     "name": "stdout",
     "output_type": "stream",
     "text": [
      "Writing visible.html\n"
     ]
    }
   ],
   "source": [
    "%%writefile visible.html\n",
    "<!-- [7] -->\n",
    "<html>\n",
    "    <head>\n",
    "        <title>manipulate via js</title>       \n",
    "    </head>\n",
    "    </body>\n",
    "        <div id=\"div1\" style=\"background-color:royalblue\"><br/>\n",
    "            some text <br/>\n",
    "            <button onclick=\"showDiv2()\">show Div2</button>\n",
    "        </div>\n",
    "        <div id=\"div2\" style=\"background-color:red; display:none\"><br/>\n",
    "            div2 <br/>\n",
    "            <button onclick=\"showDiv1()\">show Div1</button>\n",
    "        </div>\n",
    "        <script>\n",
    "            function showDiv2()\n",
    "            {\n",
    "                document.getElementById(\"div1\").style.display=\"none\";\n",
    "                document.getElementById(\"div2\").style.display=\"block\";\n",
    "            }\n",
    "            function showDiv1()\n",
    "            {\n",
    "                document.getElementById(\"div1\").style.display=\"block\";\n",
    "                document.getElementById(\"div2\").style.display=\"none\";\n",
    "            }            \n",
    "        </script>\n",
    "    </body>\n",
    "</html>"
   ]
  },
  {
   "cell_type": "code",
   "execution_count": 2,
   "id": "95e4b2f6",
   "metadata": {},
   "outputs": [],
   "source": [
    "%%script bash\n",
    "start visible.html"
   ]
  },
  {
   "cell_type": "code",
   "execution_count": 3,
   "id": "de832289",
   "metadata": {},
   "outputs": [],
   "source": [
    "%%script bash\n",
    "rm -rf visible.html"
   ]
  },
  {
   "cell_type": "code",
   "execution_count": 4,
   "id": "3de79205",
   "metadata": {},
   "outputs": [],
   "source": [
    "exit()"
   ]
  },
  {
   "cell_type": "markdown",
   "id": "e6aaa764",
   "metadata": {},
   "source": [
    "< [Table of Contents](#top) | [References](#references) >\n",
    "<a id=\"javascriptEventonchange\"></a>\n",
    "***\n",
    "###### ``onchange``\n",
    "***"
   ]
  },
  {
   "cell_type": "markdown",
   "id": "1e1cf90d",
   "metadata": {},
   "source": [
    "- page that has a text box and when the content of the text area changes then the page will display whether the value entered is greater or less than 10 or equal to 10 [7]"
   ]
  },
  {
   "cell_type": "code",
   "execution_count": 1,
   "id": "39bde5d3",
   "metadata": {},
   "outputs": [
    {
     "name": "stdout",
     "output_type": "stream",
     "text": [
      "Writing if.html\n"
     ]
    }
   ],
   "source": [
    "%%writefile if.html\n",
    "<!-- [7] -->\n",
    "<html>\n",
    "    <head>\n",
    "        <title>control - if statement</title>       \n",
    "    </head>\n",
    "    </body>\n",
    "        <h1>keyword \"this\" - no requirement for an \"id\"</h1>\n",
    "        <input type=\"number\" onchange=\"fCheckNumber(this)\" /><br/>\n",
    "        <!-- text area -->\n",
    "        <div id=\"output\">\n",
    "            output div...\n",
    "        </div>\n",
    "        <script>\n",
    "            function fCheckNumber(nParInputEle)\n",
    "            {\n",
    "                var n=nParInputEle.value; // value of input box\n",
    "                if (n<10)\n",
    "                {\n",
    "                    document.getElementById(\"output\").innerText=\"too low\";\n",
    "                }\n",
    "                else if (n>10)\n",
    "                {\n",
    "                    document.getElementById(\"output\").innerText=\"too high\";\n",
    "                }\n",
    "                else\n",
    "                {\n",
    "                    document.getElementById(\"output\").innerText=\"correct\";\n",
    "                }\n",
    "            }\n",
    "        </script>\n",
    "    </body>\n",
    "</html>"
   ]
  },
  {
   "cell_type": "code",
   "execution_count": 2,
   "id": "f2ab66c7",
   "metadata": {},
   "outputs": [],
   "source": [
    "%%script bash\n",
    "start if.html"
   ]
  },
  {
   "cell_type": "code",
   "execution_count": 3,
   "id": "e2af0158",
   "metadata": {},
   "outputs": [],
   "source": [
    "%%script bash\n",
    "rm -rf if.html"
   ]
  },
  {
   "cell_type": "code",
   "execution_count": 4,
   "id": "7da0f537",
   "metadata": {},
   "outputs": [],
   "source": [
    "exit()"
   ]
  },
  {
   "cell_type": "markdown",
   "id": "e82e5f14",
   "metadata": {},
   "source": [
    "< [Table of Contents](#top) | [References](#references) >\n",
    "<a id=\"consumingXMLHTMLdatafromtheweb\"></a>\n",
    "***\n",
    "### Consuming XML/HTML data from the web\n",
    "***"
   ]
  },
  {
   "cell_type": "markdown",
   "id": "0199f71a",
   "metadata": {},
   "source": [
    "- extracting data from resources on the web that are stored in a XML or HTML format [1]"
   ]
  },
  {
   "cell_type": "code",
   "execution_count": null,
   "id": "42be1864",
   "metadata": {},
   "outputs": [],
   "source": [
    "fFile(nParPath=\"./hide/03-ConsumingXMLHTMLDataFromTheWeb/Wood Type - 07-10-2020.mp4\")"
   ]
  },
  {
   "cell_type": "markdown",
   "id": "e61ca824",
   "metadata": {},
   "source": [
    "< [Table of Contents](#top) | [References](#references) >\n",
    "<a id=\"consumingXMLHTMLdatafromthewebURLs\"></a>\n",
    "***\n",
    "###### URLs\n",
    "***"
   ]
  },
  {
   "cell_type": "code",
   "execution_count": null,
   "id": "65fad453",
   "metadata": {},
   "outputs": [],
   "source": [
    "fFile(nParPath=\"./hide/03-ConsumingXMLHTMLDataFromTheWeb/DR3.2 Theory-HTTP and URL - 09-10-2019.mp4\")\n",
    "fFile(nParPath=\"./hide/03-ConsumingXMLHTMLDataFromTheWeb/DR3.2 Theory-HTTP and URL.pptx\")"
   ]
  },
  {
   "cell_type": "markdown",
   "id": "b994acbd",
   "metadata": {},
   "source": [
    "< [Table of Contents](#top) | [References](#references) >\n",
    "<a id=\"lectureConsumingXMLandHTMLfromtheweb\"></a>\n",
    "***\n",
    "###### Consuming XML (and HTML) from the web\n",
    "***"
   ]
  },
  {
   "cell_type": "code",
   "execution_count": null,
   "id": "cf108407",
   "metadata": {},
   "outputs": [],
   "source": [
    "fFile(nParPath=\"./hide/03-ConsumingXMLHTMLDataFromTheWeb/DR3.3 consuming xml - 07-10-2020.mp4\")\n",
    "fFile(nParPath=\"./hide/03-ConsumingXMLHTMLDataFromTheWeb/DR3.3 consuming xml.pptx\")\n",
    "fFile(nParPath=\"./hide/03-ConsumingXMLHTMLDataFromTheWeb/Lab03a-trains.pdf\")"
   ]
  },
  {
   "cell_type": "markdown",
   "id": "c16c7246",
   "metadata": {},
   "source": [
    "< [Table of Contents](#top) | [References](#references) >\n",
    "<a id=\"webScrapping\"></a>\n",
    "***\n",
    "###### Web Scrapping\n",
    "***"
   ]
  },
  {
   "cell_type": "code",
   "execution_count": null,
   "id": "204f1324",
   "metadata": {},
   "outputs": [],
   "source": [
    "fFile(nParPath=\"./hide/03-ConsumingXMLHTMLDataFromTheWeb/DR3.4 Webscrapping - 07-10-2020.mp4\")\n",
    "fFile(nParPath=\"./hide/03-ConsumingXMLHTMLDataFromTheWeb/DR3.4 Webscrapping.pptx\")\n",
    "fFile(nParPath=\"./hide/03-ConsumingXMLHTMLDataFromTheWeb/Lab03b-web Scraping.pdf\")"
   ]
  },
  {
   "cell_type": "markdown",
   "id": "92682204",
   "metadata": {},
   "source": [
    "< [Table of Contents](#top) | [References](#references) >\n",
    "***\n",
    "###### References\n",
    "***"
   ]
  },
  {
   "cell_type": "markdown",
   "id": "77ee29c6",
   "metadata": {},
   "source": [
    "[http](https://www.jmarshall.com/easy/http/)\n",
    "\n",
    "[RSS](https://cyber.harvard.edu/rss/rss.html)\n",
    "\n",
    "[Tutorial: Web Scraping with Python Using Beautiful Soup](https://www.dataquest.io/blog/web-scraping-python-using-beautiful-soup)"
   ]
  },
  {
   "cell_type": "code",
   "execution_count": null,
   "id": "858dbeef",
   "metadata": {},
   "outputs": [],
   "source": [
    "fFile(nParPath=\"./hide/03-ConsumingXMLHTMLDataFromTheWeb/beautiful-soup-4.pdf\")"
   ]
  },
  {
   "cell_type": "markdown",
   "id": "9f9921f6",
   "metadata": {},
   "source": [
    "***\n",
    "### END"
   ]
  },
  {
   "cell_type": "markdown",
   "id": "4f6bd154",
   "metadata": {},
   "source": [
    "< [Table of Contents](#top) | [References](#references) >\n",
    "<a id=\"jSONAJAXandREST\"></a>\n",
    "***\n",
    "### JSON and AJAX and REST\n",
    "***"
   ]
  },
  {
   "cell_type": "code",
   "execution_count": null,
   "id": "4b2c25f9",
   "metadata": {},
   "outputs": [],
   "source": [
    "fFile(nParPath=\"./hide/04-JSONandAJAXandREST/DR4.1 Week04 overview - 16-10-2019.mp4\")"
   ]
  },
  {
   "cell_type": "markdown",
   "id": "312b842d",
   "metadata": {},
   "source": [
    "< [Table of Contents](#top) | [References](#references) >\n",
    "<a id=\"jSONAJAXandRESTHTTP\"></a>\n",
    "***\n",
    "###### HTTP\n",
    "***"
   ]
  },
  {
   "cell_type": "code",
   "execution_count": null,
   "id": "475c576e",
   "metadata": {},
   "outputs": [],
   "source": [
    "fFile(nParPath=\"./hide/04-JSONandAJAXandREST/DR4.2 HTTP 2 (methods and response codes) - 14-10-2020.mp4\")\n",
    "fFile(nParPath=\"./hide/04-JSONandAJAXandREST/DR4.2 HTTP2 methods and response codes slides.pptx\")"
   ]
  },
  {
   "cell_type": "markdown",
   "id": "dc214834",
   "metadata": {},
   "source": [
    "- ... [Form](#introductionHTMLTagForm)"
   ]
  },
  {
   "cell_type": "markdown",
   "id": "86cb74a3",
   "metadata": {},
   "source": [
    "< [Table of Contents](#top) | [References](#references) >\n",
    "<a id=\"jSONAJAXandRESTjson\"></a>\n",
    "***\n",
    "###### JSON\n",
    "***"
   ]
  },
  {
   "cell_type": "code",
   "execution_count": null,
   "id": "3e228ec9",
   "metadata": {},
   "outputs": [],
   "source": [
    "fFile(nParPath=\"./hide/04-JSONandAJAXandREST/DR4.3 JSON - 14-10-2020.mp4\")\n",
    "fFile(nParPath=\"./hide/04-JSONandAJAXandREST/DR4.3 JSON slides.pptx\")"
   ]
  },
  {
   "cell_type": "markdown",
   "id": "d5df7fa8",
   "metadata": {},
   "source": [
    "< [Table of Contents](#top) | [References](#references) >\n",
    "<a id=\"jSONAJAXandRESTajax\"></a>\n",
    "***\n",
    "###### AJAX\n",
    "***"
   ]
  },
  {
   "cell_type": "code",
   "execution_count": null,
   "id": "ba1ee979",
   "metadata": {},
   "outputs": [],
   "source": [
    "fFile(nParPath=\"./hide/04-JSONandAJAXandREST/DR4.4 Ajax - 14-10-2020.mp4\")\n",
    "fFile(nParPath=\"./hide/04-JSONandAJAXandREST/DR4.4 AJAX JQuery slides.pptx\")"
   ]
  },
  {
   "cell_type": "markdown",
   "id": "683934c0",
   "metadata": {},
   "source": [
    "< [Table of Contents](#top) | [References](#references) >\n",
    "<a id=\"jSONAJAXandRESTrest\"></a>\n",
    "***\n",
    "###### REST\n",
    "***"
   ]
  },
  {
   "cell_type": "code",
   "execution_count": null,
   "id": "9564fc49",
   "metadata": {},
   "outputs": [],
   "source": [
    "fFile(nParPath=\"./hide/04-JSONandAJAXandREST/DR4.5 Rest - 16-10-2019.mp4\")\n",
    "fFile(nParPath=\"./hide/04-JSONandAJAXandREST/DR4.5 Rest slides.pptx\")"
   ]
  },
  {
   "cell_type": "code",
   "execution_count": null,
   "id": "050517da",
   "metadata": {},
   "outputs": [],
   "source": [
    "fFile(nParPath=\"./hide/04-JSONandAJAXandREST/Lab04-JSON and AJAX.pdf\")\n",
    "fFile(nParPath=\"./hide/04-JSONandAJAXandREST/DR4.6 lab walk through - 17-10-2019.mp4\")"
   ]
  },
  {
   "cell_type": "markdown",
   "id": "1e7a98b6",
   "metadata": {},
   "source": [
    "***\n",
    "### END"
   ]
  },
  {
   "cell_type": "markdown",
   "id": "db755506",
   "metadata": {},
   "source": [
    "< [Table of Contents](#top) | [References](#references) >\n",
    "<a id=\"aJAXandREST\"></a>\n",
    "***\n",
    "### AJAX and REST\n",
    "***"
   ]
  },
  {
   "cell_type": "markdown",
   "id": "34ea78c4",
   "metadata": {},
   "source": [
    "- linking client side to a server using a REST API [1]"
   ]
  },
  {
   "cell_type": "code",
   "execution_count": null,
   "id": "f65f3610",
   "metadata": {},
   "outputs": [],
   "source": [
    "fFile(nParPath=\"./hide/05-AJAXandREST/DR5.1 Overview - 21-10-2020.mp4\")"
   ]
  },
  {
   "cell_type": "markdown",
   "id": "ec89685d",
   "metadata": {},
   "source": [
    "< [Table of Contents](#top) | [References](#references) >\n",
    "<a id=\"aJAXandRESTCurl\"></a>\n",
    "***\n",
    "###### Curl\n",
    "***"
   ]
  },
  {
   "cell_type": "markdown",
   "id": "966737db",
   "metadata": {},
   "source": [
    "- note on calling CURL - the windows console does not handle ', it only has \" - this means that when we are passing data it needs to be in \"\" - any inverted commas inside these inverted commas need to be escaped so JSON would look something like [1]:\n",
    "\n",
    "```json\n",
    "\"\\\"name\\\":\\\"value\\\"\"\n",
    "YUCK!!!!!!\n",
    "```"
   ]
  },
  {
   "cell_type": "code",
   "execution_count": null,
   "id": "696d175f",
   "metadata": {},
   "outputs": [],
   "source": [
    "fFile(nParPath=\"./hide/05-AJAXandREST/DR5.2 Curl - 21-10-2020.mp4\")\n",
    "fFile(nParPath=\"./hide/05-AJAXandREST/DR5.2 Curl.pptx\")\n",
    "fFile(nParPath=\"./hide/05-AJAXandREST/Lab05.1 CURL.pdf\")"
   ]
  },
  {
   "cell_type": "markdown",
   "id": "22c57169",
   "metadata": {},
   "source": [
    "< [Table of Contents](#top) | [References](#references) >\n",
    "<a id=\"aJAXandRESTFlask\"></a>\n",
    "***\n",
    "###### Flask\n",
    "***"
   ]
  },
  {
   "cell_type": "code",
   "execution_count": null,
   "id": "765b1ee3",
   "metadata": {},
   "outputs": [],
   "source": [
    "fFile(nParPath=\"./hide/05-AJAXandREST/DR5.3 Flask - 23-10-2019.mp4\")\n",
    "fFile(nParPath=\"./hide/05-AJAXandREST/DR5.3 FLASK Server.pptx\")\n",
    "fFile(nParPath=\"./hide/05-AJAXandREST/Lab05.2 flask1.pdf\")\n",
    "fFile(nParPath=\"./hide/05-AJAXandREST/Lab05-if you are having issues with Flask.pdf\")"
   ]
  },
  {
   "cell_type": "markdown",
   "id": "01a9847a",
   "metadata": {},
   "source": [
    "< [Table of Contents](#top) | [References](#references) >\n",
    "<a id=\"aJAXandRESTAJAX\"></a>\n",
    "***\n",
    "###### AJAX\n",
    "***"
   ]
  },
  {
   "cell_type": "code",
   "execution_count": null,
   "id": "c3623240",
   "metadata": {},
   "outputs": [],
   "source": [
    "fFile(nParPath=\"./hide/05-AJAXandREST/DR5.4 AJAX and REST - 23-10-2019.mp4\")\n",
    "fFile(nParPath=\"./hide/05-AJAXandREST/DR5.4 AJAX and REST.pptx\")\n",
    "fFile(nParPath=\"./hide/05-AJAXandREST/Lab05.3 AJAX calls to REST.pdf\")\n",
    "fFile(nParPath=\"./hide/05-AJAXandREST/DR5.5 lab5.3 walkthrough - 24-10-2020.mp4\")\n",
    "# about 5 minutes in the walkthrough video - trying to debug a very simple mistake (minutes 14 to 19 approx)\n",
    "fFile(nParPath=\"./hide/05-AJAXandREST/Lab05.4 connect carviewer to API.pdf\")\n",
    "# try to connect the carviewer2.html to the server - useful for the project assignment"
   ]
  },
  {
   "cell_type": "markdown",
   "id": "c8120b18",
   "metadata": {},
   "source": [
    "***\n",
    "### END"
   ]
  },
  {
   "cell_type": "markdown",
   "id": "f75695e6",
   "metadata": {},
   "source": [
    "< [Table of Contents](#top) | [References](#references) >\n",
    "<a id=\"usingpythontoconsumeAPIs\"></a>\n",
    "***\n",
    "### Using python to consume APIs\n",
    "***"
   ]
  },
  {
   "cell_type": "code",
   "execution_count": null,
   "id": "270373ab",
   "metadata": {},
   "outputs": [],
   "source": [
    "fFile(nParPath=\"./hide/06-UsingPythonToConsumeAPIs/DR6.1 Overview - 01-11-2019.mp4\")"
   ]
  },
  {
   "cell_type": "markdown",
   "id": "3c63958f",
   "metadata": {},
   "source": [
    "< [Table of Contents](#top) | [References](#references) >\n",
    "<a id=\"usingpythontoconsumeAPIsRequests\"></a>\n",
    "***\n",
    "###### Requests\n",
    "***"
   ]
  },
  {
   "cell_type": "code",
   "execution_count": null,
   "id": "8434258f",
   "metadata": {},
   "outputs": [],
   "source": [
    "fFile(nParPath=\"./hide/06-UsingPythonToConsumeAPIs/DR6.2 Python and APIs - 28-10-2020.mp4\")\n",
    "fFile(nParPath=\"./hide/06-UsingPythonToConsumeAPIs/DR6.2 python and APIs.pptm\")\n",
    "fFile(nParPath=\"./hide/06-UsingPythonToConsumeAPIs/Lab06.1 use python to access server.pdf\")"
   ]
  },
  {
   "cell_type": "markdown",
   "id": "f783ce12",
   "metadata": {},
   "source": [
    "< [Table of Contents](#top) | [References](#references) >\n",
    "<a id=\"usingpythontoconsumeAPIsAuthentication\"></a>\n",
    "***\n",
    "###### Authentication\n",
    "***"
   ]
  },
  {
   "cell_type": "code",
   "execution_count": null,
   "id": "dae6947c",
   "metadata": {},
   "outputs": [],
   "source": [
    "fFile(nParPath=\"./hide/06-UsingPythonToConsumeAPIs/DR6.3 API keys and OAuth - 28-10-2020.mp4\")\n",
    "fFile(nParPath=\"./hide/06-UsingPythonToConsumeAPIs/DR6.3 API keys and OAuth.pptm\")\n",
    "fFile(nParPath=\"./hide/06-UsingPythonToConsumeAPIs/Lab06.2 API keys.pdf\")"
   ]
  },
  {
   "cell_type": "markdown",
   "id": "238c611b",
   "metadata": {},
   "source": [
    "< [Table of Contents](#top) | [References](#references) >\n",
    "<a id=\"usingpythontoconsumeAPIsAPIsandPackages\"></a>\n",
    "***\n",
    "###### APIs and Packages\n",
    "***"
   ]
  },
  {
   "cell_type": "code",
   "execution_count": null,
   "id": "0c20bba4",
   "metadata": {},
   "outputs": [],
   "source": [
    "fFile(nParPath=\"./hide/06-UsingPythonToConsumeAPIs/DR6.4 using packages - 28-10-2020.mp4\")\n",
    "fFile(nParPath=\"./hide/06-UsingPythonToConsumeAPIs/DR6.4 using packages.pptx\")\n",
    "fFile(nParPath=\"./hide/06-UsingPythonToConsumeAPIs/Lab06.3 using the package.pdf\")"
   ]
  },
  {
   "cell_type": "markdown",
   "id": "f059a0d5",
   "metadata": {},
   "source": [
    "- NOTE - if anyone pushes a file that contains the key to GitHub it will disable the key (this is very likely to happen) - if this does happen create a key in own repository or create a new one in datarepresentationstudent [1]\n",
    "\n",
    "```\n",
    "username: datarepresentationstudent  \n",
    "\n",
    "password: dataRep2020\n",
    "```\n",
    "\n",
    "- log into gmail to verify your device [1]\n",
    "\n",
    "```\n",
    "username: datarepresentationstudents@gmail.com\n",
    "\n",
    "password: dataRep2020\n",
    "```\n",
    "\n",
    "- the key in the lab no longer works so made a new key [1]:\n",
    "\n",
    "```\n",
    "71b89bdc0378f2330931041ef2f2fc573043336-5\n",
    "```\n",
    "\n",
    "- (remove the minus sign) [1]\n",
    "\n",
    "\n",
    "- or use [1]\n",
    "\n",
    "```\n",
    "c7adca01d62fd0d9a8bbd07e88724a708a06b17-f\n",
    "```\n",
    "\n",
    "- (remove the minus sign) - it may be easier to use own GitHub account [1]"
   ]
  },
  {
   "cell_type": "markdown",
   "id": "d2d63d0a",
   "metadata": {},
   "source": [
    "< [Table of Contents](#top) | [References](#references) >\n",
    "***\n",
    "###### References\n",
    "***"
   ]
  },
  {
   "cell_type": "markdown",
   "id": "52e96c9d",
   "metadata": {},
   "source": [
    "- JSON - [python](https://docs.python.org/3/library/json.html) - [realpython](https://realpython.com/python-json)\n",
    "\n",
    "\n",
    "- [Requests](https://requests.kennethreitz.org/en/master/user/quickstart)\n",
    "\n",
    "\n",
    "- [Files](https://www.w3schools.com/python/python_file_handling.asp)\n",
    "\n",
    "\n",
    "- Excel - [xlwt](https://xlwt.readthedocs.io/en/latest/api.html) - [pythonlibrary](http://www.blog.pythonlibrary.org/2014/03/24/creating-microsoft-excel-spreadsheets-with-python-and-xlwt)\n",
    "\n"
   ]
  },
  {
   "cell_type": "markdown",
   "id": "ee772db2",
   "metadata": {},
   "source": [
    "***\n",
    "### END"
   ]
  },
  {
   "cell_type": "markdown",
   "id": "e747a4ce",
   "metadata": {},
   "source": [
    "< [Table of Contents](#top) | [References](#references) >\n",
    "<a id=\"caseStudies\"></a>\n",
    "***\n",
    "### Case Studies\n",
    "***"
   ]
  },
  {
   "cell_type": "markdown",
   "id": "1bd32125",
   "metadata": {},
   "source": [
    "- Some of the reports do not contain an attribute called rows - modified the code in GitHub to have a ``try except`` to deal with these [1]"
   ]
  },
  {
   "cell_type": "markdown",
   "id": "12ec5b34",
   "metadata": {},
   "source": [
    "< [Table of Contents](#top) | [References](#references) >\n",
    "<a id=\"electricData\"></a>\n",
    "***\n",
    "###### Electric Data\n",
    "***"
   ]
  },
  {
   "cell_type": "code",
   "execution_count": null,
   "id": "d80850ae",
   "metadata": {},
   "outputs": [],
   "source": [
    "fFile(nParPath=\"./hide/07-CaseStudies/Lab 07.01 challenge Gettng data.pdf\")\n",
    "fFile(nParPath=\"./hide/07-CaseStudies/DR7.2 Challenge lab07.01 Walkthrough - 12-11-2019.mp4\")"
   ]
  },
  {
   "cell_type": "markdown",
   "id": "965e3bd9",
   "metadata": {},
   "source": [
    "< [Table of Contents](#top) | [References](#references) >\n",
    "<a id=\"caseStudiesGmail\"></a>\n",
    "***\n",
    "###### Gmail\n",
    "***"
   ]
  },
  {
   "cell_type": "code",
   "execution_count": null,
   "id": "3f7d6d16",
   "metadata": {},
   "outputs": [],
   "source": [
    "fFile(nParPath=\"./hide/07-CaseStudies/Lab 07.02 challenge GMail.pdf\")\n",
    "fFile(nParPath=\"./hide/07-CaseStudies/DR7.2 challenge walkthrough gmail - 12-11-2019.mp4\")"
   ]
  },
  {
   "cell_type": "markdown",
   "id": "a664618a",
   "metadata": {},
   "source": [
    "< [Table of Contents](#top) | [References](#references) >\n",
    "<a id=\"caseStudiesWeather\"></a>\n",
    "***\n",
    "###### Weather\n",
    "***"
   ]
  },
  {
   "cell_type": "code",
   "execution_count": null,
   "id": "b0c00ab4",
   "metadata": {},
   "outputs": [],
   "source": [
    "fFile(nParPath=\"./hide/07-CaseStudies/Lab 07.03 challenge Weather.docx\")\n",
    "fFile(nParPath=\"./hide/07-CaseStudies/DR7.4 challenge walkthrough weather - 12-11-2019.mp4\")"
   ]
  },
  {
   "cell_type": "markdown",
   "id": "cac7e674",
   "metadata": {},
   "source": [
    "< [Table of Contents](#top) | [References](#references) >\n",
    "<a id=\"openfoodfacts\"></a>\n",
    "***\n",
    "###### Open Food Facts\n",
    "***"
   ]
  },
  {
   "cell_type": "code",
   "execution_count": null,
   "id": "c89b1851",
   "metadata": {},
   "outputs": [],
   "source": [
    "fFile(nParPath=\"./hide/07-CaseStudies/Lab 07.04 challenge food brands.pdf\")\n",
    "fFile(nParPath=\"./hide/07-CaseStudies/DR07.05 Walkthrough Lab07.04 brands - 06-11-2020.mp4\")"
   ]
  },
  {
   "cell_type": "markdown",
   "id": "073cc000",
   "metadata": {},
   "source": [
    "< [Table of Contents](#top) | [References](#references) >\n",
    "***\n",
    "###### References\n",
    "***"
   ]
  },
  {
   "cell_type": "code",
   "execution_count": null,
   "id": "8a722ecc",
   "metadata": {},
   "outputs": [],
   "source": [
    "fFile(nParPath=\"./hide/07-CaseStudies/SEMO-Website-Report-API.pdf\")"
   ]
  },
  {
   "cell_type": "markdown",
   "id": "86723a23",
   "metadata": {},
   "source": [
    "[Gmail](https://developers.google.com/gmail/api)\n",
    "\n",
    "[Python](https://developers.google.com/gmail/api/quickstart/python)\n",
    "\n",
    "- openfoodfacts.org - [wiki](wiki.openfoodfacts.org) - [github](https://github.com/openfoodfacts/openfoodfacts-python)"
   ]
  },
  {
   "cell_type": "markdown",
   "id": "45292173",
   "metadata": {},
   "source": [
    "***\n",
    "### END"
   ]
  },
  {
   "cell_type": "markdown",
   "id": "b6b92d92",
   "metadata": {},
   "source": [
    "< [Table of Contents](#top) | [References](#references) >\n",
    "<a id=\"serverSide\"></a>\n",
    "***\n",
    "### Server Side\n",
    "*** "
   ]
  },
  {
   "cell_type": "markdown",
   "id": "a988cc1a",
   "metadata": {},
   "source": [
    "1.) Flask and virtual environments\n",
    "\n",
    "\n",
    "2.) Practical lectures on creating web-applications and designing example APIs\n",
    "\n",
    "\n",
    "3.) Practical lectures on hosting web-applications on the cloud"
   ]
  },
  {
   "cell_type": "markdown",
   "id": "dd87feeb",
   "metadata": {},
   "source": [
    "< [Table of Contents](#top) | [References](#references) >\n",
    "<a id=\"virtualEnvironments\"></a>\n",
    "***\n",
    "###### Virtual Environments\n",
    "*** "
   ]
  },
  {
   "cell_type": "markdown",
   "id": "47fd0097",
   "metadata": {},
   "source": [
    "- UPDATE the .gitignore should contain /venv [1]"
   ]
  },
  {
   "cell_type": "code",
   "execution_count": null,
   "id": "4947846e",
   "metadata": {},
   "outputs": [],
   "source": [
    "fFile(nParPath=\"./hide/08-ServerSide/DR8.1 Virtual Environment - 12-11-2020.mp4\")\n",
    "fFile(nParPath=\"./hide/08-ServerSide/DR8.1 Virtual Environments clean.pptx\")"
   ]
  },
  {
   "cell_type": "markdown",
   "id": "e3e540d8",
   "metadata": {},
   "source": [
    "< [Table of Contents](#top) | [References](#references) >\n",
    "<a id=\"serverSideFlask\"></a>\n",
    "***\n",
    "###### Flask\n",
    "***  "
   ]
  },
  {
   "cell_type": "code",
   "execution_count": null,
   "id": "2a8c78d8",
   "metadata": {},
   "outputs": [],
   "source": [
    "fFile(nParPath=\"./hide/08-ServerSide/DR8.2 Flask - 12-11-2020.mp4\")\n",
    "fFile(nParPath=\"./hide/08-ServerSide/DR8.2 Flask clean.pptx\")"
   ]
  },
  {
   "cell_type": "markdown",
   "id": "8ff5a5ee",
   "metadata": {},
   "source": [
    "< [Table of Contents](#top) | [References](#references) >\n",
    "<a id=\"practicalRESTServer\"></a>\n",
    "***\n",
    "###### Practical REST Server\n",
    "***  "
   ]
  },
  {
   "cell_type": "code",
   "execution_count": null,
   "id": "a66821d6",
   "metadata": {},
   "outputs": [],
   "source": [
    "fFile(nParPath=\"./hide/08-ServerSide/DR8.3 Implementing REST server - 12-11-2020.mp4\")\n",
    "fFile(nParPath=\"./hide/08-ServerSide/DR8.3 REST for project clean.pptx\")"
   ]
  },
  {
   "cell_type": "code",
   "execution_count": null,
   "id": "a0f2fd40",
   "metadata": {},
   "outputs": [],
   "source": [
    "fFile(nParPath=\"./hide/08-ServerSide/Lab 08.03 Create a REST Server.pdf\")"
   ]
  },
  {
   "cell_type": "markdown",
   "id": "a202c4cd",
   "metadata": {},
   "source": [
    "< [Table of Contents](#top) | [References](#references) >\n",
    "<a id=\"hostingWebServer\"></a>\n",
    "***\n",
    "###### Hosting Web Server\n",
    "***  "
   ]
  },
  {
   "cell_type": "code",
   "execution_count": null,
   "id": "487ab37f",
   "metadata": {},
   "outputs": [],
   "source": [
    "fFile(nParPath=\"./hide/08-ServerSide/DR8.3b python anyhwere - 21-11-2019.mp4\")"
   ]
  },
  {
   "cell_type": "markdown",
   "id": "2a34299a",
   "metadata": {},
   "source": [
    "< [Table of Contents](#top) | [References](#references) >\n",
    "***\n",
    "###### References\n",
    "***  "
   ]
  },
  {
   "cell_type": "markdown",
   "id": "9a65b4a5",
   "metadata": {},
   "source": [
    "[Virtual Environment](https://docs.python.org/3/library/venv.html)\n",
    "\n",
    "\n",
    "[Using Flask](https://buildmedia.readthedocs.org/media/pdf/flask/latest/flask.pdf)\n",
    "\n",
    "\n",
    "- hosting on Azure tutorial - [medium](https://medium.com/@nikovrdoljak/deploy-your-flask-app-on-azure-in-3-easy-steps-b2fe388a589e) - [github](https://github.com/smartninja/example-azure-flask)"
   ]
  },
  {
   "cell_type": "markdown",
   "id": "9a8ec13d",
   "metadata": {},
   "source": [
    "***\n",
    "### END"
   ]
  },
  {
   "cell_type": "markdown",
   "id": "5979de44",
   "metadata": {},
   "source": [
    "< [Table of Contents](#top) | [References](#references) >\n",
    "<a id=\"linkingtoDatabase\"></a>\n",
    "***\n",
    "### Linking to Database\n",
    "***"
   ]
  },
  {
   "cell_type": "markdown",
   "id": "bd0b2933",
   "metadata": {},
   "source": [
    "- NOTE - does not matter what kind of MYSQL server you have on your machine - if you already have a server and MySQL client on your machine do not install WAMP - in fact I would now recommend that you install the bog standard MySQL server and client and not WAMP - only suggested WAMP because that is what I used to use [1]"
   ]
  },
  {
   "cell_type": "markdown",
   "id": "553b988d",
   "metadata": {},
   "source": [
    "< [Table of Contents](#top) | [References](#references) >\n",
    "<a id=\"linkingdatabases\"></a>\n",
    "***\n",
    "###### Databases\n",
    "***  "
   ]
  },
  {
   "cell_type": "code",
   "execution_count": null,
   "id": "af7c0601",
   "metadata": {},
   "outputs": [],
   "source": [
    "fFile(nParPath=\"./hide/09-LinkingToDatabase/DR9.01 databases - 28-11-2019.mp4\")\n",
    "fFile(nParPath=\"./hide/09-LinkingToDatabase/DR9.01 databases.pptx\")\n",
    "fFile(nParPath=\"./hide/09-LinkingToDatabase/Lab09.01 databases.pdf\")"
   ]
  },
  {
   "cell_type": "markdown",
   "id": "090d4d72",
   "metadata": {},
   "source": [
    "< [Table of Contents](#top) | [References](#references) >\n",
    "<a id=\"linkingdatabasespython\"></a>\n",
    "***\n",
    "###### Python and DB\n",
    "***  "
   ]
  },
  {
   "cell_type": "code",
   "execution_count": null,
   "id": "5ad7f5e4",
   "metadata": {},
   "outputs": [],
   "source": [
    "fFile(nParPath=\"./hide/09-LinkingToDatabase/DR09.02 python and DB - 28-11-2019.mp4\")\n",
    "fFile(nParPath=\"./hide/09-LinkingToDatabase/DR09.02 python and SQL.pptx\")\n",
    "fFile(nParPath=\"./hide/09-LinkingToDatabase/Lab09.02 python and databases.pdf\")"
   ]
  },
  {
   "cell_type": "markdown",
   "id": "44b1eb4b",
   "metadata": {},
   "source": [
    "< [Table of Contents](#top) | [References](#references) >\n",
    "***\n",
    "###### References\n",
    "*** "
   ]
  },
  {
   "cell_type": "markdown",
   "id": "a15ac8d4",
   "metadata": {},
   "source": [
    "- docs in MySQL connector - [Configuration files](https://martin-thoma.com/configuration-files-in-python)"
   ]
  },
  {
   "cell_type": "markdown",
   "id": "b2727406",
   "metadata": {},
   "source": [
    "***\n",
    "### END"
   ]
  },
  {
   "cell_type": "markdown",
   "id": "51f7f14b",
   "metadata": {},
   "source": [
    "< [Table of Contents](#top) | [References](#references) >\n",
    "<a id=\"puttingitalltogether\"></a>\n",
    "***\n",
    "### Putting it all together\n",
    "***  "
   ]
  },
  {
   "cell_type": "code",
   "execution_count": null,
   "id": "2c57a254",
   "metadata": {},
   "outputs": [],
   "source": [
    "fFile(nParPath=\"./hide/10-Puttingitalltogether/DR10.0 overview - 06-12-2019.mp4\")"
   ]
  },
  {
   "cell_type": "markdown",
   "id": "815b150d",
   "metadata": {},
   "source": [
    "- walkthrough of project type A [1]\n",
    "\n",
    "\n",
    "- configuration files for the connection details of your DAO [1]\n",
    "\n",
    "\n",
    "- deploying server to pythonanyhwhere - this is not mandatory for your project but there are marks for it [1]\n",
    "\n",
    "\n",
    "- NOTE: free accounts have limited access to the outside world so if you are planning on hosting a server that connects to an outside API (eg weather) you may need to get a pay account - they are not expensive and you can cancel at anytime [1]"
   ]
  },
  {
   "cell_type": "markdown",
   "id": "96e8533b",
   "metadata": {},
   "source": [
    "< [Table of Contents](#top) | [References](#references) >\n",
    "<a id=\"puttingitalltogetherIntroduction\"></a>\n",
    "***\n",
    "###### Introduction\n",
    "***  "
   ]
  },
  {
   "cell_type": "code",
   "execution_count": null,
   "id": "93c3c859",
   "metadata": {},
   "outputs": [],
   "source": [
    "fFile(nParPath=\"./hide/10-Puttingitalltogether/DR9.3 project prep - 18-11-2020.mp4\")"
   ]
  },
  {
   "cell_type": "markdown",
   "id": "2b8c721a",
   "metadata": {},
   "source": [
    "< [Table of Contents](#top) | [References](#references) >\n",
    "<a id=\"puttingitalltogetherCreatingDAO\"></a>\n",
    "***\n",
    "###### Creating DAO\n",
    "***"
   ]
  },
  {
   "cell_type": "markdown",
   "id": "1e9ad4fd",
   "metadata": {},
   "source": [
    "- based on week 09 - there may be an error in this - forgot to close the database connections - so if this runs for any length of time it will cease to work - will investigate further and post a fix video later [1]"
   ]
  },
  {
   "cell_type": "code",
   "execution_count": null,
   "id": "aa73d991",
   "metadata": {},
   "outputs": [],
   "source": [
    "fFile(nParPath=\"./hide/10-Puttingitalltogether/DR9.4 DAO walkthrough - 18-11-2020.mp4\")"
   ]
  },
  {
   "cell_type": "markdown",
   "id": "708d1e3d",
   "metadata": {},
   "source": [
    "< [Table of Contents](#top) | [References](#references) >\n",
    "<a id=\"puttingitalltogetherCreatingaserverthatimplementstheRESTAPI\"></a>\n",
    "***\n",
    "###### Creating a server that implements the REST API\n",
    "***  "
   ]
  },
  {
   "cell_type": "markdown",
   "id": "a984ea8f",
   "metadata": {},
   "source": [
    "- based on week 08 [1]"
   ]
  },
  {
   "cell_type": "code",
   "execution_count": null,
   "id": "8992136c",
   "metadata": {},
   "outputs": [],
   "source": [
    "fFile(nParPath=\"./hide/10-Puttingitalltogether/DR9.5 server walkthrough - 18-11-2020.mp4\")"
   ]
  },
  {
   "cell_type": "markdown",
   "id": "7fcf4c8d",
   "metadata": {},
   "source": [
    "< [Table of Contents](#top) | [References](#references) >\n",
    "<a id=\"puttingitalltogetherCreatingthehtmlthatwilluseAJAXtolinktotheserverandprovideauserinterface\"></a>\n",
    "***\n",
    "###### Creating the html that will use AJAX to link to the server and provide a user interface\n",
    "***"
   ]
  },
  {
   "cell_type": "markdown",
   "id": "162bb070",
   "metadata": {},
   "source": [
    "- based on week 05 [1]"
   ]
  },
  {
   "cell_type": "code",
   "execution_count": null,
   "id": "82e6cdac",
   "metadata": {},
   "outputs": [],
   "source": [
    "fFile(nParPath=\"./hide/10-Puttingitalltogether/DR9.6 HTML-AJAX walkthrough parts - 20-11-2020.mp4\")\n",
    "fFile(nParPath=\"./hide/10-Puttingitalltogether/DR9.7 HTML-AJAX walkthrough part2 - 20-11-2020.mp4\")"
   ]
  },
  {
   "cell_type": "markdown",
   "id": "d00253e9",
   "metadata": {},
   "source": [
    "< [Table of Contents](#top) | [References](#references) >\n",
    "<a id=\"puttingitalltogetherConfigurationFiles\"></a>\n",
    "***\n",
    "###### Configuration Files\n",
    "***  "
   ]
  },
  {
   "cell_type": "markdown",
   "id": "ab8bb977",
   "metadata": {},
   "source": [
    "- configuration file for DAO [1]"
   ]
  },
  {
   "cell_type": "code",
   "execution_count": null,
   "id": "93541648",
   "metadata": {},
   "outputs": [],
   "source": [
    "fFile(nParPath=\"./hide/10-Puttingitalltogether/DR10.01 configuration files - 06-12-2019.mp4\")\n",
    "fFile(nParPath=\"./hide/10-Puttingitalltogether/DR10.01b configuration files for DAO - 06-12-2019.mp4\")"
   ]
  },
  {
   "cell_type": "markdown",
   "id": "06a28a4c",
   "metadata": {},
   "source": [
    "< [Table of Contents](#top) | [References](#references) >\n",
    "<a id=\"puttingitalltogetherDeployingtoPythonanywhere\"></a>\n",
    "***\n",
    "###### Deploying to Pythonanywhere\n",
    "*** "
   ]
  },
  {
   "cell_type": "code",
   "execution_count": null,
   "id": "ebab62fa",
   "metadata": {},
   "outputs": [],
   "source": [
    "fFile(nParPath=\"./hide/10-Puttingitalltogether/DR10.02 ajax on host - 06-12-2019.mp4\")\n",
    "fFile(nParPath=\"./hide/10-Puttingitalltogether/DR10.03 deploy to remote host - 06-12-2019.mp4\")"
   ]
  },
  {
   "cell_type": "markdown",
   "id": "aa56be70",
   "metadata": {},
   "source": [
    "< [Table of Contents](#top) | [References](#references) >\n",
    "***\n",
    "###### References\n",
    "***"
   ]
  },
  {
   "cell_type": "markdown",
   "id": "901b2535",
   "metadata": {},
   "source": [
    "[Types of configuration files](https://martin-thoma.com/configuration-files-in-python)"
   ]
  },
  {
   "cell_type": "markdown",
   "id": "811f9184",
   "metadata": {},
   "source": [
    "***\n",
    "### END"
   ]
  },
  {
   "cell_type": "markdown",
   "id": "aa2b1e81",
   "metadata": {},
   "source": [
    "< [Table of Contents](#top) | [References](#references) >\n",
    "<a id=\"extra\"></a>\n",
    "***\n",
    "### Extra\n",
    "***"
   ]
  },
  {
   "cell_type": "markdown",
   "id": "031ebbf7",
   "metadata": {},
   "source": [
    "1. creating a connection pool for your database - this will solve a issue with my code from last week where I did not open and close connections between database requests - when you host your application on pythonanyhwere the database connection would close after a period of time (and hence cease to work) - this will fix that [1]\n",
    "\n",
    "\n",
    "2. sessions - necessary if you want a user to log in [1]"
   ]
  },
  {
   "cell_type": "markdown",
   "id": "5b42dc32",
   "metadata": {},
   "source": [
    "< [Table of Contents](#top) | [References](#references) >\n",
    "<a id=\"extraDatabaseConnections\"></a>\n",
    "***\n",
    "###### Database Connections\n",
    "***  "
   ]
  },
  {
   "cell_type": "markdown",
   "id": "544653c8",
   "metadata": {},
   "source": [
    "- connection pooling [1]"
   ]
  },
  {
   "cell_type": "code",
   "execution_count": null,
   "id": "215fc798",
   "metadata": {},
   "outputs": [],
   "source": [
    "fFile(nParPath=\"./hide/11-Extra/DR11.01 database connections - 09-12-2019.mp4\")"
   ]
  },
  {
   "cell_type": "markdown",
   "id": "1a928576",
   "metadata": {},
   "source": [
    "< [Table of Contents](#top) | [References](#references) >\n",
    "<a id=\"extraSessions\"></a>\n",
    "***\n",
    "###### Sessions\n",
    "***"
   ]
  },
  {
   "cell_type": "markdown",
   "id": "556e68ec",
   "metadata": {},
   "source": [
    "- sessions and logging in [1]"
   ]
  },
  {
   "cell_type": "code",
   "execution_count": null,
   "id": "1fa21e82",
   "metadata": {},
   "outputs": [],
   "source": [
    "fFile(nParPath=\"./hide/11-Extra/DR11.02 Sessions - 09-12-2019.mp4\")"
   ]
  },
  {
   "cell_type": "markdown",
   "id": "8f1bfc61",
   "metadata": {},
   "source": [
    "< [Table of Contents](#top) | [References](#references) >\n",
    "<a id=\"extraChangingVirtualEnvironmentonPythonanywhere\"></a>\n",
    "***\n",
    "###### Changing Virtual Environment on Pythonanywhere\n",
    "***"
   ]
  },
  {
   "cell_type": "code",
   "execution_count": null,
   "id": "f783dc43",
   "metadata": {},
   "outputs": [],
   "source": [
    "fFile(nParPath=\"./hide/11-Extra/DR11.03 changing venv on host - 09-12-2019.mp4\")"
   ]
  },
  {
   "cell_type": "markdown",
   "id": "9791bd44",
   "metadata": {},
   "source": [
    "< [Table of Contents](#top) | [References](#references) >\n",
    "***\n",
    "###### References\n",
    "***"
   ]
  },
  {
   "cell_type": "markdown",
   "id": "6e459ba1",
   "metadata": {},
   "source": [
    "- database connections - [pooling in mysql-connector](https://pynative.com/python-database-connection-pooling-with-mysql) - [pooling in mysql-connector](https://overiq.com/mysql-connector-python-101/connection-pooling-using-connector-python) - [sqlalchemy](https://www.sqlalchemy.org/) - [sqlalchemy-pythonanywhere](https://blog.pythonanywhere.com/121/) - [sqlalchemy](https://towardsdatascience.com/sqlalchemy-python-tutorial-79a577141a91)"
   ]
  },
  {
   "cell_type": "markdown",
   "id": "8eb12029",
   "metadata": {},
   "source": [
    "- sessions - [tutorial](https://www.tutorialspoint.com/flask/flask_sessions.htm)"
   ]
  },
  {
   "cell_type": "markdown",
   "id": "9b144383",
   "metadata": {},
   "source": [
    "***\n",
    "### END"
   ]
  },
  {
   "cell_type": "markdown",
   "id": "c51180eb",
   "metadata": {},
   "source": [
    "***\n",
    "## END"
   ]
  },
  {
   "cell_type": "markdown",
   "id": "b26776e7",
   "metadata": {},
   "source": [
    "< [Table of Contents](#top) | [Abstract](#abstract) | [Introduction](#introduction) | [Conclusion](#conclusion) | [References](#references) >\n",
    "<a id=\"solution\"></a>\n",
    "***\n",
    "## Solution\n",
    "***"
   ]
  },
  {
   "cell_type": "markdown",
   "id": "ebb1e6a2",
   "metadata": {},
   "source": [
    "&#x1F6A7;"
   ]
  },
  {
   "cell_type": "markdown",
   "id": "5412de45",
   "metadata": {},
   "source": [
    "<!-- - refer [Appendix](#appendix-df) to view the full dataset <a id=\"go-back-df\"></a> -->\n",
    "<!-- print(fGetModuleType(___x___),fDocumentation(___x___)) -->\n",
    "***\n",
    "## END"
   ]
  },
  {
   "cell_type": "markdown",
   "id": "a55779d4",
   "metadata": {},
   "source": [
    "< [Table of Contents](#top) | [Abstract](#abstract) | [Introduction](#introduction) | [Solution](#solution) | [References](#references) >\n",
    "<a id=\"conclusion\"></a>\n",
    "***\n",
    "## Conclusion\n",
    "***"
   ]
  },
  {
   "cell_type": "markdown",
   "id": "3b3eebaf",
   "metadata": {},
   "source": [
    "&#x1F6A7;"
   ]
  },
  {
   "cell_type": "markdown",
   "id": "0bf43c70",
   "metadata": {},
   "source": [
    "***\n",
    "## END"
   ]
  },
  {
   "cell_type": "markdown",
   "id": "94d21f9e",
   "metadata": {},
   "source": [
    "< [Table of Contents](#top) | [Abstract](#abstract) | [Introduction](#introduction) | [Solution](#solution) | [Conclusion](#conclusion) | [References](#references) >\n",
    "<a id=\"references\"></a>\n",
    "***\n",
    "## References\n",
    "***\n",
    "&nbsp;&nbsp;&nbsp;&nbsp;&nbsp;&nbsp;&nbsp;&nbsp;&nbsp;[0] Refsnes Data, \"Tutorials,\" w3schools, (n.d.).\n",
    "\n",
    "&nbsp;&nbsp;&nbsp;&nbsp;&nbsp;&nbsp;&nbsp;&nbsp;&nbsp;[1] A. Beatty, \"Moodle,\" GMIT, (n.d.).\n",
    "\n",
    "&nbsp;&nbsp;&nbsp;&nbsp;&nbsp;&nbsp;&nbsp;&nbsp;&nbsp;[2] A. Beatty, \"DR2 XML and Dom with a bit about html,\" GMIT, September 2019.\n",
    "\n",
    "&nbsp;&nbsp;&nbsp;&nbsp;&nbsp;&nbsp;&nbsp;&nbsp;&nbsp;[3] A. Beatty, \"DR3 html,\" GMIT, September 2019.\n",
    "\n",
    "&nbsp;&nbsp;&nbsp;&nbsp;&nbsp;&nbsp;&nbsp;&nbsp;&nbsp;[4] A. Beatty, \"DR3b Lab01-html doing,\" GMIT, September 2019.\n",
    "\n",
    "&nbsp;&nbsp;&nbsp;&nbsp;&nbsp;&nbsp;&nbsp;&nbsp;&nbsp;[5] A. Beatty, \"DR2.1 Week02 Overview,\" GMIT, September 2020.\n",
    "\n",
    "&nbsp;&nbsp;&nbsp;&nbsp;&nbsp;&nbsp;&nbsp;&nbsp;&nbsp;[6] A. Beatty, \"DR2.2 JavaScript part1,\" GMIT, September 2020.\n",
    "\n",
    "&nbsp;&nbsp;&nbsp;&nbsp;&nbsp;&nbsp;&nbsp;&nbsp;&nbsp;[7] A. Beatty, \"DR2.3 JavaScript part2,\" GMIT, September 2020.\n",
    "\n",
    "&nbsp;&nbsp;&nbsp;&nbsp;&nbsp;&nbsp;&nbsp;&nbsp;&nbsp;[8] A. Beatty, \"DR2.4 javascript part3,\" GMIT, October 2020."
   ]
  },
  {
   "cell_type": "markdown",
   "id": "0dd9a8b0",
   "metadata": {},
   "source": [
    "***\n",
    "## END"
   ]
  },
  {
   "cell_type": "markdown",
   "id": "e79f2d3d",
   "metadata": {},
   "source": [
    "< [Table of Contents](#top) | [Abstract](#abstract) | [Introduction](#introduction) | [Solution](#solution) | [Conclusion](#conclusion) | [References](#references) >\n",
    "<a id=\"appendix\"></a>\n",
    "***\n",
    "## Appendix\n",
    "***"
   ]
  },
  {
   "cell_type": "markdown",
   "id": "2a526088",
   "metadata": {},
   "source": [
    "&#x1F6A7;"
   ]
  },
  {
   "cell_type": "markdown",
   "id": "bcf860d5",
   "metadata": {},
   "source": [
    "<a id=\"appendix-some-reference\"></a>\n",
    "< [Go Back](#top) >"
   ]
  },
  {
   "cell_type": "markdown",
   "id": "8a4b5e4a",
   "metadata": {},
   "source": [
    "```python\n",
    "from matplotlib.pyplot import box,yticks,xlabel,bar,text,title,show\n",
    "\n",
    "from sys import path; path.insert(1,\"../src\")\n",
    "from fubar import fDarkReader\n",
    "\n",
    "%%script bash\n",
    "grep -1 \"def fDarkReader\" ../src/fubar.py -A 9\n",
    "\n",
    "fDarkReader()\n",
    "```"
   ]
  },
  {
   "cell_type": "markdown",
   "id": "0a7c543b",
   "metadata": {},
   "source": [
    "⚡"
   ]
  },
  {
   "cell_type": "markdown",
   "id": "08dcdc7f",
   "metadata": {},
   "source": [
    "```python\n",
    "from sys import path; path.insert(1,\"../src\")\n",
    "from fubar import fFile\n",
    "\n",
    "%%script bash\n",
    "grep -1 \"def fFile\" ../src/fubar.py -A 9\n",
    "\n",
    "fFile(nParPath=\"\")\n",
    "\n",
    "exit()\n",
    "```"
   ]
  },
  {
   "cell_type": "markdown",
   "id": "3218b1ce",
   "metadata": {},
   "source": [
    "###### Github\n",
    "***"
   ]
  },
  {
   "cell_type": "markdown",
   "id": "da402dea",
   "metadata": {},
   "source": [
    "```\n",
    "git push -f origin HEAD^:master && git reset HEAD~\n",
    "```"
   ]
  },
  {
   "cell_type": "markdown",
   "id": "93ea152b",
   "metadata": {},
   "source": [
    "###### Functions\n",
    "***"
   ]
  },
  {
   "cell_type": "markdown",
   "id": "b54bff73",
   "metadata": {},
   "source": [
    "```python\n",
    "# %%writefile -a ../src/fubar.py\n",
    "# repository ./fubar-python\n",
    "def f():\n",
    "    \"\"\"\n",
    "\n",
    "Input:\n",
    "Process:\n",
    "Output:\n",
    "\"\"\"\n",
    "    pass\n",
    "# -- END ---\n",
    "```"
   ]
  },
  {
   "cell_type": "markdown",
   "id": "5db72e4b",
   "metadata": {},
   "source": [
    "###### Functions - ../src/fubar.py\n",
    "***"
   ]
  },
  {
   "cell_type": "markdown",
   "id": "372dbe03",
   "metadata": {},
   "source": [
    "```\n",
    "%%script bash\n",
    "cat ../src/fubar.py\n",
    "```"
   ]
  },
  {
   "cell_type": "code",
   "execution_count": null,
   "id": "ae85ddbb",
   "metadata": {},
   "outputs": [],
   "source": [
    "%%script bash\n",
    "grep -1 \"def fFullScreen\" ../src/fubar.py -A 9"
   ]
  },
  {
   "cell_type": "markdown",
   "id": "ace0b34f",
   "metadata": {},
   "source": [
    "```\n",
    "git commit -m \"update repository ./fubar-python - Everything in python is an object.\"\n",
    "```"
   ]
  },
  {
   "cell_type": "markdown",
   "id": "0c4dbff3",
   "metadata": {},
   "source": [
    "###### Images\n",
    "***"
   ]
  },
  {
   "cell_type": "markdown",
   "id": "71c15694",
   "metadata": {},
   "source": [
    "![gumball](https://github.com/SeanOhAileasa/SeanOhAileasa/blob/master/rc/cta/analysing/gumball.png?raw=true)\n",
    "\n",
    "***(Image) P. Mannion, \"03 Analysing Algorithms Part 1,\" GMIT, October 2017.***"
   ]
  },
  {
   "cell_type": "markdown",
   "id": "1aaa880a",
   "metadata": {},
   "source": [
    "###### Tables\n",
    "***"
   ]
  },
  {
   "cell_type": "markdown",
   "id": "7d0c21ee",
   "metadata": {},
   "source": [
    "|aaa|bbbbbb|ccccccccc|\n",
    "|:------------------------- | :------------------------- | :------------------------- |\n",
    "|aaa|bbbbbb|ccccccccc|"
   ]
  },
  {
   "cell_type": "markdown",
   "id": "5cf6131f",
   "metadata": {},
   "source": [
    "###### References\n",
    "***"
   ]
  },
  {
   "cell_type": "markdown",
   "id": "79991443",
   "metadata": {},
   "source": [
    "&nbsp;&nbsp;&nbsp;&nbsp;&nbsp;&nbsp;&nbsp;&nbsp;&nbsp;[0] x. xxx, \"xxx,\" xxx, JanXXXry 2XX1.\n",
    "\n",
    "&nbsp;&nbsp;&nbsp;&nbsp;&nbsp;&nbsp;&nbsp;&nbsp;&nbsp;[0] Anaconda (built-in), \"range,\" Docstring, Conda:4.9.2 (Python:3.8.5).\n",
    "\n",
    "&nbsp;&nbsp;&nbsp;&nbsp;&nbsp;&nbsp;&nbsp;&nbsp;&nbsp;[0] Anaconda (plot), \"matplotlib.pyplot,\" Docstring, Conda:4.9.2 (Python:3.8.5).\n",
    "\n",
    "&nbsp;&nbsp;&nbsp;&nbsp;&nbsp;&nbsp;&nbsp;&nbsp;&nbsp;[0] D. Carr, \"CTA - Lecture 1 Part 1,\" GMIT, January 2021.\n",
    "\n",
    "&nbsp;&nbsp;&nbsp;&nbsp;&nbsp;&nbsp;&nbsp;&nbsp;&nbsp;[0] A. Beatty, \"xxx,\" GMIT, January 202x.\n",
    "\n",
    "&nbsp;&nbsp;&nbsp;&nbsp;&nbsp;&nbsp;&nbsp;&nbsp;&nbsp;[0] M. R. Fellows, I. Parberry, \"SIGACT Trying to Get Children Excited About CS,\" [ianparberry](https://web.archive.org/web/20210220071000/http://ianparberry.com/research/cseducation), January 1993.\n",
    "\n",
    "###### fubar-000\n",
    "\n",
    "&nbsp;&nbsp;&nbsp;&nbsp;&nbsp;&nbsp;&nbsp;&nbsp;&nbsp;[0] A. Beatty, \"prog 0.0 introduction (Module: Programming for Cybersecurity),\" GMIT (Programme: Certificate in Cybersecurity Operations), January 2021."
   ]
  },
  {
   "cell_type": "markdown",
   "id": "3f0ee002",
   "metadata": {},
   "source": [
    "***\n",
    "## END"
   ]
  },
  {
   "cell_type": "markdown",
   "id": "61205b79",
   "metadata": {},
   "source": [
    "# END JUPYTER NOTEBOOK"
   ]
  }
 ],
 "metadata": {
  "kernelspec": {
   "display_name": "Python 3",
   "language": "python",
   "name": "python3"
  },
  "language_info": {
   "codemirror_mode": {
    "name": "ipython",
    "version": 3
   },
   "file_extension": ".py",
   "mimetype": "text/x-python",
   "name": "python",
   "nbconvert_exporter": "python",
   "pygments_lexer": "ipython3",
   "version": "3.8.8"
  }
 },
 "nbformat": 4,
 "nbformat_minor": 5
}
